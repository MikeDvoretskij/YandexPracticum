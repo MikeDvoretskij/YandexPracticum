{
 "cells": [
  {
   "cell_type": "code",
   "execution_count": null,
   "metadata": {},
   "outputs": [],
   "source": [
    "import pandas as pd \n",
    "from sklearn.ensemble import RandomForestClassifier, ExtraTreesClassifier\n",
    "from sklearn.linear_model import LogisticRegression\n",
    "from sklearn.model_selection import train_test_split\n",
    "from sklearn.metrics import f1_score, roc_auc_score, precision_score, recall_score\n",
    "from sklearn.utils import shuffle\n",
    "from tqdm import tqdm\n",
    "import numpy as np"
   ]
  },
  {
   "cell_type": "code",
   "execution_count": null,
   "metadata": {},
   "outputs": [],
   "source": [
    "try:\n",
    "    data = pd.read_csv(\"Churn.csv\")\n",
    "except Exception:\n",
    "    data = pd.read_csv(\"/datasets/Churn.csv\")"
   ]
  },
  {
   "cell_type": "code",
   "execution_count": null,
   "metadata": {},
   "outputs": [],
   "source": [
    "data.info()"
   ]
  },
  {
   "cell_type": "code",
   "execution_count": null,
   "metadata": {},
   "outputs": [],
   "source": [
    "print(data.head(20))"
   ]
  },
  {
   "cell_type": "code",
   "execution_count": null,
   "metadata": {},
   "outputs": [],
   "source": [
    "data = data.dropna(subset=[\"Tenure\"]).reset_index(drop=True)\n",
    "data.info()"
   ]
  },
  {
   "cell_type": "code",
   "execution_count": null,
   "metadata": {},
   "outputs": [],
   "source": [
    "data = data.drop([\"RowNumber\", \"CustomerId\", \"Surname\"], axis=1)\n",
    "data = pd.get_dummies(data, drop_first=True)\n",
    "data = data.sample(frac=1)"
   ]
  },
  {
   "cell_type": "code",
   "execution_count": null,
   "metadata": {},
   "outputs": [],
   "source": [
    "target = data['Exited']\n",
    "features = data.drop('Exited', axis=1)"
   ]
  },
  {
   "cell_type": "code",
   "execution_count": null,
   "metadata": {},
   "outputs": [],
   "source": [
    "features_t, features_valid, target_t, target_valid = train_test_split(\n",
    "    features, target, test_size=0.25, random_state=12345, stratify=target)\n",
    "\n",
    "features_train, features_test, target_train, target_test = train_test_split(\n",
    "    features_t, target_t, test_size=0.25, random_state=12345, stratify=target_t)\n"
   ]
  },
  {
   "cell_type": "code",
   "execution_count": null,
   "metadata": {},
   "outputs": [],
   "source": [
    "threshold = 0.32"
   ]
  },
  {
   "cell_type": "code",
   "execution_count": null,
   "metadata": {},
   "outputs": [],
   "source": [
    "best_model_forest = None\n",
    "best_f1_score = 0\n",
    "best_precision = 0\n",
    "best_recall = 0\n",
    "best_auc_roc = 0"
   ]
  },
  {
   "cell_type": "code",
   "execution_count": null,
   "metadata": {},
   "outputs": [],
   "source": [
    "for i in tqdm(range(1, 100)):\n",
    "    for g in range(3, 20):\n",
    "        model = RandomForestClassifier(random_state=12345, n_estimators=i, max_depth=g)\n",
    "        model.fit(features_train, target_train)\n",
    "        \n",
    "        probabilities = model.predict_proba(features_valid)\n",
    "        probabilities_one = probabilities[:, 1]\n",
    "        prediction_valid = probabilities_one > threshold\n",
    "\n",
    "        precision = precision_score(target_valid, prediction_valid)\n",
    "        recall = recall_score(target_valid, prediction_valid)\n",
    "        f1 = f1_score(target_valid, prediction_valid)\n",
    "        roc_auc = roc_auc_score(target_valid, prediction_valid)\n",
    "\n",
    "        if f1 > best_f1_score:\n",
    "            best_f1_score = f1\n",
    "            best_precision = precision\n",
    "            best_recall = recall\n",
    "            best_model_forest = model\n",
    "            best_auc_roc = roc_auc"
   ]
  },
  {
   "cell_type": "code",
   "execution_count": null,
   "metadata": {},
   "outputs": [],
   "source": [
    "print(f\"Best F1 = {'%.4f' % (best_f1_score)}\\nAUC-ROC = {'%.4f' % (best_auc_roc)}\\nPecision = {'%.4f' % (best_precision)}\\nRecall = {'%.4f' % (best_recall)}\")"
   ]
  },
  {
   "cell_type": "code",
   "execution_count": null,
   "metadata": {},
   "outputs": [],
   "source": [
    "model_extra_trees = ExtraTreesClassifier(random_state=12345, max_depth=2000, n_estimators=1000)\n",
    "model_extra_trees.fit(features_train, target_train)\n",
    "\n",
    "probabilities_extra_trees = model_extra_trees.predict_proba(features_valid)\n",
    "probabilities_extra_trees_one_valid = probabilities_extra_trees[:, 1]\n",
    "\n",
    "predicted_extra_trees_valid = probabilities_extra_trees_one_valid > 0.36\n",
    "precision_extra_trees = precision_score(target_valid, predicted_extra_trees_valid)\n",
    "recall_extra_trees = recall_score(target_valid, predicted_extra_trees_valid)\n",
    "f1_extra_trees = f1_score(target_valid, predicted_extra_trees_valid)\n",
    "roc_auc_extra_trees = roc_auc_score(target_valid, probabilities_extra_trees_one_valid)\n",
    "\n",
    "print(f\"Best F1 = {'%.4f' % (f1_extra_trees)}\\nAUC-ROC = {'%.4f' % (roc_auc_extra_trees)}\\nPecision = {'%.4f' % (precision_extra_trees)}\\nRecall = {'%.4f' % (recall_extra_trees)}\")\n"
   ]
  },
  {
   "cell_type": "code",
   "execution_count": null,
   "metadata": {},
   "outputs": [],
   "source": [
    "probabilities = best_model_forest.predict_proba(features_test)\n",
    "probabilities_one = probabilities[:, 1]\n",
    "prediction_test = probabilities_one > threshold\n",
    "\n",
    "precision = precision_score(target_test, prediction_test)\n",
    "recall = recall_score(target_test, prediction_test)\n",
    "f1 = f1_score(target_test, prediction_test)\n",
    "roc_auc = roc_auc_score(target_test, prediction_test)\n",
    "\n",
    "print(f\"Best F1 = {'%.4f' % (f1)}\\nAUC-ROC = {'%.4f' % (roc_auc)}\\nPecision = {'%.4f' % (precision)}\\nRecall = {'%.4f' % (recall)}\")\n"
   ]
  },
  {
   "cell_type": "code",
   "execution_count": null,
   "metadata": {},
   "outputs": [],
   "source": [
    "model_weigted = RandomForestClassifier(random_state=12345, n_estimators=100, max_depth=20, class_weight=\"balanced\")\n",
    "model_weigted.fit(features_train, target_train)\n",
    "        \n",
    "probabilities_weigted = model_weigted.predict_proba(features_valid)\n",
    "probabilities_one_weigted = probabilities_weigted[:, 1]\n",
    "prediction_weigted_valid = probabilities_one_weigted > 0.38\n",
    "precision_weigted = precision_score(target_valid, prediction_weigted_valid)\n",
    "recall_weigted = recall_score(target_valid, prediction_weigted_valid)\n",
    "f1_weigted = f1_score(target_valid, prediction_weigted_valid)\n",
    "roc_auc_weigted = roc_auc_score(target_valid, prediction_weigted_valid)\n",
    "\n",
    "print(f\"Best F1 = {'%.4f' % (f1_weigted)}\\nAUC-ROC = {'%.4f' % (roc_auc_weigted)}\\nPecision = {'%.4f' % (precision_weigted)}\\nRecall = {'%.4f' % (recall_weigted)}\")\n"
   ]
  },
  {
   "cell_type": "code",
   "execution_count": null,
   "metadata": {},
   "outputs": [],
   "source": [
    "probabilities_weigted = model_weigted.predict_proba(features_test)\n",
    "probabilities_one_weigted = probabilities_weigted[:, 1]\n",
    "prediction_weigted_test = probabilities_one_weigted > 0.38\n",
    "precision_weigted = precision_score(target_test, prediction_weigted_test)\n",
    "recall_weigted = recall_score(target_test, prediction_weigted_test)\n",
    "f1_weigted = f1_score(target_test, prediction_weigted_test)\n",
    "roc_auc_weigted = roc_auc_score(target_test, prediction_weigted_test)\n",
    "\n",
    "print(f\"Best F1 = {'%.4f' % (f1_weigted)}\\nAUC-ROC = {'%.4f' % (roc_auc_weigted)}\\nPecision = {'%.4f' % (precision_weigted)}\\nRecall = {'%.4f' % (recall_weigted)}\")"
   ]
  },
  {
   "cell_type": "code",
   "execution_count": null,
   "metadata": {},
   "outputs": [],
   "source": [
    "def upsample(features, target, repeat):\n",
    "    features_zeros = features[target == 0]\n",
    "    features_ones = features[target == 1]\n",
    "    target_zeros = target[target == 0]\n",
    "    target_ones = target[target == 1]\n",
    "\n",
    "    features_upsampled = pd.concat([features_zeros] + [features_ones] * repeat)\n",
    "    target_upsampled = pd.concat([target_zeros] + [target_ones] * repeat)\n",
    "    \n",
    "    features_upsampled, target_upsampled = shuffle(\n",
    "        features_upsampled, target_upsampled, random_state=12345)\n",
    "    \n",
    "    return features_upsampled, target_upsampled"
   ]
  },
  {
   "cell_type": "code",
   "execution_count": null,
   "metadata": {},
   "outputs": [],
   "source": [
    "features_upsampled, target_upsampled = upsample(features_train, target_train, 4)"
   ]
  },
  {
   "cell_type": "code",
   "execution_count": null,
   "metadata": {},
   "outputs": [],
   "source": [
    "model_upsemled = RandomForestClassifier(random_state=12345, n_estimators=1000, max_depth=20)\n",
    "model_upsemled.fit(features_upsampled, target_upsampled)\n",
    "        \n",
    "probabilities_upsemled = model_upsemled.predict_proba(features_valid)\n",
    "probabilities_one_upsemled = probabilities_upsemled[:, 1]\n",
    "prediction_upsemled_valid = probabilities_one_upsemled > 0.38\n",
    "precision_upsemled = precision_score(target_valid, prediction_upsemled_valid)\n",
    "recall_upsemled = recall_score(target_valid, prediction_upsemled_valid)\n",
    "f1_upsemled = f1_score(target_valid, prediction_upsemled_valid)\n",
    "roc_auc_upsemled = roc_auc_score(target_valid, prediction_upsemled_valid)\n",
    "\n",
    "print(f\"Best F1 = {'%.4f' % (f1_upsemled)}\\nAUC-ROC = {'%.4f' % (roc_auc_upsemled)}\\nPecision = {'%.4f' % (precision_upsemled)}\\nRecall = {'%.4f' % (recall_upsemled)}\")"
   ]
  },
  {
   "cell_type": "code",
   "execution_count": null,
   "metadata": {},
   "outputs": [],
   "source": [
    "probabilities_upsemled = model_upsemled.predict_proba(features_test)\n",
    "probabilities_one_upsemled = probabilities_upsemled[:, 1]\n",
    "prediction_upsemled_test = probabilities_one_upsemled > 0.38\n",
    "precision_upsemled = precision_score(target_test, prediction_upsemled_test)\n",
    "recall_upsemled = recall_score(target_test, prediction_upsemled_test)\n",
    "f1_upsemled = f1_score(target_test, prediction_upsemled_test)\n",
    "roc_auc_upsemled = roc_auc_score(target_test, prediction_upsemled_test)\n",
    "\n",
    "print(f\"Best F1 = {'%.4f' % (f1_upsemled)}\\nAUC-ROC = {'%.4f' % (roc_auc_upsemled)}\\nPecision = {'%.4f' % (precision_upsemled)}\\nRecall = {'%.4f' % (recall_upsemled)}\")"
   ]
  }
 ],
 "metadata": {
  "ExecuteTimeLog": [
   {
    "duration": 1776,
    "start_time": "2023-04-10T09:06:24.116Z"
   },
   {
    "duration": 237,
    "start_time": "2023-04-10T09:06:25.895Z"
   },
   {
    "duration": 15,
    "start_time": "2023-04-10T09:06:26.134Z"
   },
   {
    "duration": 21,
    "start_time": "2023-04-10T09:06:26.151Z"
   },
   {
    "duration": 18,
    "start_time": "2023-04-10T09:06:26.174Z"
   },
   {
    "duration": 20,
    "start_time": "2023-04-10T09:06:26.194Z"
   },
   {
    "duration": 18,
    "start_time": "2023-04-10T09:06:26.217Z"
   },
   {
    "duration": 110,
    "start_time": "2023-04-10T09:06:26.237Z"
   },
   {
    "duration": 3,
    "start_time": "2023-04-10T09:06:26.349Z"
   },
   {
    "duration": 181207,
    "start_time": "2023-04-10T09:06:26.355Z"
   },
   {
    "duration": 4,
    "start_time": "2023-04-10T09:09:27.564Z"
   },
   {
    "duration": 1306,
    "start_time": "2023-04-12T15:27:12.885Z"
   },
   {
    "duration": 241,
    "start_time": "2023-04-12T15:27:14.193Z"
   },
   {
    "duration": 16,
    "start_time": "2023-04-12T15:27:14.436Z"
   },
   {
    "duration": 26,
    "start_time": "2023-04-12T15:27:14.454Z"
   },
   {
    "duration": 28,
    "start_time": "2023-04-12T15:27:14.482Z"
   },
   {
    "duration": 14,
    "start_time": "2023-04-12T15:27:15.438Z"
   },
   {
    "duration": 5,
    "start_time": "2023-04-12T15:27:15.918Z"
   },
   {
    "duration": 16,
    "start_time": "2023-04-12T15:27:16.377Z"
   },
   {
    "duration": 3,
    "start_time": "2023-04-12T15:27:19.604Z"
   },
   {
    "duration": 3,
    "start_time": "2023-04-12T15:27:19.988Z"
   },
   {
    "duration": 464937,
    "start_time": "2023-04-12T15:27:20.552Z"
   },
   {
    "duration": 42,
    "start_time": "2023-04-12T15:35:05.491Z"
   },
   {
    "duration": 4,
    "start_time": "2023-04-12T15:35:05.535Z"
   },
   {
    "duration": 726,
    "start_time": "2023-04-12T15:35:05.541Z"
   },
   {
    "duration": 578,
    "start_time": "2023-04-12T15:36:39.664Z"
   },
   {
    "duration": 1286,
    "start_time": "2023-04-12T15:37:01.967Z"
   },
   {
    "duration": 159,
    "start_time": "2023-04-12T15:37:03.256Z"
   },
   {
    "duration": 18,
    "start_time": "2023-04-12T15:37:03.418Z"
   },
   {
    "duration": 67,
    "start_time": "2023-04-12T15:37:03.439Z"
   },
   {
    "duration": 17,
    "start_time": "2023-04-12T15:37:04.727Z"
   },
   {
    "duration": 15,
    "start_time": "2023-04-12T15:37:06.422Z"
   },
   {
    "duration": 5,
    "start_time": "2023-04-12T15:37:07.343Z"
   },
   {
    "duration": 13,
    "start_time": "2023-04-12T15:37:07.552Z"
   },
   {
    "duration": 5,
    "start_time": "2023-04-12T15:37:08.894Z"
   },
   {
    "duration": 3,
    "start_time": "2023-04-12T15:37:09.113Z"
   },
   {
    "duration": 130,
    "start_time": "2023-04-12T15:37:09.710Z"
   },
   {
    "duration": 10,
    "start_time": "2023-04-12T15:37:10.593Z"
   },
   {
    "duration": 9,
    "start_time": "2023-04-12T15:37:11.376Z"
   },
   {
    "duration": 1215,
    "start_time": "2023-04-12T15:37:51.920Z"
   },
   {
    "duration": 80,
    "start_time": "2023-04-12T15:37:54.429Z"
   },
   {
    "duration": 16,
    "start_time": "2023-04-12T15:37:54.861Z"
   },
   {
    "duration": 12,
    "start_time": "2023-04-12T15:37:56.166Z"
   },
   {
    "duration": 17,
    "start_time": "2023-04-12T15:37:58.634Z"
   },
   {
    "duration": 16,
    "start_time": "2023-04-12T15:38:00.372Z"
   },
   {
    "duration": 5,
    "start_time": "2023-04-12T15:38:01.813Z"
   },
   {
    "duration": 13,
    "start_time": "2023-04-12T15:38:02.445Z"
   },
   {
    "duration": 3,
    "start_time": "2023-04-12T15:38:04.049Z"
   },
   {
    "duration": 3,
    "start_time": "2023-04-12T15:38:04.734Z"
   },
   {
    "duration": 126,
    "start_time": "2023-04-12T15:38:05.956Z"
   },
   {
    "duration": 1284,
    "start_time": "2023-04-12T15:39:05.088Z"
   },
   {
    "duration": 125,
    "start_time": "2023-04-12T15:39:06.374Z"
   },
   {
    "duration": 18,
    "start_time": "2023-04-12T15:39:06.501Z"
   },
   {
    "duration": 65,
    "start_time": "2023-04-12T15:39:06.521Z"
   },
   {
    "duration": 19,
    "start_time": "2023-04-12T15:39:07.720Z"
   },
   {
    "duration": 16,
    "start_time": "2023-04-12T15:39:08.880Z"
   },
   {
    "duration": 5,
    "start_time": "2023-04-12T15:39:10.111Z"
   },
   {
    "duration": 13,
    "start_time": "2023-04-12T15:39:10.576Z"
   },
   {
    "duration": 3,
    "start_time": "2023-04-12T15:39:11.608Z"
   },
   {
    "duration": 4,
    "start_time": "2023-04-12T15:39:11.937Z"
   },
   {
    "duration": 467078,
    "start_time": "2023-04-12T15:39:12.477Z"
   },
   {
    "duration": 37,
    "start_time": "2023-04-12T15:46:59.557Z"
   },
   {
    "duration": 22,
    "start_time": "2023-04-12T15:46:59.596Z"
   },
   {
    "duration": 621,
    "start_time": "2023-04-12T15:46:59.620Z"
   },
   {
    "duration": 67,
    "start_time": "2023-04-13T07:44:02.018Z"
   },
   {
    "duration": 1225,
    "start_time": "2023-04-13T07:51:37.216Z"
   },
   {
    "duration": 222,
    "start_time": "2023-04-13T07:51:38.443Z"
   },
   {
    "duration": 17,
    "start_time": "2023-04-13T07:51:38.667Z"
   },
   {
    "duration": 47,
    "start_time": "2023-04-13T07:51:38.686Z"
   },
   {
    "duration": 24,
    "start_time": "2023-04-13T07:51:40.126Z"
   },
   {
    "duration": 14,
    "start_time": "2023-04-13T07:51:41.311Z"
   },
   {
    "duration": 5,
    "start_time": "2023-04-13T07:51:42.152Z"
   },
   {
    "duration": 13,
    "start_time": "2023-04-13T07:51:42.606Z"
   },
   {
    "duration": 3,
    "start_time": "2023-04-13T07:51:47.976Z"
   },
   {
    "duration": 601,
    "start_time": "2023-04-13T07:51:54.900Z"
   },
   {
    "duration": 528,
    "start_time": "2023-04-13T07:52:13.824Z"
   },
   {
    "duration": 485,
    "start_time": "2023-04-13T07:52:31.327Z"
   },
   {
    "duration": 3,
    "start_time": "2023-04-13T07:52:39.128Z"
   },
   {
    "duration": 511182,
    "start_time": "2023-04-13T07:52:39.782Z"
   },
   {
    "duration": 4,
    "start_time": "2023-04-13T08:05:53.519Z"
   },
   {
    "duration": 39,
    "start_time": "2023-04-13T08:06:07.710Z"
   },
   {
    "duration": 48,
    "start_time": "2023-04-13T08:07:28.224Z"
   },
   {
    "duration": 1432,
    "start_time": "2023-04-13T08:08:03.614Z"
   },
   {
    "duration": 283,
    "start_time": "2023-04-13T08:08:05.049Z"
   },
   {
    "duration": 15,
    "start_time": "2023-04-13T08:08:05.334Z"
   },
   {
    "duration": 20,
    "start_time": "2023-04-13T08:08:05.352Z"
   },
   {
    "duration": 35,
    "start_time": "2023-04-13T08:08:05.374Z"
   },
   {
    "duration": 17,
    "start_time": "2023-04-13T08:08:05.420Z"
   },
   {
    "duration": 5,
    "start_time": "2023-04-13T08:08:05.928Z"
   },
   {
    "duration": 12,
    "start_time": "2023-04-13T08:08:06.134Z"
   },
   {
    "duration": 7,
    "start_time": "2023-04-13T08:08:06.583Z"
   },
   {
    "duration": 4,
    "start_time": "2023-04-13T08:08:06.822Z"
   },
   {
    "duration": 149882,
    "start_time": "2023-04-13T08:08:07.037Z"
   },
   {
    "duration": 1,
    "start_time": "2023-04-13T08:10:36.920Z"
   },
   {
    "duration": 0,
    "start_time": "2023-04-13T08:10:36.923Z"
   },
   {
    "duration": 0,
    "start_time": "2023-04-13T08:10:36.925Z"
   },
   {
    "duration": 1284,
    "start_time": "2023-04-13T08:13:27.347Z"
   },
   {
    "duration": 78,
    "start_time": "2023-04-13T08:13:28.634Z"
   },
   {
    "duration": 15,
    "start_time": "2023-04-13T08:13:28.714Z"
   },
   {
    "duration": 22,
    "start_time": "2023-04-13T08:13:28.731Z"
   },
   {
    "duration": 19,
    "start_time": "2023-04-13T08:13:29.118Z"
   },
   {
    "duration": 14,
    "start_time": "2023-04-13T08:13:29.564Z"
   },
   {
    "duration": 5,
    "start_time": "2023-04-13T08:13:30.135Z"
   },
   {
    "duration": 14,
    "start_time": "2023-04-13T08:13:30.373Z"
   },
   {
    "duration": 4,
    "start_time": "2023-04-13T08:13:30.953Z"
   },
   {
    "duration": 4,
    "start_time": "2023-04-13T08:13:31.214Z"
   },
   {
    "duration": 525888,
    "start_time": "2023-04-13T08:13:31.461Z"
   },
   {
    "duration": 3,
    "start_time": "2023-04-13T08:22:17.352Z"
   },
   {
    "duration": 546,
    "start_time": "2023-04-13T08:22:17.357Z"
   },
   {
    "duration": 64,
    "start_time": "2023-04-13T08:22:17.906Z"
   },
   {
    "duration": 573,
    "start_time": "2023-04-13T08:30:53.156Z"
   },
   {
    "duration": 55,
    "start_time": "2023-04-13T08:31:04.417Z"
   },
   {
    "duration": 1216,
    "start_time": "2023-04-13T10:09:37.967Z"
   },
   {
    "duration": 264,
    "start_time": "2023-04-13T10:09:39.185Z"
   },
   {
    "duration": 18,
    "start_time": "2023-04-13T10:09:39.451Z"
   },
   {
    "duration": 13,
    "start_time": "2023-04-13T10:09:39.471Z"
   },
   {
    "duration": 17,
    "start_time": "2023-04-13T10:09:39.745Z"
   },
   {
    "duration": 14,
    "start_time": "2023-04-13T10:09:40.865Z"
   },
   {
    "duration": 5,
    "start_time": "2023-04-13T10:09:41.715Z"
   },
   {
    "duration": 12,
    "start_time": "2023-04-13T10:09:42.127Z"
   },
   {
    "duration": 3,
    "start_time": "2023-04-13T10:09:44.323Z"
   },
   {
    "duration": 113,
    "start_time": "2023-04-13T10:09:50.041Z"
   },
   {
    "duration": 593,
    "start_time": "2023-04-13T10:10:03.110Z"
   },
   {
    "duration": 648,
    "start_time": "2023-04-13T10:10:20.720Z"
   },
   {
    "duration": 669,
    "start_time": "2023-04-13T10:10:44.438Z"
   },
   {
    "duration": 646,
    "start_time": "2023-04-13T10:11:03.543Z"
   },
   {
    "duration": 670,
    "start_time": "2023-04-13T10:12:36.837Z"
   },
   {
    "duration": 812,
    "start_time": "2023-04-13T10:13:02.968Z"
   },
   {
    "duration": 611,
    "start_time": "2023-04-13T10:13:14.242Z"
   },
   {
    "duration": 54,
    "start_time": "2023-04-13T10:15:48.472Z"
   },
   {
    "duration": 5993,
    "start_time": "2023-04-13T10:22:06.726Z"
   },
   {
    "duration": 4,
    "start_time": "2023-04-13T10:25:15.202Z"
   },
   {
    "duration": 110,
    "start_time": "2023-04-13T10:25:15.641Z"
   },
   {
    "duration": 3,
    "start_time": "2023-04-13T10:25:42.745Z"
   },
   {
    "duration": 61,
    "start_time": "2023-04-13T10:25:52.334Z"
   },
   {
    "duration": 11,
    "start_time": "2023-04-13T10:26:32.552Z"
   },
   {
    "duration": 5,
    "start_time": "2023-04-13T10:26:51.972Z"
   },
   {
    "duration": 59,
    "start_time": "2023-04-13T10:26:53.049Z"
   },
   {
    "duration": 12,
    "start_time": "2023-04-13T10:26:54.241Z"
   },
   {
    "duration": 14,
    "start_time": "2023-04-13T10:27:15.869Z"
   },
   {
    "duration": 6580,
    "start_time": "2023-04-13T10:27:30.584Z"
   },
   {
    "duration": 45418,
    "start_time": "2023-04-13T10:28:01.108Z"
   },
   {
    "duration": 64189,
    "start_time": "2023-04-13T10:28:48.911Z"
   },
   {
    "duration": 64376,
    "start_time": "2023-04-13T10:30:07.903Z"
   },
   {
    "duration": 18379,
    "start_time": "2023-04-13T10:31:26.605Z"
   },
   {
    "duration": 6,
    "start_time": "2023-04-13T10:31:45.416Z"
   },
   {
    "duration": 65467,
    "start_time": "2023-04-13T10:31:52.675Z"
   },
   {
    "duration": 513,
    "start_time": "2023-04-13T10:34:56.101Z"
   },
   {
    "duration": 19439,
    "start_time": "2023-04-13T10:35:07.435Z"
   },
   {
    "duration": 121156,
    "start_time": "2023-04-13T10:35:28.615Z"
   },
   {
    "duration": 65494,
    "start_time": "2023-04-13T10:37:30.110Z"
   },
   {
    "duration": 522,
    "start_time": "2023-04-13T10:38:35.605Z"
   },
   {
    "duration": 15,
    "start_time": "2023-04-13T10:40:06.297Z"
   },
   {
    "duration": 1149,
    "start_time": "2023-04-13T10:40:13.146Z"
   },
   {
    "duration": 63,
    "start_time": "2023-04-13T10:40:19.401Z"
   },
   {
    "duration": 10389,
    "start_time": "2023-04-13T10:40:58.750Z"
   },
   {
    "duration": 447,
    "start_time": "2023-04-13T10:41:09.141Z"
   },
   {
    "duration": 63,
    "start_time": "2023-04-13T10:41:09.590Z"
   },
   {
    "duration": 57819,
    "start_time": "2023-04-13T10:41:12.432Z"
   },
   {
    "duration": 390,
    "start_time": "2023-04-13T10:42:10.254Z"
   },
   {
    "duration": 7387,
    "start_time": "2023-04-13T10:42:39.120Z"
   },
   {
    "duration": 70,
    "start_time": "2023-04-13T10:42:46.510Z"
   },
   {
    "duration": 14,
    "start_time": "2023-04-13T10:42:55.627Z"
   },
   {
    "duration": 1261,
    "start_time": "2023-04-13T10:42:57.005Z"
   },
   {
    "duration": 73,
    "start_time": "2023-04-13T10:42:58.268Z"
   },
   {
    "duration": 724,
    "start_time": "2023-04-13T10:43:17.509Z"
   },
   {
    "duration": 63,
    "start_time": "2023-04-13T10:43:20.615Z"
   },
   {
    "duration": 498,
    "start_time": "2023-04-13T10:45:09.049Z"
   },
   {
    "duration": 4904,
    "start_time": "2023-04-13T10:45:18.004Z"
   },
   {
    "duration": 1357,
    "start_time": "2023-04-13T10:45:57.999Z"
   },
   {
    "duration": 151,
    "start_time": "2023-04-13T10:45:59.358Z"
   },
   {
    "duration": 18,
    "start_time": "2023-04-13T10:45:59.511Z"
   },
   {
    "duration": 12,
    "start_time": "2023-04-13T10:45:59.532Z"
   },
   {
    "duration": 24,
    "start_time": "2023-04-13T10:45:59.547Z"
   },
   {
    "duration": 17,
    "start_time": "2023-04-13T10:45:59.652Z"
   },
   {
    "duration": 7,
    "start_time": "2023-04-13T10:46:00.060Z"
   },
   {
    "duration": 14,
    "start_time": "2023-04-13T10:46:00.293Z"
   },
   {
    "duration": 3,
    "start_time": "2023-04-13T10:46:00.661Z"
   },
   {
    "duration": 3,
    "start_time": "2023-04-13T10:46:00.853Z"
   },
   {
    "duration": 492342,
    "start_time": "2023-04-13T10:46:01.062Z"
   },
   {
    "duration": 3,
    "start_time": "2023-04-13T10:54:13.406Z"
   },
   {
    "duration": 4904,
    "start_time": "2023-04-13T10:54:13.411Z"
   },
   {
    "duration": 38,
    "start_time": "2023-04-13T10:54:18.318Z"
   },
   {
    "duration": 714,
    "start_time": "2023-04-13T10:54:18.358Z"
   },
   {
    "duration": 70,
    "start_time": "2023-04-13T10:54:19.075Z"
   },
   {
    "duration": 5,
    "start_time": "2023-04-13T10:54:19.147Z"
   },
   {
    "duration": 41,
    "start_time": "2023-04-13T10:54:19.155Z"
   },
   {
    "duration": 1249,
    "start_time": "2023-04-13T10:54:19.198Z"
   },
   {
    "duration": 68,
    "start_time": "2023-04-13T10:54:20.449Z"
   },
   {
    "duration": 4968,
    "start_time": "2023-04-13T11:08:54.742Z"
   },
   {
    "duration": 12659,
    "start_time": "2023-04-13T11:09:52.027Z"
   },
   {
    "duration": 514,
    "start_time": "2023-04-13T11:10:04.688Z"
   },
   {
    "duration": 24,
    "start_time": "2023-04-13T11:10:14.584Z"
   },
   {
    "duration": 17372,
    "start_time": "2023-04-13T11:10:16.281Z"
   },
   {
    "duration": 516,
    "start_time": "2023-04-13T11:10:33.655Z"
   },
   {
    "duration": 1911,
    "start_time": "2023-04-13T11:11:24.182Z"
   },
   {
    "duration": 64,
    "start_time": "2023-04-13T11:11:28.475Z"
   },
   {
    "duration": 44,
    "start_time": "2023-04-13T11:11:34.931Z"
   },
   {
    "duration": 3648,
    "start_time": "2023-04-13T11:11:36.311Z"
   },
   {
    "duration": 65,
    "start_time": "2023-04-13T11:11:40.478Z"
   },
   {
    "duration": 3013,
    "start_time": "2023-04-13T11:11:49.708Z"
   },
   {
    "duration": 53,
    "start_time": "2023-04-13T11:11:55.184Z"
   },
   {
    "duration": 10670,
    "start_time": "2023-04-13T11:12:07.228Z"
   },
   {
    "duration": 169,
    "start_time": "2023-04-13T11:12:19.402Z"
   },
   {
    "duration": 22,
    "start_time": "2023-04-13T11:12:28.006Z"
   },
   {
    "duration": 6009,
    "start_time": "2023-04-13T11:12:28.423Z"
   },
   {
    "duration": 161,
    "start_time": "2023-04-13T11:12:44.317Z"
   },
   {
    "duration": 5,
    "start_time": "2023-04-13T12:19:05.871Z"
   },
   {
    "duration": 165,
    "start_time": "2023-04-13T12:19:05.969Z"
   },
   {
    "duration": 22,
    "start_time": "2023-04-13T12:19:06.138Z"
   },
   {
    "duration": 11,
    "start_time": "2023-04-13T12:19:06.505Z"
   },
   {
    "duration": 33,
    "start_time": "2023-04-13T12:19:07.066Z"
   },
   {
    "duration": 15,
    "start_time": "2023-04-13T12:19:07.525Z"
   },
   {
    "duration": 5,
    "start_time": "2023-04-13T12:19:08.112Z"
   },
   {
    "duration": 15,
    "start_time": "2023-04-13T12:19:08.508Z"
   },
   {
    "duration": 3,
    "start_time": "2023-04-13T12:19:10.107Z"
   },
   {
    "duration": 4,
    "start_time": "2023-04-13T12:19:10.711Z"
   },
   {
    "duration": 1450,
    "start_time": "2023-04-13T12:19:26.937Z"
   },
   {
    "duration": 143,
    "start_time": "2023-04-13T12:19:28.390Z"
   },
   {
    "duration": 21,
    "start_time": "2023-04-13T12:19:28.536Z"
   },
   {
    "duration": 31,
    "start_time": "2023-04-13T12:19:28.560Z"
   },
   {
    "duration": 20,
    "start_time": "2023-04-13T12:19:29.672Z"
   },
   {
    "duration": 16,
    "start_time": "2023-04-13T12:19:30.584Z"
   },
   {
    "duration": 5,
    "start_time": "2023-04-13T12:19:31.419Z"
   },
   {
    "duration": 13,
    "start_time": "2023-04-13T12:19:31.824Z"
   },
   {
    "duration": 3,
    "start_time": "2023-04-13T12:19:32.712Z"
   },
   {
    "duration": 3,
    "start_time": "2023-04-13T12:19:33.117Z"
   },
   {
    "duration": 1546,
    "start_time": "2023-04-13T12:22:32.805Z"
   },
   {
    "duration": 547,
    "start_time": "2023-04-13T12:22:34.353Z"
   },
   {
    "duration": 15,
    "start_time": "2023-04-13T12:22:34.902Z"
   },
   {
    "duration": 15,
    "start_time": "2023-04-13T12:22:34.919Z"
   },
   {
    "duration": 28,
    "start_time": "2023-04-13T12:22:34.936Z"
   },
   {
    "duration": 15,
    "start_time": "2023-04-13T12:22:34.966Z"
   },
   {
    "duration": 12,
    "start_time": "2023-04-13T12:22:34.983Z"
   },
   {
    "duration": 25,
    "start_time": "2023-04-13T12:22:34.997Z"
   },
   {
    "duration": 12,
    "start_time": "2023-04-13T12:22:35.024Z"
   },
   {
    "duration": 8,
    "start_time": "2023-04-13T12:22:35.038Z"
   },
   {
    "duration": 476597,
    "start_time": "2023-04-13T12:22:35.048Z"
   },
   {
    "duration": 4,
    "start_time": "2023-04-13T12:30:31.646Z"
   },
   {
    "duration": 4362,
    "start_time": "2023-04-13T12:30:31.652Z"
   },
   {
    "duration": 43,
    "start_time": "2023-04-13T12:30:36.017Z"
   },
   {
    "duration": 667,
    "start_time": "2023-04-13T12:30:36.062Z"
   },
   {
    "duration": 56,
    "start_time": "2023-04-13T12:30:36.730Z"
   },
   {
    "duration": 3,
    "start_time": "2023-04-13T12:30:36.788Z"
   },
   {
    "duration": 36,
    "start_time": "2023-04-13T12:30:36.793Z"
   },
   {
    "duration": 2518,
    "start_time": "2023-04-13T12:30:36.831Z"
   },
   {
    "duration": 145,
    "start_time": "2023-04-13T12:30:39.351Z"
   },
   {
    "duration": 4421,
    "start_time": "2023-04-13T12:31:43.541Z"
   },
   {
    "duration": 4523,
    "start_time": "2023-04-13T12:31:53.481Z"
   },
   {
    "duration": 4445,
    "start_time": "2023-04-13T12:32:09.279Z"
   },
   {
    "duration": 454,
    "start_time": "2023-04-13T12:32:32.264Z"
   },
   {
    "duration": 452,
    "start_time": "2023-04-13T12:32:39.340Z"
   },
   {
    "duration": 440,
    "start_time": "2023-04-13T12:32:45.078Z"
   },
   {
    "duration": 494,
    "start_time": "2023-04-13T12:32:51.120Z"
   },
   {
    "duration": 448,
    "start_time": "2023-04-13T12:32:56.573Z"
   },
   {
    "duration": 520,
    "start_time": "2023-04-13T12:33:02.469Z"
   },
   {
    "duration": 463,
    "start_time": "2023-04-13T12:33:07.967Z"
   },
   {
    "duration": 474,
    "start_time": "2023-04-13T12:33:13.470Z"
   },
   {
    "duration": 462,
    "start_time": "2023-04-13T12:33:21.869Z"
   },
   {
    "duration": 445,
    "start_time": "2023-04-13T12:33:28.986Z"
   },
   {
    "duration": 433,
    "start_time": "2023-04-13T12:33:34.796Z"
   },
   {
    "duration": 441,
    "start_time": "2023-04-13T12:33:40.602Z"
   },
   {
    "duration": 461,
    "start_time": "2023-04-13T12:34:19.733Z"
   },
   {
    "duration": 2716,
    "start_time": "2023-04-13T12:35:06.593Z"
   },
   {
    "duration": 936,
    "start_time": "2023-04-13T12:35:16.435Z"
   },
   {
    "duration": 830,
    "start_time": "2023-04-13T12:35:23.276Z"
   },
   {
    "duration": 821,
    "start_time": "2023-04-13T12:35:29.614Z"
   },
   {
    "duration": 4228,
    "start_time": "2023-04-13T12:35:39.191Z"
   },
   {
    "duration": 4382,
    "start_time": "2023-04-13T12:35:55.364Z"
   },
   {
    "duration": 4534,
    "start_time": "2023-04-13T12:36:09.108Z"
   },
   {
    "duration": 4392,
    "start_time": "2023-04-13T12:36:21.440Z"
   },
   {
    "duration": 4346,
    "start_time": "2023-04-13T12:36:31.635Z"
   },
   {
    "duration": 4376,
    "start_time": "2023-04-13T12:36:41.274Z"
   },
   {
    "duration": 4435,
    "start_time": "2023-04-13T12:36:54.837Z"
   },
   {
    "duration": 4376,
    "start_time": "2023-04-13T12:37:07.693Z"
   },
   {
    "duration": 4498,
    "start_time": "2023-04-13T12:37:21.067Z"
   },
   {
    "duration": 4266,
    "start_time": "2023-04-13T12:37:35.362Z"
   },
   {
    "duration": 4407,
    "start_time": "2023-04-13T12:37:49.700Z"
   },
   {
    "duration": 4524,
    "start_time": "2023-04-13T12:38:07.179Z"
   },
   {
    "duration": 4721,
    "start_time": "2023-04-13T12:38:18.767Z"
   },
   {
    "duration": 4210,
    "start_time": "2023-04-13T12:38:47.107Z"
   },
   {
    "duration": 4434,
    "start_time": "2023-04-13T12:39:00.612Z"
   },
   {
    "duration": 4325,
    "start_time": "2023-04-13T12:39:14.644Z"
   },
   {
    "duration": 231,
    "start_time": "2023-04-13T12:39:40.189Z"
   },
   {
    "duration": 55,
    "start_time": "2023-04-13T12:39:58.527Z"
   },
   {
    "duration": 645,
    "start_time": "2023-04-13T12:40:09.720Z"
   },
   {
    "duration": 62,
    "start_time": "2023-04-13T12:40:14.027Z"
   },
   {
    "duration": 485,
    "start_time": "2023-04-13T12:40:26.144Z"
   },
   {
    "duration": 511,
    "start_time": "2023-04-13T12:40:31.479Z"
   },
   {
    "duration": 464,
    "start_time": "2023-04-13T12:41:10.278Z"
   },
   {
    "duration": 476,
    "start_time": "2023-04-13T12:41:12.699Z"
   },
   {
    "duration": 478,
    "start_time": "2023-04-13T12:41:18.328Z"
   },
   {
    "duration": 490,
    "start_time": "2023-04-13T12:41:24.295Z"
   },
   {
    "duration": 466,
    "start_time": "2023-04-13T12:41:37.790Z"
   },
   {
    "duration": 462,
    "start_time": "2023-04-13T12:41:50.025Z"
   },
   {
    "duration": 471,
    "start_time": "2023-04-13T12:41:55.960Z"
   },
   {
    "duration": 513,
    "start_time": "2023-04-13T12:42:02.259Z"
   },
   {
    "duration": 466,
    "start_time": "2023-04-13T12:42:08.141Z"
   },
   {
    "duration": 540,
    "start_time": "2023-04-13T12:42:11.304Z"
   },
   {
    "duration": 469,
    "start_time": "2023-04-13T12:42:16.691Z"
   },
   {
    "duration": 474,
    "start_time": "2023-04-13T12:42:20.578Z"
   },
   {
    "duration": 535,
    "start_time": "2023-04-13T12:42:32.479Z"
   },
   {
    "duration": 533,
    "start_time": "2023-04-13T12:42:36.835Z"
   },
   {
    "duration": 492,
    "start_time": "2023-04-13T12:42:41.581Z"
   },
   {
    "duration": 493,
    "start_time": "2023-04-13T12:42:48.827Z"
   },
   {
    "duration": 512,
    "start_time": "2023-04-13T12:43:07.816Z"
   },
   {
    "duration": 473,
    "start_time": "2023-04-13T12:43:11.379Z"
   },
   {
    "duration": 483,
    "start_time": "2023-04-13T12:43:19.468Z"
   },
   {
    "duration": 4673,
    "start_time": "2023-04-13T12:43:24.069Z"
   },
   {
    "duration": 47304,
    "start_time": "2023-04-13T12:43:33.718Z"
   },
   {
    "duration": 9318,
    "start_time": "2023-04-13T12:44:21.024Z"
   },
   {
    "duration": 44898,
    "start_time": "2023-04-13T12:44:34.185Z"
   },
   {
    "duration": 496,
    "start_time": "2023-04-13T12:45:19.085Z"
   },
   {
    "duration": 4773,
    "start_time": "2023-04-13T12:45:23.872Z"
   },
   {
    "duration": 45379,
    "start_time": "2023-04-13T12:45:41.673Z"
   },
   {
    "duration": 56,
    "start_time": "2023-04-13T12:46:29.513Z"
   },
   {
    "duration": 45,
    "start_time": "2023-04-13T12:46:41.380Z"
   },
   {
    "duration": 4389,
    "start_time": "2023-04-13T12:47:02.170Z"
   },
   {
    "duration": 4670,
    "start_time": "2023-04-13T12:47:18.097Z"
   }
  ],
  "kernelspec": {
   "display_name": "Python 3 (ipykernel)",
   "language": "python",
   "name": "python3"
  },
  "language_info": {
   "codemirror_mode": {
    "name": "ipython",
    "version": 3
   },
   "file_extension": ".py",
   "mimetype": "text/x-python",
   "name": "python",
   "nbconvert_exporter": "python",
   "pygments_lexer": "ipython3",
   "version": "3.9.5"
  },
  "toc": {
   "base_numbering": 1,
   "nav_menu": {},
   "number_sections": true,
   "sideBar": true,
   "skip_h1_title": true,
   "title_cell": "Table of Contents",
   "title_sidebar": "Contents",
   "toc_cell": false,
   "toc_position": {},
   "toc_section_display": true,
   "toc_window_display": false
  }
 },
 "nbformat": 4,
 "nbformat_minor": 2
}
