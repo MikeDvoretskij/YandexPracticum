{
 "cells": [
  {
   "cell_type": "code",
   "execution_count": null,
   "metadata": {},
   "outputs": [],
   "source": [
    "import pandas as pd\n",
    "from matplotlib import pyplot as plt\n",
    "from sklearn.model_selection import train_test_split\n",
    "from sklearn.model_selection import cross_val_score\n",
    "from sklearn.metrics import r2_score\n",
    "from sklearn.metrics import mean_squared_error\n",
    "from catboost import CatBoostRegressor\n",
    "from sklearn.preprocessing import OneHotEncoder\n",
    "from sklearn.ensemble import RandomForestRegressor\n",
    "import time"
   ]
  },
  {
   "cell_type": "code",
   "execution_count": null,
   "metadata": {},
   "outputs": [],
   "source": [
    "try:\n",
    "    data = pd.read_csv(\"autos.csv\")\n",
    "except:\n",
    "    data = pd.read_csv(\"/datasets/autos.csv\")"
   ]
  },
  {
   "cell_type": "code",
   "execution_count": null,
   "metadata": {},
   "outputs": [],
   "source": [
    "data.info()"
   ]
  },
  {
   "cell_type": "code",
   "execution_count": null,
   "metadata": {},
   "outputs": [],
   "source": [
    "before = len(data)"
   ]
  },
  {
   "cell_type": "code",
   "execution_count": null,
   "metadata": {},
   "outputs": [],
   "source": [
    "data = data[['Brand', 'Model', 'RegistrationYear', 'RegistrationMonth', 'Kilometer', 'Power', \n",
    " 'VehicleType', 'Gearbox', 'FuelType', 'Repaired', \n",
    " 'NumberOfPictures', 'LastSeen',\n",
    " 'DateCreated', 'PostalCode', 'DateCrawled', 'Price']]"
   ]
  },
  {
   "cell_type": "code",
   "execution_count": null,
   "metadata": {},
   "outputs": [],
   "source": [
    "data.head(10)"
   ]
  },
  {
   "cell_type": "code",
   "execution_count": null,
   "metadata": {},
   "outputs": [],
   "source": [
    "data.describe()"
   ]
  },
  {
   "cell_type": "code",
   "execution_count": null,
   "metadata": {},
   "outputs": [],
   "source": [
    "print('Количество дубликатов', data[data.duplicated()]['Brand'].count())"
   ]
  },
  {
   "cell_type": "code",
   "execution_count": null,
   "metadata": {},
   "outputs": [],
   "source": [
    "data = data.drop_duplicates()"
   ]
  },
  {
   "cell_type": "code",
   "execution_count": null,
   "metadata": {},
   "outputs": [],
   "source": [
    "plt.boxplot(data[\"Kilometer\"]) \n",
    "plt.title(\"Kilometer\")"
   ]
  },
  {
   "cell_type": "code",
   "execution_count": null,
   "metadata": {},
   "outputs": [],
   "source": [
    "plt.boxplot(data[\"Power\"])\n",
    "plt.title(\"Power\")"
   ]
  },
  {
   "cell_type": "code",
   "execution_count": null,
   "metadata": {},
   "outputs": [],
   "source": [
    "print(data[data[\"Power\"] > 1500].count())\n",
    "data = data.drop(data.loc[data[\"Power\"] >= 700].index, axis=0)\n",
    "data = data.drop(data.loc[data[\"Power\"] <= 20].index, axis=0)"
   ]
  },
  {
   "cell_type": "code",
   "execution_count": null,
   "metadata": {},
   "outputs": [],
   "source": [
    "plt.boxplot(data[\"Price\"])\n",
    "plt.title(\"Price\")\n",
    "print(data[data[\"Price\"] < 150].count())\n",
    "data = data.drop(data.loc[data[\"Price\"] < 150].index, axis=0)"
   ]
  },
  {
   "cell_type": "code",
   "execution_count": null,
   "metadata": {},
   "outputs": [],
   "source": [
    "plt.boxplot(data[\"Power\"])\n",
    "plt.title(\"Power\")"
   ]
  },
  {
   "cell_type": "code",
   "execution_count": null,
   "metadata": {},
   "outputs": [],
   "source": [
    "data[\"DateCreated\"] = pd.to_datetime(data[\"DateCreated\"])"
   ]
  },
  {
   "cell_type": "code",
   "execution_count": null,
   "metadata": {},
   "outputs": [],
   "source": [
    "data[\"DateCreated_Year\"] = data[\"DateCreated\"].dt.year\n",
    "data[\"DateCreated_Month\"] = data[\"DateCreated\"].dt.month\n",
    "data = data.drop(columns=\"DateCreated\", axis=1)"
   ]
  },
  {
   "cell_type": "code",
   "execution_count": null,
   "metadata": {},
   "outputs": [],
   "source": [
    "data[\"VehicleType\"].unique()"
   ]
  },
  {
   "cell_type": "code",
   "execution_count": null,
   "metadata": {},
   "outputs": [],
   "source": [
    "data[\"Gearbox\"].unique()"
   ]
  },
  {
   "cell_type": "code",
   "execution_count": null,
   "metadata": {},
   "outputs": [],
   "source": [
    "data[\"Model\"].unique()"
   ]
  },
  {
   "cell_type": "code",
   "execution_count": null,
   "metadata": {},
   "outputs": [],
   "source": [
    "data[\"FuelType\"].unique()"
   ]
  },
  {
   "cell_type": "code",
   "execution_count": null,
   "metadata": {},
   "outputs": [],
   "source": [
    "data[\"FuelType\"].loc[data[\"FuelType\"] == 'gasoline']= \"petrol\""
   ]
  },
  {
   "cell_type": "code",
   "execution_count": null,
   "metadata": {},
   "outputs": [],
   "source": [
    "data[\"Brand\"].unique()"
   ]
  },
  {
   "cell_type": "code",
   "execution_count": null,
   "metadata": {},
   "outputs": [],
   "source": [
    "data[\"Repaired\"].unique()"
   ]
  },
  {
   "cell_type": "code",
   "execution_count": null,
   "metadata": {},
   "outputs": [],
   "source": [
    "data[\"Repaired\"] = data[\"Repaired\"].fillna(\"unknown\")"
   ]
  },
  {
   "cell_type": "code",
   "execution_count": null,
   "metadata": {},
   "outputs": [],
   "source": [
    "data[[\"VehicleType\", \"Gearbox\", \"FuelType\", \"Brand\", \"Repaired\", \"Model\"]] = data[[\"VehicleType\", \"Gearbox\", \"FuelType\", \"Brand\", \"Repaired\", \"Model\"]].fillna(\"unknown\")"
   ]
  },
  {
   "cell_type": "code",
   "execution_count": null,
   "metadata": {},
   "outputs": [],
   "source": [
    "after = len(data)"
   ]
  },
  {
   "cell_type": "code",
   "execution_count": null,
   "metadata": {},
   "outputs": [],
   "source": [
    "print(100 - after/before*100)"
   ]
  },
  {
   "cell_type": "code",
   "execution_count": null,
   "metadata": {},
   "outputs": [],
   "source": [
    "categories_list = [\"VehicleType\", \"Gearbox\", \"FuelType\", \"Brand\", \"Repaired\", \"Model\"]"
   ]
  },
  {
   "cell_type": "code",
   "execution_count": null,
   "metadata": {},
   "outputs": [],
   "source": [
    "features = data.drop([\"Price\", \"LastSeen\", \"PostalCode\", \"DateCrawled\"], axis=1)\n",
    "target = data[\"Price\"]"
   ]
  },
  {
   "cell_type": "code",
   "execution_count": null,
   "metadata": {},
   "outputs": [],
   "source": [
    "features_train, features_test, target_train, target_test = train_test_split(features, target, test_size=0.33, random_state=12345, shuffle=True,)\n",
    "features_test, features_valid, target_test, target_valid = train_test_split(features_test, target_test, test_size=0.33, random_state=12345, shuffle=True,)"
   ]
  },
  {
   "cell_type": "code",
   "execution_count": null,
   "metadata": {},
   "outputs": [],
   "source": [
    "ohe = OneHotEncoder(sparse=False, handle_unknown=\"ignore\", drop='first') # учтено\n",
    "\n",
    "X_train = ohe.fit_transform(features_train[categories_list])\n",
    "ohe_train = pd.DataFrame(X_train, columns=ohe.get_feature_names_out(categories_list))\n",
    "\n",
    "features_train = features_train.drop(categories_list, axis=1)\n",
    "features_train = features_train.join(ohe_train)"
   ]
  },
  {
   "cell_type": "code",
   "execution_count": null,
   "metadata": {},
   "outputs": [],
   "source": [
    "X_train = ohe.transform(features_test[categories_list])\n",
    "ohe_train = pd.DataFrame(X_train, columns=ohe.get_feature_names_out(categories_list))\n",
    "\n",
    "features_test = features_test.drop(categories_list, axis=1)\n",
    "features_test = features_test.join(ohe_train)"
   ]
  },
  {
   "cell_type": "code",
   "execution_count": null,
   "metadata": {},
   "outputs": [],
   "source": [
    "X_train = ohe.transform(features_valid[categories_list])\n",
    "ohe_train = pd.DataFrame(X_train, columns=ohe.get_feature_names_out(categories_list))\n",
    "\n",
    "features_valid = features_valid.drop(categories_list, axis=1)\n",
    "features_valid = features_valid.join(ohe_train)"
   ]
  },
  {
   "cell_type": "code",
   "execution_count": null,
   "metadata": {},
   "outputs": [],
   "source": [
    "features_train = features_train.fillna(0)\n",
    "features_test = features_test.fillna(0)\n",
    "features_valid = features_valid.fillna(0)"
   ]
  },
  {
   "cell_type": "code",
   "execution_count": null,
   "metadata": {},
   "outputs": [],
   "source": [
    "depth = [5, 10, 16]\n",
    "best_catboost_model = None\n",
    "best_rmse_catboost = 10 ** 10\n",
    "best_depth = None\n",
    "time_1 = None\n",
    "pred_time = None"
   ]
  },
  {
   "cell_type": "code",
   "execution_count": null,
   "metadata": {},
   "outputs": [],
   "source": [
    "for i in depth:\n",
    "    model = CatBoostRegressor(iterations=2_000, random_seed=12345, depth=i, devices=\"0:1\",\n",
    "                               task_type=\"GPU\", loss_function=\"RMSE\", early_stopping_rounds=10, silent=True)\n",
    "    start = time.time()\n",
    "    model.fit(features_train, target_train, use_best_model=True, eval_set=(features_valid, target_valid))\n",
    "    end = time.time()\n",
    "    pred_start = time.time()\n",
    "    prediction = model.predict(features_valid)\n",
    "    pred_end = time.time()\n",
    "    rmse = mean_squared_error(prediction, target_valid, squared=False)\n",
    "\n",
    "    if rmse < best_rmse_catboost:\n",
    "        best_catboost_model = model\n",
    "        best_rmse_catboost = rmse\n",
    "        best_depth = i\n",
    "        time_1 = (end - start) * 10**3\n",
    "        pred_time = (pred_end - pred_start) * 10**3"
   ]
  },
  {
   "cell_type": "code",
   "execution_count": null,
   "metadata": {},
   "outputs": [],
   "source": [
    "print(f\"Catboost RMSE = {mean_squared_error(best_catboost_model.predict(features_test), target_test, squared=False):0.2f}\\nBest depth = {best_depth}\\nTime ms = {time_1:0.2f}\\nPrediction time = {pred_time:0.2f}\")"
   ]
  },
  {
   "cell_type": "code",
   "execution_count": null,
   "metadata": {},
   "outputs": [],
   "source": [
    "depth = [5, 10, 16]\n",
    "best_rfc_model = None\n",
    "best_rmse_rfc = 10 ** 10\n",
    "best_depth = None\n",
    "ensembles = [25, 50, 75, 100]\n",
    "max_ensembles = None\n",
    "time_2 = None\n",
    "pred_time = None"
   ]
  },
  {
   "cell_type": "code",
   "execution_count": null,
   "metadata": {},
   "outputs": [],
   "source": [
    "for i in depth:\n",
    "    for g in ensembles:\n",
    "        model = RandomForestRegressor(random_state=12345, max_depth=i, n_estimators=g, n_jobs=4)\n",
    "        start = time.time()\n",
    "        model.fit(features_train, target_train)\n",
    "        end = time.time()\n",
    "        pred_start = time.time()\n",
    "        prediction = model.predict(features_valid)\n",
    "        pred_end = time.time()\n",
    "        rmse = mean_squared_error(prediction, target_valid, squared=False)\n",
    "\n",
    "        if rmse < best_rmse_rfc:\n",
    "            best_rfc_model = model\n",
    "            best_rmse_rfc = rmse\n",
    "            best_depth = i\n",
    "            max_ensembles = g\n",
    "            time_2 = (end - start) * 10**3\n",
    "            pred_time = (pred_end - pred_start) * 10**3"
   ]
  },
  {
   "cell_type": "code",
   "execution_count": null,
   "metadata": {},
   "outputs": [],
   "source": [
    "print(f\"RandomForest RMSE = {mean_squared_error(best_rfc_model.predict(features_test), target_test, squared=False):0.2f}\\nBest depth = {best_depth}\\nBest ensembles = {max_ensembles}\\nTime ms = {time_2:0.2f}\\nPrediction time = {pred_time:0.2f}\")"
   ]
  }
 ],
 "metadata": {
  "ExecuteTimeLog": [
   {
    "duration": 2897,
    "start_time": "2023-10-10T15:54:37.965Z"
   },
   {
    "duration": 250,
    "start_time": "2023-10-10T15:54:40.864Z"
   },
   {
    "duration": 0,
    "start_time": "2023-10-10T15:54:41.117Z"
   },
   {
    "duration": 0,
    "start_time": "2023-10-10T15:54:41.119Z"
   },
   {
    "duration": 0,
    "start_time": "2023-10-10T15:54:41.121Z"
   },
   {
    "duration": 0,
    "start_time": "2023-10-10T15:54:41.122Z"
   },
   {
    "duration": 0,
    "start_time": "2023-10-10T15:54:41.123Z"
   },
   {
    "duration": 0,
    "start_time": "2023-10-10T15:54:41.125Z"
   },
   {
    "duration": 1,
    "start_time": "2023-10-10T15:54:41.126Z"
   },
   {
    "duration": 0,
    "start_time": "2023-10-10T15:54:41.143Z"
   },
   {
    "duration": 0,
    "start_time": "2023-10-10T15:54:41.145Z"
   },
   {
    "duration": 0,
    "start_time": "2023-10-10T15:54:41.145Z"
   },
   {
    "duration": 0,
    "start_time": "2023-10-10T15:54:41.147Z"
   },
   {
    "duration": 0,
    "start_time": "2023-10-10T15:54:41.148Z"
   },
   {
    "duration": 0,
    "start_time": "2023-10-10T15:54:41.149Z"
   },
   {
    "duration": 0,
    "start_time": "2023-10-10T15:54:41.150Z"
   },
   {
    "duration": 0,
    "start_time": "2023-10-10T15:54:41.151Z"
   },
   {
    "duration": 0,
    "start_time": "2023-10-10T15:54:41.152Z"
   },
   {
    "duration": 0,
    "start_time": "2023-10-10T15:54:41.153Z"
   },
   {
    "duration": 0,
    "start_time": "2023-10-10T15:54:41.155Z"
   },
   {
    "duration": 0,
    "start_time": "2023-10-10T15:54:41.156Z"
   },
   {
    "duration": 0,
    "start_time": "2023-10-10T15:54:41.157Z"
   },
   {
    "duration": 0,
    "start_time": "2023-10-10T15:54:41.158Z"
   },
   {
    "duration": 0,
    "start_time": "2023-10-10T15:54:41.159Z"
   },
   {
    "duration": 0,
    "start_time": "2023-10-10T15:54:41.161Z"
   },
   {
    "duration": 0,
    "start_time": "2023-10-10T15:54:41.162Z"
   },
   {
    "duration": 0,
    "start_time": "2023-10-10T15:54:41.163Z"
   },
   {
    "duration": 0,
    "start_time": "2023-10-10T15:54:41.165Z"
   },
   {
    "duration": 0,
    "start_time": "2023-10-10T15:54:41.166Z"
   },
   {
    "duration": 0,
    "start_time": "2023-10-10T15:54:41.167Z"
   }
  ],
  "kernelspec": {
   "display_name": "Python 3 (ipykernel)",
   "language": "python",
   "name": "python3"
  },
  "language_info": {
   "codemirror_mode": {
    "name": "ipython",
    "version": 3
   },
   "file_extension": ".py",
   "mimetype": "text/x-python",
   "name": "python",
   "nbconvert_exporter": "python",
   "pygments_lexer": "ipython3",
   "version": "3.9.5"
  },
  "toc": {
   "base_numbering": 1,
   "nav_menu": {},
   "number_sections": true,
   "sideBar": true,
   "skip_h1_title": true,
   "title_cell": "Table of Contents",
   "title_sidebar": "Contents",
   "toc_cell": false,
   "toc_position": {},
   "toc_section_display": true,
   "toc_window_display": false
  }
 },
 "nbformat": 4,
 "nbformat_minor": 2
}
