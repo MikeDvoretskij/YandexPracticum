{
 "cells": [
  {
   "cell_type": "code",
   "execution_count": null,
   "metadata": {},
   "outputs": [],
   "source": [
    "import pandas as pd\n",
    "from PIL import Image\n",
    "from sklearn.model_selection import train_test_split\n",
    "from sklearn.metrics import mean_squared_error\n",
    "import random\n",
    "import numpy as np\n",
    "\n",
    "import torch\n",
    "import torch.nn as nn\n",
    "import snntorch as snn\n",
    "\n",
    "from torchvision import datasets, transforms\n",
    "from torch.utils.data import DataLoader\n",
    "\n",
    "import matplotlib.pyplot as plt\n",
    "import seaborn as sns\n",
    "import statsmodels.api as sm\n",
    "from tensorflow.keras.preprocessing.image import ImageDataGenerator"
   ]
  },
  {
   "cell_type": "code",
   "execution_count": null,
   "metadata": {},
   "outputs": [],
   "source": [
    "data = pd.read_csv(\"/datasets/faces/labels.csv\")\n",
    "data[\"file_name\"] = data[\"file_name\"].apply(lambda x: f\"/datasets/faces/final_files/{x}\")"
   ]
  },
  {
   "cell_type": "code",
   "execution_count": null,
   "metadata": {},
   "outputs": [],
   "source": [
    "data"
   ]
  },
  {
   "cell_type": "code",
   "execution_count": null,
   "metadata": {},
   "outputs": [],
   "source": [
    "plt.figure(figsize=(10,4))\n",
    "sns.distplot(data.real_age, kde=False, bins=100)\n",
    "plt.title(\"Distribution of age\")\n",
    "plt.xlabel(\"Age\")\n",
    "plt.ylabel(\"Frequency\")\n",
    "plt.show()"
   ]
  },
  {
   "cell_type": "code",
   "execution_count": null,
   "metadata": {},
   "outputs": [],
   "source": [
    "labels = pd.read_csv('/datasets/faces/labels.csv')\n",
    "train_datagen = ImageDataGenerator(rescale=1./255)\n",
    "train_gen_flow = train_datagen.flow_from_dataframe(\n",
    "        dataframe=labels,\n",
    "        directory='/datasets/faces/final_files/',\n",
    "        x_col='file_name',\n",
    "        y_col='real_age',\n",
    "        target_size=(224, 224),\n",
    "        batch_size=32,\n",
    "        class_mode='raw',\n",
    "        seed=12345)"
   ]
  },
  {
   "cell_type": "code",
   "execution_count": null,
   "metadata": {},
   "outputs": [],
   "source": [
    "features, target = next(train_gen_flow)\n",
    "\n",
    "fig = plt.figure(figsize=(10,10))\n",
    "for i in range(5):\n",
    "    fig.add_subplot(4, 4, i+1)\n",
    "    plt.imshow(features[i])\n",
    "    plt.xticks([])\n",
    "    plt.yticks([])\n",
    "    plt.tight_layout()"
   ]
  },
  {
   "cell_type": "code",
   "execution_count": null,
   "metadata": {},
   "outputs": [],
   "source": [
    "device = \"cuda\" if torch.cuda.is_available() else \"cpu\""
   ]
  },
  {
   "cell_type": "code",
   "execution_count": null,
   "metadata": {},
   "outputs": [],
   "source": [
    "random_state = 12345\n",
    "def set_seed(seed):\n",
    "    random.seed(seed)\n",
    "    np.random.seed(seed)\n",
    "    torch.manual_seed(seed)\n",
    "    if torch.cuda.is_available():\n",
    "        torch.cuda.manual_seed_all(seed)\n",
    "\n",
    "set_seed(random_state)"
   ]
  },
  {
   "cell_type": "code",
   "execution_count": null,
   "metadata": {},
   "outputs": [],
   "source": [
    "transform = transforms.Compose([\n",
    "    transforms.Resize((224, 224)),\n",
    "    transforms.Grayscale(num_output_channels=1),\n",
    "    transforms.ToTensor()\n",
    "])"
   ]
  },
  {
   "cell_type": "code",
   "execution_count": null,
   "metadata": {},
   "outputs": [],
   "source": [
    "train_, test_ = train_test_split(data, test_size=0.33, random_state=random_state)"
   ]
  },
  {
   "cell_type": "code",
   "execution_count": null,
   "metadata": {},
   "outputs": [],
   "source": [
    "len_train, len_test = len(train_), len(test_)"
   ]
  },
  {
   "cell_type": "code",
   "execution_count": null,
   "metadata": {},
   "outputs": [],
   "source": [
    "class CustomDataset(torch.utils.data.Dataset):\n",
    "    def __init__(self, data):\n",
    "        self.data = data\n",
    "        self.transform = transform\n",
    "\n",
    "    def __len__(self):\n",
    "        return len(self.data)\n",
    "\n",
    "    def __getitem__(self, idx):\n",
    "        img_name = self.data.iloc[idx, 0]\n",
    "        image = Image.open(img_name)\n",
    "        label = self.data.iloc[idx, 1]\n",
    "\n",
    "        if self.transform:\n",
    "            image = self.transform(image).to(device)\n",
    "\n",
    "        return image, torch.tensor(label, device=device, dtype=torch.float32)"
   ]
  },
  {
   "cell_type": "code",
   "execution_count": null,
   "metadata": {},
   "outputs": [],
   "source": [
    "batch_size = 100"
   ]
  },
  {
   "cell_type": "code",
   "execution_count": null,
   "metadata": {},
   "outputs": [],
   "source": [
    "train = CustomDataset(train_)\n",
    "test = CustomDataset(test_)\n",
    "train = DataLoader(train, batch_size=batch_size, shuffle=True)\n",
    "test = DataLoader(test, batch_size=batch_size, shuffle=True)"
   ]
  },
  {
   "cell_type": "code",
   "execution_count": null,
   "metadata": {},
   "outputs": [],
   "source": [
    "class SimleConv(nn.Module):\n",
    "    def __init__(self):\n",
    "        super(SimleConv, self).__init__()\n",
    "\n",
    "        self.conv1 = nn.Conv2d(in_channels=1, out_channels=8, kernel_size=3)\n",
    "        self.max1 = nn.MaxPool2d(2)\n",
    "        self.conv2 = nn.Conv2d(in_channels=8, out_channels=16, kernel_size=3)\n",
    "        self.max2 = nn.MaxPool2d(2)\n",
    "        self.fc = nn.Linear(46656, 1)\n",
    "\n",
    "    def forward(self, x) -> torch.tensor:\n",
    "        x = self.conv1(x)\n",
    "        x = self.max1(x)\n",
    "        x = self.conv2(x)\n",
    "        x = self.max2(x)\n",
    "        x = nn.functional.relu(self.fc(x.flatten(1)))\n",
    "\n",
    "        return(x)"
   ]
  },
  {
   "cell_type": "code",
   "execution_count": null,
   "metadata": {},
   "outputs": [],
   "source": [
    "simple_conv = SimleConv().to(device)\n",
    "optimazer = torch.optim.Adam(simple_conv.parameters(), lr=1e-3)\n",
    "citeration = nn.MSELoss().to(device)"
   ]
  },
  {
   "cell_type": "code",
   "execution_count": null,
   "metadata": {},
   "outputs": [],
   "source": [
    "num_epochs = 10\n",
    "\n",
    "for _ in range(num_epochs):\n",
    "    simple_conv.train()\n",
    "    total_loss = 0\n",
    "    for image, label in train:\n",
    "\n",
    "        optimazer.zero_grad()\n",
    "        out = simple_conv(image)\n",
    "\n",
    "        loss = citeration(out, label)\n",
    "\n",
    "        loss.backward()\n",
    "        optimazer.step()\n",
    "\n",
    "        total_loss += loss.item()\n",
    "\n",
    "    average_loss = total_loss / len_train\n",
    "    print(f'Epoch [{_+1}/{num_epochs}], Loss: {average_loss:.4f}')\n",
    "simple_conv.eval()"
   ]
  },
  {
   "cell_type": "code",
   "execution_count": null,
   "metadata": {},
   "outputs": [],
   "source": [
    "simple_conv_preds = []\n",
    "simple_conv_labels = []"
   ]
  },
  {
   "cell_type": "code",
   "execution_count": null,
   "metadata": {},
   "outputs": [],
   "source": [
    "for image, label in test:\n",
    "    out = simple_conv(image)\n",
    "    simple_conv_labels.append(label.to(\"cpu\").detach().numpy().tolist()[0])\n",
    "    simple_conv_preds.append(out.to(\"cpu\").detach().numpy().tolist()[0])"
   ]
  },
  {
   "cell_type": "code",
   "execution_count": null,
   "metadata": {},
   "outputs": [],
   "source": [
    "simple_conv_mae = mean_squared_error(simple_conv_labels, simple_conv_preds, squared=False)\n",
    "print(f\"SimpleConv MAE = {simple_conv_mae:0.4f}\")"
   ]
  },
  {
   "cell_type": "code",
   "execution_count": null,
   "metadata": {},
   "outputs": [],
   "source": [
    "class SNNConv(nn.Module):\n",
    "    def __init__(self):\n",
    "        super(SNNConv, self).__init__()\n",
    "\n",
    "        self.conv1 = nn.Conv2d(in_channels=1, out_channels=8, kernel_size=3)\n",
    "        self.lif1 = snn.Leaky(beta=0.9, learn_beta=True, learn_threshold=True, learn_graded_spikes_factor=True)\n",
    "        self.max1 = nn.MaxPool2d(2)\n",
    "        self.conv2 = nn.Conv2d(in_channels=8, out_channels=16, kernel_size=3)\n",
    "        self.lif2 = snn.Leaky(beta=0.9, learn_beta=True, learn_threshold=True, learn_graded_spikes_factor=True)\n",
    "        self.max2 = nn.MaxPool2d(2)\n",
    "        self.fc = nn.Linear(46656, 1)\n",
    "\n",
    "    def forward(self, x):\n",
    "        mem1 = self.lif1.init_leaky()\n",
    "        mem2 = self.lif2.init_leaky()\n",
    "\n",
    "        for i in range(10):\n",
    "            cur1 = self.conv1(x)\n",
    "            spk1, mem1 = self.lif1(self.max1(cur1), mem1)\n",
    "            cur2 = self.conv2(spk1)\n",
    "            spk2, mem2 = self.lif2(self.max2(cur2), mem2)\n",
    "            cur3 = self.fc(spk2.flatten(1))\n",
    " \n",
    "        return nn.functional.relu(cur3)"
   ]
  },
  {
   "cell_type": "code",
   "execution_count": null,
   "metadata": {},
   "outputs": [],
   "source": [
    "snn_conv = SNNConv().to(device)\n",
    "optimazer = torch.optim.Adam(snn_conv.parameters(), lr=1e-3)\n",
    "citeration = nn.MSELoss().to(device)"
   ]
  },
  {
   "cell_type": "code",
   "execution_count": null,
   "metadata": {},
   "outputs": [],
   "source": [
    "num_epochs = 10\n",
    "\n",
    "for _ in range(num_epochs):\n",
    "    snn_conv.train()\n",
    "    total_loss = 0\n",
    "    for image, label in train:\n",
    "\n",
    "        optimazer.zero_grad()\n",
    "        out = snn_conv(image)\n",
    " \n",
    "        loss = citeration(out, label)\n",
    "        loss.backward()\n",
    "        optimazer.step()\n",
    "\n",
    "        total_loss += loss.item()\n",
    "        \n",
    "    average_loss = total_loss / len_train\n",
    "    print(f'Epoch [{_+1}/{num_epochs}], Loss: {average_loss:.4f}')\n",
    "snn_conv.eval()"
   ]
  },
  {
   "cell_type": "code",
   "execution_count": null,
   "metadata": {},
   "outputs": [],
   "source": [
    "snn_conv_preds = []\n",
    "snn_conv_labels = []"
   ]
  },
  {
   "cell_type": "code",
   "execution_count": null,
   "metadata": {},
   "outputs": [],
   "source": [
    "for image, label in test:\n",
    "    out = snn_conv(image)\n",
    "    snn_conv_labels.append(label.to(\"cpu\").detach().numpy().tolist()[0])\n",
    "    snn_conv_preds.append(out.to(\"cpu\").detach().numpy().tolist()[0])"
   ]
  },
  {
   "cell_type": "code",
   "execution_count": null,
   "metadata": {},
   "outputs": [],
   "source": [
    "snn_conv_mae = mean_squared_error(snn_conv_labels, snn_conv_preds, squared=False)\n",
    "print(f\"SNNConv MAE = {snn_conv_mae:0.4f}\")"
   ]
  },
  {
   "cell_type": "code",
   "execution_count": null,
   "metadata": {},
   "outputs": [],
   "source": [
    "from tensorflow.keras.layers import Conv2D, Flatten, Dense, AvgPool2D,MaxPooling2D,GlobalAveragePooling2D\n",
    "from tensorflow.keras.models import Sequential\n",
    "from tensorflow.keras.optimizers import Adam\n",
    "from tensorflow.keras.preprocessing.image import ImageDataGenerator\n",
    "from tensorflow.keras.applications.resnet import ResNet50\n",
    "import numpy as np\n",
    "import pandas as pd\n",
    "\n",
    "\n",
    "\n",
    "def load_test(path):\n",
    "    labels = pd.read_csv(path+'labels.csv') \n",
    "    test_datagen = ImageDataGenerator(rescale=1./255,\n",
    "                                    validation_split=0.25)\n",
    "    test_datagen_flow = test_datagen.flow_from_dataframe(dataframe=labels,\n",
    "        directory=path + 'final_files/',\n",
    "        x_col='file_name',\n",
    "        y_col='real_age',\n",
    "        target_size=(224, 224),\n",
    "        batch_size=32,\n",
    "        class_mode='raw',\n",
    "        subset='validation',\n",
    "        seed=12345) \n",
    "    return test_datagen_flow\n",
    "\n",
    "\n",
    "def load_train(path):\n",
    "    labels = pd.read_csv(path+'labels.csv') \n",
    "    train_datagen = ImageDataGenerator(rescale=1./255,\n",
    "                                   validation_split=0.25,\n",
    "                                   horizontal_flip=True,\n",
    "                                   brightness_range=(0.8, 1.))\n",
    " \n",
    "    train_datagen_flow = train_datagen.flow_from_dataframe(dataframe=labels,\n",
    "      directory=path + 'final_files/',\n",
    "      x_col='file_name',\n",
    "      y_col='real_age',\n",
    "      target_size=(224, 224),\n",
    "      batch_size=32,\n",
    "      class_mode='raw',\n",
    "      subset='training',\n",
    "      seed=12345)\n",
    "    return train_datagen_flow\n",
    " \n",
    " \n",
    "def create_model(input_shape):\n",
    "\n",
    "    backbone = ResNet50(input_shape=input_shape,\n",
    "                    weights='imagenet', \n",
    "                    include_top=False)\n",
    "\n",
    "    model = Sequential()\n",
    "    model.add(backbone)\n",
    "    model.add(GlobalAveragePooling2D()) \n",
    "    model.add(Dense(1, activation='relu')) \n",
    "    optimizer = Adam(lr=0.0003)\n",
    "    model.compile(optimizer=optimizer,loss='mean_squared_error',metrics=['mae'])\n",
    "    \n",
    "    return model\n",
    " \n",
    "def train_model(model, train_data, test_data, batch_size=None, epochs=10,\n",
    "               steps_per_epoch=None, validation_steps=None):\n",
    "\n",
    "    model.fit(train_data, \n",
    "              validation_data=test_data,\n",
    "              batch_size=batch_size, epochs=epochs,\n",
    "              steps_per_epoch=steps_per_epoch,\n",
    "              validation_steps=validation_steps,\n",
    "              verbose=2)\n",
    " \n",
    "    return model"
   ]
  }
 ],
 "metadata": {
  "ExecuteTimeLog": [
   {
    "duration": 4041,
    "start_time": "2023-12-26T00:11:55.169Z"
   },
   {
    "duration": 2651,
    "start_time": "2023-12-26T18:38:15.740Z"
   },
   {
    "duration": 1768,
    "start_time": "2023-12-26T18:38:18.394Z"
   },
   {
    "duration": 0,
    "start_time": "2023-12-26T18:38:20.164Z"
   },
   {
    "duration": 0,
    "start_time": "2023-12-26T18:38:20.166Z"
   },
   {
    "duration": 0,
    "start_time": "2023-12-26T18:38:20.167Z"
   },
   {
    "duration": 0,
    "start_time": "2023-12-26T18:38:20.168Z"
   },
   {
    "duration": 0,
    "start_time": "2023-12-26T18:38:20.169Z"
   },
   {
    "duration": 0,
    "start_time": "2023-12-26T18:38:20.170Z"
   },
   {
    "duration": 0,
    "start_time": "2023-12-26T18:38:20.171Z"
   },
   {
    "duration": 0,
    "start_time": "2023-12-26T18:38:20.172Z"
   },
   {
    "duration": 0,
    "start_time": "2023-12-26T18:38:20.173Z"
   },
   {
    "duration": 0,
    "start_time": "2023-12-26T18:38:20.174Z"
   },
   {
    "duration": 0,
    "start_time": "2023-12-26T18:38:20.175Z"
   },
   {
    "duration": 0,
    "start_time": "2023-12-26T18:38:20.176Z"
   },
   {
    "duration": 0,
    "start_time": "2023-12-26T18:38:20.177Z"
   },
   {
    "duration": 0,
    "start_time": "2023-12-26T18:38:20.178Z"
   },
   {
    "duration": 0,
    "start_time": "2023-12-26T18:38:20.179Z"
   },
   {
    "duration": 0,
    "start_time": "2023-12-26T18:38:20.180Z"
   },
   {
    "duration": 0,
    "start_time": "2023-12-26T18:38:20.181Z"
   },
   {
    "duration": 0,
    "start_time": "2023-12-26T18:38:20.182Z"
   },
   {
    "duration": 0,
    "start_time": "2023-12-26T18:38:20.214Z"
   },
   {
    "duration": 0,
    "start_time": "2023-12-26T18:38:20.215Z"
   },
   {
    "duration": 0,
    "start_time": "2023-12-26T18:38:20.217Z"
   },
   {
    "duration": 0,
    "start_time": "2023-12-26T18:38:20.217Z"
   },
   {
    "duration": 0,
    "start_time": "2023-12-26T18:38:20.219Z"
   },
   {
    "duration": 4059,
    "start_time": "2023-12-26T19:02:44.690Z"
   },
   {
    "duration": 1868,
    "start_time": "2023-12-26T19:02:53.843Z"
   },
   {
    "duration": 2622,
    "start_time": "2023-12-26T19:03:11.633Z"
   },
   {
    "duration": 17,
    "start_time": "2023-12-26T19:03:16.545Z"
   },
   {
    "duration": 1971,
    "start_time": "2023-12-26T19:07:30.529Z"
   },
   {
    "duration": 42055,
    "start_time": "2023-12-26T19:07:39.137Z"
   },
   {
    "duration": 24,
    "start_time": "2023-12-26T19:08:21.195Z"
   },
   {
    "duration": 13,
    "start_time": "2023-12-26T19:08:26.706Z"
   },
   {
    "duration": 3540,
    "start_time": "2023-12-26T19:08:55.351Z"
   },
   {
    "duration": 18105,
    "start_time": "2023-12-26T19:08:58.893Z"
   },
   {
    "duration": 86,
    "start_time": "2023-12-26T19:10:13.810Z"
   },
   {
    "duration": 21,
    "start_time": "2023-12-26T19:12:12.827Z"
   },
   {
    "duration": 113,
    "start_time": "2023-12-26T19:13:49.111Z"
   },
   {
    "duration": 17,
    "start_time": "2023-12-26T19:13:52.593Z"
   },
   {
    "duration": 6,
    "start_time": "2023-12-26T19:14:03.145Z"
   },
   {
    "duration": 5,
    "start_time": "2023-12-26T19:14:04.416Z"
   },
   {
    "duration": 4,
    "start_time": "2023-12-26T19:14:06.408Z"
   },
   {
    "duration": 6,
    "start_time": "2023-12-26T19:14:08.191Z"
   },
   {
    "duration": 3,
    "start_time": "2023-12-26T19:14:10.134Z"
   },
   {
    "duration": 5,
    "start_time": "2023-12-26T19:14:11.864Z"
   },
   {
    "duration": 3,
    "start_time": "2023-12-26T19:14:13.815Z"
   },
   {
    "duration": 3,
    "start_time": "2023-12-26T19:14:15.416Z"
   },
   {
    "duration": 5,
    "start_time": "2023-12-26T19:14:18.904Z"
   },
   {
    "duration": 6,
    "start_time": "2023-12-26T19:14:20.824Z"
   },
   {
    "duration": 52,
    "start_time": "2023-12-26T19:14:22.527Z"
   },
   {
    "duration": 4355,
    "start_time": "2023-12-26T19:14:43.287Z"
   },
   {
    "duration": 43,
    "start_time": "2023-12-26T19:14:47.645Z"
   },
   {
    "duration": 22,
    "start_time": "2023-12-26T19:14:47.690Z"
   },
   {
    "duration": 43,
    "start_time": "2023-12-26T19:14:56.146Z"
   },
   {
    "duration": 10,
    "start_time": "2023-12-26T19:14:58.677Z"
   },
   {
    "duration": 3,
    "start_time": "2023-12-26T19:15:02.526Z"
   },
   {
    "duration": 4,
    "start_time": "2023-12-26T19:15:03.880Z"
   },
   {
    "duration": 3,
    "start_time": "2023-12-26T19:15:05.863Z"
   },
   {
    "duration": 7,
    "start_time": "2023-12-26T19:15:07.855Z"
   },
   {
    "duration": 3,
    "start_time": "2023-12-26T19:15:09.352Z"
   },
   {
    "duration": 5,
    "start_time": "2023-12-26T19:15:10.895Z"
   },
   {
    "duration": 2,
    "start_time": "2023-12-26T19:15:13.824Z"
   },
   {
    "duration": 4,
    "start_time": "2023-12-26T19:15:15.423Z"
   },
   {
    "duration": 5,
    "start_time": "2023-12-26T19:15:17.976Z"
   },
   {
    "duration": 6,
    "start_time": "2023-12-26T19:15:20.046Z"
   },
   {
    "duration": 71,
    "start_time": "2023-12-26T19:15:21.679Z"
   },
   {
    "duration": 45,
    "start_time": "2023-12-26T19:17:14.944Z"
   },
   {
    "duration": 43,
    "start_time": "2023-12-26T19:17:27.354Z"
   },
   {
    "duration": 47,
    "start_time": "2023-12-26T19:17:38.073Z"
   },
   {
    "duration": 3970,
    "start_time": "2023-12-26T19:18:11.508Z"
   },
   {
    "duration": 45,
    "start_time": "2023-12-26T19:18:15.480Z"
   },
   {
    "duration": 18,
    "start_time": "2023-12-26T19:18:15.527Z"
   },
   {
    "duration": 5,
    "start_time": "2023-12-26T19:18:16.488Z"
   },
   {
    "duration": 6,
    "start_time": "2023-12-26T19:18:17.064Z"
   },
   {
    "duration": 4,
    "start_time": "2023-12-26T19:18:18.048Z"
   },
   {
    "duration": 6,
    "start_time": "2023-12-26T19:18:18.528Z"
   },
   {
    "duration": 6,
    "start_time": "2023-12-26T19:18:19.305Z"
   },
   {
    "duration": 5,
    "start_time": "2023-12-26T19:18:19.842Z"
   },
   {
    "duration": 4,
    "start_time": "2023-12-26T19:18:20.815Z"
   },
   {
    "duration": 3,
    "start_time": "2023-12-26T19:18:21.490Z"
   },
   {
    "duration": 7,
    "start_time": "2023-12-26T19:18:24.122Z"
   },
   {
    "duration": 5,
    "start_time": "2023-12-26T19:18:24.744Z"
   },
   {
    "duration": 245275,
    "start_time": "2023-12-31T19:17:55.147Z"
   },
   {
    "duration": 6636,
    "start_time": "2023-12-31T19:22:00.424Z"
   },
   {
    "duration": 98,
    "start_time": "2023-12-31T19:22:07.062Z"
   },
   {
    "duration": 10,
    "start_time": "2023-12-31T19:22:07.162Z"
   },
   {
    "duration": 254,
    "start_time": "2023-12-31T19:22:07.173Z"
   },
   {
    "duration": 45,
    "start_time": "2023-12-31T19:22:14.949Z"
   },
   {
    "duration": 179,
    "start_time": "2023-12-31T19:22:35.643Z"
   },
   {
    "duration": 1637,
    "start_time": "2023-12-31T19:23:39.728Z"
   },
   {
    "duration": 5407,
    "start_time": "2023-12-31T19:23:48.088Z"
   },
   {
    "duration": 46,
    "start_time": "2023-12-31T19:23:55.017Z"
   },
   {
    "duration": 200,
    "start_time": "2023-12-31T19:23:56.766Z"
   },
   {
    "duration": 225,
    "start_time": "2023-12-31T19:23:59.507Z"
   },
   {
    "duration": 282,
    "start_time": "2023-12-31T19:24:04.029Z"
   },
   {
    "duration": 89291,
    "start_time": "2023-12-31T19:24:39.744Z"
   },
   {
    "duration": 2802,
    "start_time": "2023-12-31T19:26:09.037Z"
   },
   {
    "duration": 6,
    "start_time": "2023-12-31T19:26:23.383Z"
   },
   {
    "duration": 4,
    "start_time": "2023-12-31T19:26:25.050Z"
   },
   {
    "duration": 3,
    "start_time": "2023-12-31T19:26:27.375Z"
   },
   {
    "duration": 5,
    "start_time": "2023-12-31T19:26:30.063Z"
   },
   {
    "duration": 3,
    "start_time": "2023-12-31T19:26:31.269Z"
   },
   {
    "duration": 4,
    "start_time": "2023-12-31T19:26:32.935Z"
   },
   {
    "duration": 2,
    "start_time": "2023-12-31T19:26:36.215Z"
   },
   {
    "duration": 3,
    "start_time": "2023-12-31T19:26:37.718Z"
   },
   {
    "duration": 4,
    "start_time": "2023-12-31T19:26:40.625Z"
   },
   {
    "duration": 6,
    "start_time": "2023-12-31T19:26:45.431Z"
   },
   {
    "duration": 4,
    "start_time": "2023-12-31T19:27:15.743Z"
   },
   {
    "duration": 5351,
    "start_time": "2023-12-31T19:30:31.943Z"
   },
   {
    "duration": 47,
    "start_time": "2023-12-31T19:30:37.296Z"
   },
   {
    "duration": 198,
    "start_time": "2023-12-31T19:30:37.344Z"
   },
   {
    "duration": 236,
    "start_time": "2023-12-31T19:30:37.544Z"
   },
   {
    "duration": 88921,
    "start_time": "2023-12-31T19:30:37.781Z"
   },
   {
    "duration": 1919,
    "start_time": "2023-12-31T19:32:06.704Z"
   },
   {
    "duration": 3,
    "start_time": "2023-12-31T19:32:08.624Z"
   },
   {
    "duration": 5,
    "start_time": "2023-12-31T19:32:08.629Z"
   },
   {
    "duration": 3,
    "start_time": "2023-12-31T19:32:08.636Z"
   },
   {
    "duration": 8,
    "start_time": "2023-12-31T19:32:08.640Z"
   },
   {
    "duration": 19,
    "start_time": "2023-12-31T19:32:08.650Z"
   },
   {
    "duration": 11,
    "start_time": "2023-12-31T19:32:08.671Z"
   },
   {
    "duration": 4,
    "start_time": "2023-12-31T19:32:08.684Z"
   },
   {
    "duration": 7,
    "start_time": "2023-12-31T19:32:08.689Z"
   },
   {
    "duration": 3,
    "start_time": "2023-12-31T19:32:41.400Z"
   },
   {
    "duration": 5312,
    "start_time": "2023-12-31T19:33:00.100Z"
   },
   {
    "duration": 46,
    "start_time": "2023-12-31T19:33:05.414Z"
   },
   {
    "duration": 198,
    "start_time": "2023-12-31T19:33:05.461Z"
   },
   {
    "duration": 257,
    "start_time": "2023-12-31T19:33:05.664Z"
   },
   {
    "duration": 88848,
    "start_time": "2023-12-31T19:33:05.923Z"
   },
   {
    "duration": 1954,
    "start_time": "2023-12-31T19:34:34.773Z"
   },
   {
    "duration": 4,
    "start_time": "2023-12-31T19:34:36.728Z"
   },
   {
    "duration": 5,
    "start_time": "2023-12-31T19:34:36.733Z"
   },
   {
    "duration": 3,
    "start_time": "2023-12-31T19:34:36.739Z"
   },
   {
    "duration": 13,
    "start_time": "2023-12-31T19:34:36.744Z"
   },
   {
    "duration": 12,
    "start_time": "2023-12-31T19:34:36.758Z"
   },
   {
    "duration": 4,
    "start_time": "2023-12-31T19:34:36.772Z"
   },
   {
    "duration": 7,
    "start_time": "2023-12-31T19:34:36.777Z"
   },
   {
    "duration": 6,
    "start_time": "2023-12-31T19:34:36.785Z"
   },
   {
    "duration": 12,
    "start_time": "2023-12-31T19:34:36.792Z"
   },
   {
    "duration": 4,
    "start_time": "2023-12-31T19:36:15.175Z"
   },
   {
    "duration": 5,
    "start_time": "2023-12-31T19:36:19.106Z"
   },
   {
    "duration": 14648,
    "start_time": "2023-12-31T19:36:21.119Z"
   },
   {
    "duration": 0,
    "start_time": "2023-12-31T19:36:35.770Z"
   },
   {
    "duration": 0,
    "start_time": "2023-12-31T19:36:35.771Z"
   },
   {
    "duration": 0,
    "start_time": "2023-12-31T19:36:35.772Z"
   },
   {
    "duration": 5,
    "start_time": "2023-12-31T19:37:23.610Z"
   },
   {
    "duration": 5,
    "start_time": "2023-12-31T19:37:29.180Z"
   },
   {
    "duration": 595,
    "start_time": "2023-12-31T19:37:31.114Z"
   },
   {
    "duration": 5330,
    "start_time": "2023-12-31T19:37:59.704Z"
   },
   {
    "duration": 46,
    "start_time": "2023-12-31T19:38:05.035Z"
   },
   {
    "duration": 201,
    "start_time": "2023-12-31T19:38:05.083Z"
   },
   {
    "duration": 243,
    "start_time": "2023-12-31T19:38:05.286Z"
   },
   {
    "duration": 88845,
    "start_time": "2023-12-31T19:38:05.531Z"
   },
   {
    "duration": 966,
    "start_time": "2023-12-31T19:39:34.377Z"
   },
   {
    "duration": 3,
    "start_time": "2023-12-31T19:39:35.345Z"
   },
   {
    "duration": 6,
    "start_time": "2023-12-31T19:39:35.349Z"
   },
   {
    "duration": 3,
    "start_time": "2023-12-31T19:39:35.356Z"
   },
   {
    "duration": 17,
    "start_time": "2023-12-31T19:39:35.361Z"
   },
   {
    "duration": 3,
    "start_time": "2023-12-31T19:39:35.379Z"
   },
   {
    "duration": 11,
    "start_time": "2023-12-31T19:39:35.383Z"
   },
   {
    "duration": 6,
    "start_time": "2023-12-31T19:39:35.396Z"
   },
   {
    "duration": 4,
    "start_time": "2023-12-31T19:39:35.403Z"
   },
   {
    "duration": 10,
    "start_time": "2023-12-31T19:39:35.408Z"
   },
   {
    "duration": 14,
    "start_time": "2023-12-31T19:39:35.420Z"
   },
   {
    "duration": 6,
    "start_time": "2023-12-31T19:39:35.435Z"
   },
   {
    "duration": 16057,
    "start_time": "2023-12-31T19:39:35.442Z"
   },
   {
    "duration": 0,
    "start_time": "2023-12-31T19:39:51.501Z"
   },
   {
    "duration": 0,
    "start_time": "2023-12-31T19:39:51.502Z"
   },
   {
    "duration": 5511,
    "start_time": "2023-12-31T19:41:46.715Z"
   },
   {
    "duration": 47,
    "start_time": "2023-12-31T19:41:52.228Z"
   },
   {
    "duration": 207,
    "start_time": "2023-12-31T19:41:52.277Z"
   },
   {
    "duration": 239,
    "start_time": "2023-12-31T19:41:52.486Z"
   },
   {
    "duration": 2546,
    "start_time": "2023-12-31T19:47:23.592Z"
   },
   {
    "duration": 5540,
    "start_time": "2023-12-31T19:47:26.140Z"
   },
   {
    "duration": 46,
    "start_time": "2023-12-31T19:47:31.682Z"
   },
   {
    "duration": 210,
    "start_time": "2023-12-31T19:47:31.730Z"
   },
   {
    "duration": 261,
    "start_time": "2023-12-31T19:47:31.941Z"
   },
   {
    "duration": 1876,
    "start_time": "2024-01-01T09:13:38.189Z"
   },
   {
    "duration": 249249,
    "start_time": "2024-01-02T22:57:12.596Z"
   },
   {
    "duration": 7960,
    "start_time": "2024-01-02T23:01:21.848Z"
   },
   {
    "duration": 99,
    "start_time": "2024-01-02T23:01:29.810Z"
   },
   {
    "duration": 13,
    "start_time": "2024-01-02T23:01:29.911Z"
   },
   {
    "duration": 461,
    "start_time": "2024-01-02T23:01:29.926Z"
   },
   {
    "duration": 87255,
    "start_time": "2024-01-02T23:01:30.389Z"
   },
   {
    "duration": 1959,
    "start_time": "2024-01-02T23:02:57.645Z"
   },
   {
    "duration": 9,
    "start_time": "2024-01-02T23:02:59.606Z"
   },
   {
    "duration": 33,
    "start_time": "2024-01-02T23:02:59.616Z"
   },
   {
    "duration": 28,
    "start_time": "2024-01-02T23:02:59.652Z"
   },
   {
    "duration": 18,
    "start_time": "2024-01-02T23:02:59.682Z"
   },
   {
    "duration": 36,
    "start_time": "2024-01-02T23:02:59.701Z"
   },
   {
    "duration": 31,
    "start_time": "2024-01-02T23:02:59.738Z"
   },
   {
    "duration": 19,
    "start_time": "2024-01-02T23:02:59.771Z"
   },
   {
    "duration": 19,
    "start_time": "2024-01-02T23:02:59.791Z"
   }
  ],
  "kernelspec": {
   "display_name": "Python 3 (ipykernel)",
   "language": "python",
   "name": "python3"
  },
  "language_info": {
   "codemirror_mode": {
    "name": "ipython",
    "version": 3
   },
   "file_extension": ".py",
   "mimetype": "text/x-python",
   "name": "python",
   "nbconvert_exporter": "python",
   "pygments_lexer": "ipython3",
   "version": "3.9.5"
  },
  "toc": {
   "base_numbering": 1,
   "nav_menu": {},
   "number_sections": true,
   "sideBar": true,
   "skip_h1_title": true,
   "title_cell": "Table of Contents",
   "title_sidebar": "Contents",
   "toc_cell": false,
   "toc_position": {},
   "toc_section_display": true,
   "toc_window_display": true
  }
 },
 "nbformat": 4,
 "nbformat_minor": 2
}
