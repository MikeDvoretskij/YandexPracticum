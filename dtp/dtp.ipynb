{
 "cells": [
  {
   "cell_type": "code",
   "execution_count": null,
   "id": "8dd8aac8",
   "metadata": {
    "scrolled": true
   },
   "outputs": [],
   "source": [
    "import pandas as pd\n",
    "from math import ceil\n",
    "import matplotlib as mpl\n",
    "import matplotlib.pyplot as plt\n",
    "import numpy as np\n",
    "from sqlalchemy import create_engine, text as sql_text\n",
    "\n",
    "from phik.report import plot_correlation_matrix\n",
    "\n",
    "from catboost import CatBoostClassifier\n",
    "from sklearn.preprocessing import OrdinalEncoder, StandardScaler\n",
    "from sklearn.metrics import fbeta_score, precision_score, recall_score, confusion_matrix, ConfusionMatrixDisplay, precision_recall_curve\n",
    "from sklearn.model_selection import train_test_split, GridSearchCV\n",
    "from sklearn.ensemble import RandomForestClassifier\n",
    "\n",
    "import torch\n",
    "from torch import nn\n",
    "\n",
    "import itertools\n",
    "import tqdm\n",
    "from math import ceil\n",
    "import matplotlib.pyplot as plt\n",
    "\n",
    "mpl.rcParams['agg.path.chunksize'] = 10000"
   ]
  },
  {
   "cell_type": "code",
   "execution_count": null,
   "id": "c4fd6b87",
   "metadata": {},
   "outputs": [],
   "source": [
    "# Подключение к базе данных\n",
    "db_config = {\n",
    "'user': 'praktikum_student',\n",
    "'pwd': 'Sdf4$2;d-d30pp',\n",
    "'host': 'rc1b-wcoijxj3yxfsf3fs.mdb.yandexcloud.net',\n",
    "'port': 6432,\n",
    "'db': 'data-science-vehicle-db'\n",
    "}\n",
    "\n",
    "connection_string = 'postgresql://{}:{}@{}:{}/{}'.format(\n",
    "    db_config['user'],\n",
    "    db_config['pwd'],\n",
    "    db_config['host'],\n",
    "    db_config['port'],\n",
    "    db_config['db']\n",
    ")\n",
    "\n",
    "connection = create_engine(connection_string)"
   ]
  },
  {
   "cell_type": "code",
   "execution_count": null,
   "id": "b65272ad",
   "metadata": {},
   "outputs": [],
   "source": [
    "def get_query(query):\n",
    "    query_df = pd.read_sql_query(con=connection.connect(), sql=sql_text(query))\n",
    "    return query_df"
   ]
  },
  {
   "cell_type": "code",
   "execution_count": null,
   "id": "3f0a7ec4",
   "metadata": {},
   "outputs": [],
   "source": [
    "case_ids_query = '''\n",
    "SELECT *\n",
    "FROM case_ids;\n",
    "'''\n",
    "\n",
    "case_ids_df = get_query(case_ids_query)\n",
    "display(case_ids_df.head())"
   ]
  },
  {
   "cell_type": "code",
   "execution_count": null,
   "id": "9c825528",
   "metadata": {
    "scrolled": false
   },
   "outputs": [],
   "source": [
    "parties_query = '''\n",
    "SELECT *\n",
    "FROM parties\n",
    "WHERE party_type = 'car';\n",
    "'''\n",
    "\n",
    "parties_df = get_query(case_ids_query)\n",
    "display(parties_df.head())"
   ]
  },
  {
   "cell_type": "code",
   "execution_count": null,
   "id": "eb6917b6",
   "metadata": {},
   "outputs": [],
   "source": [
    "collisions_query = '''\n",
    "SELECT *\n",
    "FROM collisions;\n",
    "'''\n",
    "\n",
    "collisions_df = get_query(case_ids_query)\n",
    "display(collisions_df.head())"
   ]
  },
  {
   "cell_type": "code",
   "execution_count": null,
   "id": "8ed2acae",
   "metadata": {},
   "outputs": [],
   "source": [
    "vehicles_query = '''\n",
    "SELECT *\n",
    "FROM vehicles;\n",
    "'''\n",
    "\n",
    "vehicles_df = get_query(case_ids_query)\n",
    "display(vehicles_df.head())"
   ]
  },
  {
   "cell_type": "code",
   "execution_count": null,
   "id": "6a0ea502",
   "metadata": {},
   "outputs": [],
   "source": [
    "query = '''\n",
    "SELECT to_char(collision_date::date, 'MONTH') AS month,\n",
    "    COUNT(case_id)\n",
    "FROM collisions\n",
    "GROUP BY month;\n",
    "'''\n",
    "\n",
    "query_df = pd.read_sql_query(con=connection.connect(), sql=sql_text(query))\n",
    "\n",
    "months = [\"DECEMBER\", \"JANUARY\", \"FEBRUARY\",\n",
    "          \"MARCH\",  \"APRIL\", \"MAY\", \n",
    "          \"JUNE\", \"JULY\", \"AUGUST\",\n",
    "          \"SEPTEMBER\", \"OCTOBER\", \"NOVEMBER\"]\n",
    "\n",
    "query_df[\"month\"] = query_df[\"month\"].apply(lambda x: x.strip())\n",
    "\n",
    "a = []\n",
    "b = []\n",
    "\n",
    "for i in range(len(months)):\n",
    "    a.append(query_df[query_df[\"month\"] == months[i]][\"month\"].to_list()[0])\n",
    "    b.append(query_df[query_df[\"month\"] == months[i]][\"count\"].to_list()[0])\n",
    "\n",
    "query_df[\"month\"] = a\n",
    "query_df[\"count\"] = b\n",
    "\n",
    "display(query_df)"
   ]
  },
  {
   "cell_type": "code",
   "execution_count": null,
   "id": "71fc4e18",
   "metadata": {},
   "outputs": [],
   "source": [
    "plt.figure(figsize=(7, 7))\n",
    "\n",
    "plt.bar(\n",
    "    query_df['month'],\n",
    "    query_df['count'],\n",
    "    color='red'\n",
    ")\n",
    "\n",
    "plt.title(\"Количество аварий по месяцам\", fontsize=16)\n",
    "plt.xlabel(\"Месяц\", fontsize=14)\n",
    "plt.xticks(rotation=90, fontsize=12)\n",
    "plt.ylabel(\"Количество аварий\", fontsize=14)\n",
    "plt.yticks(fontsize=12)\n",
    "plt.show()"
   ]
  },
  {
   "cell_type": "code",
   "execution_count": null,
   "id": "ee4e8ed1",
   "metadata": {},
   "outputs": [],
   "source": [
    "query = '''\n",
    "WITH collision_damage_table AS \n",
    "    (SELECT case_id,\n",
    "        collision_damage\n",
    "    FROM collisions),\n",
    "number_of_coll AS \n",
    "    (SELECT p.case_id,\n",
    "        p.party_drug_physical,\n",
    "        cdt.collision_damage,\n",
    "        COUNT(*) OVER (PARTITION BY p.party_drug_physical, cdt.collision_damage)\n",
    "    FROM parties AS p\n",
    "    JOIN collision_damage_table AS cdt ON p.case_id = cdt.case_id\n",
    "    WHERE p.party_type = 'car')\n",
    "\n",
    "\n",
    "SELECT party_drug_physical,\n",
    "    collision_damage,\n",
    "    count\n",
    "FROM number_of_coll\n",
    "WHERE party_drug_physical NOT IN ('G', 'not applicable', 'None')\n",
    "GROUP BY party_drug_physical, collision_damage, count;\n",
    "'''\n",
    "\n",
    "query_df = get_query(query)\n",
    "\n",
    "query_df.replace('impairment - physical', 'Ухудшение состояния', inplace=True)\n",
    "query_df.replace('sleepy/fatigued', 'Сонный/Усталый', inplace=True)\n",
    "query_df.replace('under drug influence', 'Под воздействием лекарств', inplace=True)\n",
    "\n",
    "query_df.replace('fatal', 'Не подлежит восстановлению', inplace=True)\n",
    "query_df.replace('middle damage', 'Машина в целом на ходу', inplace=True)\n",
    "query_df.replace('scratch', 'Царапина', inplace=True)\n",
    "query_df.replace('severe damage', 'Серьезное повреждение', inplace=True)\n",
    "query_df.replace('small damage', 'Отедльный элемент под замену/покраску', inplace=True)\n",
    "\n",
    "display(query_df)"
   ]
  },
  {
   "cell_type": "code",
   "execution_count": null,
   "id": "cccbd35d",
   "metadata": {},
   "outputs": [],
   "source": [
    "plt.figure(figsize=(7, 7))\n",
    "\n",
    "plt.scatter(\n",
    "    query_df['party_drug_physical'],\n",
    "    query_df['collision_damage'],\n",
    "    alpha=0.85,\n",
    "    s=query_df['count'],\n",
    ")\n",
    "\n",
    "plt.title('Зависимость между состоянием участника и серьезностью повреждения', fontsize=16)\n",
    "plt.xlabel('Состояние участника', fontsize=14)\n",
    "plt.xticks(fontsize=12)\n",
    "plt.ylabel('Серьезность происшествия', fontsize=14)\n",
    "plt.yticks(fontsize=12)\n",
    "plt.show()"
   ]
  },
  {
   "cell_type": "code",
   "execution_count": null,
   "id": "48d14880",
   "metadata": {},
   "outputs": [],
   "source": [
    "query = '''\n",
    "WITH primary_factor_table AS \n",
    "    (SELECT case_id,\n",
    "        primary_collision_factor\n",
    "    FROM collisions),\n",
    "collision_sobriety AS \n",
    "    (SELECT p.case_id,\n",
    "        pft.primary_collision_factor,\n",
    "        p.party_sobriety,\n",
    "        COUNT(*) OVER (PARTITION BY pft.primary_collision_factor, p.party_sobriety)\n",
    "    FROM parties AS p\n",
    "    JOIN primary_factor_table AS pft ON p.case_id = pft.case_id\n",
    "    WHERE p.party_type = 'car')\n",
    "\n",
    "\n",
    "SELECT primary_collision_factor,\n",
    "    party_sobriety,\n",
    "    count\n",
    "FROM collision_sobriety\n",
    "WHERE primary_collision_factor NOT IN ('unknown', 'None')\n",
    "    AND party_sobriety NOT IN ('not applicable')\n",
    "GROUP BY primary_collision_factor, party_sobriety, count;\n",
    "'''\n",
    "\n",
    "query_df = get_query(query)\n",
    "\n",
    "query_df.replace('fell asleep', 'Уснул', inplace=True)\n",
    "query_df.replace('other improper driving', 'Другое неправильное вождение', inplace=True)\n",
    "query_df.replace('other than driver', 'Кроме водителя', inplace=True)\n",
    "query_df.replace('vehicle code violation', 'Нарушение правил ПДД', inplace=True)\n",
    "\n",
    "query_df.replace('had not been drinking', 'Не пил', inplace=True)\n",
    "query_df.replace('had been drinking, not under influence', 'Был пьян, не под влиянием', inplace=True)\n",
    "query_df.replace('had been drinking, impairment unknown', 'Был пьян, ухудшение неизвестно', inplace=True)\n",
    "query_df.replace('had been drinking, under influence', 'Был пьян, под влиянием', inplace=True)\n",
    "query_df.replace('impairment unknown', 'Неизвестно ухудшение', inplace=True)\n",
    "\n",
    "display(query_df)"
   ]
  },
  {
   "cell_type": "code",
   "execution_count": null,
   "id": "88b4c277",
   "metadata": {},
   "outputs": [],
   "source": [
    "def sobriety_collision_graph(df, size=0.005):\n",
    "    plt.figure(figsize=(7, 7))\n",
    "\n",
    "    plt.scatter(\n",
    "        df['primary_collision_factor'],\n",
    "        df['party_sobriety'],\n",
    "        s=df['count'] * size,\n",
    "        alpha=0.85,\n",
    "        color='c'\n",
    "    )\n",
    "\n",
    "    plt.title('Зависимость между основным фактором ДТП и трезвостью участника', fontsize=16)\n",
    "    plt.xlabel('Основной фактор аварии', fontsize=14)\n",
    "    plt.xticks(rotation=90, fontsize=12)\n",
    "    plt.ylabel('Трезвость участника', fontsize=14)\n",
    "    plt.yticks(fontsize=12)\n",
    "    plt.show()\n",
    "\n",
    "sobriety_collision_graph(query_df)\n",
    "\n",
    "query_test = query_df[query_df['party_sobriety'] != 'Не пил']\n",
    "print('\\n\\nГрафик зависимости между основным фактором ДТП и трезвостью участника БЕЗ значения \"Не пил\":\\n')\n",
    "sobriety_collision_graph(query_test, size=0.125)"
   ]
  },
  {
   "cell_type": "code",
   "execution_count": null,
   "id": "6ae0249b",
   "metadata": {
    "scrolled": true
   },
   "outputs": [],
   "source": [
    "# Необходимые для модели параметры\n",
    "parameters_query = '''\n",
    "SELECT p.at_fault,\n",
    "    p.cellphone_in_use,\n",
    "    p.party_sobriety,\n",
    "    c.collision_damage,\n",
    "    EXTRACT(MONTH FROM c.collision_date)::int AS month,\n",
    "    EXTRACT(DAY FROM c.collision_date)::int AS day,\n",
    "    EXTRACT(HOUR FROM c.collision_time)::int AS hour,\n",
    "    c.control_device,\n",
    "    c.county_city_location,\n",
    "    c.direction,\n",
    "    c.intersection,\n",
    "    c.lighting,\n",
    "    c.location_type,\n",
    "    c.road_condition_1 AS road_condition,\n",
    "    c.road_surface,\n",
    "    v.vehicle_age,\n",
    "    v.vehicle_transmission,\n",
    "    v.vehicle_type,\n",
    "    c.weather_1 AS weather\n",
    "FROM parties AS p\n",
    "JOIN collisions AS c ON p.case_id = c.case_id\n",
    "JOIN vehicles AS v ON p.case_id = v.case_id\n",
    "WHERE p.party_type = 'car'\n",
    "    AND EXTRACT(YEAR FROM c.collision_date)::int = 2012\n",
    "    AND collision_damage != 'scratch';\n",
    "'''\n",
    "\n",
    "parameters_df = get_query(parameters_query)\n",
    "display(parameters_df.head())"
   ]
  },
  {
   "cell_type": "code",
   "execution_count": null,
   "id": "1e00cb5d",
   "metadata": {},
   "outputs": [],
   "source": [
    "print('Размер полученного набора данных:', parameters_df.shape)"
   ]
  },
  {
   "cell_type": "code",
   "execution_count": null,
   "id": "7ecc87e3",
   "metadata": {},
   "outputs": [],
   "source": [
    "print('Пропущенные значения по стобцам:\\n\\n', parameters_df.isna().sum())"
   ]
  },
  {
   "cell_type": "code",
   "execution_count": null,
   "id": "a1aff54c",
   "metadata": {
    "scrolled": true
   },
   "outputs": [],
   "source": [
    "print('Количество значений больше 1000, поэтому их нельзя удалить.\\n')\n",
    "print(\"Распределение значений параметров 'cellphone_in_use' ДО:\")\n",
    "display(parameters_df['cellphone_in_use'].value_counts())\n",
    "\n",
    "print('Заметно, что в подавляющем большинстве случаев в автомобиле отсутствует телефон')\n",
    "print('Ввиду этого заполним cellphone_in_use значением \"0\"')\n",
    "parameters_df['cellphone_in_use'].fillna(0, inplace=True)\n",
    "\n",
    "print(\"\\nРаспределение значений параметров 'cellphone_in_use' ПОСЛЕ:\")\n",
    "display(parameters_df['cellphone_in_use'].value_counts())"
   ]
  },
  {
   "cell_type": "code",
   "execution_count": null,
   "id": "249861fa",
   "metadata": {},
   "outputs": [],
   "source": [
    "parameters_df = parameters_df[~parameters_df['hour'].isna()]"
   ]
  },
  {
   "cell_type": "code",
   "execution_count": null,
   "id": "575117bf",
   "metadata": {},
   "outputs": [],
   "source": [
    "parameters_df = parameters_df[~parameters_df['control_device'].isna()]"
   ]
  },
  {
   "cell_type": "code",
   "execution_count": null,
   "id": "0cef13db",
   "metadata": {},
   "outputs": [],
   "source": [
    "print(\"Распределение значений параметров 'direction':\")\n",
    "display(parameters_df['direction'].value_counts())\n",
    "\n",
    "parameters_df['direction'].fillna('None', inplace=True)"
   ]
  },
  {
   "cell_type": "code",
   "execution_count": null,
   "id": "4d9500bc",
   "metadata": {},
   "outputs": [],
   "source": [
    "parameters_df = parameters_df[~parameters_df['intersection'].isna()]"
   ]
  },
  {
   "cell_type": "code",
   "execution_count": null,
   "id": "4ae94c46",
   "metadata": {},
   "outputs": [],
   "source": [
    "parameters_df = parameters_df[~parameters_df['lighting'].isna()]"
   ]
  },
  {
   "cell_type": "code",
   "execution_count": null,
   "id": "4ca86914",
   "metadata": {},
   "outputs": [],
   "source": [
    "print(\"Распределение значений параметров 'location_type':\")\n",
    "display(parameters_df['location_type'].value_counts())\n",
    "\n",
    "parameters_df['location_type'].fillna('none', inplace=True)"
   ]
  },
  {
   "cell_type": "code",
   "execution_count": null,
   "id": "bcaa85c0",
   "metadata": {},
   "outputs": [],
   "source": [
    "parameters_df = parameters_df[~parameters_df['road_condition'].isna()]"
   ]
  },
  {
   "cell_type": "code",
   "execution_count": null,
   "id": "73bdc816",
   "metadata": {},
   "outputs": [],
   "source": [
    "parameters_df = parameters_df[~parameters_df['road_surface'].isna()]"
   ]
  },
  {
   "cell_type": "code",
   "execution_count": null,
   "id": "e3b52e02",
   "metadata": {},
   "outputs": [],
   "source": [
    "print(\"Распределение значений параметров 'vehicle_age':\")\n",
    "display(parameters_df['vehicle_age'].value_counts())\n",
    "\n",
    "parameters_df['vehicle_age'].fillna(parameters_df['vehicle_age'].median(), inplace=True)"
   ]
  },
  {
   "cell_type": "code",
   "execution_count": null,
   "id": "5c3c9959",
   "metadata": {},
   "outputs": [],
   "source": [
    "print(\"Распределение значений параметров 'vehicle_transmission':\")\n",
    "display(parameters_df['vehicle_transmission'].value_counts())\n",
    "\n",
    "parameters_df['vehicle_transmission'].fillna('none', inplace=True)"
   ]
  },
  {
   "cell_type": "code",
   "execution_count": null,
   "id": "0a6b6488",
   "metadata": {},
   "outputs": [],
   "source": [
    "parameters_df = parameters_df[~parameters_df['weather'].isna()]"
   ]
  },
  {
   "cell_type": "code",
   "execution_count": null,
   "id": "8f9ac59d",
   "metadata": {},
   "outputs": [],
   "source": [
    "print('Количество значений больше 1000, поэтому их нельзя удалить.\\n')\n",
    "print(\"Распределение значений параметров 'party_sobriety' ДО:\")\n",
    "display(parameters_df['party_sobriety'].value_counts())\n",
    "\n",
    "print('Заметно, что в подавляющем большинстве случаев пользователь не пил')\n",
    "print('Однако, наверное, заполним party_sobriety значением \"impairment unknown\", так как достаточно большая доля есть с этим значеннием')\n",
    "parameters_df['party_sobriety'].fillna(\"impairment unknown\", inplace=True)\n",
    "\n",
    "print(\"\\nРаспределение значений параметров 'party_sobriety' ПОСЛЕ:\")\n",
    "display(parameters_df['party_sobriety'].value_counts())"
   ]
  },
  {
   "cell_type": "code",
   "execution_count": null,
   "id": "4688750a",
   "metadata": {},
   "outputs": [],
   "source": [
    "phik_overview = parameters_df.phik_matrix()\n",
    "phik_overview.round(2)\n",
    "\n",
    "plot_correlation_matrix(\n",
    "    phik_overview.values,\n",
    "    x_labels=phik_overview.columns,\n",
    "    y_labels=phik_overview.index,\n",
    "    vmin=0,\n",
    "    vmax=1,\n",
    "    figsize=(14, 10)\n",
    ")"
   ]
  },
  {
   "cell_type": "code",
   "execution_count": null,
   "id": "f7c0704a",
   "metadata": {},
   "outputs": [],
   "source": [
    "parameters_df.describe()"
   ]
  },
  {
   "cell_type": "code",
   "execution_count": null,
   "id": "88da80a2",
   "metadata": {},
   "outputs": [],
   "source": [
    "print(parameters_df[\"vehicle_age\"][parameters_df[\"vehicle_age\"] > 135].sum())\n",
    "parameters_df[\"vehicle_age\"][parameters_df[\"vehicle_age\"] > 135] = None # В теории можно просто заменить значение на 16, так как самих выбросов крайне мало\n",
    "parameters_df = parameters_df.dropna(axis=0)"
   ]
  },
  {
   "cell_type": "code",
   "execution_count": null,
   "id": "71d1a438",
   "metadata": {},
   "outputs": [],
   "source": [
    "parameters_df.describe()"
   ]
  },
  {
   "cell_type": "code",
   "execution_count": null,
   "id": "09593b12",
   "metadata": {},
   "outputs": [],
   "source": [
    "parameters_df.duplicated().sum()"
   ]
  },
  {
   "cell_type": "code",
   "execution_count": null,
   "id": "15d6272c",
   "metadata": {},
   "outputs": [],
   "source": [
    "parameters_df = parameters_df.drop_duplicates()"
   ]
  },
  {
   "cell_type": "code",
   "execution_count": null,
   "id": "debb66dd",
   "metadata": {},
   "outputs": [],
   "source": [
    "parameters_df.duplicated().sum()"
   ]
  },
  {
   "cell_type": "code",
   "execution_count": null,
   "id": "c0407528",
   "metadata": {},
   "outputs": [],
   "source": [
    "RANDOM_SEED = 12345"
   ]
  },
  {
   "cell_type": "code",
   "execution_count": null,
   "id": "75702f48",
   "metadata": {
    "scrolled": false
   },
   "outputs": [],
   "source": [
    "pd.options.mode.chained_assignment = None\n",
    "\n",
    "categorical_cols = ['cellphone_in_use', 'collision_damage', 'month', 'day', 'hour', 'control_device', \n",
    "                    'county_city_location','direction', 'intersection','lighting', 'location_type', \n",
    "                    'road_condition', 'road_surface', 'vehicle_transmission', 'vehicle_type', 'weather', \"party_sobriety\"]\n",
    "numeric_col = ['vehicle_age']\n",
    "\n",
    "X = parameters_df.drop('at_fault', axis=1)\n",
    "y = parameters_df['at_fault']\n",
    "\n",
    "X_train, X_test, y_train, y_test = train_test_split(\n",
    "    X, y, random_state=RANDOM_SEED, test_size=0.25\n",
    ")\n",
    "\n",
    "X_test, X_val, y_test, y_val = train_test_split(\n",
    "    X_test, y_test, random_state=RANDOM_SEED, test_size=0.25\n",
    ")\n",
    "\n",
    "encoder = OrdinalEncoder(handle_unknown='use_encoded_value', unknown_value=-1)\n",
    "encoder.fit(X_train[categorical_cols])\n",
    "X_train[categorical_cols] = encoder.transform(X_train[categorical_cols])\n",
    "X_test[categorical_cols] = encoder.transform(X_test[categorical_cols])\n",
    "X_val[categorical_cols] = encoder.transform(X_val[categorical_cols])\n",
    "\n",
    "scaler = StandardScaler()\n",
    "scaler.fit(X_train)\n",
    "\n",
    "X_train = scaler.transform(X_train)\n",
    "X_test = scaler.transform(X_test)\n",
    "X_val = scaler.transform(X_val)"
   ]
  },
  {
   "cell_type": "code",
   "execution_count": null,
   "id": "d1b4ebbb",
   "metadata": {},
   "outputs": [],
   "source": [
    "scoring = ['fbeta', 'roc_auc']"
   ]
  },
  {
   "cell_type": "code",
   "execution_count": null,
   "id": "6b6c3e63",
   "metadata": {},
   "outputs": [],
   "source": [
    "catboost = CatBoostClassifier(task_type=\"GPU\", devices=\"0:1\", early_stopping_rounds=5)\n",
    "\n",
    "grid = {\n",
    "    \"n_estimators\":[1000],\n",
    "    \"depth\":[3, 5, 7, 9],\n",
    "    \"random_seed\":[RANDOM_SEED],\n",
    "    'learning_rate': [0.03, 0.1],\n",
    "}\n",
    "\n",
    "grid_search_result = catboost.grid_search(grid,\n",
    "                                       X=X_train,\n",
    "                                       y=y_train)"
   ]
  },
  {
   "cell_type": "code",
   "execution_count": null,
   "id": "e1033fd9",
   "metadata": {},
   "outputs": [],
   "source": [
    "grid_search_result[\"params\"]"
   ]
  },
  {
   "cell_type": "code",
   "execution_count": null,
   "id": "6955138b",
   "metadata": {},
   "outputs": [],
   "source": [
    "catboost = CatBoostClassifier(task_type=\"GPU\", devices=\"0:1\", random_seed=RANDOM_SEED, learning_rate=0.1, depth=9, use_best_model=True)"
   ]
  },
  {
   "cell_type": "code",
   "execution_count": null,
   "id": "830cacdc",
   "metadata": {
    "scrolled": true
   },
   "outputs": [],
   "source": [
    "catboost.fit(X_train, y_train, eval_set=(X_val, y_val))"
   ]
  },
  {
   "cell_type": "code",
   "execution_count": null,
   "id": "5b7e5fe3",
   "metadata": {},
   "outputs": [],
   "source": [
    "catboost_prediction = catboost.predict(X_val)"
   ]
  },
  {
   "cell_type": "code",
   "execution_count": null,
   "id": "4285070a",
   "metadata": {},
   "outputs": [],
   "source": [
    "print(f\"\"\"Fbeta_score = {fbeta_score(y_val, catboost_prediction, beta=2):0.2f}\n",
    "Prescision = {precision_score(y_val, catboost_prediction,):0.2f}\n",
    "Recall = {recall_score(y_val, catboost_prediction,):0.2f}\"\"\")"
   ]
  },
  {
   "cell_type": "code",
   "execution_count": null,
   "id": "313abaa2",
   "metadata": {},
   "outputs": [],
   "source": [
    "rfc = RandomForestClassifier(random_state=RANDOM_SEED)"
   ]
  },
  {
   "cell_type": "code",
   "execution_count": null,
   "id": "18a93ac9",
   "metadata": {},
   "outputs": [],
   "source": [
    "param_grid = {\n",
    "    'max_depth': [5, 10, 15], \n",
    "    'n_estimators': [50, 100, 150]\n",
    "}"
   ]
  },
  {
   "cell_type": "code",
   "execution_count": null,
   "id": "e20e9f97",
   "metadata": {},
   "outputs": [],
   "source": [
    "grid = GridSearchCV(rfc, param_grid, scoring='f1', refit='f1', n_jobs=4)\n",
    "grid.fit(X_train, y_train)"
   ]
  },
  {
   "cell_type": "code",
   "execution_count": null,
   "id": "52fedc3d",
   "metadata": {},
   "outputs": [],
   "source": [
    "print(grid.best_estimator_)"
   ]
  },
  {
   "cell_type": "code",
   "execution_count": null,
   "id": "0c6ccdaf",
   "metadata": {},
   "outputs": [],
   "source": [
    "rfc = RandomForestClassifier(max_depth=5, n_estimators=50, random_state=RANDOM_SEED, n_jobs=4)"
   ]
  },
  {
   "cell_type": "code",
   "execution_count": null,
   "id": "504ed276",
   "metadata": {},
   "outputs": [],
   "source": [
    "rfc.fit(X_train, y_train)"
   ]
  },
  {
   "cell_type": "code",
   "execution_count": null,
   "id": "0d84996c",
   "metadata": {},
   "outputs": [],
   "source": [
    "rfc_prediction = rfc.predict(X_val)"
   ]
  },
  {
   "cell_type": "code",
   "execution_count": null,
   "id": "3a37ff6b",
   "metadata": {},
   "outputs": [],
   "source": [
    "print(f\"\"\"Fbeta_score = {fbeta_score(y_val, rfc_prediction, beta=2):0.2f}\n",
    "Prescision = {precision_score(y_val, rfc_prediction, ):0.2f}\n",
    "Recall = {recall_score(y_val, rfc_prediction, ):0.2f}\"\"\")"
   ]
  },
  {
   "cell_type": "code",
   "execution_count": null,
   "id": "b20d0dd1",
   "metadata": {},
   "outputs": [],
   "source": [
    "device = torch.device(\"cuda\" if torch.cuda.is_available() else \"cpu\")\n",
    "torch.manual_seed(RANDOM_SEED)\n",
    "np.random.seed(RANDOM_SEED)\n",
    "if torch.cuda.is_available():\n",
    "    torch.cuda.manual_seed_all(RANDOM_SEED)"
   ]
  },
  {
   "cell_type": "code",
   "execution_count": null,
   "id": "3815963f",
   "metadata": {},
   "outputs": [],
   "source": [
    "X_train = torch.tensor(X_train, device=device)\n",
    "X_val = torch.tensor(X_val, device=device)\n",
    "y_train = torch.tensor(y_train.values, device=device, dtype=torch.float64)\n",
    "y_val = torch.tensor(y_val.values, device=device, dtype=torch.float64)\n"
   ]
  },
  {
   "cell_type": "code",
   "execution_count": null,
   "id": "5113742c",
   "metadata": {},
   "outputs": [],
   "source": [
    "def cross_validate(params):\n",
    "    param_names = list(params.keys())\n",
    "    param_values = [params[param_name] for param_name in param_names]\n",
    "\n",
    "    param_combinations = list(itertools.product(*param_values))\n",
    "\n",
    "    for combination in param_combinations:\n",
    "        params_for_net = {param_names[i]: combination[i] for i in range(len(param_names))}\n",
    "        yield params_for_net"
   ]
  },
  {
   "cell_type": "code",
   "execution_count": null,
   "id": "e5eebe67",
   "metadata": {},
   "outputs": [],
   "source": [
    "def custom_nn(params: dict, X_train=X_train, X_val=X_val, y_train=y_train, y_val=y_val):\n",
    "    input_neurons = params.get(\"input_neurons\", X_train.shape[1])\n",
    "    output_neurons = params.get(\"output_neurons\", 1)\n",
    "    n_combinated_layers = params.get(\"n_combinated_layers\", 5)\n",
    "    function_activation = params.get(\"function_activation\", nn.LeakyReLU(0.2))\n",
    "    drop_out_every_layer = params.get(\"drop_out_every_layer\", 3)\n",
    "    drop_out_part = params.get(\"drop_out_part\", 0.25)\n",
    "    num_epochs = params.get(\"num_epochs\", 1000)\n",
    "    batch_size = params.get(\"batch_size\", 10)\n",
    "    device = params.get(\"device\", \"cuda\")\n",
    "    f1_ = params.get(\"f1\", 0)\n",
    "    middle_layers = params.get(\"middle_layers\")\n",
    "    \n",
    "    # gettting layers\n",
    "    n_neruons = [input_neurons]\n",
    "\n",
    "    for i in range(n_combinated_layers):\n",
    "        for g in middle_layers:\n",
    "            n_neruons.append(g)\n",
    "    n_neruons.append(output_neurons)\n",
    "\n",
    "    # creating structure\n",
    "    net_layers = []\n",
    "\n",
    "    for i in range(1, len(n_neruons) - 1):\n",
    "        if i == 1 or i % drop_out_every_layer != 0:\n",
    "            net_layers.append(nn.Linear(n_neruons[i - 1], n_neruons[i]))\n",
    "            net_layers.append(function_activation)   \n",
    "        else:\n",
    "            net_layers.append(nn.Dropout(drop_out_part))\n",
    "            net_layers.append(nn.Linear(n_neruons[i - 1], n_neruons[i]))\n",
    "            net_layers.append(function_activation)\n",
    "\n",
    "    net_layers.append(nn.Linear(n_neruons[-2], n_neruons[-1]))\n",
    "    net_layers.append(nn.Sigmoid())\n",
    "\n",
    "    net = nn.Sequential(*net_layers).to(dtype=torch.float64, device=device)\n",
    "\n",
    "    optimizer = torch.optim.Adam(net.parameters(), lr=1e-3)\n",
    "    loss = nn.BCELoss().to(device=device)\n",
    "\n",
    "    num_batches = ceil(len(X_train)/batch_size)\n",
    "\n",
    "    best_fbeta = 0\n",
    "    best_optimizer = None\n",
    "    best_net = None\n",
    "\n",
    "    # training_model\n",
    "    for epoch in tqdm.tqdm(range(num_epochs)):\n",
    "        order = np.random.permutation(len(X_train))\n",
    "        for batch_idx in range(num_batches):\n",
    "            start_index = batch_idx * batch_size\n",
    "            optimizer.zero_grad()\n",
    "\n",
    "            batch_indexes = order[start_index:start_index+batch_size]\n",
    "            X_batch = X_train[batch_indexes]\n",
    "            y_batch = y_train[batch_indexes]\n",
    "\n",
    "            preds = net(X_batch).flatten()\n",
    "                \n",
    "            loss_value = loss(preds, y_batch)\n",
    "\n",
    "            loss_value.backward()\n",
    "                \n",
    "            optimizer.step()\n",
    "                \n",
    "            if epoch % 10 == 0 or epoch == num_epochs - 1:\n",
    "                net.eval()\n",
    "                test_preds = net(X_val)\n",
    "                fbeta = fbeta_score(test_preds.to(\"cpu\").detach().numpy().round(), y_val.to(\"cpu\").detach().numpy(), beta=2)\n",
    "\n",
    "                if fbeta > best_fbeta:\n",
    "                    best_fbeta = fbeta\n",
    "                    best_optimizer = optimizer\n",
    "                    best_net = net\n",
    "                    \n",
    "\n",
    "    return best_net, best_optimizer, best_fbeta"
   ]
  },
  {
   "cell_type": "code",
   "execution_count": null,
   "id": "f1709559",
   "metadata": {},
   "outputs": [],
   "source": [
    "input_neruons = X_train.shape[1]"
   ]
  },
  {
   "cell_type": "code",
   "execution_count": null,
   "id": "967190ae",
   "metadata": {},
   "outputs": [],
   "source": [
    "params = {\n",
    "    \"middle_layers\":[[input_neruons * 2, input_neruons * 2, input_neruons],],\n",
    "    \"n_combinated_layers\":[1, 5],\n",
    "    \"num_epochs\":[1000, 1500],\n",
    "    \"batch_size\":[X_train.shape[0]//10], \n",
    "}"
   ]
  },
  {
   "cell_type": "code",
   "execution_count": null,
   "id": "be1e5d28",
   "metadata": {},
   "outputs": [],
   "source": [
    "iterations = 1\n",
    "\n",
    "for i in params:\n",
    "    iterations *= len(params[i])"
   ]
  },
  {
   "cell_type": "code",
   "execution_count": null,
   "id": "a7ceaab2",
   "metadata": {},
   "outputs": [],
   "source": [
    "params = cross_validate(params)"
   ]
  },
  {
   "cell_type": "code",
   "execution_count": null,
   "id": "8b0a10db",
   "metadata": {},
   "outputs": [],
   "source": [
    "best_params = None\n",
    "best_fbeta = 0"
   ]
  },
  {
   "cell_type": "code",
   "execution_count": null,
   "id": "8bc1a1a3",
   "metadata": {},
   "outputs": [],
   "source": [
    "for i in range(iterations):\n",
    "    param = next(params)\n",
    "    net, optimizer, fbeta = custom_nn(param)\n",
    "\n",
    "    if fbeta > best_fbeta:\n",
    "        best_fbeta = fbeta\n",
    "        best_params = param\n",
    "        print(f\"{best_fbeta:0.2f}\")"
   ]
  },
  {
   "cell_type": "code",
   "execution_count": null,
   "id": "09887f1a",
   "metadata": {},
   "outputs": [],
   "source": [
    "best_params"
   ]
  },
  {
   "cell_type": "code",
   "execution_count": null,
   "id": "c9746c0d",
   "metadata": {},
   "outputs": [],
   "source": [
    "n_neruons = [input_neruons]\n",
    "\n",
    "for i in range(1):\n",
    "    for g in [36, 36, 18]:\n",
    "        n_neruons.append(g)\n",
    "n_neruons.append(1)"
   ]
  },
  {
   "cell_type": "code",
   "execution_count": null,
   "id": "d0b37a01",
   "metadata": {},
   "outputs": [],
   "source": [
    "net_layers = []\n",
    "\n",
    "for i in range(1, len(n_neruons) - 1):\n",
    "    if i == 1 or i % 2 != 0:\n",
    "        net_layers.append(nn.Linear(n_neruons[i - 1], n_neruons[i]))\n",
    "        net_layers.append(nn.LeakyReLU(0.2))   \n",
    "    else:\n",
    "        net_layers.append(nn.Dropout(0.25))\n",
    "        net_layers.append(nn.Linear(n_neruons[i - 1], n_neruons[i]))\n",
    "        net_layers.append(nn.LeakyReLU(0.2))\n",
    "\n",
    "net_layers.append(nn.Linear(n_neruons[-2], n_neruons[-1]))\n",
    "net_layers.append(nn.Sigmoid())\n",
    "\n",
    "net = nn.Sequential(*net_layers).to(dtype=torch.float64, device=device)"
   ]
  },
  {
   "cell_type": "code",
   "execution_count": null,
   "id": "5a3f32ad",
   "metadata": {},
   "outputs": [],
   "source": [
    "optimizer = torch.optim.Adam(net.parameters(), lr=1e-3)\n",
    "loss = nn.BCELoss().to(device=device)\n",
    "\n",
    "batch_size = 7581\n",
    "epochs = 1500\n",
    "\n",
    "num_batches = ceil(len(X_train)/batch_size)\n",
    "\n",
    "best_fbeta = 0\n",
    "best_optimizer = None\n",
    "best_net = None\n",
    "\n",
    "accs = []\n",
    "epoch_ = []\n",
    "\n",
    "# training_model\n",
    "for epoch in tqdm.tqdm(range(epochs)):\n",
    "    order = np.random.permutation(len(X_train))\n",
    "    for batch_idx in range(num_batches):\n",
    "        start_index = batch_idx * batch_size\n",
    "        optimizer.zero_grad()\n",
    "\n",
    "        batch_indexes = order[start_index:start_index+batch_size]\n",
    "        X_batch = X_train[batch_indexes]\n",
    "        y_batch = y_train[batch_indexes]\n",
    "\n",
    "        preds = net(X_batch).flatten()\n",
    "            \n",
    "        loss_value = loss(preds, y_batch)\n",
    "\n",
    "        loss_value.backward()\n",
    "            \n",
    "        optimizer.step()\n",
    "            \n",
    "        if epoch % 10 == 0 or epoch == epochs - 1:\n",
    "            net.eval()\n",
    "            test_preds = net(X_val)\n",
    "            fbeta = fbeta_score(test_preds.to(\"cpu\").detach().numpy().round(), y_val.to(\"cpu\").detach().numpy(), beta=2)\n",
    "            accs.append(fbeta)\n",
    "            epoch_.append(epoch)\n",
    "\n",
    "            if fbeta > best_fbeta:\n",
    "                best_f1 = fbeta\n",
    "                best_optimizer = optimizer\n",
    "                best_net = net"
   ]
  },
  {
   "cell_type": "code",
   "execution_count": null,
   "id": "87d86d90",
   "metadata": {},
   "outputs": [],
   "source": [
    "plt.plot(epoch_, accs)\n",
    "plt.title(\"FbetaLoss\")"
   ]
  },
  {
   "cell_type": "code",
   "execution_count": null,
   "id": "0b95506c",
   "metadata": {},
   "outputs": [],
   "source": [
    "nn_prediction = best_net(X_val).to(\"cpu\").detach().numpy().round()\n",
    "y_true = y_val.to(\"cpu\").detach().numpy()"
   ]
  },
  {
   "cell_type": "code",
   "execution_count": null,
   "id": "b6d1e86f",
   "metadata": {},
   "outputs": [],
   "source": [
    "print(f\"\"\"Fbeta_score = {fbeta_score(y_true, nn_prediction, beta=2):0.2f}\n",
    "Prescision = {precision_score(y_true, nn_prediction,):0.2f}\n",
    "Recall = {recall_score(y_true, nn_prediction,):0.2f}\"\"\")"
   ]
  },
  {
   "cell_type": "code",
   "execution_count": null,
   "id": "53a5fd3d",
   "metadata": {},
   "outputs": [],
   "source": [
    "test_preds = rfc.predict(X_test)"
   ]
  },
  {
   "cell_type": "code",
   "execution_count": null,
   "id": "e3691c80",
   "metadata": {},
   "outputs": [],
   "source": [
    "print(f\"\"\"Fbeta_score = {fbeta_score(y_test, test_preds, beta=2):0.2f}\n",
    "Prescision = {precision_score(y_test, test_preds,):0.2f}\n",
    "Recall = {recall_score(y_test, test_preds,):0.2f}\"\"\")"
   ]
  },
  {
   "cell_type": "code",
   "execution_count": null,
   "id": "5a37fad0",
   "metadata": {},
   "outputs": [],
   "source": [
    "def display_confusion_matrix(model, title, y_test, y_pred):\n",
    "    cm = confusion_matrix(y_test, y_pred)\n",
    "    tp = cm[0][0]\n",
    "    fp = cm[0][1]\n",
    "    fn = cm[1][0] \n",
    "    tn = cm[1][1]  \n",
    "\n",
    "    disp = ConfusionMatrixDisplay(\n",
    "        confusion_matrix=cm, \n",
    "        display_labels=model.classes_\n",
    "    )\n",
    "\n",
    "    disp.plot()\n",
    "\n",
    "    plt.title(title)\n",
    "    plt.show()\n",
    "\n",
    "    # Выделение Precision и Recall\n",
    "    print('Precision =', round(tp / (tp + fp), 3))\n",
    "    print('Recall = ', round(tp / (tp + fn), 3))"
   ]
  },
  {
   "cell_type": "code",
   "execution_count": null,
   "id": "d424fe50",
   "metadata": {},
   "outputs": [],
   "source": [
    "display_confusion_matrix(catboost, y_pred=catboost_prediction, title='Матрица ошибок Catboost', y_test=y_val.to(\"cpu\").detach().numpy())"
   ]
  },
  {
   "cell_type": "code",
   "execution_count": null,
   "id": "c675a1e5",
   "metadata": {},
   "outputs": [],
   "source": [
    "predict_proba = pd.DataFrame(catboost.predict_proba(X_val.to(\"cpu\").detach().numpy(),))"
   ]
  },
  {
   "cell_type": "code",
   "execution_count": null,
   "id": "49e8c78d",
   "metadata": {},
   "outputs": [],
   "source": [
    "precision, recall, thresholds = precision_recall_curve(y_val.to(\"cpu\").detach().numpy(), predict_proba[1])"
   ]
  },
  {
   "cell_type": "code",
   "execution_count": null,
   "id": "c46b3fc5",
   "metadata": {},
   "outputs": [],
   "source": [
    "plt.plot(precision, recall)\n",
    "plt.title(\"Precision-Recall Catboost\")\n",
    "plt.show()"
   ]
  },
  {
   "cell_type": "code",
   "execution_count": null,
   "id": "862a0117",
   "metadata": {},
   "outputs": [],
   "source": [
    "display_confusion_matrix(catboost, y_pred=nn_prediction, title='Матрица ошибок NN', y_test=y_true)"
   ]
  },
  {
   "cell_type": "code",
   "execution_count": null,
   "id": "29fa3d11",
   "metadata": {},
   "outputs": [],
   "source": [
    "nn_prediction = best_net(X_val).to(\"cpu\").detach().numpy()"
   ]
  },
  {
   "cell_type": "code",
   "execution_count": null,
   "id": "3c47b021",
   "metadata": {},
   "outputs": [],
   "source": [
    "precision, recall, thresholds = precision_recall_curve( y_true, nn_prediction)"
   ]
  },
  {
   "cell_type": "code",
   "execution_count": null,
   "id": "1260537c",
   "metadata": {},
   "outputs": [],
   "source": [
    "plt.plot(precision, recall)\n",
    "plt.title(\"Precision-Recall NN\")\n",
    "plt.show()"
   ]
  },
  {
   "cell_type": "code",
   "execution_count": null,
   "id": "0926610c",
   "metadata": {},
   "outputs": [],
   "source": [
    "display_confusion_matrix(rfc, y_pred=rfc_prediction, title='Матрица ошибок LogisticRegression', y_test=y_val.to(\"cpu\").detach().numpy())"
   ]
  },
  {
   "cell_type": "code",
   "execution_count": null,
   "id": "d6968731",
   "metadata": {},
   "outputs": [],
   "source": [
    "predict_proba = pd.DataFrame(rfc.predict_proba(X_val.to(\"cpu\").detach().numpy()))[1]"
   ]
  },
  {
   "cell_type": "code",
   "execution_count": null,
   "id": "9bc2dcff",
   "metadata": {},
   "outputs": [],
   "source": [
    "precision, recall, thresholds = precision_recall_curve(y_true, predict_proba)"
   ]
  },
  {
   "cell_type": "code",
   "execution_count": null,
   "id": "319cc60b",
   "metadata": {},
   "outputs": [],
   "source": [
    "plt.plot(precision, recall)\n",
    "plt.title(\"Precision-Recall LogisticRegression\")\n",
    "plt.show()"
   ]
  },
  {
   "cell_type": "code",
   "execution_count": null,
   "id": "9eee1ca8",
   "metadata": {},
   "outputs": [],
   "source": [
    "importances = rfc.feature_importances_\n",
    "importances = pd.Series(importances, parameters_df.drop('at_fault', axis=1).columns.values)\n",
    "\n",
    "plt.figure(figsize=(10, 7))\n",
    "\n",
    "importances.plot(kind='bar', grid=True, color='m')\n",
    "\n",
    "plt.title('Важность факторов', fontsize=16)\n",
    "plt.xticks(fontsize=12)\n",
    "plt.xlabel('Факторы', fontsize=14)\n",
    "plt.yticks(fontsize=12)\n",
    "plt.ylabel('Степень значимости', fontsize=14)\n",
    "plt.show()"
   ]
  },
  {
   "cell_type": "code",
   "execution_count": null,
   "id": "acbe8623",
   "metadata": {},
   "outputs": [],
   "source": [
    "phik_overview = parameters_df[['at_fault', 'hour']].phik_matrix()\n",
    "phik_overview.round(2)\n",
    "\n",
    "plot_correlation_matrix(\n",
    "    phik_overview.values,\n",
    "    x_labels=phik_overview.columns,\n",
    "    y_labels=phik_overview.index,\n",
    "    vmin=0,\n",
    "    vmax=1,\n",
    "    figsize=(7, 5)\n",
    ")\n",
    "\n",
    "plt.title('''График зависимости\n",
    "          времени (hour)\n",
    "          и\n",
    "          Виновности участника (at_fault)''',\n",
    "         fontsize=14)\n",
    "plt.show()"
   ]
  },
  {
   "cell_type": "code",
   "execution_count": null,
   "id": "939b8741",
   "metadata": {},
   "outputs": [],
   "source": [
    "phik_overview = parameters_df[['at_fault', 'vehicle_type']].phik_matrix()\n",
    "phik_overview.round(2)\n",
    "\n",
    "plot_correlation_matrix(\n",
    "    phik_overview.values,\n",
    "    x_labels=phik_overview.columns,\n",
    "    y_labels=phik_overview.index,\n",
    "    vmin=0,\n",
    "    vmax=1,\n",
    "    figsize=(7, 5)\n",
    ")\n",
    "\n",
    "plt.title('График зависимости\\nTипа кузова (vehicle_type)\\nи\\nВиновности участника (at_fault)',\n",
    "         fontsize=14)\n",
    "plt.show()"
   ]
  }
 ],
 "metadata": {
  "ExecuteTimeLog": [
   {
    "duration": 1273,
    "start_time": "2023-06-23T07:53:58.182Z"
   },
   {
    "duration": 16415,
    "start_time": "2023-06-23T07:56:08.237Z"
   },
   {
    "duration": 15901,
    "start_time": "2023-06-23T07:57:10.934Z"
   },
   {
    "duration": 50,
    "start_time": "2023-06-23T07:57:26.838Z"
   },
   {
    "duration": 101,
    "start_time": "2023-06-23T08:03:31.615Z"
   },
   {
    "duration": 933,
    "start_time": "2023-06-23T08:04:14.330Z"
   },
   {
    "duration": 13493,
    "start_time": "2023-06-23T08:04:15.265Z"
   },
   {
    "duration": 68,
    "start_time": "2023-06-23T08:05:32.919Z"
   },
   {
    "duration": 881,
    "start_time": "2023-06-23T08:05:36.216Z"
   },
   {
    "duration": 14489,
    "start_time": "2023-06-23T08:05:37.106Z"
   },
   {
    "duration": 4628,
    "start_time": "2023-06-23T08:05:51.602Z"
   },
   {
    "duration": 14142,
    "start_time": "2023-06-23T08:05:58.506Z"
   },
   {
    "duration": 0,
    "start_time": "2023-06-23T08:06:30.808Z"
   },
   {
    "duration": 14461,
    "start_time": "2023-06-23T08:06:41.140Z"
   },
   {
    "duration": 4447,
    "start_time": "2023-06-23T08:06:58.713Z"
   },
   {
    "duration": 4121,
    "start_time": "2023-06-23T08:07:12.205Z"
   },
   {
    "duration": 61,
    "start_time": "2023-06-26T06:42:16.202Z"
   },
   {
    "duration": 967,
    "start_time": "2023-06-26T06:42:23.056Z"
   },
   {
    "duration": 11756,
    "start_time": "2023-06-26T06:42:24.025Z"
   },
   {
    "duration": 12295,
    "start_time": "2023-06-26T06:42:35.783Z"
   },
   {
    "duration": 15,
    "start_time": "2023-06-26T06:42:48.081Z"
   },
   {
    "duration": 17012,
    "start_time": "2023-06-26T06:45:11.493Z"
   },
   {
    "duration": 3669,
    "start_time": "2023-06-26T06:47:13.304Z"
   },
   {
    "duration": 3568,
    "start_time": "2023-06-26T06:47:49.501Z"
   },
   {
    "duration": 867,
    "start_time": "2023-06-26T06:48:41.115Z"
   },
   {
    "duration": 10020,
    "start_time": "2023-06-26T06:48:41.985Z"
   },
   {
    "duration": 3755,
    "start_time": "2023-06-26T06:48:52.008Z"
   },
   {
    "duration": 11753,
    "start_time": "2023-06-26T06:48:55.765Z"
   },
   {
    "duration": 17325,
    "start_time": "2023-06-26T06:49:07.521Z"
   },
   {
    "duration": 3468,
    "start_time": "2023-06-26T06:49:24.848Z"
   },
   {
    "duration": 11,
    "start_time": "2023-06-26T06:49:28.318Z"
   },
   {
    "duration": 81,
    "start_time": "2023-06-26T06:51:00.757Z"
   },
   {
    "duration": 4,
    "start_time": "2023-06-26T06:51:05.042Z"
   },
   {
    "duration": 4,
    "start_time": "2023-06-26T06:51:26.734Z"
   },
   {
    "duration": 5,
    "start_time": "2023-06-26T06:51:30.060Z"
   },
   {
    "duration": 5,
    "start_time": "2023-06-26T06:51:44.044Z"
   },
   {
    "duration": 5,
    "start_time": "2023-06-26T06:52:43.763Z"
   },
   {
    "duration": 8,
    "start_time": "2023-06-26T06:52:51.302Z"
   },
   {
    "duration": 6,
    "start_time": "2023-06-26T06:52:54.454Z"
   },
   {
    "duration": 7,
    "start_time": "2023-06-26T06:53:04.598Z"
   },
   {
    "duration": 163,
    "start_time": "2023-06-26T06:54:20.908Z"
   },
   {
    "duration": 783,
    "start_time": "2023-06-26T06:54:37.323Z"
   },
   {
    "duration": 9432,
    "start_time": "2023-06-26T06:54:38.108Z"
   },
   {
    "duration": 3830,
    "start_time": "2023-06-26T06:54:47.542Z"
   },
   {
    "duration": 10624,
    "start_time": "2023-06-26T06:54:51.375Z"
   },
   {
    "duration": 16894,
    "start_time": "2023-06-26T06:55:02.001Z"
   },
   {
    "duration": 3277,
    "start_time": "2023-06-26T06:55:18.896Z"
   },
   {
    "duration": 7,
    "start_time": "2023-06-26T06:55:22.175Z"
   },
   {
    "duration": 272,
    "start_time": "2023-06-26T06:56:05.901Z"
   },
   {
    "duration": 111,
    "start_time": "2023-06-26T06:56:18.648Z"
   },
   {
    "duration": 126,
    "start_time": "2023-06-26T06:56:22.703Z"
   },
   {
    "duration": 3756,
    "start_time": "2023-06-26T06:56:34.431Z"
   },
   {
    "duration": 113,
    "start_time": "2023-06-26T06:56:50.407Z"
   },
   {
    "duration": 163,
    "start_time": "2023-06-26T06:57:08.846Z"
   },
   {
    "duration": 80,
    "start_time": "2023-06-26T06:57:15.238Z"
   },
   {
    "duration": 121,
    "start_time": "2023-06-26T06:57:24.350Z"
   },
   {
    "duration": 111,
    "start_time": "2023-06-26T06:58:28.715Z"
   },
   {
    "duration": 4277,
    "start_time": "2023-06-26T06:58:32.628Z"
   },
   {
    "duration": 104,
    "start_time": "2023-06-26T06:58:39.149Z"
   },
   {
    "duration": 123,
    "start_time": "2023-06-26T06:59:06.451Z"
   },
   {
    "duration": 109,
    "start_time": "2023-06-26T06:59:11.910Z"
   },
   {
    "duration": 63,
    "start_time": "2023-06-26T06:59:16.628Z"
   },
   {
    "duration": 63,
    "start_time": "2023-06-26T06:59:20.756Z"
   },
   {
    "duration": 119,
    "start_time": "2023-06-26T06:59:30.656Z"
   },
   {
    "duration": 111,
    "start_time": "2023-06-26T06:59:37.398Z"
   },
   {
    "duration": 70,
    "start_time": "2023-06-26T06:59:39.713Z"
   },
   {
    "duration": 4652,
    "start_time": "2023-06-26T06:59:41.902Z"
   },
   {
    "duration": 114,
    "start_time": "2023-06-26T07:00:03.033Z"
   },
   {
    "duration": 159,
    "start_time": "2023-06-26T07:00:13.194Z"
   },
   {
    "duration": 112,
    "start_time": "2023-06-26T07:00:16.783Z"
   },
   {
    "duration": 101,
    "start_time": "2023-06-26T07:00:21.802Z"
   },
   {
    "duration": 3029,
    "start_time": "2023-06-26T07:00:23.417Z"
   },
   {
    "duration": 110,
    "start_time": "2023-06-26T07:00:27.351Z"
   },
   {
    "duration": 125,
    "start_time": "2023-06-26T07:00:46.247Z"
   },
   {
    "duration": 100,
    "start_time": "2023-06-26T07:00:53.523Z"
   },
   {
    "duration": 126,
    "start_time": "2023-06-26T07:01:03.947Z"
   },
   {
    "duration": 175,
    "start_time": "2023-06-26T07:01:25.802Z"
   },
   {
    "duration": 4215,
    "start_time": "2023-06-26T07:02:13.264Z"
   },
   {
    "duration": 144,
    "start_time": "2023-06-26T07:02:25.702Z"
   },
   {
    "duration": 117,
    "start_time": "2023-06-26T07:04:23.255Z"
   },
   {
    "duration": 81,
    "start_time": "2023-06-26T07:04:29.119Z"
   },
   {
    "duration": 82,
    "start_time": "2023-06-26T07:04:31.429Z"
   },
   {
    "duration": 90,
    "start_time": "2023-06-26T07:04:49.554Z"
   },
   {
    "duration": 108,
    "start_time": "2023-06-26T07:05:05.834Z"
   },
   {
    "duration": 117,
    "start_time": "2023-06-26T07:05:12.106Z"
   },
   {
    "duration": 106,
    "start_time": "2023-06-26T07:05:17.839Z"
   },
   {
    "duration": 107,
    "start_time": "2023-06-26T07:05:23.363Z"
   },
   {
    "duration": 107,
    "start_time": "2023-06-26T07:05:39.297Z"
   },
   {
    "duration": 122,
    "start_time": "2023-06-26T07:05:41.912Z"
   },
   {
    "duration": 126,
    "start_time": "2023-06-26T07:05:48.107Z"
   },
   {
    "duration": 113,
    "start_time": "2023-06-26T07:06:00.624Z"
   },
   {
    "duration": 112,
    "start_time": "2023-06-26T07:06:07.537Z"
   },
   {
    "duration": 3324,
    "start_time": "2023-06-26T07:06:15.221Z"
   },
   {
    "duration": 4261,
    "start_time": "2023-06-26T07:06:24.302Z"
   },
   {
    "duration": 6,
    "start_time": "2023-06-26T07:08:44.970Z"
   },
   {
    "duration": 252,
    "start_time": "2023-06-26T07:08:58.298Z"
   },
   {
    "duration": 3988,
    "start_time": "2023-06-26T07:10:28.912Z"
   },
   {
    "duration": 3,
    "start_time": "2023-06-26T07:23:52.309Z"
   },
   {
    "duration": 307,
    "start_time": "2023-06-26T07:24:23.261Z"
   },
   {
    "duration": 307,
    "start_time": "2023-06-26T07:24:47.005Z"
   },
   {
    "duration": 125,
    "start_time": "2023-06-26T07:25:01.522Z"
   },
   {
    "duration": 234,
    "start_time": "2023-06-26T07:25:38.506Z"
   },
   {
    "duration": 125,
    "start_time": "2023-06-26T07:25:47.315Z"
   },
   {
    "duration": 235,
    "start_time": "2023-06-26T07:25:50.467Z"
   },
   {
    "duration": 85,
    "start_time": "2023-06-26T07:26:18.797Z"
   },
   {
    "duration": 123,
    "start_time": "2023-06-26T07:26:22.148Z"
   },
   {
    "duration": 113,
    "start_time": "2023-06-26T07:26:40.902Z"
   },
   {
    "duration": 126,
    "start_time": "2023-06-26T07:26:44.006Z"
   },
   {
    "duration": 111,
    "start_time": "2023-06-26T07:26:52.581Z"
   },
   {
    "duration": 119,
    "start_time": "2023-06-26T07:27:04.949Z"
   },
   {
    "duration": 130,
    "start_time": "2023-06-26T07:27:13.050Z"
   },
   {
    "duration": 151,
    "start_time": "2023-06-26T07:27:21.713Z"
   },
   {
    "duration": 150,
    "start_time": "2023-06-26T07:27:27.621Z"
   },
   {
    "duration": 183,
    "start_time": "2023-06-26T07:28:47.502Z"
   },
   {
    "duration": 197,
    "start_time": "2023-06-26T07:28:57.310Z"
   },
   {
    "duration": 233,
    "start_time": "2023-06-26T07:29:19.920Z"
   },
   {
    "duration": 170,
    "start_time": "2023-06-26T07:29:31.547Z"
   },
   {
    "duration": 15,
    "start_time": "2023-06-26T07:29:51.409Z"
   },
   {
    "duration": 4,
    "start_time": "2023-06-26T07:30:01.306Z"
   },
   {
    "duration": 174,
    "start_time": "2023-06-26T07:30:03.870Z"
   },
   {
    "duration": 199,
    "start_time": "2023-06-26T07:30:09.939Z"
   },
   {
    "duration": 96,
    "start_time": "2023-06-26T07:30:21.786Z"
   },
   {
    "duration": 158,
    "start_time": "2023-06-26T07:30:27.256Z"
   },
   {
    "duration": 221,
    "start_time": "2023-06-26T07:30:33.123Z"
   },
   {
    "duration": 232,
    "start_time": "2023-06-26T07:30:39.251Z"
   },
   {
    "duration": 320,
    "start_time": "2023-06-26T07:30:48.262Z"
   },
   {
    "duration": 138,
    "start_time": "2023-06-26T07:31:01.511Z"
   },
   {
    "duration": 128,
    "start_time": "2023-06-26T07:31:04.134Z"
   },
   {
    "duration": 168,
    "start_time": "2023-06-26T07:31:10.602Z"
   },
   {
    "duration": 170,
    "start_time": "2023-06-26T07:31:16.828Z"
   },
   {
    "duration": 144,
    "start_time": "2023-06-26T07:31:25.124Z"
   },
   {
    "duration": 165,
    "start_time": "2023-06-26T07:31:27.171Z"
   },
   {
    "duration": 333,
    "start_time": "2023-06-26T07:31:29.369Z"
   },
   {
    "duration": 232,
    "start_time": "2023-06-26T07:31:33.206Z"
   },
   {
    "duration": 213,
    "start_time": "2023-06-26T07:31:35.749Z"
   },
   {
    "duration": 239,
    "start_time": "2023-06-26T07:31:39.361Z"
   },
   {
    "duration": 442,
    "start_time": "2023-06-26T07:31:57.156Z"
   },
   {
    "duration": 237,
    "start_time": "2023-06-26T07:32:14.301Z"
   },
   {
    "duration": 256,
    "start_time": "2023-06-26T07:34:39.896Z"
   },
   {
    "duration": 1154,
    "start_time": "2023-06-28T12:49:51.147Z"
   },
   {
    "duration": 16636,
    "start_time": "2023-06-28T12:49:52.303Z"
   },
   {
    "duration": 4583,
    "start_time": "2023-06-28T12:50:08.942Z"
   },
   {
    "duration": 13424,
    "start_time": "2023-06-28T12:50:13.527Z"
   },
   {
    "duration": 17856,
    "start_time": "2023-06-28T12:50:26.956Z"
   },
   {
    "duration": 3822,
    "start_time": "2023-06-28T12:50:44.814Z"
   },
   {
    "duration": 264,
    "start_time": "2023-06-28T12:50:48.638Z"
   },
   {
    "duration": 233,
    "start_time": "2023-06-28T12:50:48.904Z"
   },
   {
    "duration": 732,
    "start_time": "2023-06-28T14:12:36.060Z"
   },
   {
    "duration": 9461,
    "start_time": "2023-06-28T14:12:36.794Z"
   },
   {
    "duration": 4051,
    "start_time": "2023-06-28T14:12:46.257Z"
   },
   {
    "duration": 10955,
    "start_time": "2023-06-28T14:12:50.311Z"
   },
   {
    "duration": 17764,
    "start_time": "2023-06-28T14:13:01.268Z"
   },
   {
    "duration": 3222,
    "start_time": "2023-06-28T14:13:19.034Z"
   },
   {
    "duration": 243,
    "start_time": "2023-06-28T14:13:22.258Z"
   },
   {
    "duration": 202,
    "start_time": "2023-06-28T14:13:22.502Z"
   },
   {
    "duration": 188,
    "start_time": "2023-06-28T14:15:55.888Z"
   },
   {
    "duration": 114,
    "start_time": "2023-06-28T14:16:01.321Z"
   },
   {
    "duration": 804,
    "start_time": "2023-06-28T14:16:31.389Z"
   },
   {
    "duration": 9840,
    "start_time": "2023-06-28T14:16:32.195Z"
   },
   {
    "duration": 4132,
    "start_time": "2023-06-28T14:16:42.038Z"
   },
   {
    "duration": 11216,
    "start_time": "2023-06-28T14:16:46.172Z"
   },
   {
    "duration": 17184,
    "start_time": "2023-06-28T14:16:57.390Z"
   },
   {
    "duration": 3334,
    "start_time": "2023-06-28T14:17:14.575Z"
   },
   {
    "duration": 239,
    "start_time": "2023-06-28T14:17:17.911Z"
   },
   {
    "duration": 186,
    "start_time": "2023-06-28T14:17:18.151Z"
   },
   {
    "duration": 31,
    "start_time": "2023-06-28T14:17:18.338Z"
   },
   {
    "duration": 11,
    "start_time": "2023-06-28T14:17:34.842Z"
   },
   {
    "duration": 10,
    "start_time": "2023-06-28T14:17:40.275Z"
   },
   {
    "duration": 11,
    "start_time": "2023-06-28T14:18:59.250Z"
   },
   {
    "duration": 11,
    "start_time": "2023-06-28T14:19:04.233Z"
   },
   {
    "duration": 11,
    "start_time": "2023-06-28T14:19:08.347Z"
   },
   {
    "duration": 13,
    "start_time": "2023-06-28T14:19:09.726Z"
   },
   {
    "duration": 10,
    "start_time": "2023-06-28T14:19:28.335Z"
   },
   {
    "duration": 12,
    "start_time": "2023-06-28T14:21:59.838Z"
   },
   {
    "duration": 10,
    "start_time": "2023-06-28T14:26:24.000Z"
   },
   {
    "duration": 35,
    "start_time": "2023-06-28T14:26:41.000Z"
   },
   {
    "duration": 205,
    "start_time": "2023-06-28T14:27:31.332Z"
   },
   {
    "duration": 5068,
    "start_time": "2023-06-28T14:27:36.436Z"
   },
   {
    "duration": 112,
    "start_time": "2023-06-28T14:29:06.436Z"
   },
   {
    "duration": 13220,
    "start_time": "2023-06-28T14:29:12.579Z"
   },
   {
    "duration": 812,
    "start_time": "2023-06-28T14:30:16.583Z"
   },
   {
    "duration": 10264,
    "start_time": "2023-06-28T14:30:17.399Z"
   },
   {
    "duration": 4551,
    "start_time": "2023-06-28T14:30:27.665Z"
   },
   {
    "duration": 11521,
    "start_time": "2023-06-28T14:30:32.218Z"
   },
   {
    "duration": 17954,
    "start_time": "2023-06-28T14:30:43.741Z"
   },
   {
    "duration": 3506,
    "start_time": "2023-06-28T14:31:01.697Z"
   },
   {
    "duration": 239,
    "start_time": "2023-06-28T14:31:05.204Z"
   },
   {
    "duration": 188,
    "start_time": "2023-06-28T14:31:05.445Z"
   },
   {
    "duration": 10,
    "start_time": "2023-06-28T14:31:05.635Z"
   },
   {
    "duration": 781,
    "start_time": "2023-06-28T14:32:20.954Z"
   },
   {
    "duration": 9179,
    "start_time": "2023-06-28T14:32:21.738Z"
   },
   {
    "duration": 4380,
    "start_time": "2023-06-28T14:32:30.919Z"
   },
   {
    "duration": 11429,
    "start_time": "2023-06-28T14:32:35.301Z"
   },
   {
    "duration": 17763,
    "start_time": "2023-06-28T14:32:46.732Z"
   },
   {
    "duration": 3446,
    "start_time": "2023-06-28T14:33:04.497Z"
   },
   {
    "duration": 234,
    "start_time": "2023-06-28T14:33:07.945Z"
   },
   {
    "duration": 191,
    "start_time": "2023-06-28T14:33:08.180Z"
   },
   {
    "duration": 14,
    "start_time": "2023-06-28T14:33:08.373Z"
   },
   {
    "duration": 756,
    "start_time": "2023-06-28T14:33:32.213Z"
   },
   {
    "duration": 9279,
    "start_time": "2023-06-28T14:33:32.971Z"
   },
   {
    "duration": 4323,
    "start_time": "2023-06-28T14:33:42.253Z"
   },
   {
    "duration": 5538,
    "start_time": "2023-06-28T14:33:46.578Z"
   },
   {
    "duration": 0,
    "start_time": "2023-06-28T14:33:52.118Z"
   },
   {
    "duration": 0,
    "start_time": "2023-06-28T14:33:52.119Z"
   },
   {
    "duration": 0,
    "start_time": "2023-06-28T14:33:52.120Z"
   },
   {
    "duration": 0,
    "start_time": "2023-06-28T14:33:52.121Z"
   },
   {
    "duration": 0,
    "start_time": "2023-06-28T14:33:52.122Z"
   },
   {
    "duration": 0,
    "start_time": "2023-06-28T14:33:52.123Z"
   },
   {
    "duration": 0,
    "start_time": "2023-06-28T14:33:52.128Z"
   },
   {
    "duration": 813,
    "start_time": "2023-06-28T14:33:55.690Z"
   },
   {
    "duration": 0,
    "start_time": "2023-06-28T14:33:56.505Z"
   },
   {
    "duration": 0,
    "start_time": "2023-06-28T14:33:56.507Z"
   },
   {
    "duration": 0,
    "start_time": "2023-06-28T14:33:56.508Z"
   },
   {
    "duration": 0,
    "start_time": "2023-06-28T14:33:56.510Z"
   },
   {
    "duration": 0,
    "start_time": "2023-06-28T14:33:56.511Z"
   },
   {
    "duration": 0,
    "start_time": "2023-06-28T14:33:56.512Z"
   },
   {
    "duration": 0,
    "start_time": "2023-06-28T14:33:56.514Z"
   },
   {
    "duration": 0,
    "start_time": "2023-06-28T14:33:56.515Z"
   },
   {
    "duration": 0,
    "start_time": "2023-06-28T14:33:56.516Z"
   },
   {
    "duration": 3,
    "start_time": "2023-06-28T14:34:11.597Z"
   },
   {
    "duration": 11,
    "start_time": "2023-06-28T14:34:55.270Z"
   },
   {
    "duration": 11361,
    "start_time": "2023-06-28T14:34:57.928Z"
   },
   {
    "duration": 4571,
    "start_time": "2023-06-28T14:35:09.292Z"
   },
   {
    "duration": 11927,
    "start_time": "2023-06-28T14:35:34.144Z"
   },
   {
    "duration": 92,
    "start_time": "2023-06-28T14:35:52.094Z"
   },
   {
    "duration": 19040,
    "start_time": "2023-06-28T14:36:00.096Z"
   },
   {
    "duration": 3613,
    "start_time": "2023-06-28T14:36:19.139Z"
   },
   {
    "duration": 237,
    "start_time": "2023-06-28T14:36:30.360Z"
   },
   {
    "duration": 202,
    "start_time": "2023-06-28T14:36:33.807Z"
   },
   {
    "duration": 4,
    "start_time": "2023-06-28T14:38:00.138Z"
   },
   {
    "duration": 4212,
    "start_time": "2023-06-28T14:38:13.936Z"
   },
   {
    "duration": 4366,
    "start_time": "2023-06-28T14:38:38.015Z"
   },
   {
    "duration": 52,
    "start_time": "2023-06-28T14:39:07.289Z"
   },
   {
    "duration": 7,
    "start_time": "2023-06-28T14:40:19.344Z"
   },
   {
    "duration": 775,
    "start_time": "2023-06-28T14:40:23.605Z"
   },
   {
    "duration": 9267,
    "start_time": "2023-06-28T14:40:24.383Z"
   },
   {
    "duration": 4,
    "start_time": "2023-06-28T14:40:33.654Z"
   },
   {
    "duration": 4115,
    "start_time": "2023-06-28T14:40:33.659Z"
   },
   {
    "duration": 4527,
    "start_time": "2023-06-28T14:40:37.777Z"
   },
   {
    "duration": 3779,
    "start_time": "2023-06-28T14:40:42.306Z"
   },
   {
    "duration": 4690,
    "start_time": "2023-06-28T14:40:46.087Z"
   },
   {
    "duration": 249,
    "start_time": "2023-06-28T14:40:50.779Z"
   },
   {
    "duration": 180,
    "start_time": "2023-06-28T14:40:51.030Z"
   },
   {
    "duration": 103,
    "start_time": "2023-06-28T14:40:51.212Z"
   },
   {
    "duration": 0,
    "start_time": "2023-06-28T14:40:51.317Z"
   },
   {
    "duration": 10,
    "start_time": "2023-06-28T14:41:06.108Z"
   },
   {
    "duration": 119,
    "start_time": "2023-06-28T14:41:08.320Z"
   },
   {
    "duration": 10,
    "start_time": "2023-06-28T14:41:11.091Z"
   },
   {
    "duration": 16058,
    "start_time": "2023-06-28T14:41:32.990Z"
   },
   {
    "duration": 478,
    "start_time": "2023-06-28T14:42:19.394Z"
   },
   {
    "duration": 91,
    "start_time": "2023-06-28T14:42:33.321Z"
   },
   {
    "duration": 459,
    "start_time": "2023-06-28T14:42:38.112Z"
   },
   {
    "duration": 446,
    "start_time": "2023-06-28T14:43:25.616Z"
   },
   {
    "duration": 437,
    "start_time": "2023-06-28T14:43:27.477Z"
   },
   {
    "duration": 24702,
    "start_time": "2023-06-28T14:43:43.124Z"
   },
   {
    "duration": 444,
    "start_time": "2023-06-28T14:44:07.828Z"
   },
   {
    "duration": 2673,
    "start_time": "2023-06-28T14:44:08.274Z"
   },
   {
    "duration": 251,
    "start_time": "2023-06-28T14:45:40.139Z"
   },
   {
    "duration": 264,
    "start_time": "2023-06-28T14:45:47.558Z"
   },
   {
    "duration": 4,
    "start_time": "2023-06-28T14:46:54.800Z"
   },
   {
    "duration": 3959,
    "start_time": "2023-06-28T14:46:58.914Z"
   },
   {
    "duration": 538,
    "start_time": "2023-06-28T14:47:12.811Z"
   },
   {
    "duration": 5945,
    "start_time": "2023-06-28T14:47:23.539Z"
   },
   {
    "duration": 5871,
    "start_time": "2023-06-28T14:47:53.888Z"
   },
   {
    "duration": 6002,
    "start_time": "2023-06-28T14:48:06.354Z"
   },
   {
    "duration": 1253,
    "start_time": "2023-06-28T14:49:22.727Z"
   },
   {
    "duration": 8051,
    "start_time": "2023-06-28T14:49:27.904Z"
   },
   {
    "duration": 17209,
    "start_time": "2023-06-28T14:49:36.941Z"
   },
   {
    "duration": 6511,
    "start_time": "2023-06-28T14:49:56.256Z"
   },
   {
    "duration": 6506,
    "start_time": "2023-06-28T14:50:55.530Z"
   },
   {
    "duration": 188,
    "start_time": "2023-06-28T14:51:35.187Z"
   },
   {
    "duration": 2017,
    "start_time": "2023-06-28T14:53:05.545Z"
   },
   {
    "duration": 2009,
    "start_time": "2023-06-28T14:54:05.087Z"
   },
   {
    "duration": 3281,
    "start_time": "2023-06-28T14:55:42.699Z"
   },
   {
    "duration": 2781,
    "start_time": "2023-06-28T14:56:55.059Z"
   },
   {
    "duration": 2093,
    "start_time": "2023-06-28T14:57:05.937Z"
   },
   {
    "duration": 2131,
    "start_time": "2023-06-28T14:59:18.255Z"
   },
   {
    "duration": 789,
    "start_time": "2023-06-28T14:59:41.535Z"
   },
   {
    "duration": 9591,
    "start_time": "2023-06-28T14:59:42.326Z"
   },
   {
    "duration": 3,
    "start_time": "2023-06-28T14:59:51.919Z"
   },
   {
    "duration": 3985,
    "start_time": "2023-06-28T14:59:51.923Z"
   },
   {
    "duration": 4375,
    "start_time": "2023-06-28T14:59:55.911Z"
   },
   {
    "duration": 3752,
    "start_time": "2023-06-28T15:00:00.288Z"
   },
   {
    "duration": 4692,
    "start_time": "2023-06-28T15:00:04.042Z"
   },
   {
    "duration": 239,
    "start_time": "2023-06-28T15:00:08.736Z"
   },
   {
    "duration": 189,
    "start_time": "2023-06-28T15:00:08.977Z"
   },
   {
    "duration": 11,
    "start_time": "2023-06-28T15:00:09.168Z"
   },
   {
    "duration": 15815,
    "start_time": "2023-06-28T15:00:09.180Z"
   },
   {
    "duration": 6362,
    "start_time": "2023-06-28T15:00:24.997Z"
   },
   {
    "duration": 26514,
    "start_time": "2023-06-28T15:04:21.729Z"
   },
   {
    "duration": 6187,
    "start_time": "2023-06-28T15:04:49.783Z"
   },
   {
    "duration": 837,
    "start_time": "2023-06-28T15:09:09.206Z"
   },
   {
    "duration": 7823,
    "start_time": "2023-06-28T15:09:21.026Z"
   },
   {
    "duration": 7832,
    "start_time": "2023-06-28T15:09:42.550Z"
   },
   {
    "duration": 7664,
    "start_time": "2023-06-28T15:09:54.738Z"
   },
   {
    "duration": 779,
    "start_time": "2023-06-28T15:10:29.414Z"
   },
   {
    "duration": 853,
    "start_time": "2023-06-28T15:10:38.224Z"
   },
   {
    "duration": 1508,
    "start_time": "2023-06-28T15:10:47.263Z"
   },
   {
    "duration": 208,
    "start_time": "2023-06-28T15:10:53.537Z"
   },
   {
    "duration": 1931,
    "start_time": "2023-06-28T15:12:12.043Z"
   },
   {
    "duration": 1956,
    "start_time": "2023-06-28T15:12:20.638Z"
   },
   {
    "duration": 7550,
    "start_time": "2023-06-28T15:12:39.610Z"
   },
   {
    "duration": 26,
    "start_time": "2023-06-28T15:14:25.902Z"
   },
   {
    "duration": 31340,
    "start_time": "2023-06-28T15:14:29.921Z"
   },
   {
    "duration": 6571,
    "start_time": "2023-06-28T15:16:00.388Z"
   },
   {
    "duration": 146553,
    "start_time": "2023-06-28T15:26:27.404Z"
   },
   {
    "duration": 2,
    "start_time": "2023-06-28T15:29:31.149Z"
   },
   {
    "duration": 1098,
    "start_time": "2023-06-28T16:48:13.669Z"
   },
   {
    "duration": 33005,
    "start_time": "2023-06-28T16:48:14.770Z"
   },
   {
    "duration": 3,
    "start_time": "2023-06-28T16:48:47.777Z"
   },
   {
    "duration": 3893,
    "start_time": "2023-06-28T16:48:47.781Z"
   },
   {
    "duration": 4073,
    "start_time": "2023-06-28T16:48:51.676Z"
   },
   {
    "duration": 3565,
    "start_time": "2023-06-28T16:48:55.751Z"
   },
   {
    "duration": 4353,
    "start_time": "2023-06-28T16:48:59.317Z"
   },
   {
    "duration": 271,
    "start_time": "2023-06-28T16:49:03.671Z"
   },
   {
    "duration": 195,
    "start_time": "2023-06-28T16:49:03.944Z"
   },
   {
    "duration": 44,
    "start_time": "2023-06-28T16:49:04.140Z"
   },
   {
    "duration": 27961,
    "start_time": "2023-06-28T16:49:04.186Z"
   },
   {
    "duration": 208353,
    "start_time": "2023-06-28T16:49:32.149Z"
   },
   {
    "duration": 135,
    "start_time": "2023-06-28T16:53:40.195Z"
   },
   {
    "duration": 26130,
    "start_time": "2023-06-28T16:53:55.242Z"
   },
   {
    "duration": 12,
    "start_time": "2023-06-28T17:04:36.226Z"
   },
   {
    "duration": 17,
    "start_time": "2023-06-28T17:04:38.338Z"
   },
   {
    "duration": 333,
    "start_time": "2023-06-28T17:05:04.904Z"
   },
   {
    "duration": 184,
    "start_time": "2023-06-28T17:05:11.119Z"
   },
   {
    "duration": 153,
    "start_time": "2023-06-28T17:05:15.296Z"
   },
   {
    "duration": 92,
    "start_time": "2023-06-28T17:05:27.652Z"
   },
   {
    "duration": 160,
    "start_time": "2023-06-28T17:05:30.868Z"
   },
   {
    "duration": 166,
    "start_time": "2023-06-28T17:05:37.425Z"
   },
   {
    "duration": 174,
    "start_time": "2023-06-28T17:05:53.787Z"
   },
   {
    "duration": 170,
    "start_time": "2023-06-28T17:06:04.600Z"
   },
   {
    "duration": 180,
    "start_time": "2023-06-28T17:19:21.188Z"
   },
   {
    "duration": 173,
    "start_time": "2023-06-28T17:19:24.746Z"
   },
   {
    "duration": 203,
    "start_time": "2023-06-28T17:21:31.415Z"
   },
   {
    "duration": 179,
    "start_time": "2023-06-28T17:21:45.986Z"
   },
   {
    "duration": 2429,
    "start_time": "2023-06-28T17:24:16.740Z"
   },
   {
    "duration": 10,
    "start_time": "2023-06-28T17:24:25.104Z"
   },
   {
    "duration": 11,
    "start_time": "2023-06-28T17:25:17.896Z"
   },
   {
    "duration": 10,
    "start_time": "2023-06-28T17:25:29.849Z"
   },
   {
    "duration": 108,
    "start_time": "2023-06-28T17:25:38.438Z"
   },
   {
    "duration": 9,
    "start_time": "2023-06-28T17:25:50.148Z"
   },
   {
    "duration": 181,
    "start_time": "2023-06-28T17:26:03.216Z"
   },
   {
    "duration": 170,
    "start_time": "2023-06-28T17:26:07.571Z"
   },
   {
    "duration": 16198,
    "start_time": "2023-06-28T17:27:28.099Z"
   },
   {
    "duration": 206,
    "start_time": "2023-06-28T17:27:44.299Z"
   },
   {
    "duration": 116,
    "start_time": "2023-06-28T17:27:56.490Z"
   },
   {
    "duration": 184,
    "start_time": "2023-06-28T17:28:26.996Z"
   },
   {
    "duration": 188,
    "start_time": "2023-06-28T17:28:30.654Z"
   },
   {
    "duration": 173,
    "start_time": "2023-06-28T17:28:42.905Z"
   },
   {
    "duration": 18010,
    "start_time": "2023-06-28T17:38:37.979Z"
   },
   {
    "duration": 18459,
    "start_time": "2023-06-28T17:41:18.644Z"
   },
   {
    "duration": 16793,
    "start_time": "2023-06-28T17:47:11.879Z"
   },
   {
    "duration": 197,
    "start_time": "2023-06-28T17:47:28.675Z"
   },
   {
    "duration": 20226,
    "start_time": "2023-06-28T17:48:00.418Z"
   },
   {
    "duration": 4914,
    "start_time": "2023-06-28T17:48:52.400Z"
   },
   {
    "duration": 16895,
    "start_time": "2023-06-28T17:49:19.987Z"
   },
   {
    "duration": 17125,
    "start_time": "2023-06-28T17:50:36.105Z"
   },
   {
    "duration": 177,
    "start_time": "2023-06-28T17:50:53.232Z"
   },
   {
    "duration": 179,
    "start_time": "2023-06-28T17:51:06.312Z"
   },
   {
    "duration": 5564,
    "start_time": "2023-06-28T18:00:03.505Z"
   },
   {
    "duration": 55,
    "start_time": "2023-06-28T18:02:28.709Z"
   },
   {
    "duration": 28506,
    "start_time": "2023-06-28T18:02:35.701Z"
   },
   {
    "duration": 30620,
    "start_time": "2023-06-28T18:03:17.145Z"
   },
   {
    "duration": 34994,
    "start_time": "2023-06-28T18:05:02.842Z"
   },
   {
    "duration": 36185,
    "start_time": "2023-06-28T18:07:06.084Z"
   },
   {
    "duration": 2351,
    "start_time": "2023-06-28T18:10:28.198Z"
   },
   {
    "duration": 152,
    "start_time": "2023-06-28T18:10:42.508Z"
   },
   {
    "duration": 117,
    "start_time": "2023-06-28T18:10:48.837Z"
   },
   {
    "duration": 180,
    "start_time": "2023-06-28T18:11:02.480Z"
   },
   {
    "duration": 130,
    "start_time": "2023-06-28T18:11:05.086Z"
   },
   {
    "duration": 129,
    "start_time": "2023-06-28T18:11:06.722Z"
   },
   {
    "duration": 167,
    "start_time": "2023-06-28T18:11:14.193Z"
   },
   {
    "duration": 3090,
    "start_time": "2023-06-28T18:11:42.100Z"
   },
   {
    "duration": 12710,
    "start_time": "2023-06-28T18:11:45.443Z"
   },
   {
    "duration": 173,
    "start_time": "2023-06-28T18:11:58.156Z"
   },
   {
    "duration": 2029,
    "start_time": "2023-06-28T18:12:12.595Z"
   },
   {
    "duration": 37128,
    "start_time": "2023-06-28T18:12:15.325Z"
   },
   {
    "duration": 162,
    "start_time": "2023-06-28T18:12:52.456Z"
   },
   {
    "duration": 128,
    "start_time": "2023-06-28T18:18:32.157Z"
   },
   {
    "duration": 144,
    "start_time": "2023-06-28T18:19:30.059Z"
   },
   {
    "duration": 135,
    "start_time": "2023-06-28T18:19:53.087Z"
   },
   {
    "duration": 32204,
    "start_time": "2023-06-28T18:25:27.032Z"
   },
   {
    "duration": 131,
    "start_time": "2023-06-28T18:25:59.238Z"
   },
   {
    "duration": 133,
    "start_time": "2023-06-28T18:26:08.763Z"
   },
   {
    "duration": 130,
    "start_time": "2023-06-28T18:26:21.853Z"
   },
   {
    "duration": 271,
    "start_time": "2023-06-28T18:26:31.416Z"
   },
   {
    "duration": 244,
    "start_time": "2023-06-28T18:26:51.135Z"
   },
   {
    "duration": 250,
    "start_time": "2023-06-28T18:26:59.203Z"
   },
   {
    "duration": 264,
    "start_time": "2023-06-28T18:27:08.344Z"
   },
   {
    "duration": 284,
    "start_time": "2023-06-28T18:27:13.154Z"
   },
   {
    "duration": 357,
    "start_time": "2023-06-28T18:28:39.691Z"
   },
   {
    "duration": 420,
    "start_time": "2023-06-28T18:28:53.933Z"
   },
   {
    "duration": 399,
    "start_time": "2023-06-28T18:29:39.881Z"
   },
   {
    "duration": 396,
    "start_time": "2023-06-28T18:29:57.811Z"
   },
   {
    "duration": 442,
    "start_time": "2023-06-28T18:30:03.067Z"
   },
   {
    "duration": 342,
    "start_time": "2023-06-28T18:30:08.487Z"
   },
   {
    "duration": 365,
    "start_time": "2023-06-28T18:31:47.566Z"
   },
   {
    "duration": 1068,
    "start_time": "2023-06-29T07:01:19.239Z"
   },
   {
    "duration": 11144,
    "start_time": "2023-06-29T07:01:20.310Z"
   },
   {
    "duration": 4,
    "start_time": "2023-06-29T07:01:31.456Z"
   },
   {
    "duration": 4511,
    "start_time": "2023-06-29T07:01:31.462Z"
   },
   {
    "duration": 4682,
    "start_time": "2023-06-29T07:01:35.977Z"
   },
   {
    "duration": 3728,
    "start_time": "2023-06-29T07:01:40.661Z"
   },
   {
    "duration": 4056,
    "start_time": "2023-06-29T07:01:44.391Z"
   },
   {
    "duration": 248,
    "start_time": "2023-06-29T07:01:48.449Z"
   },
   {
    "duration": 256,
    "start_time": "2023-06-29T07:01:48.699Z"
   },
   {
    "duration": 4935,
    "start_time": "2023-06-29T07:01:48.957Z"
   },
   {
    "duration": 14373,
    "start_time": "2023-06-29T07:01:53.894Z"
   },
   {
    "duration": 180,
    "start_time": "2023-06-29T07:02:08.269Z"
   },
   {
    "duration": 29698,
    "start_time": "2023-06-29T07:02:08.451Z"
   },
   {
    "duration": 431,
    "start_time": "2023-06-29T07:02:38.151Z"
   },
   {
    "duration": 126,
    "start_time": "2023-06-29T08:48:54.538Z"
   },
   {
    "duration": 87,
    "start_time": "2023-06-29T08:49:07.924Z"
   },
   {
    "duration": 26176,
    "start_time": "2023-06-29T08:49:27.533Z"
   },
   {
    "duration": 56,
    "start_time": "2023-06-29T08:52:19.012Z"
   },
   {
    "duration": 48,
    "start_time": "2023-06-29T08:53:20.205Z"
   },
   {
    "duration": 14736,
    "start_time": "2023-06-29T08:54:24.042Z"
   },
   {
    "duration": 15424,
    "start_time": "2023-06-29T08:55:29.946Z"
   },
   {
    "duration": 204,
    "start_time": "2023-06-29T08:56:56.757Z"
   },
   {
    "duration": 240,
    "start_time": "2023-06-29T08:57:01.022Z"
   },
   {
    "duration": 221,
    "start_time": "2023-06-29T08:57:10.847Z"
   },
   {
    "duration": 14782,
    "start_time": "2023-06-29T08:57:48.950Z"
   },
   {
    "duration": 9032,
    "start_time": "2023-06-29T08:58:28.339Z"
   },
   {
    "duration": 398,
    "start_time": "2023-06-29T08:59:00.835Z"
   },
   {
    "duration": 2235,
    "start_time": "2023-06-29T08:59:21.712Z"
   },
   {
    "duration": 1867,
    "start_time": "2023-06-29T09:07:36.642Z"
   },
   {
    "duration": 5,
    "start_time": "2023-06-29T09:07:43.802Z"
   },
   {
    "duration": 3,
    "start_time": "2023-06-29T09:09:15.093Z"
   },
   {
    "duration": 3,
    "start_time": "2023-06-29T09:09:27.984Z"
   },
   {
    "duration": 258,
    "start_time": "2023-06-29T09:09:41.901Z"
   },
   {
    "duration": 251,
    "start_time": "2023-06-29T09:09:55.237Z"
   },
   {
    "duration": 264,
    "start_time": "2023-06-29T09:09:59.932Z"
   },
   {
    "duration": 1103,
    "start_time": "2023-07-01T14:58:02.392Z"
   },
   {
    "duration": 10415,
    "start_time": "2023-07-01T14:58:03.498Z"
   },
   {
    "duration": 4,
    "start_time": "2023-07-01T14:58:13.917Z"
   },
   {
    "duration": 4121,
    "start_time": "2023-07-01T14:58:13.923Z"
   },
   {
    "duration": 4514,
    "start_time": "2023-07-01T14:58:18.047Z"
   },
   {
    "duration": 3790,
    "start_time": "2023-07-01T14:58:22.566Z"
   },
   {
    "duration": 4692,
    "start_time": "2023-07-01T14:58:26.359Z"
   },
   {
    "duration": 251,
    "start_time": "2023-07-01T14:58:31.053Z"
   },
   {
    "duration": 230,
    "start_time": "2023-07-01T14:58:31.306Z"
   },
   {
    "duration": 4855,
    "start_time": "2023-07-01T14:58:31.538Z"
   },
   {
    "duration": 14719,
    "start_time": "2023-07-01T14:58:36.395Z"
   },
   {
    "duration": 163,
    "start_time": "2023-07-01T14:58:51.116Z"
   },
   {
    "duration": 30233,
    "start_time": "2023-07-01T14:58:51.282Z"
   },
   {
    "duration": 360,
    "start_time": "2023-07-01T14:59:21.520Z"
   },
   {
    "duration": 2300,
    "start_time": "2023-07-01T14:59:21.882Z"
   },
   {
    "duration": 0,
    "start_time": "2023-07-01T14:59:24.184Z"
   },
   {
    "duration": 0,
    "start_time": "2023-07-01T14:59:24.186Z"
   },
   {
    "duration": 1991,
    "start_time": "2023-07-01T15:01:44.907Z"
   },
   {
    "duration": 4,
    "start_time": "2023-07-01T15:01:50.066Z"
   },
   {
    "duration": 12,
    "start_time": "2023-07-01T15:01:50.080Z"
   },
   {
    "duration": 198,
    "start_time": "2023-07-01T15:01:57.201Z"
   },
   {
    "duration": 906,
    "start_time": "2023-07-01T16:00:03.249Z"
   },
   {
    "duration": 9272,
    "start_time": "2023-07-01T16:00:04.157Z"
   },
   {
    "duration": 5,
    "start_time": "2023-07-01T16:00:13.431Z"
   },
   {
    "duration": 4451,
    "start_time": "2023-07-01T16:00:13.439Z"
   },
   {
    "duration": 4735,
    "start_time": "2023-07-01T16:00:17.892Z"
   },
   {
    "duration": 4088,
    "start_time": "2023-07-01T16:00:22.629Z"
   },
   {
    "duration": 5129,
    "start_time": "2023-07-01T16:00:26.719Z"
   },
   {
    "duration": 252,
    "start_time": "2023-07-01T16:00:31.850Z"
   },
   {
    "duration": 202,
    "start_time": "2023-07-01T16:00:32.104Z"
   },
   {
    "duration": 4892,
    "start_time": "2023-07-01T16:00:32.308Z"
   },
   {
    "duration": 16029,
    "start_time": "2023-07-01T16:00:37.202Z"
   },
   {
    "duration": 183,
    "start_time": "2023-07-01T16:00:53.234Z"
   },
   {
    "duration": 36806,
    "start_time": "2023-07-01T16:00:53.419Z"
   },
   {
    "duration": 368,
    "start_time": "2023-07-01T16:01:30.228Z"
   },
   {
    "duration": 2347,
    "start_time": "2023-07-01T16:01:30.598Z"
   },
   {
    "duration": 4,
    "start_time": "2023-07-01T16:01:32.947Z"
   },
   {
    "duration": 293,
    "start_time": "2023-07-01T16:01:32.953Z"
   },
   {
    "duration": 4,
    "start_time": "2023-07-01T16:11:06.505Z"
   },
   {
    "duration": 98,
    "start_time": "2023-07-01T16:11:33.247Z"
   },
   {
    "duration": 6,
    "start_time": "2023-07-01T16:11:35.927Z"
   },
   {
    "duration": 46,
    "start_time": "2023-07-01T16:12:49.380Z"
   },
   {
    "duration": 2058,
    "start_time": "2023-07-01T16:16:33.935Z"
   },
   {
    "duration": 5,
    "start_time": "2023-07-01T16:16:41.146Z"
   },
   {
    "duration": 195,
    "start_time": "2023-07-01T16:16:42.858Z"
   },
   {
    "duration": 10,
    "start_time": "2023-07-01T16:18:58.942Z"
   },
   {
    "duration": 5,
    "start_time": "2023-07-01T16:19:05.086Z"
   },
   {
    "duration": 7,
    "start_time": "2023-07-01T16:19:09.677Z"
   },
   {
    "duration": 54,
    "start_time": "2023-07-01T16:21:09.063Z"
   },
   {
    "duration": 99,
    "start_time": "2023-07-01T16:22:16.979Z"
   },
   {
    "duration": 44,
    "start_time": "2023-07-01T16:24:25.734Z"
   },
   {
    "duration": 22,
    "start_time": "2023-07-01T16:24:32.217Z"
   },
   {
    "duration": 9,
    "start_time": "2023-07-01T16:25:11.203Z"
   },
   {
    "duration": 47,
    "start_time": "2023-07-01T16:25:38.248Z"
   },
   {
    "duration": 41,
    "start_time": "2023-07-01T16:26:22.597Z"
   },
   {
    "duration": 54,
    "start_time": "2023-07-01T16:27:03.283Z"
   },
   {
    "duration": 7,
    "start_time": "2023-07-01T16:27:37.070Z"
   },
   {
    "duration": 51,
    "start_time": "2023-07-01T16:27:42.924Z"
   },
   {
    "duration": 47,
    "start_time": "2023-07-01T16:29:30.455Z"
   },
   {
    "duration": 49,
    "start_time": "2023-07-01T16:29:55.385Z"
   },
   {
    "duration": 184,
    "start_time": "2023-07-01T16:30:06.301Z"
   },
   {
    "duration": 30,
    "start_time": "2023-07-01T16:30:11.476Z"
   },
   {
    "duration": 203,
    "start_time": "2023-07-01T16:30:16.918Z"
   },
   {
    "duration": 181,
    "start_time": "2023-07-01T16:30:48.683Z"
   },
   {
    "duration": 20,
    "start_time": "2023-07-01T16:31:05.905Z"
   },
   {
    "duration": 23,
    "start_time": "2023-07-01T16:31:07.926Z"
   },
   {
    "duration": 44,
    "start_time": "2023-07-01T16:31:29.076Z"
   },
   {
    "duration": 914,
    "start_time": "2023-07-01T16:41:52.276Z"
   },
   {
    "duration": 144,
    "start_time": "2023-07-01T16:41:56.903Z"
   },
   {
    "duration": 4,
    "start_time": "2023-07-01T16:41:59.819Z"
   },
   {
    "duration": 58,
    "start_time": "2023-07-01T16:42:07.547Z"
   },
   {
    "duration": 11,
    "start_time": "2023-07-01T16:42:25.367Z"
   },
   {
    "duration": 21,
    "start_time": "2023-07-01T16:42:29.273Z"
   },
   {
    "duration": 1535,
    "start_time": "2023-07-01T16:42:32.907Z"
   },
   {
    "duration": 2793,
    "start_time": "2023-07-01T16:44:39.404Z"
   },
   {
    "duration": 2315,
    "start_time": "2023-07-01T16:46:19.630Z"
   },
   {
    "duration": 2824,
    "start_time": "2023-07-01T16:46:42.451Z"
   },
   {
    "duration": 1170,
    "start_time": "2023-07-01T16:49:35.536Z"
   },
   {
    "duration": 6,
    "start_time": "2023-07-01T16:49:56.403Z"
   },
   {
    "duration": 1139,
    "start_time": "2023-07-01T16:50:07.110Z"
   },
   {
    "duration": 1137,
    "start_time": "2023-07-01T16:50:28.350Z"
   },
   {
    "duration": 24,
    "start_time": "2023-07-01T16:50:31.872Z"
   },
   {
    "duration": 21,
    "start_time": "2023-07-01T16:50:37.321Z"
   },
   {
    "duration": 23,
    "start_time": "2023-07-01T16:50:40.228Z"
   },
   {
    "duration": 1575,
    "start_time": "2023-07-01T16:51:39.763Z"
   },
   {
    "duration": 11176,
    "start_time": "2023-07-01T16:51:41.340Z"
   },
   {
    "duration": 3,
    "start_time": "2023-07-01T16:51:52.517Z"
   },
   {
    "duration": 5056,
    "start_time": "2023-07-01T16:51:52.523Z"
   },
   {
    "duration": 4282,
    "start_time": "2023-07-01T16:51:57.582Z"
   },
   {
    "duration": 5313,
    "start_time": "2023-07-01T16:52:01.867Z"
   },
   {
    "duration": 4661,
    "start_time": "2023-07-01T16:52:07.181Z"
   },
   {
    "duration": 245,
    "start_time": "2023-07-01T16:52:11.843Z"
   },
   {
    "duration": 213,
    "start_time": "2023-07-01T16:52:12.090Z"
   },
   {
    "duration": 4683,
    "start_time": "2023-07-01T16:52:12.306Z"
   },
   {
    "duration": 13633,
    "start_time": "2023-07-01T16:52:16.991Z"
   },
   {
    "duration": 180,
    "start_time": "2023-07-01T16:52:30.626Z"
   },
   {
    "duration": 28893,
    "start_time": "2023-07-01T16:52:30.808Z"
   },
   {
    "duration": 381,
    "start_time": "2023-07-01T16:52:59.703Z"
   },
   {
    "duration": 2189,
    "start_time": "2023-07-01T16:53:00.086Z"
   },
   {
    "duration": 7,
    "start_time": "2023-07-01T16:53:02.281Z"
   },
   {
    "duration": 333,
    "start_time": "2023-07-01T16:53:02.290Z"
   },
   {
    "duration": 282,
    "start_time": "2023-07-01T16:53:02.625Z"
   },
   {
    "duration": 1517,
    "start_time": "2023-07-01T16:53:02.909Z"
   },
   {
    "duration": 6,
    "start_time": "2023-07-01T17:38:20.629Z"
   },
   {
    "duration": 161,
    "start_time": "2023-07-01T17:45:22.007Z"
   },
   {
    "duration": 145643,
    "start_time": "2023-07-01T17:45:28.272Z"
   },
   {
    "duration": 3085,
    "start_time": "2023-07-01T17:48:08.311Z"
   },
   {
    "duration": 11,
    "start_time": "2023-07-01T17:48:11.398Z"
   },
   {
    "duration": 23,
    "start_time": "2023-07-01T17:48:18.750Z"
   },
   {
    "duration": 4,
    "start_time": "2023-07-01T17:49:05.101Z"
   },
   {
    "duration": 20,
    "start_time": "2023-07-01T17:49:45.368Z"
   },
   {
    "duration": 4,
    "start_time": "2023-07-01T17:50:19.637Z"
   },
   {
    "duration": 13,
    "start_time": "2023-07-01T17:50:24.870Z"
   },
   {
    "duration": 14,
    "start_time": "2023-07-01T17:50:29.663Z"
   },
   {
    "duration": 3,
    "start_time": "2023-07-01T17:50:54.656Z"
   },
   {
    "duration": 19,
    "start_time": "2023-07-01T17:51:01.130Z"
   },
   {
    "duration": 3,
    "start_time": "2023-07-01T17:51:11.821Z"
   },
   {
    "duration": 18,
    "start_time": "2023-07-01T17:51:12.922Z"
   },
   {
    "duration": 3,
    "start_time": "2023-07-01T17:51:20.796Z"
   },
   {
    "duration": 16,
    "start_time": "2023-07-01T17:51:21.756Z"
   },
   {
    "duration": 990,
    "start_time": "2023-07-01T17:51:38.038Z"
   },
   {
    "duration": 16,
    "start_time": "2023-07-01T17:51:40.030Z"
   },
   {
    "duration": 17,
    "start_time": "2023-07-01T17:52:12.234Z"
   },
   {
    "duration": 22878,
    "start_time": "2023-07-01T17:52:18.572Z"
   },
   {
    "duration": 6267455,
    "start_time": "2023-07-01T17:52:50.838Z"
   },
   {
    "duration": 1630,
    "start_time": "2023-07-01T19:54:39.478Z"
   },
   {
    "duration": 8868,
    "start_time": "2023-07-01T19:54:41.111Z"
   },
   {
    "duration": 4,
    "start_time": "2023-07-01T19:54:49.982Z"
   },
   {
    "duration": 5016,
    "start_time": "2023-07-01T19:54:49.989Z"
   },
   {
    "duration": 5192,
    "start_time": "2023-07-01T19:54:55.008Z"
   },
   {
    "duration": 4957,
    "start_time": "2023-07-01T19:55:00.201Z"
   },
   {
    "duration": 5007,
    "start_time": "2023-07-01T19:55:05.166Z"
   },
   {
    "duration": 250,
    "start_time": "2023-07-01T19:55:10.175Z"
   },
   {
    "duration": 218,
    "start_time": "2023-07-01T19:55:10.428Z"
   },
   {
    "duration": 4853,
    "start_time": "2023-07-01T19:55:10.650Z"
   },
   {
    "duration": 15628,
    "start_time": "2023-07-01T19:55:15.506Z"
   },
   {
    "duration": 183,
    "start_time": "2023-07-01T19:55:31.137Z"
   },
   {
    "duration": 27178,
    "start_time": "2023-07-01T19:55:31.322Z"
   },
   {
    "duration": 524,
    "start_time": "2023-07-01T19:55:58.503Z"
   },
   {
    "duration": 2461,
    "start_time": "2023-07-01T19:55:59.029Z"
   },
   {
    "duration": 5,
    "start_time": "2023-07-01T19:56:01.492Z"
   },
   {
    "duration": 370,
    "start_time": "2023-07-01T19:56:01.499Z"
   },
   {
    "duration": 289,
    "start_time": "2023-07-01T19:56:01.871Z"
   },
   {
    "duration": 1562,
    "start_time": "2023-07-01T19:56:02.162Z"
   },
   {
    "duration": 5,
    "start_time": "2023-07-01T19:56:03.727Z"
   },
   {
    "duration": 4129244,
    "start_time": "2023-07-01T19:56:03.734Z"
   },
   {
    "duration": 0,
    "start_time": "2023-07-01T21:04:52.986Z"
   },
   {
    "duration": 0,
    "start_time": "2023-07-01T21:04:52.987Z"
   },
   {
    "duration": 1587,
    "start_time": "2023-07-01T21:09:24.110Z"
   },
   {
    "duration": 0,
    "start_time": "2023-07-01T21:09:25.699Z"
   },
   {
    "duration": 0,
    "start_time": "2023-07-01T21:09:25.701Z"
   },
   {
    "duration": 0,
    "start_time": "2023-07-01T21:09:25.702Z"
   },
   {
    "duration": 0,
    "start_time": "2023-07-01T21:09:25.703Z"
   },
   {
    "duration": 0,
    "start_time": "2023-07-01T21:09:25.704Z"
   },
   {
    "duration": 0,
    "start_time": "2023-07-01T21:09:25.705Z"
   },
   {
    "duration": 1,
    "start_time": "2023-07-01T21:09:25.706Z"
   },
   {
    "duration": 0,
    "start_time": "2023-07-01T21:09:25.707Z"
   },
   {
    "duration": 0,
    "start_time": "2023-07-01T21:09:25.709Z"
   },
   {
    "duration": 0,
    "start_time": "2023-07-01T21:09:25.710Z"
   },
   {
    "duration": 0,
    "start_time": "2023-07-01T21:09:25.711Z"
   },
   {
    "duration": 0,
    "start_time": "2023-07-01T21:09:25.712Z"
   },
   {
    "duration": 0,
    "start_time": "2023-07-01T21:09:25.713Z"
   },
   {
    "duration": 0,
    "start_time": "2023-07-01T21:09:25.714Z"
   },
   {
    "duration": 0,
    "start_time": "2023-07-01T21:09:25.715Z"
   },
   {
    "duration": 0,
    "start_time": "2023-07-01T21:09:25.716Z"
   },
   {
    "duration": 0,
    "start_time": "2023-07-01T21:09:25.717Z"
   },
   {
    "duration": 0,
    "start_time": "2023-07-01T21:09:25.718Z"
   },
   {
    "duration": 0,
    "start_time": "2023-07-01T21:09:25.719Z"
   },
   {
    "duration": 0,
    "start_time": "2023-07-01T21:09:25.720Z"
   },
   {
    "duration": 0,
    "start_time": "2023-07-01T21:09:25.721Z"
   },
   {
    "duration": 0,
    "start_time": "2023-07-01T21:09:25.723Z"
   },
   {
    "duration": 3525,
    "start_time": "2023-07-01T21:14:29.178Z"
   },
   {
    "duration": 4102,
    "start_time": "2023-07-01T21:14:34.061Z"
   },
   {
    "duration": 5290,
    "start_time": "2023-07-01T21:15:52.704Z"
   },
   {
    "duration": 4314,
    "start_time": "2023-07-01T21:16:17.251Z"
   },
   {
    "duration": 9400,
    "start_time": "2023-07-01T21:16:21.568Z"
   },
   {
    "duration": 3,
    "start_time": "2023-07-01T21:16:30.971Z"
   },
   {
    "duration": 5138,
    "start_time": "2023-07-01T21:16:30.975Z"
   },
   {
    "duration": 4300,
    "start_time": "2023-07-01T21:16:36.116Z"
   },
   {
    "duration": 5144,
    "start_time": "2023-07-01T21:16:40.418Z"
   },
   {
    "duration": 4948,
    "start_time": "2023-07-01T21:16:45.566Z"
   },
   {
    "duration": 243,
    "start_time": "2023-07-01T21:16:50.516Z"
   },
   {
    "duration": 197,
    "start_time": "2023-07-01T21:16:50.761Z"
   },
   {
    "duration": 4869,
    "start_time": "2023-07-01T21:16:50.959Z"
   },
   {
    "duration": 13574,
    "start_time": "2023-07-01T21:16:55.830Z"
   },
   {
    "duration": 154,
    "start_time": "2023-07-01T21:17:09.406Z"
   },
   {
    "duration": 29286,
    "start_time": "2023-07-01T21:17:09.561Z"
   },
   {
    "duration": 366,
    "start_time": "2023-07-01T21:17:38.849Z"
   },
   {
    "duration": 2091,
    "start_time": "2023-07-01T21:17:39.217Z"
   },
   {
    "duration": 4,
    "start_time": "2023-07-01T21:17:41.310Z"
   },
   {
    "duration": 325,
    "start_time": "2023-07-01T21:17:41.315Z"
   },
   {
    "duration": 279,
    "start_time": "2023-07-01T21:17:41.641Z"
   },
   {
    "duration": 236,
    "start_time": "2023-07-01T21:17:41.922Z"
   },
   {
    "duration": 26106,
    "start_time": "2023-07-01T21:17:51.291Z"
   },
   {
    "duration": 25485,
    "start_time": "2023-07-01T21:18:41.604Z"
   },
   {
    "duration": 24426,
    "start_time": "2023-07-01T21:19:24.570Z"
   },
   {
    "duration": 25343,
    "start_time": "2023-07-01T21:20:30.495Z"
   },
   {
    "duration": 9020,
    "start_time": "2023-07-01T21:22:15.516Z"
   },
   {
    "duration": 9735,
    "start_time": "2023-07-01T21:22:24.538Z"
   },
   {
    "duration": 3,
    "start_time": "2023-07-01T21:22:34.275Z"
   },
   {
    "duration": 4898,
    "start_time": "2023-07-01T21:22:34.281Z"
   },
   {
    "duration": 4215,
    "start_time": "2023-07-01T21:22:39.181Z"
   },
   {
    "duration": 5060,
    "start_time": "2023-07-01T21:22:43.398Z"
   },
   {
    "duration": 4999,
    "start_time": "2023-07-01T21:22:48.459Z"
   },
   {
    "duration": 240,
    "start_time": "2023-07-01T21:22:53.460Z"
   },
   {
    "duration": 202,
    "start_time": "2023-07-01T21:22:53.702Z"
   },
   {
    "duration": 4828,
    "start_time": "2023-07-01T21:22:53.908Z"
   },
   {
    "duration": 14007,
    "start_time": "2023-07-01T21:22:58.739Z"
   },
   {
    "duration": 164,
    "start_time": "2023-07-01T21:23:12.747Z"
   },
   {
    "duration": 35200,
    "start_time": "2023-07-01T21:23:12.913Z"
   },
   {
    "duration": 347,
    "start_time": "2023-07-01T21:23:48.115Z"
   },
   {
    "duration": 2114,
    "start_time": "2023-07-01T21:23:48.463Z"
   },
   {
    "duration": 3,
    "start_time": "2023-07-01T21:23:50.579Z"
   },
   {
    "duration": 326,
    "start_time": "2023-07-01T21:23:50.584Z"
   },
   {
    "duration": 267,
    "start_time": "2023-07-01T21:23:50.912Z"
   },
   {
    "duration": 25244,
    "start_time": "2023-07-01T21:23:51.181Z"
   },
   {
    "duration": 1351,
    "start_time": "2023-07-01T21:24:16.426Z"
   },
   {
    "duration": 3,
    "start_time": "2023-07-01T21:24:17.778Z"
   },
   {
    "duration": 5670899,
    "start_time": "2023-07-01T21:24:17.783Z"
   },
   {
    "duration": 381984,
    "start_time": "2023-07-01T22:58:48.684Z"
   },
   {
    "duration": 358,
    "start_time": "2023-07-01T23:05:10.670Z"
   },
   {
    "duration": 125,
    "start_time": "2023-07-02T02:39:45.051Z"
   },
   {
    "duration": 160,
    "start_time": "2023-07-02T07:42:45.468Z"
   },
   {
    "duration": 17605,
    "start_time": "2023-07-02T07:46:09.824Z"
   },
   {
    "duration": 374,
    "start_time": "2023-07-02T07:53:41.242Z"
   },
   {
    "duration": 11124,
    "start_time": "2023-07-02T07:54:16.203Z"
   },
   {
    "duration": 10998,
    "start_time": "2023-07-02T07:54:27.331Z"
   },
   {
    "duration": 4,
    "start_time": "2023-07-02T07:54:38.331Z"
   },
   {
    "duration": 4727,
    "start_time": "2023-07-02T07:54:38.338Z"
   },
   {
    "duration": 4054,
    "start_time": "2023-07-02T07:54:43.067Z"
   },
   {
    "duration": 4956,
    "start_time": "2023-07-02T07:54:47.123Z"
   },
   {
    "duration": 4803,
    "start_time": "2023-07-02T07:54:52.081Z"
   },
   {
    "duration": 244,
    "start_time": "2023-07-02T07:54:56.886Z"
   },
   {
    "duration": 315,
    "start_time": "2023-07-02T07:54:57.132Z"
   },
   {
    "duration": 4869,
    "start_time": "2023-07-02T07:54:57.453Z"
   },
   {
    "duration": 13003,
    "start_time": "2023-07-02T07:55:02.325Z"
   },
   {
    "duration": 235,
    "start_time": "2023-07-02T07:55:15.330Z"
   },
   {
    "duration": 29544,
    "start_time": "2023-07-02T07:55:15.571Z"
   },
   {
    "duration": 568,
    "start_time": "2023-07-02T07:55:45.118Z"
   },
   {
    "duration": 2253,
    "start_time": "2023-07-02T07:55:45.688Z"
   },
   {
    "duration": 13,
    "start_time": "2023-07-02T07:55:47.945Z"
   },
   {
    "duration": 285,
    "start_time": "2023-07-02T07:55:47.960Z"
   },
   {
    "duration": 258,
    "start_time": "2023-07-02T07:55:48.253Z"
   },
   {
    "duration": 24909,
    "start_time": "2023-07-02T07:55:48.514Z"
   },
   {
    "duration": 1401,
    "start_time": "2023-07-02T07:56:13.426Z"
   },
   {
    "duration": 4,
    "start_time": "2023-07-02T07:56:14.829Z"
   },
   {
    "duration": 22,
    "start_time": "2023-07-02T07:56:14.835Z"
   },
   {
    "duration": 495180,
    "start_time": "2023-07-02T07:56:14.860Z"
   },
   {
    "duration": 672,
    "start_time": "2023-07-02T08:04:30.042Z"
   },
   {
    "duration": 0,
    "start_time": "2023-07-02T08:04:30.717Z"
   },
   {
    "duration": 0,
    "start_time": "2023-07-02T08:04:30.719Z"
   },
   {
    "duration": 2836224,
    "start_time": "2023-07-02T08:04:51.290Z"
   },
   {
    "duration": 6275,
    "start_time": "2023-07-02T08:52:07.516Z"
   },
   {
    "duration": 596,
    "start_time": "2023-07-02T08:52:13.794Z"
   },
   {
    "duration": 8,
    "start_time": "2023-07-02T08:52:14.394Z"
   },
   {
    "duration": 471,
    "start_time": "2023-07-02T08:52:14.404Z"
   },
   {
    "duration": 6107,
    "start_time": "2023-07-02T08:52:26.343Z"
   },
   {
    "duration": 3689,
    "start_time": "2023-07-02T08:53:58.825Z"
   },
   {
    "duration": 3547,
    "start_time": "2023-07-02T08:55:32.679Z"
   },
   {
    "duration": 28,
    "start_time": "2023-07-02T08:55:36.843Z"
   },
   {
    "duration": 23,
    "start_time": "2023-07-02T08:55:39.209Z"
   },
   {
    "duration": 36,
    "start_time": "2023-07-02T08:55:41.755Z"
   },
   {
    "duration": 3741,
    "start_time": "2023-07-02T08:55:59.404Z"
   },
   {
    "duration": 6,
    "start_time": "2023-07-02T08:56:04.779Z"
   },
   {
    "duration": 8,
    "start_time": "2023-07-02T08:56:41.961Z"
   },
   {
    "duration": 727,
    "start_time": "2023-07-02T08:57:09.894Z"
   },
   {
    "duration": 651,
    "start_time": "2023-07-02T08:57:20.240Z"
   },
   {
    "duration": 14520,
    "start_time": "2023-07-02T08:59:08.149Z"
   },
   {
    "duration": 25,
    "start_time": "2023-07-02T08:59:26.602Z"
   },
   {
    "duration": 23,
    "start_time": "2023-07-02T08:59:32.774Z"
   },
   {
    "duration": 20414,
    "start_time": "2023-07-02T08:59:37.744Z"
   },
   {
    "duration": 133760,
    "start_time": "2023-07-02T09:01:37.455Z"
   },
   {
    "duration": 0,
    "start_time": "2023-07-02T09:03:51.220Z"
   },
   {
    "duration": 0,
    "start_time": "2023-07-02T09:03:51.222Z"
   },
   {
    "duration": 0,
    "start_time": "2023-07-02T09:03:51.223Z"
   },
   {
    "duration": 0,
    "start_time": "2023-07-02T09:03:51.224Z"
   },
   {
    "duration": 15197,
    "start_time": "2023-07-02T09:04:23.411Z"
   },
   {
    "duration": 584,
    "start_time": "2023-07-02T09:04:38.610Z"
   },
   {
    "duration": 7,
    "start_time": "2023-07-02T09:05:14.102Z"
   },
   {
    "duration": 22545,
    "start_time": "2023-07-02T09:05:27.242Z"
   },
   {
    "duration": 3043339,
    "start_time": "2023-07-02T09:05:49.789Z"
   },
   {
    "duration": 2539617,
    "start_time": "2023-07-02T09:56:33.130Z"
   },
   {
    "duration": 40,
    "start_time": "2023-07-02T10:38:52.749Z"
   },
   {
    "duration": 0,
    "start_time": "2023-07-02T10:38:52.794Z"
   },
   {
    "duration": 0,
    "start_time": "2023-07-02T10:38:52.797Z"
   },
   {
    "duration": 14,
    "start_time": "2023-07-02T10:39:06.011Z"
   },
   {
    "duration": 28,
    "start_time": "2023-07-02T10:39:13.282Z"
   },
   {
    "duration": 9,
    "start_time": "2023-07-02T10:39:20.700Z"
   },
   {
    "duration": 39,
    "start_time": "2023-07-02T10:39:25.941Z"
   },
   {
    "duration": 10106,
    "start_time": "2023-07-02T13:13:36.438Z"
   },
   {
    "duration": 5862,
    "start_time": "2023-07-02T13:13:46.546Z"
   },
   {
    "duration": 2,
    "start_time": "2023-07-02T13:13:52.410Z"
   },
   {
    "duration": 4121,
    "start_time": "2023-07-02T13:13:52.414Z"
   },
   {
    "duration": 3310,
    "start_time": "2023-07-02T13:13:56.536Z"
   },
   {
    "duration": 3899,
    "start_time": "2023-07-02T13:13:59.848Z"
   },
   {
    "duration": 3948,
    "start_time": "2023-07-02T13:14:03.749Z"
   },
   {
    "duration": 287,
    "start_time": "2023-07-02T13:14:07.699Z"
   },
   {
    "duration": 162,
    "start_time": "2023-07-02T13:14:07.988Z"
   },
   {
    "duration": 586,
    "start_time": "2023-07-02T13:14:08.153Z"
   },
   {
    "duration": 16359,
    "start_time": "2023-07-02T13:14:08.740Z"
   },
   {
    "duration": 134,
    "start_time": "2023-07-02T13:14:25.101Z"
   },
   {
    "duration": 27387,
    "start_time": "2023-07-02T13:14:25.236Z"
   },
   {
    "duration": 351,
    "start_time": "2023-07-02T13:14:52.625Z"
   },
   {
    "duration": 1857,
    "start_time": "2023-07-02T13:14:52.977Z"
   },
   {
    "duration": 3,
    "start_time": "2023-07-02T13:14:54.836Z"
   },
   {
    "duration": 231,
    "start_time": "2023-07-02T13:14:54.841Z"
   },
   {
    "duration": 193,
    "start_time": "2023-07-02T13:14:55.074Z"
   },
   {
    "duration": 16840,
    "start_time": "2023-07-02T13:14:55.269Z"
   },
   {
    "duration": 2632,
    "start_time": "2023-07-02T13:15:12.110Z"
   },
   {
    "duration": 2,
    "start_time": "2023-07-02T13:15:14.745Z"
   },
   {
    "duration": 301,
    "start_time": "2023-07-02T13:15:14.749Z"
   },
   {
    "duration": 0,
    "start_time": "2023-07-02T13:15:15.052Z"
   },
   {
    "duration": 0,
    "start_time": "2023-07-02T13:15:15.053Z"
   },
   {
    "duration": 0,
    "start_time": "2023-07-02T13:15:15.054Z"
   },
   {
    "duration": 0,
    "start_time": "2023-07-02T13:15:15.056Z"
   },
   {
    "duration": 0,
    "start_time": "2023-07-02T13:15:15.057Z"
   },
   {
    "duration": 4183,
    "start_time": "2023-07-02T13:16:12.065Z"
   },
   {
    "duration": 16276,
    "start_time": "2023-07-02T13:16:28.771Z"
   },
   {
    "duration": 10,
    "start_time": "2023-07-02T13:16:50.139Z"
   },
   {
    "duration": 7,
    "start_time": "2023-07-02T13:16:50.150Z"
   },
   {
    "duration": 173,
    "start_time": "2023-07-02T13:16:50.158Z"
   },
   {
    "duration": 8,
    "start_time": "2023-07-02T13:17:23.149Z"
   },
   {
    "duration": 5,
    "start_time": "2023-07-02T13:17:25.707Z"
   },
   {
    "duration": 100,
    "start_time": "2023-07-02T13:17:30.566Z"
   },
   {
    "duration": 6,
    "start_time": "2023-07-02T13:18:23.008Z"
   },
   {
    "duration": 86,
    "start_time": "2023-07-02T13:18:24.972Z"
   },
   {
    "duration": 265801,
    "start_time": "2023-07-02T13:19:01.943Z"
   },
   {
    "duration": 20023,
    "start_time": "2023-07-02T16:02:16.038Z"
   },
   {
    "duration": 12495,
    "start_time": "2023-07-02T16:02:36.064Z"
   },
   {
    "duration": 8,
    "start_time": "2023-07-02T16:02:48.573Z"
   },
   {
    "duration": 5541,
    "start_time": "2023-07-02T16:02:48.584Z"
   },
   {
    "duration": 4838,
    "start_time": "2023-07-02T16:02:54.128Z"
   },
   {
    "duration": 5591,
    "start_time": "2023-07-02T16:02:58.976Z"
   },
   {
    "duration": 5088,
    "start_time": "2023-07-02T16:03:04.576Z"
   },
   {
    "duration": 259,
    "start_time": "2023-07-02T16:03:09.667Z"
   },
   {
    "duration": 221,
    "start_time": "2023-07-02T16:03:09.929Z"
   },
   {
    "duration": 4880,
    "start_time": "2023-07-02T16:03:10.152Z"
   },
   {
    "duration": 16071,
    "start_time": "2023-07-02T16:03:15.034Z"
   },
   {
    "duration": 186,
    "start_time": "2023-07-02T16:03:31.107Z"
   },
   {
    "duration": 32113,
    "start_time": "2023-07-02T16:03:31.298Z"
   },
   {
    "duration": 393,
    "start_time": "2023-07-02T16:04:03.415Z"
   },
   {
    "duration": 2122,
    "start_time": "2023-07-02T16:04:03.809Z"
   },
   {
    "duration": 4,
    "start_time": "2023-07-02T16:04:05.933Z"
   },
   {
    "duration": 258,
    "start_time": "2023-07-02T16:04:05.938Z"
   },
   {
    "duration": 221,
    "start_time": "2023-07-02T16:04:06.197Z"
   },
   {
    "duration": 23333,
    "start_time": "2023-07-02T16:04:06.420Z"
   },
   {
    "duration": 3841,
    "start_time": "2023-07-02T16:04:29.755Z"
   },
   {
    "duration": 5,
    "start_time": "2023-07-02T16:04:33.598Z"
   },
   {
    "duration": 20076,
    "start_time": "2023-07-02T16:04:33.605Z"
   },
   {
    "duration": 5,
    "start_time": "2023-07-02T16:06:41.609Z"
   },
   {
    "duration": 5,
    "start_time": "2023-07-02T16:06:44.505Z"
   },
   {
    "duration": 87,
    "start_time": "2023-07-02T16:06:50.988Z"
   },
   {
    "duration": 11,
    "start_time": "2023-07-02T16:06:51.079Z"
   },
   {
    "duration": 664,
    "start_time": "2023-07-02T16:06:51.096Z"
   },
   {
    "duration": 129,
    "start_time": "2023-07-02T16:08:46.341Z"
   },
   {
    "duration": 120,
    "start_time": "2023-07-02T16:08:50.528Z"
   },
   {
    "duration": 123,
    "start_time": "2023-07-02T16:08:57.788Z"
   },
   {
    "duration": 156,
    "start_time": "2023-07-02T16:11:07.786Z"
   },
   {
    "duration": 122,
    "start_time": "2023-07-02T16:11:11.828Z"
   },
   {
    "duration": 140,
    "start_time": "2023-07-02T16:11:14.874Z"
   },
   {
    "duration": 5,
    "start_time": "2023-07-02T16:11:21.585Z"
   },
   {
    "duration": 6,
    "start_time": "2023-07-02T16:11:35.791Z"
   },
   {
    "duration": 5,
    "start_time": "2023-07-02T16:11:35.942Z"
   },
   {
    "duration": 28,
    "start_time": "2023-07-02T16:12:02.071Z"
   },
   {
    "duration": 160,
    "start_time": "2023-07-02T16:12:20.761Z"
   },
   {
    "duration": 13,
    "start_time": "2023-07-02T16:12:24.746Z"
   },
   {
    "duration": 8,
    "start_time": "2023-07-02T16:12:25.224Z"
   },
   {
    "duration": 138,
    "start_time": "2023-07-02T16:12:25.537Z"
   },
   {
    "duration": 84,
    "start_time": "2023-07-02T16:12:33.758Z"
   },
   {
    "duration": 3,
    "start_time": "2023-07-02T16:13:00.002Z"
   },
   {
    "duration": 6,
    "start_time": "2023-07-02T16:13:00.393Z"
   },
   {
    "duration": 147,
    "start_time": "2023-07-02T16:13:01.094Z"
   },
   {
    "duration": 113,
    "start_time": "2023-07-02T16:13:35.545Z"
   },
   {
    "duration": 5,
    "start_time": "2023-07-02T16:13:39.492Z"
   },
   {
    "duration": 7,
    "start_time": "2023-07-02T16:13:39.499Z"
   },
   {
    "duration": 23,
    "start_time": "2023-07-02T16:13:39.507Z"
   },
   {
    "duration": 2960,
    "start_time": "2023-07-02T16:13:39.532Z"
   },
   {
    "duration": 4,
    "start_time": "2023-07-02T16:14:12.405Z"
   },
   {
    "duration": 5,
    "start_time": "2023-07-02T16:14:12.789Z"
   },
   {
    "duration": 2921,
    "start_time": "2023-07-02T16:14:13.564Z"
   },
   {
    "duration": 4,
    "start_time": "2023-07-02T16:14:22.187Z"
   },
   {
    "duration": 4,
    "start_time": "2023-07-02T16:15:15.625Z"
   },
   {
    "duration": 9,
    "start_time": "2023-07-02T16:15:15.634Z"
   },
   {
    "duration": 12,
    "start_time": "2023-07-02T16:15:15.646Z"
   },
   {
    "duration": 39,
    "start_time": "2023-07-02T16:15:15.660Z"
   },
   {
    "duration": 4,
    "start_time": "2023-07-02T16:15:21.897Z"
   },
   {
    "duration": 4,
    "start_time": "2023-07-02T16:15:22.097Z"
   },
   {
    "duration": 6,
    "start_time": "2023-07-02T16:15:22.283Z"
   },
   {
    "duration": 53,
    "start_time": "2023-07-02T16:15:22.800Z"
   },
   {
    "duration": 140,
    "start_time": "2023-07-02T16:19:04.410Z"
   },
   {
    "duration": 137,
    "start_time": "2023-07-02T16:19:53.293Z"
   },
   {
    "duration": 26,
    "start_time": "2023-07-02T16:20:20.931Z"
   },
   {
    "duration": 28,
    "start_time": "2023-07-02T16:20:36.227Z"
   },
   {
    "duration": 39,
    "start_time": "2023-07-02T16:20:54.664Z"
   },
   {
    "duration": 21,
    "start_time": "2023-07-02T16:21:00.820Z"
   },
   {
    "duration": 7,
    "start_time": "2023-07-02T16:21:02.008Z"
   },
   {
    "duration": 274,
    "start_time": "2023-07-02T16:21:02.625Z"
   },
   {
    "duration": 145,
    "start_time": "2023-07-02T16:22:14.532Z"
   },
   {
    "duration": 145,
    "start_time": "2023-07-02T16:22:27.683Z"
   },
   {
    "duration": 132,
    "start_time": "2023-07-02T16:23:10.001Z"
   },
   {
    "duration": 117,
    "start_time": "2023-07-02T16:23:38.913Z"
   },
   {
    "duration": 54,
    "start_time": "2023-07-02T16:23:47.693Z"
   },
   {
    "duration": 151,
    "start_time": "2023-07-02T16:23:52.596Z"
   },
   {
    "duration": 63,
    "start_time": "2023-07-02T16:24:55.242Z"
   },
   {
    "duration": 15,
    "start_time": "2023-07-02T16:24:55.747Z"
   },
   {
    "duration": 313,
    "start_time": "2023-07-02T16:24:56.693Z"
   },
   {
    "duration": 151,
    "start_time": "2023-07-02T16:26:23.969Z"
   },
   {
    "duration": 11,
    "start_time": "2023-07-02T16:27:16.153Z"
   },
   {
    "duration": 5,
    "start_time": "2023-07-02T16:27:17.005Z"
   },
   {
    "duration": 0,
    "start_time": "2023-07-02T16:31:05.580Z"
   },
   {
    "duration": 0,
    "start_time": "2023-07-02T16:31:05.586Z"
   },
   {
    "duration": 2,
    "start_time": "2023-07-02T16:31:08.393Z"
   },
   {
    "duration": 5591,
    "start_time": "2023-07-02T16:31:08.926Z"
   },
   {
    "duration": 3,
    "start_time": "2023-07-02T16:31:29.295Z"
   },
   {
    "duration": 5577,
    "start_time": "2023-07-02T16:31:29.599Z"
   },
   {
    "duration": 4,
    "start_time": "2023-07-02T16:31:58.897Z"
   },
   {
    "duration": 5577,
    "start_time": "2023-07-02T16:32:00.094Z"
   },
   {
    "duration": 3,
    "start_time": "2023-07-02T16:32:29.346Z"
   },
   {
    "duration": 5550,
    "start_time": "2023-07-02T16:32:29.797Z"
   },
   {
    "duration": 3,
    "start_time": "2023-07-02T16:32:44.647Z"
   },
   {
    "duration": 5432,
    "start_time": "2023-07-02T16:32:44.918Z"
   },
   {
    "duration": 5781,
    "start_time": "2023-07-02T16:33:52.649Z"
   },
   {
    "duration": 3,
    "start_time": "2023-07-02T16:34:07.196Z"
   },
   {
    "duration": 5690,
    "start_time": "2023-07-02T16:34:07.650Z"
   },
   {
    "duration": 55,
    "start_time": "2023-07-02T16:34:42.851Z"
   },
   {
    "duration": 5,
    "start_time": "2023-07-02T16:34:50.959Z"
   },
   {
    "duration": 6,
    "start_time": "2023-07-02T16:34:55.246Z"
   },
   {
    "duration": 5,
    "start_time": "2023-07-02T16:35:06.762Z"
   },
   {
    "duration": 4,
    "start_time": "2023-07-02T16:35:09.319Z"
   },
   {
    "duration": 2,
    "start_time": "2023-07-02T16:35:25.649Z"
   },
   {
    "duration": 5769,
    "start_time": "2023-07-02T16:35:29.294Z"
   },
   {
    "duration": 8,
    "start_time": "2023-07-02T16:36:12.839Z"
   },
   {
    "duration": 6,
    "start_time": "2023-07-02T16:36:17.414Z"
   },
   {
    "duration": 29,
    "start_time": "2023-07-02T16:36:39.202Z"
   },
   {
    "duration": 132,
    "start_time": "2023-07-02T16:39:40.500Z"
   },
   {
    "duration": 27,
    "start_time": "2023-07-02T16:39:41.198Z"
   },
   {
    "duration": 3,
    "start_time": "2023-07-02T16:39:42.204Z"
   },
   {
    "duration": 6600,
    "start_time": "2023-07-02T16:39:42.532Z"
   },
   {
    "duration": 79,
    "start_time": "2023-07-02T16:40:00.144Z"
   },
   {
    "duration": 30,
    "start_time": "2023-07-02T16:41:00.514Z"
   },
   {
    "duration": 6,
    "start_time": "2023-07-02T16:41:01.338Z"
   },
   {
    "duration": 7,
    "start_time": "2023-07-02T16:41:04.099Z"
   },
   {
    "duration": 4,
    "start_time": "2023-07-02T16:41:04.492Z"
   },
   {
    "duration": 4812,
    "start_time": "2023-07-02T16:41:05.240Z"
   },
   {
    "duration": 5,
    "start_time": "2023-07-02T16:41:19.006Z"
   },
   {
    "duration": 8,
    "start_time": "2023-07-02T16:41:29.219Z"
   },
   {
    "duration": 9190,
    "start_time": "2023-07-02T16:41:46.258Z"
   },
   {
    "duration": 14383,
    "start_time": "2023-07-02T18:54:34.378Z"
   },
   {
    "duration": 8976,
    "start_time": "2023-07-02T18:54:48.765Z"
   },
   {
    "duration": 3,
    "start_time": "2023-07-02T18:54:57.743Z"
   },
   {
    "duration": 5549,
    "start_time": "2023-07-02T18:54:57.748Z"
   },
   {
    "duration": 4537,
    "start_time": "2023-07-02T18:55:03.300Z"
   },
   {
    "duration": 5206,
    "start_time": "2023-07-02T18:55:07.839Z"
   },
   {
    "duration": 5180,
    "start_time": "2023-07-02T18:55:13.047Z"
   },
   {
    "duration": 292,
    "start_time": "2023-07-02T18:55:18.229Z"
   },
   {
    "duration": 291,
    "start_time": "2023-07-02T18:55:18.523Z"
   },
   {
    "duration": 4904,
    "start_time": "2023-07-02T18:55:18.818Z"
   },
   {
    "duration": 12110,
    "start_time": "2023-07-02T18:55:23.724Z"
   },
   {
    "duration": 226,
    "start_time": "2023-07-02T18:55:35.836Z"
   },
   {
    "duration": 28948,
    "start_time": "2023-07-02T18:55:36.065Z"
   },
   {
    "duration": 431,
    "start_time": "2023-07-02T18:56:05.017Z"
   },
   {
    "duration": 2217,
    "start_time": "2023-07-02T18:56:05.450Z"
   },
   {
    "duration": 6,
    "start_time": "2023-07-02T18:56:07.669Z"
   },
   {
    "duration": 299,
    "start_time": "2023-07-02T18:56:07.677Z"
   },
   {
    "duration": 232,
    "start_time": "2023-07-02T18:56:07.989Z"
   },
   {
    "duration": 25783,
    "start_time": "2023-07-02T18:56:08.224Z"
   },
   {
    "duration": 3972,
    "start_time": "2023-07-02T18:56:34.009Z"
   },
   {
    "duration": 4,
    "start_time": "2023-07-02T18:56:37.983Z"
   },
   {
    "duration": 22,
    "start_time": "2023-07-02T18:56:37.990Z"
   },
   {
    "duration": 23,
    "start_time": "2023-07-02T18:56:38.014Z"
   },
   {
    "duration": 48,
    "start_time": "2023-07-02T18:56:38.039Z"
   },
   {
    "duration": 42,
    "start_time": "2023-07-02T18:56:38.090Z"
   },
   {
    "duration": 7,
    "start_time": "2023-07-02T18:56:38.134Z"
   },
   {
    "duration": 59,
    "start_time": "2023-07-02T18:56:38.143Z"
   },
   {
    "duration": 17929,
    "start_time": "2023-07-02T18:56:38.204Z"
   },
   {
    "duration": 6523,
    "start_time": "2023-07-02T18:58:37.239Z"
   },
   {
    "duration": 6665,
    "start_time": "2023-07-02T19:00:31.282Z"
   },
   {
    "duration": 6554,
    "start_time": "2023-07-02T19:00:41.849Z"
   },
   {
    "duration": 6458,
    "start_time": "2023-07-02T19:03:03.346Z"
   },
   {
    "duration": 6709,
    "start_time": "2023-07-02T19:03:38.590Z"
   },
   {
    "duration": 30858,
    "start_time": "2023-07-02T19:03:57.645Z"
   },
   {
    "duration": 7041,
    "start_time": "2023-07-02T19:04:29.285Z"
   },
   {
    "duration": 31,
    "start_time": "2023-07-02T19:05:00.390Z"
   },
   {
    "duration": 8,
    "start_time": "2023-07-02T19:05:10.090Z"
   },
   {
    "duration": 10,
    "start_time": "2023-07-02T19:05:14.563Z"
   },
   {
    "duration": 8,
    "start_time": "2023-07-02T19:05:24.314Z"
   },
   {
    "duration": 5,
    "start_time": "2023-07-02T19:05:34.410Z"
   },
   {
    "duration": 9,
    "start_time": "2023-07-02T19:05:37.480Z"
   },
   {
    "duration": 32,
    "start_time": "2023-07-02T19:05:44.146Z"
   },
   {
    "duration": 9,
    "start_time": "2023-07-02T19:05:58.425Z"
   },
   {
    "duration": 9,
    "start_time": "2023-07-02T19:06:00.880Z"
   },
   {
    "duration": 61866,
    "start_time": "2023-07-02T19:06:14.006Z"
   },
   {
    "duration": 216664,
    "start_time": "2023-07-02T19:07:22.338Z"
   },
   {
    "duration": 108,
    "start_time": "2023-07-02T19:11:00.114Z"
   },
   {
    "duration": 5225,
    "start_time": "2023-07-02T19:11:09.478Z"
   },
   {
    "duration": 5280,
    "start_time": "2023-07-02T19:11:21.779Z"
   },
   {
    "duration": 5743,
    "start_time": "2023-07-02T19:12:00.015Z"
   },
   {
    "duration": 13,
    "start_time": "2023-07-02T19:14:16.078Z"
   },
   {
    "duration": 276335,
    "start_time": "2023-07-02T19:14:43.030Z"
   },
   {
    "duration": 2153,
    "start_time": "2023-07-02T19:25:03.324Z"
   },
   {
    "duration": 12,
    "start_time": "2023-07-02T19:25:13.991Z"
   },
   {
    "duration": 15,
    "start_time": "2023-07-02T19:25:14.005Z"
   },
   {
    "duration": 5,
    "start_time": "2023-07-02T19:25:14.023Z"
   },
   {
    "duration": 6171,
    "start_time": "2023-07-02T19:25:14.029Z"
   },
   {
    "duration": 12,
    "start_time": "2023-07-02T19:25:59.619Z"
   },
   {
    "duration": 5,
    "start_time": "2023-07-02T19:25:59.985Z"
   },
   {
    "duration": 4,
    "start_time": "2023-07-02T19:26:00.378Z"
   },
   {
    "duration": 100,
    "start_time": "2023-07-02T19:26:01.230Z"
   },
   {
    "duration": 6098,
    "start_time": "2023-07-02T19:26:07.981Z"
   },
   {
    "duration": 6141,
    "start_time": "2023-07-02T19:26:54.798Z"
   },
   {
    "duration": 6101,
    "start_time": "2023-07-02T19:27:16.378Z"
   },
   {
    "duration": 6210,
    "start_time": "2023-07-02T19:27:37.876Z"
   },
   {
    "duration": 6023,
    "start_time": "2023-07-02T19:27:57.979Z"
   },
   {
    "duration": 12,
    "start_time": "2023-07-02T19:28:45.630Z"
   },
   {
    "duration": 9,
    "start_time": "2023-07-02T19:28:45.874Z"
   },
   {
    "duration": 3,
    "start_time": "2023-07-02T19:28:46.136Z"
   },
   {
    "duration": 6290,
    "start_time": "2023-07-02T19:28:46.688Z"
   },
   {
    "duration": 5196,
    "start_time": "2023-07-02T19:29:27.693Z"
   },
   {
    "duration": 18,
    "start_time": "2023-07-02T19:29:40.805Z"
   },
   {
    "duration": 8,
    "start_time": "2023-07-02T19:29:41.182Z"
   },
   {
    "duration": 4,
    "start_time": "2023-07-02T19:29:41.490Z"
   },
   {
    "duration": 6657,
    "start_time": "2023-07-02T19:29:41.981Z"
   },
   {
    "duration": 13,
    "start_time": "2023-07-02T19:29:50.828Z"
   },
   {
    "duration": 5,
    "start_time": "2023-07-02T19:29:50.983Z"
   },
   {
    "duration": 628317,
    "start_time": "2023-07-02T19:29:51.181Z"
   },
   {
    "duration": 1407705,
    "start_time": "2023-07-02T19:50:09.143Z"
   },
   {
    "duration": 20372,
    "start_time": "2023-07-02T20:17:53.204Z"
   },
   {
    "duration": 14,
    "start_time": "2023-07-02T20:18:13.579Z"
   },
   {
    "duration": 15032,
    "start_time": "2023-07-03T06:00:54.803Z"
   },
   {
    "duration": 10352,
    "start_time": "2023-07-03T06:01:09.838Z"
   },
   {
    "duration": 4,
    "start_time": "2023-07-03T06:01:20.192Z"
   },
   {
    "duration": 4230,
    "start_time": "2023-07-03T06:01:20.198Z"
   },
   {
    "duration": 3612,
    "start_time": "2023-07-03T06:01:24.431Z"
   },
   {
    "duration": 4230,
    "start_time": "2023-07-03T06:01:28.045Z"
   },
   {
    "duration": 4727,
    "start_time": "2023-07-03T06:01:32.277Z"
   },
   {
    "duration": 247,
    "start_time": "2023-07-03T06:01:37.007Z"
   },
   {
    "duration": 284,
    "start_time": "2023-07-03T06:01:37.257Z"
   },
   {
    "duration": 4905,
    "start_time": "2023-07-03T06:01:37.545Z"
   },
   {
    "duration": 14072,
    "start_time": "2023-07-03T06:01:42.452Z"
   },
   {
    "duration": 226,
    "start_time": "2023-07-03T06:01:56.530Z"
   },
   {
    "duration": 29708,
    "start_time": "2023-07-03T06:01:56.758Z"
   },
   {
    "duration": 460,
    "start_time": "2023-07-03T06:02:26.468Z"
   },
   {
    "duration": 1860,
    "start_time": "2023-07-03T06:02:26.930Z"
   },
   {
    "duration": 4,
    "start_time": "2023-07-03T06:02:28.792Z"
   },
   {
    "duration": 283,
    "start_time": "2023-07-03T06:02:28.798Z"
   },
   {
    "duration": 221,
    "start_time": "2023-07-03T06:02:29.083Z"
   },
   {
    "duration": 23801,
    "start_time": "2023-07-03T06:02:29.306Z"
   },
   {
    "duration": 3572,
    "start_time": "2023-07-03T06:02:53.109Z"
   },
   {
    "duration": 5,
    "start_time": "2023-07-03T06:02:56.683Z"
   },
   {
    "duration": 7,
    "start_time": "2023-07-03T06:02:56.692Z"
   },
   {
    "duration": 427,
    "start_time": "2023-07-03T06:02:56.701Z"
   },
   {
    "duration": 6,
    "start_time": "2023-07-03T06:02:57.130Z"
   },
   {
    "duration": 22013,
    "start_time": "2023-07-03T06:02:57.137Z"
   },
   {
    "duration": 17,
    "start_time": "2023-07-03T06:03:19.152Z"
   },
   {
    "duration": 694894,
    "start_time": "2023-07-03T06:03:19.172Z"
   },
   {
    "duration": 21,
    "start_time": "2023-07-03T06:14:54.071Z"
   },
   {
    "duration": 36,
    "start_time": "2023-07-03T06:14:54.094Z"
   },
   {
    "duration": 831249,
    "start_time": "2023-07-03T06:14:54.132Z"
   },
   {
    "duration": 36,
    "start_time": "2023-07-03T06:35:10.958Z"
   },
   {
    "duration": 7,
    "start_time": "2023-07-03T06:35:10.997Z"
   },
   {
    "duration": 1299605,
    "start_time": "2023-07-03T06:35:11.008Z"
   },
   {
    "duration": 2679,
    "start_time": "2023-07-03T06:56:59.486Z"
   },
   {
    "duration": 14,
    "start_time": "2023-07-03T06:57:05.599Z"
   },
   {
    "duration": 7,
    "start_time": "2023-07-03T06:57:05.615Z"
   },
   {
    "duration": 114873,
    "start_time": "2023-07-03T06:57:05.624Z"
   },
   {
    "duration": 21008,
    "start_time": "2023-07-03T06:59:06.300Z"
   },
   {
    "duration": 30,
    "start_time": "2023-07-03T06:59:30.049Z"
   },
   {
    "duration": 8,
    "start_time": "2023-07-03T06:59:30.083Z"
   },
   {
    "duration": 25377,
    "start_time": "2023-07-03T06:59:30.093Z"
   },
   {
    "duration": 55,
    "start_time": "2023-07-03T07:00:43.440Z"
   },
   {
    "duration": 39,
    "start_time": "2023-07-03T07:01:12.735Z"
   },
   {
    "duration": 17897,
    "start_time": "2023-07-03T07:01:48.796Z"
   },
   {
    "duration": 14,
    "start_time": "2023-07-03T07:02:20.070Z"
   },
   {
    "duration": 53,
    "start_time": "2023-07-03T07:02:20.086Z"
   },
   {
    "duration": 25043,
    "start_time": "2023-07-03T07:02:20.141Z"
   },
   {
    "duration": 7913,
    "start_time": "2023-07-03T07:05:43.421Z"
   },
   {
    "duration": 5124,
    "start_time": "2023-07-03T07:06:07.652Z"
   },
   {
    "duration": 9189,
    "start_time": "2023-07-03T07:06:29.289Z"
   },
   {
    "duration": 154,
    "start_time": "2023-07-03T07:08:19.949Z"
   },
   {
    "duration": 106,
    "start_time": "2023-07-03T07:08:34.418Z"
   },
   {
    "duration": 48,
    "start_time": "2023-07-03T07:08:36.932Z"
   },
   {
    "duration": 112,
    "start_time": "2023-07-03T07:08:38.795Z"
   },
   {
    "duration": 40,
    "start_time": "2023-07-03T07:08:40.689Z"
   },
   {
    "duration": 2090,
    "start_time": "2023-07-03T07:08:42.592Z"
   },
   {
    "duration": 1974,
    "start_time": "2023-07-03T07:09:00.689Z"
   },
   {
    "duration": 5455,
    "start_time": "2023-07-03T07:09:56.866Z"
   },
   {
    "duration": 11634,
    "start_time": "2023-07-03T07:10:16.625Z"
   },
   {
    "duration": 47,
    "start_time": "2023-07-03T07:10:58.291Z"
   },
   {
    "duration": 4395,
    "start_time": "2023-07-03T07:11:37.968Z"
   },
   {
    "duration": 4770,
    "start_time": "2023-07-03T07:11:57.410Z"
   },
   {
    "duration": 9071,
    "start_time": "2023-07-03T07:12:03.998Z"
   },
   {
    "duration": 31018,
    "start_time": "2023-07-03T07:12:14.148Z"
   },
   {
    "duration": 5975,
    "start_time": "2023-07-03T07:15:03.038Z"
   },
   {
    "duration": 14,
    "start_time": "2023-07-03T07:16:13.425Z"
   },
   {
    "duration": 8,
    "start_time": "2023-07-03T07:16:14.112Z"
   },
   {
    "duration": 6308,
    "start_time": "2023-07-03T07:16:14.525Z"
   },
   {
    "duration": 30659,
    "start_time": "2023-07-03T07:18:04.406Z"
   },
   {
    "duration": 16318,
    "start_time": "2023-07-03T07:18:46.128Z"
   },
   {
    "duration": 18,
    "start_time": "2023-07-03T07:19:06.505Z"
   },
   {
    "duration": 48,
    "start_time": "2023-07-03T07:19:06.525Z"
   },
   {
    "duration": 76710,
    "start_time": "2023-07-03T07:19:06.575Z"
   },
   {
    "duration": 6,
    "start_time": "2023-07-03T07:20:42.668Z"
   },
   {
    "duration": 7,
    "start_time": "2023-07-03T07:20:45.398Z"
   },
   {
    "duration": 5,
    "start_time": "2023-07-03T07:20:48.504Z"
   },
   {
    "duration": 12,
    "start_time": "2023-07-03T07:25:49.801Z"
   },
   {
    "duration": 5,
    "start_time": "2023-07-03T07:25:49.815Z"
   },
   {
    "duration": 83045,
    "start_time": "2023-07-03T07:25:49.822Z"
   },
   {
    "duration": 23,
    "start_time": "2023-07-03T07:27:34.446Z"
   },
   {
    "duration": 9,
    "start_time": "2023-07-03T07:27:34.471Z"
   },
   {
    "duration": 82415,
    "start_time": "2023-07-03T07:27:34.482Z"
   },
   {
    "duration": 13,
    "start_time": "2023-07-03T07:38:45.739Z"
   },
   {
    "duration": 16,
    "start_time": "2023-07-03T07:38:45.757Z"
   },
   {
    "duration": 52916,
    "start_time": "2023-07-03T07:38:45.775Z"
   },
   {
    "duration": 25,
    "start_time": "2023-07-03T07:39:55.903Z"
   },
   {
    "duration": 8,
    "start_time": "2023-07-03T07:40:01.517Z"
   },
   {
    "duration": 7,
    "start_time": "2023-07-03T07:40:15.189Z"
   },
   {
    "duration": 7,
    "start_time": "2023-07-03T07:40:23.687Z"
   },
   {
    "duration": 9,
    "start_time": "2023-07-03T07:40:44.616Z"
   },
   {
    "duration": 8,
    "start_time": "2023-07-03T07:41:22.697Z"
   },
   {
    "duration": 11,
    "start_time": "2023-07-03T07:41:31.110Z"
   },
   {
    "duration": 27,
    "start_time": "2023-07-03T07:41:36.667Z"
   },
   {
    "duration": 9,
    "start_time": "2023-07-03T07:41:56.496Z"
   },
   {
    "duration": 10,
    "start_time": "2023-07-03T07:42:11.734Z"
   },
   {
    "duration": 12,
    "start_time": "2023-07-03T07:42:43.787Z"
   },
   {
    "duration": 10,
    "start_time": "2023-07-03T07:42:56.811Z"
   },
   {
    "duration": 315,
    "start_time": "2023-07-03T07:44:21.062Z"
   },
   {
    "duration": 19866,
    "start_time": "2023-07-03T07:44:23.511Z"
   },
   {
    "duration": 718803,
    "start_time": "2023-07-03T07:44:43.380Z"
   },
   {
    "duration": 17,
    "start_time": "2023-07-03T07:56:42.189Z"
   },
   {
    "duration": 10196,
    "start_time": "2023-07-03T07:56:42.210Z"
   },
   {
    "duration": 17,
    "start_time": "2023-07-03T07:56:52.411Z"
   },
   {
    "duration": 24,
    "start_time": "2023-07-03T07:57:02.467Z"
   },
   {
    "duration": 196310,
    "start_time": "2023-07-03T07:57:02.496Z"
   },
   {
    "duration": 9555,
    "start_time": "2023-07-03T08:00:36.424Z"
   },
   {
    "duration": 18,
    "start_time": "2023-07-03T08:00:47.672Z"
   },
   {
    "duration": 16,
    "start_time": "2023-07-03T08:01:19.901Z"
   },
   {
    "duration": 7,
    "start_time": "2023-07-03T08:01:20.121Z"
   },
   {
    "duration": 210476,
    "start_time": "2023-07-03T08:01:20.622Z"
   },
   {
    "duration": 66,
    "start_time": "2023-07-03T08:04:51.100Z"
   },
   {
    "duration": 53,
    "start_time": "2023-07-03T08:05:07.873Z"
   },
   {
    "duration": 7,
    "start_time": "2023-07-03T08:05:07.930Z"
   },
   {
    "duration": 232,
    "start_time": "2023-07-03T08:05:20.007Z"
   },
   {
    "duration": 5,
    "start_time": "2023-07-03T08:07:25.102Z"
   },
   {
    "duration": 44,
    "start_time": "2023-07-03T08:08:29.649Z"
   },
   {
    "duration": 5,
    "start_time": "2023-07-03T08:08:33.581Z"
   },
   {
    "duration": 5,
    "start_time": "2023-07-03T08:08:35.641Z"
   },
   {
    "duration": 22,
    "start_time": "2023-07-03T08:08:41.415Z"
   },
   {
    "duration": 21,
    "start_time": "2023-07-03T08:08:43.983Z"
   },
   {
    "duration": 334,
    "start_time": "2023-07-03T08:09:01.613Z"
   },
   {
    "duration": 16,
    "start_time": "2023-07-03T08:09:07.654Z"
   },
   {
    "duration": 27,
    "start_time": "2023-07-03T08:10:13.748Z"
   },
   {
    "duration": 7,
    "start_time": "2023-07-03T08:10:14.244Z"
   },
   {
    "duration": 52073,
    "start_time": "2023-07-03T08:10:15.326Z"
   },
   {
    "duration": 1924,
    "start_time": "2023-07-03T08:11:14.498Z"
   },
   {
    "duration": 17,
    "start_time": "2023-07-03T08:11:19.603Z"
   },
   {
    "duration": 7,
    "start_time": "2023-07-03T08:11:19.623Z"
   },
   {
    "duration": 104880,
    "start_time": "2023-07-03T08:11:19.632Z"
   },
   {
    "duration": 0,
    "start_time": "2023-07-03T08:13:04.514Z"
   },
   {
    "duration": 40,
    "start_time": "2023-07-03T08:13:15.346Z"
   },
   {
    "duration": 8,
    "start_time": "2023-07-03T08:13:15.390Z"
   },
   {
    "duration": 68657,
    "start_time": "2023-07-03T08:13:15.401Z"
   },
   {
    "duration": 13,
    "start_time": "2023-07-03T08:15:22.301Z"
   },
   {
    "duration": 59,
    "start_time": "2023-07-03T08:16:24.796Z"
   },
   {
    "duration": 44,
    "start_time": "2023-07-03T08:16:30.524Z"
   },
   {
    "duration": 296,
    "start_time": "2023-07-03T08:16:36.871Z"
   },
   {
    "duration": 231,
    "start_time": "2023-07-03T08:17:07.877Z"
   },
   {
    "duration": 303,
    "start_time": "2023-07-03T08:17:23.778Z"
   },
   {
    "duration": 224,
    "start_time": "2023-07-03T08:18:05.679Z"
   },
   {
    "duration": 220,
    "start_time": "2023-07-03T08:18:14.635Z"
   },
   {
    "duration": 231,
    "start_time": "2023-07-03T08:18:28.200Z"
   },
   {
    "duration": 43,
    "start_time": "2023-07-03T08:18:36.200Z"
   },
   {
    "duration": 228,
    "start_time": "2023-07-03T08:18:39.580Z"
   },
   {
    "duration": 224,
    "start_time": "2023-07-03T08:18:44.264Z"
   },
   {
    "duration": 277,
    "start_time": "2023-07-03T08:18:58.296Z"
   },
   {
    "duration": 340,
    "start_time": "2023-07-03T08:19:27.520Z"
   },
   {
    "duration": 614,
    "start_time": "2023-07-03T08:19:35.274Z"
   },
   {
    "duration": 362,
    "start_time": "2023-07-03T08:19:53.927Z"
   },
   {
    "duration": 350,
    "start_time": "2023-07-03T08:20:06.199Z"
   },
   {
    "duration": 339,
    "start_time": "2023-07-03T08:20:13.407Z"
   },
   {
    "duration": 404,
    "start_time": "2023-07-03T08:20:34.317Z"
   },
   {
    "duration": 345,
    "start_time": "2023-07-03T08:21:10.784Z"
   },
   {
    "duration": 349,
    "start_time": "2023-07-03T08:21:16.697Z"
   },
   {
    "duration": 364,
    "start_time": "2023-07-03T08:21:28.601Z"
   },
   {
    "duration": 494,
    "start_time": "2023-07-03T08:21:32.055Z"
   },
   {
    "duration": 351,
    "start_time": "2023-07-03T08:21:39.333Z"
   },
   {
    "duration": 379,
    "start_time": "2023-07-03T08:21:51.829Z"
   },
   {
    "duration": 3,
    "start_time": "2023-07-03T08:22:44.171Z"
   },
   {
    "duration": 199,
    "start_time": "2023-07-03T08:23:05.003Z"
   },
   {
    "duration": 115,
    "start_time": "2023-07-03T08:24:21.270Z"
   },
   {
    "duration": 348,
    "start_time": "2023-07-03T08:24:27.055Z"
   },
   {
    "duration": 291,
    "start_time": "2023-07-03T08:24:33.081Z"
   },
   {
    "duration": 330,
    "start_time": "2023-07-03T08:24:36.736Z"
   },
   {
    "duration": 263,
    "start_time": "2023-07-03T08:24:49.259Z"
   },
   {
    "duration": 4,
    "start_time": "2023-07-03T08:28:17.888Z"
   },
   {
    "duration": 507,
    "start_time": "2023-07-03T08:28:18.258Z"
   },
   {
    "duration": 6,
    "start_time": "2023-07-03T08:29:44.811Z"
   },
   {
    "duration": 231,
    "start_time": "2023-07-03T08:29:45.750Z"
   },
   {
    "duration": 5,
    "start_time": "2023-07-03T08:29:58.818Z"
   },
   {
    "duration": 231,
    "start_time": "2023-07-03T08:29:59.594Z"
   },
   {
    "duration": 6,
    "start_time": "2023-07-03T08:30:08.298Z"
   },
   {
    "duration": 222,
    "start_time": "2023-07-03T08:30:08.774Z"
   },
   {
    "duration": 331,
    "start_time": "2023-07-03T08:30:16.473Z"
   },
   {
    "duration": 6,
    "start_time": "2023-07-03T08:30:47.030Z"
   },
   {
    "duration": 235,
    "start_time": "2023-07-03T08:30:47.208Z"
   },
   {
    "duration": 364,
    "start_time": "2023-07-03T08:30:48.013Z"
   },
   {
    "duration": 207,
    "start_time": "2023-07-03T08:38:01.315Z"
   },
   {
    "duration": 41,
    "start_time": "2023-07-03T08:38:10.131Z"
   },
   {
    "duration": 183,
    "start_time": "2023-07-03T08:38:29.494Z"
   },
   {
    "duration": 7101,
    "start_time": "2023-07-03T08:38:59.197Z"
   },
   {
    "duration": 1949,
    "start_time": "2023-07-03T08:39:09.596Z"
   },
   {
    "duration": 10122,
    "start_time": "2023-07-03T08:39:12.518Z"
   },
   {
    "duration": 22256,
    "start_time": "2023-07-03T08:39:26.117Z"
   },
   {
    "duration": 923,
    "start_time": "2023-07-03T08:40:16.417Z"
   },
   {
    "duration": 866,
    "start_time": "2023-07-03T08:40:18.592Z"
   },
   {
    "duration": 1634,
    "start_time": "2023-07-03T08:40:35.496Z"
   },
   {
    "duration": 57,
    "start_time": "2023-07-03T08:40:52.139Z"
   },
   {
    "duration": 14,
    "start_time": "2023-07-03T08:41:16.558Z"
   },
   {
    "duration": 25080,
    "start_time": "2023-07-03T08:41:46.504Z"
   },
   {
    "duration": 1072,
    "start_time": "2023-07-03T08:42:47.430Z"
   },
   {
    "duration": 805,
    "start_time": "2023-07-03T08:43:05.581Z"
   },
   {
    "duration": 887,
    "start_time": "2023-07-03T08:43:11.619Z"
   },
   {
    "duration": 840,
    "start_time": "2023-07-03T08:43:47.790Z"
   },
   {
    "duration": 853,
    "start_time": "2023-07-03T08:43:53.396Z"
   },
   {
    "duration": 1233,
    "start_time": "2023-07-03T08:44:23.932Z"
   },
   {
    "duration": 5,
    "start_time": "2023-07-03T08:45:06.185Z"
   },
   {
    "duration": 28,
    "start_time": "2023-07-03T08:45:28.041Z"
   },
   {
    "duration": 373,
    "start_time": "2023-07-03T08:50:00.470Z"
   },
   {
    "duration": 13316,
    "start_time": "2023-07-03T08:51:44.167Z"
   },
   {
    "duration": 237,
    "start_time": "2023-07-03T08:52:42.274Z"
   },
   {
    "duration": 100,
    "start_time": "2023-07-03T08:52:57.428Z"
   },
   {
    "duration": 31,
    "start_time": "2023-07-03T08:53:07.700Z"
   },
   {
    "duration": 56,
    "start_time": "2023-07-03T08:53:21.485Z"
   },
   {
    "duration": 22,
    "start_time": "2023-07-03T08:53:24.420Z"
   },
   {
    "duration": 5,
    "start_time": "2023-07-03T08:53:26.426Z"
   },
   {
    "duration": 5,
    "start_time": "2023-07-03T08:53:30.688Z"
   },
   {
    "duration": 72,
    "start_time": "2023-07-03T08:53:38.654Z"
   },
   {
    "duration": 70,
    "start_time": "2023-07-03T08:54:05.582Z"
   },
   {
    "duration": 6212,
    "start_time": "2023-07-03T08:54:17.244Z"
   },
   {
    "duration": 102,
    "start_time": "2023-07-03T08:54:30.540Z"
   },
   {
    "duration": 7,
    "start_time": "2023-07-03T08:54:30.644Z"
   },
   {
    "duration": 97256,
    "start_time": "2023-07-03T08:54:30.653Z"
   },
   {
    "duration": 91,
    "start_time": "2023-07-03T09:03:07.594Z"
   },
   {
    "duration": 62,
    "start_time": "2023-07-03T09:03:16.579Z"
   },
   {
    "duration": 81,
    "start_time": "2023-07-03T09:06:15.531Z"
   },
   {
    "duration": 1313,
    "start_time": "2023-07-03T09:06:58.776Z"
   },
   {
    "duration": 1067,
    "start_time": "2023-07-03T09:07:24.546Z"
   },
   {
    "duration": 18,
    "start_time": "2023-07-03T09:08:12.187Z"
   },
   {
    "duration": 19,
    "start_time": "2023-07-03T09:08:16.884Z"
   },
   {
    "duration": 25,
    "start_time": "2023-07-03T09:09:04.403Z"
   },
   {
    "duration": 2298,
    "start_time": "2023-07-03T09:09:30.909Z"
   },
   {
    "duration": 1015,
    "start_time": "2023-07-03T09:14:04.885Z"
   },
   {
    "duration": 855,
    "start_time": "2023-07-03T09:14:11.623Z"
   },
   {
    "duration": 28,
    "start_time": "2023-07-03T09:30:40.917Z"
   },
   {
    "duration": 80,
    "start_time": "2023-07-03T09:30:48.242Z"
   },
   {
    "duration": 6311,
    "start_time": "2023-07-03T09:32:05.538Z"
   },
   {
    "duration": 5,
    "start_time": "2023-07-03T09:37:42.500Z"
   },
   {
    "duration": 78,
    "start_time": "2023-07-03T09:38:49.353Z"
   },
   {
    "duration": 33,
    "start_time": "2023-07-03T09:39:08.585Z"
   },
   {
    "duration": 19,
    "start_time": "2023-07-03T09:39:17.180Z"
   },
   {
    "duration": 6,
    "start_time": "2023-07-03T09:39:22.322Z"
   },
   {
    "duration": 6,
    "start_time": "2023-07-03T09:39:25.633Z"
   },
   {
    "duration": 43,
    "start_time": "2023-07-03T09:39:30.078Z"
   },
   {
    "duration": 33,
    "start_time": "2023-07-03T09:39:37.606Z"
   },
   {
    "duration": 16,
    "start_time": "2023-07-03T09:39:46.297Z"
   },
   {
    "duration": 11,
    "start_time": "2023-07-03T09:39:49.437Z"
   },
   {
    "duration": 29,
    "start_time": "2023-07-03T09:39:54.087Z"
   },
   {
    "duration": 28,
    "start_time": "2023-07-03T09:40:01.899Z"
   },
   {
    "duration": 14561,
    "start_time": "2023-07-04T09:23:29.477Z"
   },
   {
    "duration": 16060,
    "start_time": "2023-07-04T09:23:44.043Z"
   },
   {
    "duration": 4,
    "start_time": "2023-07-04T09:24:00.104Z"
   },
   {
    "duration": 5279,
    "start_time": "2023-07-04T09:24:00.109Z"
   },
   {
    "duration": 4274,
    "start_time": "2023-07-04T09:24:05.390Z"
   },
   {
    "duration": 5475,
    "start_time": "2023-07-04T09:24:09.666Z"
   },
   {
    "duration": 4948,
    "start_time": "2023-07-04T09:24:15.143Z"
   },
   {
    "duration": 297,
    "start_time": "2023-07-04T09:24:20.092Z"
   },
   {
    "duration": 219,
    "start_time": "2023-07-04T09:24:20.391Z"
   },
   {
    "duration": 4583,
    "start_time": "2023-07-04T09:24:20.613Z"
   },
   {
    "duration": 13389,
    "start_time": "2023-07-04T09:24:25.198Z"
   },
   {
    "duration": 167,
    "start_time": "2023-07-04T09:24:38.589Z"
   },
   {
    "duration": 35132,
    "start_time": "2023-07-04T09:24:38.762Z"
   },
   {
    "duration": 385,
    "start_time": "2023-07-04T09:25:13.897Z"
   },
   {
    "duration": 2233,
    "start_time": "2023-07-04T09:25:14.284Z"
   },
   {
    "duration": 3,
    "start_time": "2023-07-04T09:25:16.519Z"
   },
   {
    "duration": 352,
    "start_time": "2023-07-04T09:25:16.524Z"
   },
   {
    "duration": 271,
    "start_time": "2023-07-04T09:25:16.888Z"
   },
   {
    "duration": 24848,
    "start_time": "2023-07-04T09:25:17.161Z"
   },
   {
    "duration": 3533,
    "start_time": "2023-07-04T09:25:42.011Z"
   },
   {
    "duration": 4,
    "start_time": "2023-07-04T09:25:45.546Z"
   },
   {
    "duration": 58,
    "start_time": "2023-07-04T09:25:45.553Z"
   },
   {
    "duration": 355,
    "start_time": "2023-07-04T09:25:45.612Z"
   },
   {
    "duration": 6,
    "start_time": "2023-07-04T09:25:45.969Z"
   },
   {
    "duration": 18766,
    "start_time": "2023-07-04T09:25:45.977Z"
   },
   {
    "duration": 10,
    "start_time": "2023-07-04T09:26:04.744Z"
   },
   {
    "duration": 538420,
    "start_time": "2023-07-04T09:26:04.756Z"
   },
   {
    "duration": 21,
    "start_time": "2023-07-04T09:35:03.178Z"
   },
   {
    "duration": 38,
    "start_time": "2023-07-04T09:35:03.201Z"
   },
   {
    "duration": 46795,
    "start_time": "2023-07-04T09:35:03.244Z"
   },
   {
    "duration": 15,
    "start_time": "2023-07-04T09:35:50.044Z"
   },
   {
    "duration": 14,
    "start_time": "2023-07-04T09:35:50.061Z"
   },
   {
    "duration": 195,
    "start_time": "2023-07-04T09:35:50.077Z"
   },
   {
    "duration": 225,
    "start_time": "2023-07-04T09:35:50.273Z"
   },
   {
    "duration": 452,
    "start_time": "2023-07-04T09:35:50.501Z"
   },
   {
    "duration": 0,
    "start_time": "2023-07-04T09:35:50.955Z"
   },
   {
    "duration": 428,
    "start_time": "2023-07-04T10:02:15.411Z"
   },
   {
    "duration": 912,
    "start_time": "2023-07-04T10:02:19.206Z"
   },
   {
    "duration": 33,
    "start_time": "2023-07-04T10:11:18.429Z"
   },
   {
    "duration": 4112,
    "start_time": "2023-07-04T10:11:47.760Z"
   },
   {
    "duration": 169,
    "start_time": "2023-07-04T10:11:54.905Z"
   },
   {
    "duration": 11976,
    "start_time": "2023-07-05T07:24:55.679Z"
   },
   {
    "duration": 291,
    "start_time": "2023-07-05T07:26:52.027Z"
   },
   {
    "duration": 4316,
    "start_time": "2023-07-05T07:26:58.524Z"
   },
   {
    "duration": 10340,
    "start_time": "2023-07-05T07:27:02.842Z"
   },
   {
    "duration": 3,
    "start_time": "2023-07-05T07:27:13.184Z"
   },
   {
    "duration": 3964,
    "start_time": "2023-07-05T07:27:13.189Z"
   },
   {
    "duration": 3099,
    "start_time": "2023-07-05T07:27:17.155Z"
   },
   {
    "duration": 3786,
    "start_time": "2023-07-05T07:27:20.255Z"
   },
   {
    "duration": 3524,
    "start_time": "2023-07-05T07:27:24.042Z"
   },
   {
    "duration": 423,
    "start_time": "2023-07-05T07:27:27.567Z"
   },
   {
    "duration": 176,
    "start_time": "2023-07-05T07:27:51.984Z"
   },
   {
    "duration": 166,
    "start_time": "2023-07-05T07:28:00.311Z"
   },
   {
    "duration": 130,
    "start_time": "2023-07-05T07:28:05.636Z"
   },
   {
    "duration": 167,
    "start_time": "2023-07-05T07:28:09.154Z"
   },
   {
    "duration": 22,
    "start_time": "2023-07-05T07:35:06.655Z"
   },
   {
    "duration": 4632,
    "start_time": "2023-07-05T07:35:12.820Z"
   },
   {
    "duration": 5,
    "start_time": "2023-07-05T07:35:17.454Z"
   },
   {
    "duration": 7,
    "start_time": "2023-07-05T07:35:17.460Z"
   },
   {
    "duration": 4449,
    "start_time": "2023-07-05T07:35:17.469Z"
   },
   {
    "duration": 3858,
    "start_time": "2023-07-05T07:35:21.920Z"
   },
   {
    "duration": 3983,
    "start_time": "2023-07-05T07:35:25.780Z"
   },
   {
    "duration": 3982,
    "start_time": "2023-07-05T07:35:29.764Z"
   },
   {
    "duration": 425,
    "start_time": "2023-07-05T07:35:33.747Z"
   },
   {
    "duration": 173,
    "start_time": "2023-07-05T07:35:34.174Z"
   },
   {
    "duration": 4967,
    "start_time": "2023-07-05T07:35:34.348Z"
   },
   {
    "duration": 13183,
    "start_time": "2023-07-05T07:35:39.317Z"
   },
   {
    "duration": 140,
    "start_time": "2023-07-05T07:35:52.501Z"
   },
   {
    "duration": 30241,
    "start_time": "2023-07-05T07:35:52.643Z"
   },
   {
    "duration": 312,
    "start_time": "2023-07-05T07:36:22.886Z"
   },
   {
    "duration": 6122,
    "start_time": "2023-07-05T07:36:23.200Z"
   },
   {
    "duration": 3,
    "start_time": "2023-07-05T07:36:29.324Z"
   },
   {
    "duration": 164,
    "start_time": "2023-07-05T07:36:29.329Z"
   },
   {
    "duration": 7,
    "start_time": "2023-07-05T07:36:29.494Z"
   },
   {
    "duration": 15,
    "start_time": "2023-07-05T07:39:18.466Z"
   },
   {
    "duration": 5,
    "start_time": "2023-07-05T07:40:00.376Z"
   },
   {
    "duration": 47,
    "start_time": "2023-07-05T07:40:06.242Z"
   },
   {
    "duration": 54,
    "start_time": "2023-07-05T07:42:04.892Z"
   },
   {
    "duration": 87,
    "start_time": "2023-07-05T07:42:09.895Z"
   },
   {
    "duration": 4709,
    "start_time": "2023-07-05T07:42:44.635Z"
   },
   {
    "duration": 5,
    "start_time": "2023-07-05T07:42:49.346Z"
   },
   {
    "duration": 13,
    "start_time": "2023-07-05T07:42:49.352Z"
   },
   {
    "duration": 4717,
    "start_time": "2023-07-05T07:42:49.367Z"
   },
   {
    "duration": 4455,
    "start_time": "2023-07-05T07:42:54.086Z"
   },
   {
    "duration": 4906,
    "start_time": "2023-07-05T07:42:58.543Z"
   },
   {
    "duration": 4656,
    "start_time": "2023-07-05T07:43:03.450Z"
   },
   {
    "duration": 413,
    "start_time": "2023-07-05T07:43:08.107Z"
   },
   {
    "duration": 163,
    "start_time": "2023-07-05T07:43:08.521Z"
   },
   {
    "duration": 4893,
    "start_time": "2023-07-05T07:43:08.686Z"
   },
   {
    "duration": 15538,
    "start_time": "2023-07-05T07:43:13.581Z"
   },
   {
    "duration": 136,
    "start_time": "2023-07-05T07:43:29.120Z"
   },
   {
    "duration": 25257,
    "start_time": "2023-07-05T07:43:29.257Z"
   },
   {
    "duration": 330,
    "start_time": "2023-07-05T07:43:54.516Z"
   },
   {
    "duration": 1681,
    "start_time": "2023-07-05T07:43:54.848Z"
   },
   {
    "duration": 3,
    "start_time": "2023-07-05T07:43:56.531Z"
   },
   {
    "duration": 204,
    "start_time": "2023-07-05T07:43:56.536Z"
   },
   {
    "duration": 13,
    "start_time": "2023-07-05T07:43:56.743Z"
   },
   {
    "duration": 73,
    "start_time": "2023-07-05T07:45:24.924Z"
   },
   {
    "duration": 90,
    "start_time": "2023-07-05T07:45:25.238Z"
   },
   {
    "duration": 19,
    "start_time": "2023-07-05T07:45:46.237Z"
   },
   {
    "duration": 366,
    "start_time": "2023-07-05T07:45:50.978Z"
   },
   {
    "duration": 19,
    "start_time": "2023-07-05T07:48:18.914Z"
   },
   {
    "duration": 29,
    "start_time": "2023-07-05T07:48:23.996Z"
   },
   {
    "duration": 22,
    "start_time": "2023-07-05T07:48:46.122Z"
   },
   {
    "duration": 23,
    "start_time": "2023-07-05T07:48:50.495Z"
   },
   {
    "duration": 6,
    "start_time": "2023-07-05T07:49:01.021Z"
   },
   {
    "duration": 32,
    "start_time": "2023-07-05T07:49:04.329Z"
   },
   {
    "duration": 5,
    "start_time": "2023-07-05T07:49:13.382Z"
   },
   {
    "duration": 3,
    "start_time": "2023-07-05T07:49:24.219Z"
   },
   {
    "duration": 82,
    "start_time": "2023-07-05T07:49:26.890Z"
   },
   {
    "duration": 56,
    "start_time": "2023-07-05T07:51:18.163Z"
   },
   {
    "duration": 6,
    "start_time": "2023-07-05T07:52:20.673Z"
   },
   {
    "duration": 37,
    "start_time": "2023-07-05T07:54:05.787Z"
   },
   {
    "duration": 27,
    "start_time": "2023-07-05T07:54:10.990Z"
   },
   {
    "duration": 41,
    "start_time": "2023-07-05T07:58:35.104Z"
   },
   {
    "duration": 29,
    "start_time": "2023-07-05T07:59:50.714Z"
   },
   {
    "duration": 51,
    "start_time": "2023-07-05T07:59:58.364Z"
   },
   {
    "duration": 8,
    "start_time": "2023-07-05T08:02:00.152Z"
   },
   {
    "duration": 4606,
    "start_time": "2023-07-05T08:03:04.564Z"
   },
   {
    "duration": 5,
    "start_time": "2023-07-05T08:03:09.173Z"
   },
   {
    "duration": 14,
    "start_time": "2023-07-05T08:03:09.180Z"
   },
   {
    "duration": 4764,
    "start_time": "2023-07-05T08:03:09.196Z"
   },
   {
    "duration": 4132,
    "start_time": "2023-07-05T08:03:13.962Z"
   },
   {
    "duration": 5100,
    "start_time": "2023-07-05T08:03:18.096Z"
   },
   {
    "duration": 4407,
    "start_time": "2023-07-05T08:03:23.197Z"
   },
   {
    "duration": 431,
    "start_time": "2023-07-05T08:03:27.605Z"
   },
   {
    "duration": 162,
    "start_time": "2023-07-05T08:03:28.037Z"
   },
   {
    "duration": 4721,
    "start_time": "2023-07-05T08:03:28.201Z"
   },
   {
    "duration": 0,
    "start_time": "2023-07-05T08:03:32.924Z"
   },
   {
    "duration": 0,
    "start_time": "2023-07-05T08:03:32.925Z"
   },
   {
    "duration": 0,
    "start_time": "2023-07-05T08:03:32.926Z"
   },
   {
    "duration": 0,
    "start_time": "2023-07-05T08:03:32.927Z"
   },
   {
    "duration": 0,
    "start_time": "2023-07-05T08:03:32.928Z"
   },
   {
    "duration": 0,
    "start_time": "2023-07-05T08:03:32.929Z"
   },
   {
    "duration": 0,
    "start_time": "2023-07-05T08:03:32.930Z"
   },
   {
    "duration": 0,
    "start_time": "2023-07-05T08:03:32.931Z"
   },
   {
    "duration": 0,
    "start_time": "2023-07-05T08:03:32.932Z"
   },
   {
    "duration": 0,
    "start_time": "2023-07-05T08:03:32.933Z"
   },
   {
    "duration": 0,
    "start_time": "2023-07-05T08:03:33.094Z"
   },
   {
    "duration": 0,
    "start_time": "2023-07-05T08:03:33.095Z"
   },
   {
    "duration": 0,
    "start_time": "2023-07-05T08:03:33.096Z"
   },
   {
    "duration": 0,
    "start_time": "2023-07-05T08:03:33.097Z"
   },
   {
    "duration": 0,
    "start_time": "2023-07-05T08:03:33.098Z"
   },
   {
    "duration": 0,
    "start_time": "2023-07-05T08:03:33.099Z"
   },
   {
    "duration": 0,
    "start_time": "2023-07-05T08:03:33.100Z"
   },
   {
    "duration": 0,
    "start_time": "2023-07-05T08:03:33.101Z"
   },
   {
    "duration": 0,
    "start_time": "2023-07-05T08:03:33.102Z"
   },
   {
    "duration": 4632,
    "start_time": "2023-07-05T08:04:10.895Z"
   },
   {
    "duration": 6,
    "start_time": "2023-07-05T08:04:15.529Z"
   },
   {
    "duration": 53,
    "start_time": "2023-07-05T08:04:15.537Z"
   },
   {
    "duration": 5229,
    "start_time": "2023-07-05T08:04:15.593Z"
   },
   {
    "duration": 5050,
    "start_time": "2023-07-05T08:04:20.824Z"
   },
   {
    "duration": 5153,
    "start_time": "2023-07-05T08:04:25.876Z"
   },
   {
    "duration": 4905,
    "start_time": "2023-07-05T08:04:31.031Z"
   },
   {
    "duration": 427,
    "start_time": "2023-07-05T08:04:35.937Z"
   },
   {
    "duration": 192,
    "start_time": "2023-07-05T08:04:36.366Z"
   },
   {
    "duration": 4839,
    "start_time": "2023-07-05T08:04:36.560Z"
   },
   {
    "duration": 14853,
    "start_time": "2023-07-05T08:04:41.401Z"
   },
   {
    "duration": 173,
    "start_time": "2023-07-05T08:04:56.257Z"
   },
   {
    "duration": 32783,
    "start_time": "2023-07-05T08:04:56.432Z"
   },
   {
    "duration": 335,
    "start_time": "2023-07-05T08:05:29.219Z"
   },
   {
    "duration": 1817,
    "start_time": "2023-07-05T08:05:29.556Z"
   },
   {
    "duration": 4,
    "start_time": "2023-07-05T08:05:31.374Z"
   },
   {
    "duration": 280,
    "start_time": "2023-07-05T08:05:31.379Z"
   },
   {
    "duration": 30,
    "start_time": "2023-07-05T08:05:31.662Z"
   },
   {
    "duration": 111,
    "start_time": "2023-07-05T08:05:31.695Z"
   },
   {
    "duration": 110,
    "start_time": "2023-07-05T08:05:31.808Z"
   },
   {
    "duration": 74,
    "start_time": "2023-07-05T08:05:31.920Z"
   },
   {
    "duration": 97,
    "start_time": "2023-07-05T08:05:31.996Z"
   },
   {
    "duration": 107,
    "start_time": "2023-07-05T08:05:32.096Z"
   },
   {
    "duration": 48,
    "start_time": "2023-07-05T08:05:32.204Z"
   },
   {
    "duration": 155,
    "start_time": "2023-07-05T08:05:32.253Z"
   },
   {
    "duration": 144,
    "start_time": "2023-07-05T08:05:32.410Z"
   },
   {
    "duration": 26,
    "start_time": "2023-07-05T08:05:32.556Z"
   },
   {
    "duration": 306,
    "start_time": "2023-07-05T08:05:32.584Z"
   },
   {
    "duration": 165,
    "start_time": "2023-07-05T08:05:32.891Z"
   },
   {
    "duration": 17134,
    "start_time": "2023-07-05T08:05:44.955Z"
   },
   {
    "duration": 399,
    "start_time": "2023-07-05T08:06:02.091Z"
   },
   {
    "duration": 1087,
    "start_time": "2023-07-05T08:07:17.472Z"
   },
   {
    "duration": 14933,
    "start_time": "2023-07-05T08:07:46.652Z"
   },
   {
    "duration": 4790,
    "start_time": "2023-07-05T08:09:13.730Z"
   },
   {
    "duration": 6,
    "start_time": "2023-07-05T08:09:18.522Z"
   },
   {
    "duration": 26,
    "start_time": "2023-07-05T08:09:18.530Z"
   },
   {
    "duration": 5768,
    "start_time": "2023-07-05T08:09:18.558Z"
   },
   {
    "duration": 5206,
    "start_time": "2023-07-05T08:09:24.328Z"
   },
   {
    "duration": 5004,
    "start_time": "2023-07-05T08:09:29.536Z"
   },
   {
    "duration": 4915,
    "start_time": "2023-07-05T08:09:34.542Z"
   },
   {
    "duration": 413,
    "start_time": "2023-07-05T08:09:39.459Z"
   },
   {
    "duration": 179,
    "start_time": "2023-07-05T08:09:39.874Z"
   },
   {
    "duration": 4727,
    "start_time": "2023-07-05T08:09:40.054Z"
   },
   {
    "duration": 14066,
    "start_time": "2023-07-05T08:09:44.782Z"
   },
   {
    "duration": 136,
    "start_time": "2023-07-05T08:09:58.850Z"
   },
   {
    "duration": 35194,
    "start_time": "2023-07-05T08:09:58.988Z"
   },
   {
    "duration": 519,
    "start_time": "2023-07-05T08:10:34.185Z"
   },
   {
    "duration": 2013,
    "start_time": "2023-07-05T08:10:34.705Z"
   },
   {
    "duration": 3,
    "start_time": "2023-07-05T08:10:36.720Z"
   },
   {
    "duration": 229,
    "start_time": "2023-07-05T08:10:36.724Z"
   },
   {
    "duration": 24,
    "start_time": "2023-07-05T08:10:36.955Z"
   },
   {
    "duration": 80,
    "start_time": "2023-07-05T08:10:36.981Z"
   },
   {
    "duration": 116,
    "start_time": "2023-07-05T08:10:37.063Z"
   },
   {
    "duration": 69,
    "start_time": "2023-07-05T08:10:37.181Z"
   },
   {
    "duration": 96,
    "start_time": "2023-07-05T08:10:37.251Z"
   },
   {
    "duration": 97,
    "start_time": "2023-07-05T08:10:37.348Z"
   },
   {
    "duration": 53,
    "start_time": "2023-07-05T08:10:37.447Z"
   },
   {
    "duration": 113,
    "start_time": "2023-07-05T08:10:37.502Z"
   },
   {
    "duration": 101,
    "start_time": "2023-07-05T08:10:37.617Z"
   },
   {
    "duration": 12,
    "start_time": "2023-07-05T08:10:37.720Z"
   },
   {
    "duration": 87,
    "start_time": "2023-07-05T08:10:37.734Z"
   },
   {
    "duration": 104,
    "start_time": "2023-07-05T08:10:37.823Z"
   },
   {
    "duration": 3,
    "start_time": "2023-07-05T08:10:37.928Z"
   },
   {
    "duration": 17125,
    "start_time": "2023-07-05T08:10:37.933Z"
   },
   {
    "duration": 17157,
    "start_time": "2023-07-11T11:15:24.206Z"
   },
   {
    "duration": 12412,
    "start_time": "2023-07-11T11:15:41.366Z"
   },
   {
    "duration": 6,
    "start_time": "2023-07-11T11:15:53.781Z"
   },
   {
    "duration": 4912,
    "start_time": "2023-07-11T11:15:53.791Z"
   },
   {
    "duration": 4101,
    "start_time": "2023-07-11T11:15:58.706Z"
   },
   {
    "duration": 4700,
    "start_time": "2023-07-11T11:16:02.809Z"
   },
   {
    "duration": 4396,
    "start_time": "2023-07-11T11:16:07.512Z"
   },
   {
    "duration": 383,
    "start_time": "2023-07-11T11:16:11.910Z"
   },
   {
    "duration": 245,
    "start_time": "2023-07-11T11:16:12.295Z"
   },
   {
    "duration": 4890,
    "start_time": "2023-07-11T11:16:12.542Z"
   },
   {
    "duration": 13066,
    "start_time": "2023-07-11T11:16:17.434Z"
   },
   {
    "duration": 203,
    "start_time": "2023-07-11T11:16:30.503Z"
   },
   {
    "duration": 26295,
    "start_time": "2023-07-11T11:16:30.708Z"
   },
   {
    "duration": 389,
    "start_time": "2023-07-11T11:16:57.006Z"
   },
   {
    "duration": 2097,
    "start_time": "2023-07-11T11:16:57.398Z"
   },
   {
    "duration": 4,
    "start_time": "2023-07-11T11:16:59.496Z"
   },
   {
    "duration": 241,
    "start_time": "2023-07-11T11:16:59.501Z"
   },
   {
    "duration": 33,
    "start_time": "2023-07-11T11:16:59.744Z"
   },
   {
    "duration": 116,
    "start_time": "2023-07-11T11:16:59.780Z"
   },
   {
    "duration": 122,
    "start_time": "2023-07-11T11:16:59.898Z"
   },
   {
    "duration": 84,
    "start_time": "2023-07-11T11:17:00.022Z"
   },
   {
    "duration": 120,
    "start_time": "2023-07-11T11:17:00.108Z"
   },
   {
    "duration": 144,
    "start_time": "2023-07-11T11:17:00.230Z"
   },
   {
    "duration": 58,
    "start_time": "2023-07-11T11:17:00.376Z"
   },
   {
    "duration": 160,
    "start_time": "2023-07-11T11:17:00.436Z"
   },
   {
    "duration": 151,
    "start_time": "2023-07-11T11:17:00.598Z"
   },
   {
    "duration": 30,
    "start_time": "2023-07-11T11:17:00.750Z"
   },
   {
    "duration": 116,
    "start_time": "2023-07-11T11:17:00.783Z"
   },
   {
    "duration": 134,
    "start_time": "2023-07-11T11:17:00.903Z"
   },
   {
    "duration": 4,
    "start_time": "2023-07-11T11:17:01.038Z"
   },
   {
    "duration": 22676,
    "start_time": "2023-07-11T11:17:01.043Z"
   },
   {
    "duration": 3561,
    "start_time": "2023-07-11T11:17:23.721Z"
   },
   {
    "duration": 3,
    "start_time": "2023-07-11T11:17:27.285Z"
   },
   {
    "duration": 8,
    "start_time": "2023-07-11T11:17:27.289Z"
   },
   {
    "duration": 349,
    "start_time": "2023-07-11T11:17:27.299Z"
   },
   {
    "duration": 22,
    "start_time": "2023-07-11T11:17:27.653Z"
   },
   {
    "duration": 19851,
    "start_time": "2023-07-11T11:17:27.678Z"
   },
   {
    "duration": 4,
    "start_time": "2023-07-11T11:17:47.531Z"
   },
   {
    "duration": 151470,
    "start_time": "2023-07-11T11:17:47.537Z"
   },
   {
    "duration": 472,
    "start_time": "2023-07-11T11:20:19.009Z"
   },
   {
    "duration": 0,
    "start_time": "2023-07-11T11:20:19.484Z"
   },
   {
    "duration": 0,
    "start_time": "2023-07-11T11:20:19.486Z"
   },
   {
    "duration": 0,
    "start_time": "2023-07-11T11:20:19.487Z"
   },
   {
    "duration": 0,
    "start_time": "2023-07-11T11:20:19.488Z"
   },
   {
    "duration": 0,
    "start_time": "2023-07-11T11:20:19.490Z"
   },
   {
    "duration": 0,
    "start_time": "2023-07-11T11:20:19.491Z"
   },
   {
    "duration": 0,
    "start_time": "2023-07-11T11:20:19.492Z"
   },
   {
    "duration": 0,
    "start_time": "2023-07-11T11:20:19.493Z"
   },
   {
    "duration": 0,
    "start_time": "2023-07-11T11:20:19.494Z"
   },
   {
    "duration": 37,
    "start_time": "2023-07-11T11:24:01.272Z"
   },
   {
    "duration": 19,
    "start_time": "2023-07-11T11:24:17.781Z"
   },
   {
    "duration": 6,
    "start_time": "2023-07-11T11:24:20.509Z"
   },
   {
    "duration": 41852,
    "start_time": "2023-07-11T11:24:20.821Z"
   },
   {
    "duration": 15,
    "start_time": "2023-07-11T11:25:02.677Z"
   },
   {
    "duration": 31,
    "start_time": "2023-07-11T11:25:02.694Z"
   },
   {
    "duration": 270,
    "start_time": "2023-07-11T11:25:02.727Z"
   },
   {
    "duration": 301,
    "start_time": "2023-07-11T11:25:02.999Z"
   },
   {
    "duration": 20,
    "start_time": "2023-07-11T11:25:03.302Z"
   },
   {
    "duration": 0,
    "start_time": "2023-07-11T11:25:03.324Z"
   },
   {
    "duration": 0,
    "start_time": "2023-07-11T11:25:03.326Z"
   },
   {
    "duration": 11,
    "start_time": "2023-07-11T11:26:39.601Z"
   },
   {
    "duration": 6,
    "start_time": "2023-07-11T11:26:39.908Z"
   },
   {
    "duration": 10141,
    "start_time": "2023-07-11T11:26:40.039Z"
   },
   {
    "duration": 11,
    "start_time": "2023-07-11T11:26:50.183Z"
   },
   {
    "duration": 10359,
    "start_time": "2023-07-11T11:27:27.161Z"
   },
   {
    "duration": 33,
    "start_time": "2023-07-11T11:27:45.049Z"
   },
   {
    "duration": 10,
    "start_time": "2023-07-11T11:27:45.360Z"
   },
   {
    "duration": 19677,
    "start_time": "2023-07-11T11:27:45.521Z"
   },
   {
    "duration": 12,
    "start_time": "2023-07-11T11:28:05.200Z"
   },
   {
    "duration": 5,
    "start_time": "2023-07-11T11:28:05.412Z"
   },
   {
    "duration": 247,
    "start_time": "2023-07-11T11:28:05.419Z"
   },
   {
    "duration": 268,
    "start_time": "2023-07-11T11:28:05.670Z"
   },
   {
    "duration": 108,
    "start_time": "2023-07-11T11:28:05.940Z"
   },
   {
    "duration": 610,
    "start_time": "2023-07-11T11:28:15.551Z"
   },
   {
    "duration": 845,
    "start_time": "2023-07-11T11:28:31.446Z"
   },
   {
    "duration": 11,
    "start_time": "2023-07-11T11:45:24.530Z"
   },
   {
    "duration": 5,
    "start_time": "2023-07-11T11:45:41.802Z"
   },
   {
    "duration": 230,
    "start_time": "2023-07-11T11:45:42.195Z"
   },
   {
    "duration": 366,
    "start_time": "2023-07-11T11:45:43.314Z"
   },
   {
    "duration": 1114,
    "start_time": "2023-10-25T05:20:04.769Z"
   },
   {
    "duration": 0,
    "start_time": "2023-10-25T05:20:05.885Z"
   },
   {
    "duration": 3892,
    "start_time": "2023-10-25T05:20:27.678Z"
   },
   {
    "duration": 1656,
    "start_time": "2023-10-25T05:21:21.510Z"
   },
   {
    "duration": 9325,
    "start_time": "2023-10-25T05:21:23.994Z"
   },
   {
    "duration": 606,
    "start_time": "2023-10-25T05:22:06.406Z"
   },
   {
    "duration": 211,
    "start_time": "2023-10-25T05:22:24.605Z"
   },
   {
    "duration": 79,
    "start_time": "2023-10-25T05:24:59.463Z"
   },
   {
    "duration": 4,
    "start_time": "2023-10-25T05:25:05.332Z"
   },
   {
    "duration": 4918,
    "start_time": "2023-10-25T05:25:22.563Z"
   },
   {
    "duration": 1103,
    "start_time": "2023-10-25T05:28:22.234Z"
   },
   {
    "duration": 178,
    "start_time": "2023-10-25T05:28:25.025Z"
   },
   {
    "duration": 6867,
    "start_time": "2023-10-25T05:28:33.343Z"
   },
   {
    "duration": 365,
    "start_time": "2023-10-25T05:28:44.417Z"
   },
   {
    "duration": 1861,
    "start_time": "2023-10-25T05:32:03.543Z"
   },
   {
    "duration": 6,
    "start_time": "2023-10-25T05:32:27.747Z"
   },
   {
    "duration": 158,
    "start_time": "2023-10-25T05:32:32.965Z"
   },
   {
    "duration": 13,
    "start_time": "2023-10-25T05:32:45.590Z"
   },
   {
    "duration": 74,
    "start_time": "2023-10-25T05:32:57.621Z"
   },
   {
    "duration": 83,
    "start_time": "2023-10-25T05:32:58.277Z"
   },
   {
    "duration": 60,
    "start_time": "2023-10-25T05:32:58.941Z"
   },
   {
    "duration": 72,
    "start_time": "2023-10-25T05:32:59.685Z"
   },
   {
    "duration": 87,
    "start_time": "2023-10-25T05:33:00.636Z"
   },
   {
    "duration": 44,
    "start_time": "2023-10-25T05:33:01.018Z"
   },
   {
    "duration": 86,
    "start_time": "2023-10-25T05:33:41.221Z"
   },
   {
    "duration": 85,
    "start_time": "2023-10-25T05:33:41.741Z"
   },
   {
    "duration": 19,
    "start_time": "2023-10-25T05:33:42.653Z"
   },
   {
    "duration": 69,
    "start_time": "2023-10-25T05:33:43.685Z"
   },
   {
    "duration": 80,
    "start_time": "2023-10-25T05:33:45.063Z"
   },
   {
    "duration": 17413,
    "start_time": "2023-10-25T05:33:46.893Z"
   },
   {
    "duration": 68,
    "start_time": "2023-10-25T05:34:53.797Z"
   },
   {
    "duration": 303,
    "start_time": "2023-10-25T05:36:51.919Z"
   },
   {
    "duration": 5,
    "start_time": "2023-10-25T05:36:59.579Z"
   },
   {
    "duration": 12,
    "start_time": "2023-10-25T05:46:18.126Z"
   },
   {
    "duration": 2601,
    "start_time": "2023-10-25T05:46:21.090Z"
   },
   {
    "duration": 3,
    "start_time": "2023-10-25T05:46:27.321Z"
   },
   {
    "duration": 5,
    "start_time": "2023-10-25T05:46:28.834Z"
   },
   {
    "duration": 8,
    "start_time": "2023-10-25T05:46:34.542Z"
   },
   {
    "duration": 12,
    "start_time": "2023-10-25T05:56:36.154Z"
   },
   {
    "duration": 3,
    "start_time": "2023-10-25T05:56:39.769Z"
   },
   {
    "duration": 4,
    "start_time": "2023-10-25T05:56:42.256Z"
   },
   {
    "duration": 1102,
    "start_time": "2023-10-25T05:56:45.002Z"
   },
   {
    "duration": 4,
    "start_time": "2023-10-25T05:56:57.828Z"
   },
   {
    "duration": 56271,
    "start_time": "2023-10-25T05:56:58.374Z"
   },
   {
    "duration": 23,
    "start_time": "2023-10-25T05:59:02.705Z"
   },
   {
    "duration": 35,
    "start_time": "2023-10-25T05:59:05.119Z"
   },
   {
    "duration": 36,
    "start_time": "2023-10-25T05:59:13.952Z"
   },
   {
    "duration": 36,
    "start_time": "2023-10-25T05:59:27.709Z"
   },
   {
    "duration": 36,
    "start_time": "2023-10-25T05:59:38.665Z"
   }
  ],
  "kernelspec": {
   "display_name": "Python 3 (ipykernel)",
   "language": "python",
   "name": "python3"
  },
  "language_info": {
   "codemirror_mode": {
    "name": "ipython",
    "version": 3
   },
   "file_extension": ".py",
   "mimetype": "text/x-python",
   "name": "python",
   "nbconvert_exporter": "python",
   "pygments_lexer": "ipython3",
   "version": "3.9.5"
  },
  "toc": {
   "base_numbering": 1,
   "nav_menu": {},
   "number_sections": false,
   "sideBar": true,
   "skip_h1_title": false,
   "title_cell": "Table of Contents",
   "title_sidebar": "Contents",
   "toc_cell": false,
   "toc_position": {
    "height": "calc(100% - 180px)",
    "left": "10px",
    "top": "150px",
    "width": "263.797px"
   },
   "toc_section_display": true,
   "toc_window_display": true
  },
  "varInspector": {
   "cols": {
    "lenName": 16,
    "lenType": 16,
    "lenVar": 40
   },
   "kernels_config": {
    "python": {
     "delete_cmd_postfix": "",
     "delete_cmd_prefix": "del ",
     "library": "var_list.py",
     "varRefreshCmd": "print(var_dic_list())"
    },
    "r": {
     "delete_cmd_postfix": ") ",
     "delete_cmd_prefix": "rm(",
     "library": "var_list.r",
     "varRefreshCmd": "cat(var_dic_list()) "
    }
   },
   "types_to_exclude": [
    "module",
    "function",
    "builtin_function_or_method",
    "instance",
    "_Feature"
   ],
   "window_display": false
  }
 },
 "nbformat": 4,
 "nbformat_minor": 5
}
