{
 "cells": [
  {
   "cell_type": "code",
   "execution_count": null,
   "metadata": {},
   "outputs": [],
   "source": [
    "import pandas as pd\n",
    "from sklearn.ensemble import RandomForestClassifier\n",
    "from catboost import CatBoostClassifier\n",
    "from sklearn.naive_bayes import GaussianNB\n",
    "from sklearn.metrics import f1_score, precision_score, recall_score, make_scorer\n",
    "from sklearn.preprocessing import OneHotEncoder\n",
    "from sklearn.compose import make_column_transformer\n",
    "from sklearn.model_selection import GridSearchCV, cross_val_predict\n",
    "import seaborn as sns\n",
    "import matplotlib.pyplot as plt\n",
    "import numpy as np\n",
    "import tqdm"
   ]
  },
  {
   "cell_type": "code",
   "execution_count": null,
   "metadata": {},
   "outputs": [],
   "source": [
    "SUMMER_COEF = 1.4\n",
    "SPRING_AUTUMN_COEF = 1.2\n",
    "SUMMER_LIST = ['june', 'july', 'august']\n",
    "SPRING_AUTUMN_LIST = ['september', 'october', 'november',\n",
    "                      'march', 'april', 'may']\n",
    "PRICE_PER_CATEGORY_LIVING = {\n",
    "    \"A\": 1000,\n",
    "    \"B\": 800, \n",
    "    \"C\": 600, \n",
    "    \"D\": 550, \n",
    "    \"E\": 500, \n",
    "    \"F\": 450, \n",
    "    \"G\": 350,\n",
    "}\n",
    "PRICE_PER_CATEGORY_CLEANING = {\n",
    "    \"A\": 400,\n",
    "    \"B\": 350, \n",
    "    \"C\": 350, \n",
    "    \"D\": 150, \n",
    "    \"E\": 150, \n",
    "    \"F\": 150, \n",
    "    \"G\": 150,\n",
    "}\n",
    "RANDOM_STATE = 12345\n",
    "\n",
    "BUDGET = 400_000\n",
    "\n",
    "pd.options.display.max_columns = 200"
   ]
  },
  {
   "cell_type": "code",
   "execution_count": null,
   "metadata": {},
   "outputs": [],
   "source": [
    "try:\n",
    "    data_train = pd.read_csv(\"hotel_train.csv\")\n",
    "    data_test = pd.read_csv(\"hotel_test.csv\")\n",
    "except:\n",
    "    data_train = pd.read_csv(\"/datasets/hotel_train.csv\")\n",
    "    data_test = pd.read_csv(\"/datasets/hotel_test.csv\")"
   ]
  },
  {
   "cell_type": "code",
   "execution_count": null,
   "metadata": {},
   "outputs": [],
   "source": [
    "data_test_V2 = data_test.copy()"
   ]
  },
  {
   "cell_type": "code",
   "execution_count": null,
   "metadata": {
    "scrolled": true
   },
   "outputs": [],
   "source": [
    "data_train.info()"
   ]
  },
  {
   "cell_type": "code",
   "execution_count": null,
   "metadata": {},
   "outputs": [],
   "source": [
    "def profit(data):\n",
    "    if data[\"is_canceled\"] != 1:\n",
    "        if data[\"arrival_date_month\"] in SUMMER_LIST:\n",
    "            return PRICE_PER_CATEGORY_LIVING[data[\"reserved_room_type\"]] * SUMMER_COEF * data[\"total_nights\"] - PRICE_PER_CATEGORY_CLEANING[data[\"reserved_room_type\"]] * (data[\"total_nights\"] // 2 + 1)\n",
    "        elif data[\"arrival_date_month\"] in SPRING_AUTUMN_LIST:\n",
    "              return PRICE_PER_CATEGORY_LIVING[data[\"reserved_room_type\"]] * SPRING_AUTUMN_COEF * data[\"total_nights\"] - PRICE_PER_CATEGORY_CLEANING[data[\"reserved_room_type\"]] * (data[\"total_nights\"] // 2 + 1)\n",
    "        else:\n",
    "            return PRICE_PER_CATEGORY_LIVING[data[\"reserved_room_type\"]] * data[\"total_nights\"] - PRICE_PER_CATEGORY_CLEANING[data[\"reserved_room_type\"]] * (data[\"total_nights\"] // 2 + 1)\n",
    "    else:\n",
    "        if data[\"arrival_date_month\"] in SUMMER_LIST:\n",
    "            return (PRICE_PER_CATEGORY_LIVING[data[\"reserved_room_type\"]] * SUMMER_COEF  + PRICE_PER_CATEGORY_CLEANING[data[\"reserved_room_type\"]]) * -1\n",
    "        elif data[\"arrival_date_month\"] in SPRING_AUTUMN_LIST:\n",
    "            return (PRICE_PER_CATEGORY_LIVING[data[\"reserved_room_type\"]] * SPRING_AUTUMN_COEF  + PRICE_PER_CATEGORY_CLEANING[data[\"reserved_room_type\"]]) * -1\n",
    "        else:\n",
    "            return (PRICE_PER_CATEGORY_LIVING[data[\"reserved_room_type\"]]  + PRICE_PER_CATEGORY_CLEANING[data[\"reserved_room_type\"]]) * -1"
   ]
  },
  {
   "cell_type": "code",
   "execution_count": null,
   "metadata": {},
   "outputs": [],
   "source": [
    "def seasons(data):\n",
    "    if data in ['september', 'october', 'november']:\n",
    "        return \"autumn\"\n",
    "    if data in ['march', 'april', 'may']:\n",
    "        return \"spring\"\n",
    "    if data in ['june', 'july', 'august']:\n",
    "        return \"summer\"\n",
    "    if data in ['december', 'january', 'february']:\n",
    "        return \"winter\""
   ]
  },
  {
   "cell_type": "code",
   "execution_count": null,
   "metadata": {},
   "outputs": [],
   "source": [
    "def preprocessing(data:pd.DataFrame) -> pd.DataFrame:\n",
    "\n",
    "    data = data.drop([\"id\", \"arrival_date_year\", \"arrival_date_day_of_month\", \"arrival_date_week_number\"], axis=1)\n",
    "\n",
    "    data[\"arrival_date_month\"] = data[\"arrival_date_month\"].apply(str.lower)\n",
    "    data[\"reserved_room_type\"] = data[\"reserved_room_type\"].apply(str.strip)\n",
    "    data[\"meal\"] = data[\"meal\"].apply(str.strip)\n",
    "\n",
    "    data[\"profit\"] = [profit(data.loc[x]) for x in range(len(data))]\n",
    "\n",
    "    data[\"arrival_date_month\"] = data[\"arrival_date_month\"].apply(seasons)\n",
    "\n",
    "    return data"
   ]
  },
  {
   "cell_type": "code",
   "execution_count": null,
   "metadata": {},
   "outputs": [],
   "source": [
    "def getfullitemsforOHE(wholedf,featlist,sort=True):\n",
    "    def sortornot(X):\n",
    "        if sort==False:\n",
    "            return X\n",
    "        else:\n",
    "            return sorted(X)\n",
    "       \n",
    "    fulllist=[]\n",
    "    for feat in featlist:\n",
    "        fulllist.append(sortornot(wholedf[feat].unique()))\n",
    "    return fulllist"
   ]
  },
  {
   "cell_type": "code",
   "execution_count": null,
   "metadata": {},
   "outputs": [],
   "source": [
    "def features_target(data:pd.DataFrame):\n",
    "    features = data.drop([\"is_canceled\", \"profit\"], axis=1)\n",
    "    target = data[\"is_canceled\"]\n",
    "    return features, target"
   ]
  },
  {
   "cell_type": "code",
   "execution_count": null,
   "metadata": {},
   "outputs": [],
   "source": [
    "display(data_train[\"arrival_date_month\"].unique())"
   ]
  },
  {
   "cell_type": "code",
   "execution_count": null,
   "metadata": {},
   "outputs": [],
   "source": [
    "display(data_train[\"reserved_room_type\"].unique())"
   ]
  },
  {
   "cell_type": "code",
   "execution_count": null,
   "metadata": {},
   "outputs": [],
   "source": [
    "display(data_train[\"meal\"].unique())"
   ]
  },
  {
   "cell_type": "code",
   "execution_count": null,
   "metadata": {},
   "outputs": [],
   "source": [
    "full_data = pd.concat((data_train, data_test))\n",
    "full_data = full_data.reset_index(drop=True)"
   ]
  },
  {
   "cell_type": "code",
   "execution_count": null,
   "metadata": {},
   "outputs": [],
   "source": [
    "data_train = preprocessing(data_train)\n",
    "data_test = preprocessing(data_test)\n",
    "full_data = preprocessing(full_data)"
   ]
  },
  {
   "cell_type": "code",
   "execution_count": null,
   "metadata": {},
   "outputs": [],
   "source": [
    "cat_columns = [\"country\", \"arrival_date_month\", \"meal\", \"distribution_channel\", \"reserved_room_type\", \"customer_type\"]"
   ]
  },
  {
   "cell_type": "code",
   "execution_count": null,
   "metadata": {},
   "outputs": [],
   "source": [
    "cats = getfullitemsforOHE(full_data, cat_columns)"
   ]
  },
  {
   "cell_type": "code",
   "execution_count": null,
   "metadata": {
    "scrolled": true
   },
   "outputs": [],
   "source": [
    "print(cats)"
   ]
  },
  {
   "cell_type": "code",
   "execution_count": null,
   "metadata": {},
   "outputs": [],
   "source": [
    "ohe=OneHotEncoder(categories=cats, sparse=False,handle_unknown=\"ignore\")\n",
    "\n",
    "X_train=ohe.fit_transform(data_train[cat_columns])\n",
    "ohe_train = pd.DataFrame(X_train,columns=ohe.get_feature_names(cat_columns))\n",
    "\n",
    "X_test=ohe.fit_transform(data_test[cat_columns])\n",
    "ohe_test = pd.DataFrame(X_test,columns=ohe.get_feature_names(cat_columns))"
   ]
  },
  {
   "cell_type": "code",
   "execution_count": null,
   "metadata": {},
   "outputs": [],
   "source": [
    "data_train = data_train.drop([\"country\", \"arrival_date_month\", \"meal\", \"distribution_channel\", \"reserved_room_type\", \"customer_type\"], axis=1)\n",
    "data_train = data_train.join(ohe_train)\n",
    "\n",
    "data_test = data_test.drop([\"country\", \"arrival_date_month\", \"meal\", \"distribution_channel\", \"reserved_room_type\", \"customer_type\"], axis=1)\n",
    "data_test = data_test.join(ohe_test)"
   ]
  },
  {
   "cell_type": "code",
   "execution_count": null,
   "metadata": {},
   "outputs": [],
   "source": [
    "data_explore = data_train.copy()"
   ]
  },
  {
   "cell_type": "code",
   "execution_count": null,
   "metadata": {},
   "outputs": [],
   "source": [
    "corr = data_explore.corr(method=\"pearson\")"
   ]
  },
  {
   "cell_type": "code",
   "execution_count": null,
   "metadata": {},
   "outputs": [],
   "source": [
    "mask = np.triu(np.ones_like(corr, dtype=bool))\n",
    "\n",
    "f, ax = plt.subplots(figsize=(300, 300))\n",
    "\n",
    "cmap = sns.diverging_palette(230, 20, as_cmap=True)\n",
    "\n",
    "sns.heatmap(corr, mask=mask, cmap=cmap, vmax=.3, center=0,\n",
    "            square=True, linewidths=.5, cbar_kws={\"shrink\": .5})"
   ]
  },
  {
   "cell_type": "code",
   "execution_count": null,
   "metadata": {
    "scrolled": true
   },
   "outputs": [],
   "source": [
    "data_explore.boxplot(\"profit\")"
   ]
  },
  {
   "cell_type": "code",
   "execution_count": null,
   "metadata": {},
   "outputs": [],
   "source": [
    "display(data_explore[data_explore[\"profit\"] > 6000][\"profit\"].count())"
   ]
  },
  {
   "cell_type": "code",
   "execution_count": null,
   "metadata": {},
   "outputs": [],
   "source": [
    "data_explore.boxplot(\"total_of_special_requests\")"
   ]
  },
  {
   "cell_type": "code",
   "execution_count": null,
   "metadata": {},
   "outputs": [],
   "source": [
    "display(data_explore[data_explore[\"total_of_special_requests\"] >= 3][\"total_of_special_requests\"].count())"
   ]
  },
  {
   "cell_type": "code",
   "execution_count": null,
   "metadata": {},
   "outputs": [],
   "source": [
    "data_explore.boxplot(\"total_nights\")"
   ]
  },
  {
   "cell_type": "code",
   "execution_count": null,
   "metadata": {},
   "outputs": [],
   "source": [
    "display(data_explore[data_explore[\"total_nights\"] >= 8]\n",
    "        [\"total_nights\"].count())"
   ]
  },
  {
   "cell_type": "code",
   "execution_count": null,
   "metadata": {},
   "outputs": [],
   "source": [
    "display(data_train.loc[data_train[\"is_canceled\"] == 1][\"is_canceled\"].count() / len(data_train) * 100)"
   ]
  },
  {
   "cell_type": "code",
   "execution_count": null,
   "metadata": {},
   "outputs": [],
   "source": [
    "display(data_train.loc[(data_train[\"is_canceled\"] == 1) & (data_train[\"arrival_date_month_summer\"] == 1)][\"is_canceled\"].count() / len(data_train) * 100)\n",
    "display(data_train.loc[(data_train[\"is_canceled\"] == 1) & (data_train[\"arrival_date_month_autumn\"] == 1)][\"is_canceled\"].count() / len(data_train) * 100)\n",
    "display(data_train.loc[(data_train[\"is_canceled\"] == 1) & (data_train[\"arrival_date_month_winter\"] == 1)][\"is_canceled\"].count() / len(data_train) * 100)\n",
    "display(data_train.loc[(data_train[\"is_canceled\"] == 1) & (data_train[\"arrival_date_month_spring\"] == 1)][\"is_canceled\"].count() / len(data_train) * 100)\n"
   ]
  },
  {
   "cell_type": "code",
   "execution_count": null,
   "metadata": {},
   "outputs": [],
   "source": [
    "display(data_train.loc[(data_train[\"is_canceled\"] == 1) & (data_train[\"babies\"] >= 1)][\"is_canceled\"].count() / len(data_train) * 100)\n",
    "display(data_train.loc[(data_train[\"is_canceled\"] == 1) & (data_train[\"children\"] >= 1)][\"is_canceled\"].count() / len(data_train) * 100)\n",
    "display(data_train.loc[(data_train[\"is_canceled\"] == 1) & (data_train[\"adults\"] == 2)][\"is_canceled\"].count() / len(data_train) * 100)"
   ]
  },
  {
   "cell_type": "code",
   "execution_count": null,
   "metadata": {},
   "outputs": [],
   "source": [
    "display(data_train.loc[(data_train[\"is_canceled\"] == 1) & (data_train[\"babies\"] == 1)][\"is_canceled\"].count() / len(data_train) * 100)\n",
    "display(data_train.loc[(data_train[\"is_canceled\"] == 1) & (data_train[\"children\"] == 1)][\"is_canceled\"].count() / len(data_train) * 100)\n",
    "display(data_train.loc[(data_train[\"is_canceled\"] == 1) & (data_train[\"adults\"] == 1)][\"is_canceled\"].count() / len(data_train) * 100)"
   ]
  },
  {
   "cell_type": "code",
   "execution_count": null,
   "metadata": {},
   "outputs": [],
   "source": [
    "display(data_train.loc[(data_train[\"is_canceled\"] == 1) & (data_train[\"babies\"] == 0)][\"is_canceled\"].count() / len(data_train) * 100)\n",
    "display(data_train.loc[(data_train[\"is_canceled\"] == 1) & (data_train[\"children\"] == 0)][\"is_canceled\"].count() / len(data_train) * 100)"
   ]
  },
  {
   "cell_type": "code",
   "execution_count": null,
   "metadata": {},
   "outputs": [],
   "source": [
    "data_train = data_train.drop(index=data_train[data_train[\"profit\"] > 6000].index)\n",
    "data_train = data_train.drop(index=data_train[data_train[\"total_of_special_requests\"] >= 3].index)\n",
    "data_train = data_train.drop(index=data_train[data_train[\"total_nights\"] >= 8].index)"
   ]
  },
  {
   "cell_type": "code",
   "execution_count": null,
   "metadata": {},
   "outputs": [],
   "source": [
    "f, ax = plt.subplots(figsize=(15, 15))\n",
    "\n",
    "sns.barplot(data=data_train[data_train[\"is_canceled\"] == 1][['customer_type_Contract', 'customer_type_Group',\n",
    "       'customer_type_Transient', 'customer_type_Transient-Party']])"
   ]
  },
  {
   "cell_type": "code",
   "execution_count": null,
   "metadata": {},
   "outputs": [],
   "source": [
    "f, ax = plt.subplots(figsize=(15, 15))\n",
    "\n",
    "sns.barplot(data=data_train[data_train[\"is_canceled\"] == 1][['reserved_room_type_A',\n",
    "       'reserved_room_type_B', 'reserved_room_type_C',\n",
    "       'reserved_room_type_D', 'reserved_room_type_E',\n",
    "       'reserved_room_type_F', 'reserved_room_type_G']])"
   ]
  },
  {
   "cell_type": "code",
   "execution_count": null,
   "metadata": {},
   "outputs": [],
   "source": [
    "f, ax = plt.subplots(figsize=(15, 15))\n",
    "\n",
    "sns.barplot(data=data_train[data_train[\"is_canceled\"] == 1][['distribution_channel_Corporate',\n",
    "       'distribution_channel_Direct', 'distribution_channel_GDS',\n",
    "       'distribution_channel_TA/TO']])"
   ]
  },
  {
   "cell_type": "code",
   "execution_count": null,
   "metadata": {},
   "outputs": [],
   "source": [
    "f, ax = plt.subplots(figsize=(15, 15))\n",
    "\n",
    "sns.barplot(data=data_train[data_train[\"is_canceled\"] == 1][['meal_BB', 'meal_FB', 'meal_HB',\n",
    "       'meal_SC']])"
   ]
  },
  {
   "cell_type": "code",
   "execution_count": null,
   "metadata": {},
   "outputs": [],
   "source": [
    "f, ax = plt.subplots(figsize=(200, 200))\n",
    "\n",
    "sns.barplot(data=data_train[data_train[\"is_canceled\"] == 1][['country_ABW', 'country_AGO', 'country_ALB', 'country_AND',\n",
    "       'country_ARE', 'country_ARG', 'country_ARM', 'country_ASM',\n",
    "       'country_ATA', 'country_ATF', 'country_AUS', 'country_AUT',\n",
    "       'country_AZE', 'country_BDI', 'country_BEL', 'country_BEN',\n",
    "       'country_BFA', 'country_BGD', 'country_BGR', 'country_BHR',\n",
    "       'country_BHS', 'country_BIH', 'country_BLR', 'country_BOL',\n",
    "       'country_BRA', 'country_BRB', 'country_BWA', 'country_CAF',\n",
    "       'country_CHE', 'country_CHL', 'country_CHN', 'country_CIV',\n",
    "       'country_CMR', 'country_CN', 'country_COL', 'country_CPV',\n",
    "       'country_CRI', 'country_CUB', 'country_CYM', 'country_CYP',\n",
    "       'country_CZE', 'country_DEU', 'country_DMA', 'country_DNK',\n",
    "       'country_DOM', 'country_DZA', 'country_ECU', 'country_EGY',\n",
    "       'country_ESP', 'country_EST', 'country_ETH', 'country_FIN',\n",
    "       'country_FJI', 'country_FRA', 'country_FRO', 'country_GAB',\n",
    "       'country_GBR', 'country_GEO', 'country_GGY', 'country_GHA',\n",
    "       'country_GIB', 'country_GLP', 'country_GNB', 'country_GRC',\n",
    "       'country_GTM', 'country_GUY', 'country_HKG', 'country_HND',\n",
    "       'country_HRV', 'country_HUN', 'country_IDN', 'country_IMN',\n",
    "       'country_IND', 'country_IRL', 'country_IRN', 'country_IRQ',\n",
    "       'country_ISL', 'country_ISR', 'country_ITA', 'country_JAM',\n",
    "       'country_JEY', 'country_JOR', 'country_JPN', 'country_KAZ',\n",
    "       'country_KEN', 'country_KHM', 'country_KIR', 'country_KNA',\n",
    "       'country_KOR', 'country_KWT', 'country_LAO', 'country_LBN',\n",
    "       'country_LBY', 'country_LCA', 'country_LIE', 'country_LKA',\n",
    "       'country_LTU', 'country_LUX', 'country_LVA', 'country_MAC',\n",
    "       'country_MAR', 'country_MCO', 'country_MDG', 'country_MDV',\n",
    "       'country_MEX', 'country_MKD', 'country_MLI', 'country_MLT',\n",
    "       'country_MMR', 'country_MNE', 'country_MOZ', 'country_MRT',\n",
    "       'country_MUS', 'country_MWI', 'country_MYS', 'country_MYT',\n",
    "       'country_NAM', 'country_NCL', 'country_NGA', 'country_NIC',\n",
    "       'country_NLD', 'country_NOR', 'country_NPL', 'country_NZL',\n",
    "       'country_OMN', 'country_PAK', 'country_PAN', 'country_PER',\n",
    "       'country_PHL', 'country_PLW', 'country_POL', 'country_PRI',\n",
    "       'country_PRT', 'country_PRY', 'country_PYF', 'country_QAT',\n",
    "       'country_ROU', 'country_RUS', 'country_RWA', 'country_SAU',\n",
    "       'country_SDN', 'country_SEN', 'country_SGP', 'country_SLE',\n",
    "       'country_SLV', 'country_SMR', 'country_SRB', 'country_STP',\n",
    "       'country_SUR', 'country_SVK', 'country_SVN', 'country_SWE',\n",
    "       'country_SYC', 'country_SYR', 'country_TGO', 'country_THA',\n",
    "       'country_TJK', 'country_TMP', 'country_TUN', 'country_TUR',\n",
    "       'country_TWN', 'country_TZA', 'country_UGA', 'country_UKR',\n",
    "       'country_UMI', 'country_URY', 'country_USA', 'country_UZB',\n",
    "       'country_VEN', 'country_VGB', 'country_VNM', 'country_ZAF',\n",
    "       'country_ZMB', 'country_ZWE']])"
   ]
  },
  {
   "cell_type": "code",
   "execution_count": null,
   "metadata": {},
   "outputs": [],
   "source": [
    "features_train, target_train = features_target(data_train)\n",
    "features_test, target_test = features_target(data_test)"
   ]
  },
  {
   "cell_type": "code",
   "execution_count": null,
   "metadata": {},
   "outputs": [],
   "source": [
    "model = RandomForestClassifier(n_estimators=80, max_depth=15, random_state=RANDOM_STATE)\n",
    "model.fit(features_train, target_train)\n",
    "\n",
    "probabilities = model.predict_proba(features_test)\n",
    "probabilities_one = probabilities[:, 1]\n",
    "prediction_test = probabilities_one > 0.5"
   ]
  },
  {
   "cell_type": "code",
   "execution_count": null,
   "metadata": {},
   "outputs": [],
   "source": [
    "sort = model.feature_importances_.argsort()"
   ]
  },
  {
   "cell_type": "code",
   "execution_count": null,
   "metadata": {},
   "outputs": [],
   "source": [
    "values = list(features_train.columns[sort].values[(len(features_train) // 2):])"
   ]
  },
  {
   "cell_type": "code",
   "execution_count": null,
   "metadata": {},
   "outputs": [],
   "source": [
    "plt.figure(figsize=(200, 200))\n",
    "plt.bar(features_train.columns[sort], model.feature_importances_[sort])\n",
    "plt.xticks(values, rotation=90)\n",
    "plt.xlabel(\"Feature Importance\")"
   ]
  },
  {
   "cell_type": "code",
   "execution_count": null,
   "metadata": {},
   "outputs": [],
   "source": [
    "params_cb_rf = {\n",
    "    \"n_estimators\": [x for x in range(20, 100, 20)],\n",
    "    \"max_depth\": [x for x in range(5, 17, 2)],\n",
    "                }\n",
    "params_gnb = {'var_smoothing': np.logspace(0,-9, num=100)}\n",
    "\n",
    "recall_params = make_scorer(recall_score , average='macro')"
   ]
  },
  {
   "cell_type": "code",
   "execution_count": null,
   "metadata": {},
   "outputs": [],
   "source": [
    "model = RandomForestClassifier(random_state=RANDOM_STATE)\n",
    "\n",
    "CV_model = GridSearchCV(estimator=model, param_grid=params_cb_rf, cv=5, scoring=recall_params)\n",
    "CV_model.fit(features_train, target_train)\n",
    "\n",
    "best_params = CV_model.best_params_\n",
    "\n",
    "y_pred = cross_val_predict(CV_model.best_estimator_, features_train, target_train, method=\"predict_proba\", cv=5)\n",
    "\n",
    "trashold = y_pred[:, 1][-1]\n",
    "\n",
    "print('Best score: ', CV_model.best_score_)\n",
    "print('Best trashold: ', trashold)"
   ]
  },
  {
   "cell_type": "code",
   "execution_count": null,
   "metadata": {},
   "outputs": [],
   "source": [
    "model = GaussianNB()\n",
    "\n",
    "CV_model = GridSearchCV(estimator=model,\n",
    "                 param_grid=params_gnb,\n",
    "                 cv=5, scoring=recall_params)\n",
    "\n",
    "CV_model.fit(features_train, target_train)\n",
    "\n",
    "y_pred = cross_val_predict(CV_model.best_estimator_, features_train, target_train, method=\"predict_proba\", cv=5)\n",
    "\n",
    "trashold = y_pred[:, 1][-1]\n",
    "\n",
    "print('Best score: ', CV_model.best_score_)\n",
    "print('Best trashold: ', trashold)"
   ]
  },
  {
   "cell_type": "code",
   "execution_count": null,
   "metadata": {
    "scrolled": true
   },
   "outputs": [],
   "source": [
    "model = CatBoostClassifier(random_state=RANDOM_STATE)\n",
    "\n",
    "CV_model = GridSearchCV(estimator=model, param_grid=params_cb_rf, cv = 5, scoring=recall_params)\n",
    "CV_model.fit(features_train, target_train)\n",
    "\n",
    "y_pred = cross_val_predict(CV_model.best_estimator_, features_train, target_train, method=\"predict_proba\", cv=5)\n"
   ]
  },
  {
   "cell_type": "code",
   "execution_count": null,
   "metadata": {},
   "outputs": [],
   "source": [
    "trashold = y_pred[:, 1][0]\n",
    "\n",
    "print('Best score: ', CV_model.best_score_)\n",
    "print('Best trashold: ', trashold)"
   ]
  },
  {
   "cell_type": "code",
   "execution_count": null,
   "metadata": {},
   "outputs": [],
   "source": [
    "catboostclassifier_model = CatBoostClassifier(n_estimators=best_params[\"n_estimators\"], max_depth=best_params[\"max_depth\"], random_state=RANDOM_STATE, logging_level='Silent')\n",
    "catboostclassifier_model.fit(features_train, target_train)"
   ]
  },
  {
   "cell_type": "code",
   "execution_count": null,
   "metadata": {},
   "outputs": [],
   "source": [
    "probabilities = catboostclassifier_model.predict_proba(features_test)\n",
    "probabilities_one = probabilities[:, 1]\n",
    "prediction_test = probabilities_one > trashold"
   ]
  },
  {
   "cell_type": "code",
   "execution_count": null,
   "metadata": {},
   "outputs": [],
   "source": [
    "catboostclassifier_precision = precision_score(target_test, prediction_test)\n",
    "catboostclassifier_recall = recall_score(target_test, prediction_test)\n",
    "catboostclassifier_f1 = f1_score(target_test, prediction_test)"
   ]
  },
  {
   "cell_type": "code",
   "execution_count": null,
   "metadata": {},
   "outputs": [],
   "source": [
    "print(f\"Best F1 = {'%.4f' % (catboostclassifier_f1)}\\nPecision = {'%.4f' % (catboostclassifier_precision)}\\nRecall = {'%.4f' % (catboostclassifier_recall)}\")"
   ]
  },
  {
   "cell_type": "code",
   "execution_count": null,
   "metadata": {},
   "outputs": [],
   "source": [
    "data_test_V2 = preprocessing(data_test_V2)"
   ]
  },
  {
   "cell_type": "code",
   "execution_count": null,
   "metadata": {},
   "outputs": [],
   "source": [
    "def profit_whith_deposit(data):\n",
    "    if data[\"predictions\"] == 1 and data[\"is_canceled\"]:\n",
    "        return (profit(data) * 0.2)\n",
    "    else:\n",
    "        return profit(data)"
   ]
  },
  {
   "cell_type": "code",
   "execution_count": null,
   "metadata": {},
   "outputs": [],
   "source": [
    "data_test_V2[\"predictions\"] = prediction_test"
   ]
  },
  {
   "cell_type": "code",
   "execution_count": null,
   "metadata": {},
   "outputs": [],
   "source": [
    "data_test_V2[\"profit_deposit\"] = data_test_V2.apply(profit_whith_deposit, axis=1)"
   ]
  },
  {
   "cell_type": "code",
   "execution_count": null,
   "metadata": {},
   "outputs": [],
   "source": [
    "print(f\"Итоговая прибыль = {data_test_V2['profit_deposit'].sum() - data_test_V2['profit'].sum() - BUDGET}\")"
   ]
  }
 ],
 "metadata": {
  "ExecuteTimeLog": [
   {
    "duration": 1930,
    "start_time": "2023-04-21T16:30:45.080Z"
   },
   {
    "duration": 7,
    "start_time": "2023-04-21T16:30:47.013Z"
   },
   {
    "duration": 2053,
    "start_time": "2023-04-21T16:30:47.022Z"
   },
   {
    "duration": 44,
    "start_time": "2023-04-21T16:30:49.077Z"
   },
   {
    "duration": 17,
    "start_time": "2023-04-21T16:30:49.123Z"
   },
   {
    "duration": 14,
    "start_time": "2023-04-21T16:30:49.143Z"
   },
   {
    "duration": 5,
    "start_time": "2023-04-21T16:30:49.159Z"
   },
   {
    "duration": 6,
    "start_time": "2023-04-21T16:30:49.165Z"
   },
   {
    "duration": 6,
    "start_time": "2023-04-21T16:30:50.421Z"
   },
   {
    "duration": 12,
    "start_time": "2023-04-21T16:30:51.052Z"
   },
   {
    "duration": 19,
    "start_time": "2023-04-21T16:30:51.417Z"
   },
   {
    "duration": 15,
    "start_time": "2023-04-21T16:30:51.809Z"
   },
   {
    "duration": 54,
    "start_time": "2023-04-21T16:30:52.156Z"
   },
   {
    "duration": 35877,
    "start_time": "2023-04-21T16:30:52.476Z"
   },
   {
    "duration": 3,
    "start_time": "2023-04-21T16:31:28.355Z"
   },
   {
    "duration": 71,
    "start_time": "2023-04-21T16:31:28.360Z"
   },
   {
    "duration": 344,
    "start_time": "2023-04-21T16:31:28.436Z"
   },
   {
    "duration": 280,
    "start_time": "2023-04-21T16:31:28.781Z"
   },
   {
    "duration": 66,
    "start_time": "2023-04-21T16:31:29.063Z"
   },
   {
    "duration": 8590,
    "start_time": "2023-04-21T16:31:29.133Z"
   },
   {
    "duration": 34720,
    "start_time": "2023-04-21T16:31:37.725Z"
   },
   {
    "duration": 282,
    "start_time": "2023-04-21T16:32:12.447Z"
   },
   {
    "duration": 107,
    "start_time": "2023-04-21T16:32:12.731Z"
   },
   {
    "duration": 168,
    "start_time": "2023-04-21T16:32:12.839Z"
   },
   {
    "duration": 18,
    "start_time": "2023-04-21T16:32:13.012Z"
   },
   {
    "duration": 141,
    "start_time": "2023-04-21T16:32:13.032Z"
   },
   {
    "duration": 7,
    "start_time": "2023-04-21T16:32:13.175Z"
   },
   {
    "duration": 135,
    "start_time": "2023-04-21T16:32:13.184Z"
   },
   {
    "duration": 39,
    "start_time": "2023-04-21T16:32:13.325Z"
   },
   {
    "duration": 70,
    "start_time": "2023-04-21T16:32:13.366Z"
   },
   {
    "duration": 18,
    "start_time": "2023-04-21T16:32:13.438Z"
   },
   {
    "duration": 79,
    "start_time": "2023-04-21T16:32:13.458Z"
   },
   {
    "duration": 172,
    "start_time": "2023-04-21T16:32:13.539Z"
   },
   {
    "duration": 121,
    "start_time": "2023-04-21T16:32:13.716Z"
   },
   {
    "duration": 5714,
    "start_time": "2023-04-21T16:32:13.839Z"
   },
   {
    "duration": 15,
    "start_time": "2023-04-21T16:32:19.558Z"
   },
   {
    "duration": 3,
    "start_time": "2023-04-21T16:32:19.575Z"
   },
   {
    "duration": 17309,
    "start_time": "2023-04-21T16:32:19.580Z"
   },
   {
    "duration": 7,
    "start_time": "2023-04-21T16:32:36.891Z"
   },
   {
    "duration": 1696,
    "start_time": "2023-04-21T18:01:40.645Z"
   },
   {
    "duration": 7,
    "start_time": "2023-04-21T18:01:42.344Z"
   },
   {
    "duration": 960,
    "start_time": "2023-04-21T18:01:42.357Z"
   },
   {
    "duration": 24,
    "start_time": "2023-04-21T18:01:43.320Z"
   },
   {
    "duration": 7,
    "start_time": "2023-04-21T18:01:43.346Z"
   },
   {
    "duration": 5,
    "start_time": "2023-04-21T18:01:44.241Z"
   },
   {
    "duration": 4,
    "start_time": "2023-04-21T18:01:44.587Z"
   },
   {
    "duration": 4,
    "start_time": "2023-04-21T18:01:44.875Z"
   },
   {
    "duration": 4,
    "start_time": "2023-04-21T18:01:46.092Z"
   },
   {
    "duration": 9,
    "start_time": "2023-04-21T18:01:46.292Z"
   },
   {
    "duration": 7,
    "start_time": "2023-04-21T18:01:46.532Z"
   },
   {
    "duration": 10,
    "start_time": "2023-04-21T18:01:46.769Z"
   },
   {
    "duration": 50,
    "start_time": "2023-04-21T18:01:46.988Z"
   },
   {
    "duration": 33398,
    "start_time": "2023-04-21T18:01:47.218Z"
   },
   {
    "duration": 4,
    "start_time": "2023-04-21T18:02:20.618Z"
   },
   {
    "duration": 62,
    "start_time": "2023-04-21T18:02:20.623Z"
   },
   {
    "duration": 360,
    "start_time": "2023-04-21T18:02:20.688Z"
   },
   {
    "duration": 329,
    "start_time": "2023-04-21T18:02:21.049Z"
   },
   {
    "duration": 53,
    "start_time": "2023-04-21T18:02:21.381Z"
   },
   {
    "duration": 8788,
    "start_time": "2023-04-21T18:02:21.436Z"
   },
   {
    "duration": 34152,
    "start_time": "2023-04-21T18:02:30.226Z"
   },
   {
    "duration": 457,
    "start_time": "2023-04-21T18:03:04.381Z"
   },
   {
    "duration": 167,
    "start_time": "2023-04-21T18:03:04.842Z"
   },
   {
    "duration": 215,
    "start_time": "2023-04-21T18:03:05.011Z"
   },
   {
    "duration": 11,
    "start_time": "2023-04-21T18:03:05.228Z"
   },
   {
    "duration": 186,
    "start_time": "2023-04-21T18:03:05.241Z"
   },
   {
    "duration": 11,
    "start_time": "2023-04-21T18:03:05.429Z"
   },
   {
    "duration": 173,
    "start_time": "2023-04-21T18:03:05.442Z"
   },
   {
    "duration": 72,
    "start_time": "2023-04-21T18:03:05.617Z"
   },
   {
    "duration": 40,
    "start_time": "2023-04-21T18:03:05.692Z"
   },
   {
    "duration": 25,
    "start_time": "2023-04-21T18:03:05.734Z"
   },
   {
    "duration": 128,
    "start_time": "2023-04-21T18:03:05.762Z"
   },
   {
    "duration": 197,
    "start_time": "2023-04-21T18:03:05.892Z"
   },
   {
    "duration": 137,
    "start_time": "2023-04-21T18:03:06.091Z"
   },
   {
    "duration": 6472,
    "start_time": "2023-04-21T18:03:06.231Z"
   },
   {
    "duration": 17,
    "start_time": "2023-04-21T18:03:12.705Z"
   },
   {
    "duration": 5,
    "start_time": "2023-04-21T18:03:12.724Z"
   },
   {
    "duration": 16559,
    "start_time": "2023-04-21T18:03:12.731Z"
   },
   {
    "duration": 4,
    "start_time": "2023-04-21T18:03:29.292Z"
   },
   {
    "duration": 1636,
    "start_time": "2023-04-21T18:35:46.856Z"
   },
   {
    "duration": 6,
    "start_time": "2023-04-21T18:35:48.494Z"
   },
   {
    "duration": 585,
    "start_time": "2023-04-21T18:35:48.503Z"
   },
   {
    "duration": 30,
    "start_time": "2023-04-21T18:35:49.091Z"
   },
   {
    "duration": 8,
    "start_time": "2023-04-21T18:35:49.124Z"
   },
   {
    "duration": 49,
    "start_time": "2023-04-21T18:35:49.134Z"
   },
   {
    "duration": 14,
    "start_time": "2023-04-21T18:35:49.185Z"
   },
   {
    "duration": 29,
    "start_time": "2023-04-21T18:35:49.200Z"
   },
   {
    "duration": 4,
    "start_time": "2023-04-21T18:35:49.938Z"
   },
   {
    "duration": 19,
    "start_time": "2023-04-21T18:35:50.123Z"
   },
   {
    "duration": 8,
    "start_time": "2023-04-21T18:35:50.318Z"
   },
   {
    "duration": 8,
    "start_time": "2023-04-21T18:35:50.514Z"
   },
   {
    "duration": 73,
    "start_time": "2023-04-21T18:35:50.713Z"
   },
   {
    "duration": 31712,
    "start_time": "2023-04-21T18:35:50.884Z"
   },
   {
    "duration": 3,
    "start_time": "2023-04-21T18:36:22.598Z"
   },
   {
    "duration": 36,
    "start_time": "2023-04-21T18:36:22.602Z"
   },
   {
    "duration": 339,
    "start_time": "2023-04-21T18:36:22.640Z"
   },
   {
    "duration": 385,
    "start_time": "2023-04-21T18:36:22.981Z"
   },
   {
    "duration": 56,
    "start_time": "2023-04-21T18:36:23.370Z"
   },
   {
    "duration": 7528,
    "start_time": "2023-04-21T18:36:23.428Z"
   },
   {
    "duration": 30991,
    "start_time": "2023-04-21T18:36:30.959Z"
   },
   {
    "duration": 293,
    "start_time": "2023-04-21T18:37:01.952Z"
   },
   {
    "duration": 144,
    "start_time": "2023-04-21T18:37:02.248Z"
   },
   {
    "duration": 132,
    "start_time": "2023-04-21T18:37:02.393Z"
   },
   {
    "duration": 9,
    "start_time": "2023-04-21T18:37:02.526Z"
   },
   {
    "duration": 176,
    "start_time": "2023-04-21T18:37:02.537Z"
   },
   {
    "duration": 9,
    "start_time": "2023-04-21T18:37:02.714Z"
   },
   {
    "duration": 127,
    "start_time": "2023-04-21T18:37:02.724Z"
   },
   {
    "duration": 46,
    "start_time": "2023-04-21T18:37:02.855Z"
   },
   {
    "duration": 30,
    "start_time": "2023-04-21T18:37:02.903Z"
   },
   {
    "duration": 39,
    "start_time": "2023-04-21T18:37:02.935Z"
   },
   {
    "duration": 52,
    "start_time": "2023-04-21T18:37:02.975Z"
   },
   {
    "duration": 190,
    "start_time": "2023-04-21T18:37:03.029Z"
   },
   {
    "duration": 119,
    "start_time": "2023-04-21T18:37:03.221Z"
   },
   {
    "duration": 5889,
    "start_time": "2023-04-21T18:37:03.342Z"
   },
   {
    "duration": 12,
    "start_time": "2023-04-21T18:37:09.232Z"
   },
   {
    "duration": 18,
    "start_time": "2023-04-21T18:37:09.245Z"
   },
   {
    "duration": 16075,
    "start_time": "2023-04-21T18:37:09.274Z"
   },
   {
    "duration": 13,
    "start_time": "2023-04-21T18:37:25.350Z"
   },
   {
    "duration": 204740,
    "start_time": "2023-04-21T18:37:25.370Z"
   },
   {
    "duration": 2569,
    "start_time": "2023-04-21T18:40:50.113Z"
   },
   {
    "duration": 26,
    "start_time": "2023-04-21T18:40:52.684Z"
   },
   {
    "duration": 8581,
    "start_time": "2023-04-21T18:40:52.712Z"
   },
   {
    "duration": 3,
    "start_time": "2023-04-21T18:41:01.295Z"
   },
   {
    "duration": 164053,
    "start_time": "2023-04-21T18:41:01.299Z"
   },
   {
    "duration": 321,
    "start_time": "2023-04-21T18:43:45.356Z"
   },
   {
    "duration": 156,
    "start_time": "2023-04-21T18:43:45.679Z"
   },
   {
    "duration": 32,
    "start_time": "2023-04-21T18:43:45.837Z"
   },
   {
    "duration": 9778,
    "start_time": "2023-04-21T18:43:45.871Z"
   },
   {
    "duration": 4,
    "start_time": "2023-04-21T18:43:55.656Z"
   },
   {
    "duration": 0,
    "start_time": "2023-04-21T19:01:47.384Z"
   },
   {
    "duration": 0,
    "start_time": "2023-04-21T19:01:47.385Z"
   },
   {
    "duration": 0,
    "start_time": "2023-04-21T19:01:47.386Z"
   },
   {
    "duration": 0,
    "start_time": "2023-04-21T19:01:47.387Z"
   },
   {
    "duration": 0,
    "start_time": "2023-04-21T19:01:47.388Z"
   },
   {
    "duration": 0,
    "start_time": "2023-04-21T19:01:47.389Z"
   },
   {
    "duration": 1682,
    "start_time": "2023-04-24T17:10:22.768Z"
   },
   {
    "duration": 6,
    "start_time": "2023-04-24T17:10:24.452Z"
   },
   {
    "duration": 689,
    "start_time": "2023-04-24T17:10:24.460Z"
   },
   {
    "duration": 34,
    "start_time": "2023-04-24T17:10:25.151Z"
   },
   {
    "duration": 6,
    "start_time": "2023-04-24T17:10:25.186Z"
   },
   {
    "duration": 11,
    "start_time": "2023-04-24T17:10:25.193Z"
   },
   {
    "duration": 6,
    "start_time": "2023-04-24T17:10:25.261Z"
   },
   {
    "duration": 5,
    "start_time": "2023-04-24T17:10:25.474Z"
   },
   {
    "duration": 3,
    "start_time": "2023-04-24T17:10:27.346Z"
   },
   {
    "duration": 13,
    "start_time": "2023-04-24T17:10:27.566Z"
   },
   {
    "duration": 10,
    "start_time": "2023-04-24T17:10:27.766Z"
   },
   {
    "duration": 10,
    "start_time": "2023-04-24T17:10:27.947Z"
   },
   {
    "duration": 43,
    "start_time": "2023-04-24T17:10:28.161Z"
   },
   {
    "duration": 29718,
    "start_time": "2023-04-24T17:10:28.362Z"
   },
   {
    "duration": 2,
    "start_time": "2023-04-24T17:10:58.083Z"
   },
   {
    "duration": 56,
    "start_time": "2023-04-24T17:10:58.087Z"
   },
   {
    "duration": 285,
    "start_time": "2023-04-24T17:10:58.145Z"
   },
   {
    "duration": 154,
    "start_time": "2023-04-24T17:10:58.431Z"
   },
   {
    "duration": 35,
    "start_time": "2023-04-24T17:10:58.587Z"
   },
   {
    "duration": 8516,
    "start_time": "2023-04-24T17:10:58.623Z"
   },
   {
    "duration": 32672,
    "start_time": "2023-04-24T17:11:07.140Z"
   },
   {
    "duration": 247,
    "start_time": "2023-04-24T17:11:39.815Z"
   },
   {
    "duration": 75,
    "start_time": "2023-04-24T17:11:40.065Z"
   },
   {
    "duration": 153,
    "start_time": "2023-04-24T17:11:40.149Z"
   },
   {
    "duration": 9,
    "start_time": "2023-04-24T17:11:40.304Z"
   },
   {
    "duration": 155,
    "start_time": "2023-04-24T17:11:40.315Z"
   },
   {
    "duration": 12,
    "start_time": "2023-04-24T17:11:40.471Z"
   },
   {
    "duration": 105,
    "start_time": "2023-04-24T17:11:40.484Z"
   },
   {
    "duration": 32,
    "start_time": "2023-04-24T17:11:40.591Z"
   },
   {
    "duration": 51,
    "start_time": "2023-04-24T17:11:40.625Z"
   },
   {
    "duration": 17,
    "start_time": "2023-04-24T17:11:40.678Z"
   },
   {
    "duration": 73,
    "start_time": "2023-04-24T17:11:40.697Z"
   },
   {
    "duration": 139,
    "start_time": "2023-04-24T17:11:40.772Z"
   },
   {
    "duration": 86,
    "start_time": "2023-04-24T17:11:40.913Z"
   },
   {
    "duration": 4456,
    "start_time": "2023-04-24T17:11:41.001Z"
   },
   {
    "duration": 11,
    "start_time": "2023-04-24T17:11:45.461Z"
   },
   {
    "duration": 21,
    "start_time": "2023-04-24T17:11:45.474Z"
   },
   {
    "duration": 16152,
    "start_time": "2023-04-24T17:11:45.497Z"
   },
   {
    "duration": 4,
    "start_time": "2023-04-24T17:12:01.651Z"
   },
   {
    "duration": 184959,
    "start_time": "2023-04-24T17:12:01.657Z"
   },
   {
    "duration": 2227,
    "start_time": "2023-04-24T17:15:06.619Z"
   },
   {
    "duration": 34,
    "start_time": "2023-04-24T17:15:08.848Z"
   },
   {
    "duration": 10129,
    "start_time": "2023-04-24T17:15:08.884Z"
   },
   {
    "duration": 3,
    "start_time": "2023-04-24T17:15:19.014Z"
   },
   {
    "duration": 134,
    "start_time": "2023-04-24T17:24:40.441Z"
   },
   {
    "duration": 11,
    "start_time": "2023-04-24T17:25:04.022Z"
   },
   {
    "duration": 9,
    "start_time": "2023-04-24T17:25:25.720Z"
   },
   {
    "duration": 3082,
    "start_time": "2023-04-24T17:25:37.690Z"
   },
   {
    "duration": 135,
    "start_time": "2023-04-24T17:31:46.109Z"
   },
   {
    "duration": 231,
    "start_time": "2023-04-24T17:32:14.243Z"
   },
   {
    "duration": 1522,
    "start_time": "2023-04-24T18:39:07.152Z"
   },
   {
    "duration": 5,
    "start_time": "2023-04-24T18:39:08.676Z"
   },
   {
    "duration": 440,
    "start_time": "2023-04-24T18:39:08.682Z"
   },
   {
    "duration": 25,
    "start_time": "2023-04-24T18:39:09.123Z"
   },
   {
    "duration": 6,
    "start_time": "2023-04-24T18:39:09.167Z"
   },
   {
    "duration": 4,
    "start_time": "2023-04-24T18:39:09.230Z"
   },
   {
    "duration": 4,
    "start_time": "2023-04-24T18:39:09.429Z"
   },
   {
    "duration": 3,
    "start_time": "2023-04-24T18:39:09.632Z"
   },
   {
    "duration": 3,
    "start_time": "2023-04-24T18:39:11.422Z"
   },
   {
    "duration": 9,
    "start_time": "2023-04-24T18:39:11.633Z"
   },
   {
    "duration": 8,
    "start_time": "2023-04-24T18:39:11.913Z"
   },
   {
    "duration": 7,
    "start_time": "2023-04-24T18:39:12.140Z"
   },
   {
    "duration": 55,
    "start_time": "2023-04-24T18:39:12.365Z"
   },
   {
    "duration": 29541,
    "start_time": "2023-04-24T18:39:12.584Z"
   },
   {
    "duration": 3,
    "start_time": "2023-04-24T18:39:42.126Z"
   },
   {
    "duration": 40,
    "start_time": "2023-04-24T18:39:42.130Z"
   },
   {
    "duration": 293,
    "start_time": "2023-04-24T18:39:42.173Z"
   },
   {
    "duration": 164,
    "start_time": "2023-04-24T18:39:42.468Z"
   },
   {
    "duration": 36,
    "start_time": "2023-04-24T18:39:42.634Z"
   },
   {
    "duration": 8296,
    "start_time": "2023-04-24T18:39:42.672Z"
   },
   {
    "duration": 31339,
    "start_time": "2023-04-24T18:39:50.969Z"
   },
   {
    "duration": 212,
    "start_time": "2023-04-24T18:40:22.310Z"
   },
   {
    "duration": 80,
    "start_time": "2023-04-24T18:40:22.525Z"
   },
   {
    "duration": 158,
    "start_time": "2023-04-24T18:40:22.607Z"
   },
   {
    "duration": 7,
    "start_time": "2023-04-24T18:40:22.767Z"
   },
   {
    "duration": 129,
    "start_time": "2023-04-24T18:40:22.776Z"
   },
   {
    "duration": 7,
    "start_time": "2023-04-24T18:40:22.907Z"
   },
   {
    "duration": 105,
    "start_time": "2023-04-24T18:40:22.916Z"
   },
   {
    "duration": 48,
    "start_time": "2023-04-24T18:40:23.022Z"
   },
   {
    "duration": 28,
    "start_time": "2023-04-24T18:40:23.072Z"
   },
   {
    "duration": 16,
    "start_time": "2023-04-24T18:40:23.102Z"
   },
   {
    "duration": 67,
    "start_time": "2023-04-24T18:40:23.119Z"
   },
   {
    "duration": 144,
    "start_time": "2023-04-24T18:40:23.188Z"
   },
   {
    "duration": 769,
    "start_time": "2023-04-24T18:40:23.334Z"
   },
   {
    "duration": 1236,
    "start_time": "2023-04-24T18:40:24.104Z"
   },
   {
    "duration": 731,
    "start_time": "2023-04-24T18:40:25.342Z"
   },
   {
    "duration": 746,
    "start_time": "2023-04-24T18:40:26.075Z"
   },
   {
    "duration": 39493,
    "start_time": "2023-04-24T18:40:26.823Z"
   },
   {
    "duration": 104,
    "start_time": "2023-04-24T18:41:06.318Z"
   },
   {
    "duration": 4460,
    "start_time": "2023-04-24T18:41:06.424Z"
   },
   {
    "duration": 12,
    "start_time": "2023-04-24T18:41:10.888Z"
   },
   {
    "duration": 3,
    "start_time": "2023-04-24T18:41:10.901Z"
   },
   {
    "duration": 16123,
    "start_time": "2023-04-24T18:41:10.906Z"
   },
   {
    "duration": 4,
    "start_time": "2023-04-24T18:41:27.031Z"
   },
   {
    "duration": 186633,
    "start_time": "2023-04-24T18:41:27.038Z"
   },
   {
    "duration": 132222,
    "start_time": "2023-04-24T18:44:33.673Z"
   },
   {
    "duration": 1079734,
    "start_time": "2023-04-24T18:46:45.896Z"
   },
   {
    "duration": 1152,
    "start_time": "2023-04-24T19:04:45.632Z"
   },
   {
    "duration": 18,
    "start_time": "2023-04-24T19:04:46.786Z"
   },
   {
    "duration": 29,
    "start_time": "2023-04-24T19:04:46.806Z"
   },
   {
    "duration": 10935,
    "start_time": "2023-04-24T19:04:46.836Z"
   },
   {
    "duration": 3,
    "start_time": "2023-04-24T19:04:57.773Z"
   },
   {
    "duration": 2172,
    "start_time": "2023-04-26T14:13:26.711Z"
   },
   {
    "duration": 7,
    "start_time": "2023-04-26T14:13:28.885Z"
   },
   {
    "duration": 649,
    "start_time": "2023-04-26T14:13:28.893Z"
   },
   {
    "duration": 34,
    "start_time": "2023-04-26T14:13:29.551Z"
   },
   {
    "duration": 7,
    "start_time": "2023-04-26T14:13:29.588Z"
   },
   {
    "duration": 18,
    "start_time": "2023-04-26T14:13:29.597Z"
   },
   {
    "duration": 14,
    "start_time": "2023-04-26T14:13:29.618Z"
   },
   {
    "duration": 34,
    "start_time": "2023-04-26T14:13:29.634Z"
   },
   {
    "duration": 4,
    "start_time": "2023-04-26T14:13:31.654Z"
   },
   {
    "duration": 16,
    "start_time": "2023-04-26T14:13:31.930Z"
   },
   {
    "duration": 8,
    "start_time": "2023-04-26T14:13:32.088Z"
   },
   {
    "duration": 9,
    "start_time": "2023-04-26T14:13:32.303Z"
   },
   {
    "duration": 58,
    "start_time": "2023-04-26T14:13:32.510Z"
   },
   {
    "duration": 34715,
    "start_time": "2023-04-26T14:13:32.726Z"
   },
   {
    "duration": 13,
    "start_time": "2023-04-26T14:14:07.444Z"
   },
   {
    "duration": 71,
    "start_time": "2023-04-26T14:14:07.459Z"
   },
   {
    "duration": 335,
    "start_time": "2023-04-26T14:14:07.532Z"
   },
   {
    "duration": 479,
    "start_time": "2023-04-26T14:14:07.870Z"
   },
   {
    "duration": 60,
    "start_time": "2023-04-26T14:14:08.353Z"
   },
   {
    "duration": 8440,
    "start_time": "2023-04-26T14:14:08.415Z"
   },
   {
    "duration": 35242,
    "start_time": "2023-04-26T14:14:16.857Z"
   },
   {
    "duration": 281,
    "start_time": "2023-04-26T14:14:52.101Z"
   },
   {
    "duration": 126,
    "start_time": "2023-04-26T14:14:52.386Z"
   },
   {
    "duration": 176,
    "start_time": "2023-04-26T14:14:52.514Z"
   },
   {
    "duration": 12,
    "start_time": "2023-04-26T14:14:52.693Z"
   },
   {
    "duration": 190,
    "start_time": "2023-04-26T14:14:52.708Z"
   },
   {
    "duration": 12,
    "start_time": "2023-04-26T14:14:52.901Z"
   },
   {
    "duration": 159,
    "start_time": "2023-04-26T14:14:52.916Z"
   },
   {
    "duration": 74,
    "start_time": "2023-04-26T14:14:53.077Z"
   },
   {
    "duration": 46,
    "start_time": "2023-04-26T14:14:53.157Z"
   },
   {
    "duration": 66,
    "start_time": "2023-04-26T14:14:53.206Z"
   },
   {
    "duration": 89,
    "start_time": "2023-04-26T14:14:53.275Z"
   },
   {
    "duration": 210,
    "start_time": "2023-04-26T14:14:53.367Z"
   },
   {
    "duration": 904,
    "start_time": "2023-04-26T14:14:53.580Z"
   },
   {
    "duration": 1395,
    "start_time": "2023-04-26T14:14:54.485Z"
   },
   {
    "duration": 1031,
    "start_time": "2023-04-26T14:14:55.882Z"
   },
   {
    "duration": 906,
    "start_time": "2023-04-26T14:14:56.915Z"
   },
   {
    "duration": 45263,
    "start_time": "2023-04-26T14:14:57.824Z"
   },
   {
    "duration": 162,
    "start_time": "2023-04-26T14:15:43.090Z"
   },
   {
    "duration": 7243,
    "start_time": "2023-04-26T14:15:43.254Z"
   },
   {
    "duration": 23,
    "start_time": "2023-04-26T14:15:50.502Z"
   },
   {
    "duration": 18,
    "start_time": "2023-04-26T14:15:50.528Z"
   },
   {
    "duration": 13089,
    "start_time": "2023-04-26T14:15:50.549Z"
   },
   {
    "duration": 151,
    "start_time": "2023-04-26T14:16:03.645Z"
   },
   {
    "duration": 0,
    "start_time": "2023-04-26T14:16:03.799Z"
   },
   {
    "duration": 5,
    "start_time": "2023-04-26T14:16:39.407Z"
   },
   {
    "duration": 61510,
    "start_time": "2023-04-26T14:16:42.154Z"
   },
   {
    "duration": 292410,
    "start_time": "2023-04-26T14:17:45.570Z"
   },
   {
    "duration": 13,
    "start_time": "2023-04-26T14:37:47.746Z"
   },
   {
    "duration": 38,
    "start_time": "2023-04-26T14:38:04.288Z"
   },
   {
    "duration": 4,
    "start_time": "2023-04-26T14:38:29.473Z"
   },
   {
    "duration": 5,
    "start_time": "2023-04-26T14:38:42.417Z"
   },
   {
    "duration": 8,
    "start_time": "2023-04-26T14:38:54.605Z"
   },
   {
    "duration": 15,
    "start_time": "2023-04-26T14:39:31.415Z"
   },
   {
    "duration": 19,
    "start_time": "2023-04-26T14:39:49.860Z"
   },
   {
    "duration": 14,
    "start_time": "2023-04-26T14:39:54.811Z"
   },
   {
    "duration": 92,
    "start_time": "2023-04-26T14:39:59.692Z"
   },
   {
    "duration": 18,
    "start_time": "2023-04-26T14:41:04.483Z"
   },
   {
    "duration": 62,
    "start_time": "2023-04-26T14:41:12.585Z"
   },
   {
    "duration": 110,
    "start_time": "2023-04-26T14:41:27.577Z"
   },
   {
    "duration": 9,
    "start_time": "2023-04-26T14:41:31.727Z"
   },
   {
    "duration": 13,
    "start_time": "2023-04-26T14:41:58.526Z"
   },
   {
    "duration": 4,
    "start_time": "2023-04-26T14:42:09.390Z"
   },
   {
    "duration": 7,
    "start_time": "2023-04-26T14:42:14.382Z"
   },
   {
    "duration": 58,
    "start_time": "2023-04-26T14:42:15.817Z"
   },
   {
    "duration": 8,
    "start_time": "2023-04-26T14:42:28.179Z"
   },
   {
    "duration": 58,
    "start_time": "2023-04-26T14:42:37.076Z"
   },
   {
    "duration": 5,
    "start_time": "2023-04-26T14:43:21.316Z"
   },
   {
    "duration": 4,
    "start_time": "2023-04-26T14:43:23.112Z"
   },
   {
    "duration": 186854,
    "start_time": "2023-04-26T14:52:18.854Z"
   },
   {
    "duration": 1572367,
    "start_time": "2023-04-26T14:55:25.711Z"
   },
   {
    "duration": 3447,
    "start_time": "2023-04-26T15:21:38.080Z"
   },
   {
    "duration": 63,
    "start_time": "2023-04-26T15:21:41.530Z"
   },
   {
    "duration": 0,
    "start_time": "2023-04-26T15:21:41.595Z"
   },
   {
    "duration": 0,
    "start_time": "2023-04-26T15:21:41.597Z"
   },
   {
    "duration": 38,
    "start_time": "2023-04-26T15:52:52.790Z"
   },
   {
    "duration": 47,
    "start_time": "2023-04-26T15:52:55.169Z"
   },
   {
    "duration": 5,
    "start_time": "2023-04-26T15:53:00.675Z"
   },
   {
    "duration": 1824,
    "start_time": "2023-05-02T11:19:46.645Z"
   },
   {
    "duration": 9,
    "start_time": "2023-05-02T11:19:48.475Z"
   },
   {
    "duration": 649,
    "start_time": "2023-05-02T11:19:48.486Z"
   },
   {
    "duration": 4,
    "start_time": "2023-05-02T11:19:49.138Z"
   },
   {
    "duration": 46,
    "start_time": "2023-05-02T11:19:49.144Z"
   },
   {
    "duration": 6,
    "start_time": "2023-05-02T11:19:49.192Z"
   },
   {
    "duration": 4,
    "start_time": "2023-05-02T11:19:49.275Z"
   },
   {
    "duration": 8,
    "start_time": "2023-05-02T11:19:49.468Z"
   },
   {
    "duration": 6,
    "start_time": "2023-05-02T11:19:49.659Z"
   },
   {
    "duration": 3,
    "start_time": "2023-05-02T11:19:52.081Z"
   },
   {
    "duration": 10,
    "start_time": "2023-05-02T11:19:52.277Z"
   },
   {
    "duration": 12,
    "start_time": "2023-05-02T11:19:52.479Z"
   },
   {
    "duration": 11,
    "start_time": "2023-05-02T11:19:52.713Z"
   },
   {
    "duration": 65,
    "start_time": "2023-05-02T11:19:52.919Z"
   },
   {
    "duration": 32551,
    "start_time": "2023-05-02T11:19:53.117Z"
   },
   {
    "duration": 4,
    "start_time": "2023-05-02T11:20:25.670Z"
   },
   {
    "duration": 50,
    "start_time": "2023-05-02T11:20:25.676Z"
   },
   {
    "duration": 351,
    "start_time": "2023-05-02T11:20:25.728Z"
   },
   {
    "duration": 293,
    "start_time": "2023-05-02T11:20:26.081Z"
   },
   {
    "duration": 51,
    "start_time": "2023-05-02T11:20:26.377Z"
   },
   {
    "duration": 7921,
    "start_time": "2023-05-02T11:20:26.430Z"
   },
   {
    "duration": 33969,
    "start_time": "2023-05-02T11:20:34.353Z"
   },
   {
    "duration": 299,
    "start_time": "2023-05-02T11:21:08.324Z"
   },
   {
    "duration": 122,
    "start_time": "2023-05-02T11:21:08.626Z"
   },
   {
    "duration": 212,
    "start_time": "2023-05-02T11:21:08.750Z"
   },
   {
    "duration": 14,
    "start_time": "2023-05-02T11:21:08.970Z"
   },
   {
    "duration": 211,
    "start_time": "2023-05-02T11:21:08.986Z"
   },
   {
    "duration": 12,
    "start_time": "2023-05-02T11:21:09.199Z"
   },
   {
    "duration": 135,
    "start_time": "2023-05-02T11:21:09.214Z"
   },
   {
    "duration": 42,
    "start_time": "2023-05-02T11:21:09.350Z"
   },
   {
    "duration": 43,
    "start_time": "2023-05-02T11:21:09.395Z"
   },
   {
    "duration": 31,
    "start_time": "2023-05-02T11:21:09.461Z"
   },
   {
    "duration": 96,
    "start_time": "2023-05-02T11:21:09.494Z"
   },
   {
    "duration": 203,
    "start_time": "2023-05-02T11:21:09.604Z"
   },
   {
    "duration": 1169,
    "start_time": "2023-05-02T11:21:09.815Z"
   },
   {
    "duration": 1377,
    "start_time": "2023-05-02T11:21:10.987Z"
   },
   {
    "duration": 833,
    "start_time": "2023-05-02T11:21:12.376Z"
   },
   {
    "duration": 864,
    "start_time": "2023-05-02T11:21:13.212Z"
   },
   {
    "duration": 42722,
    "start_time": "2023-05-02T11:21:14.078Z"
   },
   {
    "duration": 133,
    "start_time": "2023-05-02T11:21:56.802Z"
   },
   {
    "duration": 5591,
    "start_time": "2023-05-02T11:21:56.937Z"
   },
   {
    "duration": 15,
    "start_time": "2023-05-02T11:22:02.532Z"
   },
   {
    "duration": 38,
    "start_time": "2023-05-02T11:22:02.559Z"
   },
   {
    "duration": 12765,
    "start_time": "2023-05-02T11:22:02.599Z"
   },
   {
    "duration": 7,
    "start_time": "2023-05-02T11:22:15.366Z"
   },
   {
    "duration": 278726,
    "start_time": "2023-05-02T11:22:15.374Z"
   },
   {
    "duration": 170644,
    "start_time": "2023-05-02T11:26:54.103Z"
   },
   {
    "duration": 1352535,
    "start_time": "2023-05-02T11:29:44.752Z"
   },
   {
    "duration": 12,
    "start_time": "2023-05-02T11:52:17.291Z"
   },
   {
    "duration": 2872,
    "start_time": "2023-05-02T11:52:17.304Z"
   },
   {
    "duration": 52,
    "start_time": "2023-05-02T11:52:20.178Z"
   },
   {
    "duration": 58,
    "start_time": "2023-05-02T11:52:20.232Z"
   },
   {
    "duration": 3,
    "start_time": "2023-05-02T11:52:20.296Z"
   },
   {
    "duration": 5687,
    "start_time": "2023-05-02T11:52:20.304Z"
   },
   {
    "duration": 11,
    "start_time": "2023-05-02T11:52:25.997Z"
   },
   {
    "duration": 4,
    "start_time": "2023-05-02T11:52:26.010Z"
   },
   {
    "duration": 983,
    "start_time": "2023-05-02T11:52:26.016Z"
   },
   {
    "duration": 6,
    "start_time": "2023-05-02T11:52:27.007Z"
   },
   {
    "duration": 80,
    "start_time": "2023-05-02T12:13:39.330Z"
   },
   {
    "duration": 1863,
    "start_time": "2023-06-20T14:43:20.840Z"
   },
   {
    "duration": 6,
    "start_time": "2023-06-20T14:43:22.706Z"
   },
   {
    "duration": 640,
    "start_time": "2023-06-20T14:43:22.714Z"
   },
   {
    "duration": 4,
    "start_time": "2023-06-20T14:43:23.356Z"
   },
   {
    "duration": 54,
    "start_time": "2023-06-20T14:43:23.362Z"
   },
   {
    "duration": 9,
    "start_time": "2023-06-20T14:43:23.418Z"
   },
   {
    "duration": 16,
    "start_time": "2023-06-20T14:43:23.429Z"
   },
   {
    "duration": 11,
    "start_time": "2023-06-20T14:43:23.447Z"
   },
   {
    "duration": 5,
    "start_time": "2023-06-20T14:43:23.517Z"
   },
   {
    "duration": 4,
    "start_time": "2023-06-20T14:43:29.712Z"
   },
   {
    "duration": 15,
    "start_time": "2023-06-20T14:43:29.933Z"
   },
   {
    "duration": 13,
    "start_time": "2023-06-20T14:43:30.475Z"
   },
   {
    "duration": 8,
    "start_time": "2023-06-20T14:43:33.702Z"
   },
   {
    "duration": 52,
    "start_time": "2023-06-20T14:43:34.184Z"
   },
   {
    "duration": 25824,
    "start_time": "2023-06-20T14:43:34.788Z"
   },
   {
    "duration": 3,
    "start_time": "2023-06-20T14:44:00.614Z"
   },
   {
    "duration": 74,
    "start_time": "2023-06-20T14:44:00.618Z"
   },
   {
    "duration": 67,
    "start_time": "2023-06-20T14:44:00.694Z"
   },
   {
    "duration": 3,
    "start_time": "2023-06-20T14:44:16.159Z"
   }
  ],
  "kernelspec": {
   "display_name": "Python 3 (ipykernel)",
   "language": "python",
   "name": "python3"
  },
  "language_info": {
   "codemirror_mode": {
    "name": "ipython",
    "version": 3
   },
   "file_extension": ".py",
   "mimetype": "text/x-python",
   "name": "python",
   "nbconvert_exporter": "python",
   "pygments_lexer": "ipython3",
   "version": "3.9.5"
  },
  "toc": {
   "base_numbering": 1,
   "nav_menu": {},
   "number_sections": false,
   "sideBar": true,
   "skip_h1_title": true,
   "title_cell": "Table of Contents",
   "title_sidebar": "Contents",
   "toc_cell": false,
   "toc_position": {},
   "toc_section_display": true,
   "toc_window_display": true
  }
 },
 "nbformat": 4,
 "nbformat_minor": 2
}
