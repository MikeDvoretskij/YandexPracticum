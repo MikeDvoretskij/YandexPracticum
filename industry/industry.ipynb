{
 "cells": [
  {
   "cell_type": "code",
   "execution_count": null,
   "metadata": {},
   "outputs": [],
   "source": [
    "RANDOM_STATE = 15012024"
   ]
  },
  {
   "cell_type": "code",
   "execution_count": null,
   "metadata": {},
   "outputs": [],
   "source": [
    "import pandas as pd\n",
    "from sqlalchemy import create_engine\n",
    "from datetime import datetime\n",
    "pd.set_option('display.max_columns', None)\n",
    "pd.options.display.max_colwidth = 150\n",
    "\n",
    "import torch\n",
    "import torch.nn as nn\n",
    "from torch.utils.data import Dataset, DataLoader\n",
    "\n",
    "from sklearn.linear_model import LinearRegression\n",
    "from sklearn.ensemble import RandomForestRegressor\n",
    "from sklearn.dummy import DummyRegressor\n",
    "from sklearn.model_selection import train_test_split, GridSearchCV, StratifiedKFold\n",
    "from sklearn.metrics import mean_absolute_error, mean_squared_error, r2_score, make_scorer\n",
    "from sklearn.preprocessing import StandardScaler\n",
    "\n",
    "from catboost import CatBoostRegressor\n",
    "\n",
    "import random\n",
    "import numpy as np\n",
    "\n",
    "import matplotlib.pyplot as plt\n",
    "import seaborn as sns\n",
    "\n",
    "import warnings\n",
    "warnings.filterwarnings(\"ignore\")"
   ]
  },
  {
   "cell_type": "code",
   "execution_count": null,
   "metadata": {},
   "outputs": [],
   "source": [
    "db_config = {\n",
    "'user': 'praktikum_student',\n",
    "'pwd': 'Sdf4$2;d-d30pp',\n",
    "'host': 'rc1b-wcoijxj3yxfsf3fs.mdb.yandexcloud.net',\n",
    "'port': 6432,\n",
    "'db': 'data-science-final'\n",
    "}\n",
    "connection_string = 'postgresql://{}:{}@{}:{}/{}'.format(db_config['user'],\n",
    "                                                db_config['pwd'],\n",
    "                                                db_config['host'],\n",
    "                                                db_config['port'],\n",
    "                                                db_config['db'])\n",
    "\n",
    "engine = create_engine(connection_string, connect_args={'sslmode':'require'})"
   ]
  },
  {
   "cell_type": "code",
   "execution_count": null,
   "metadata": {},
   "outputs": [],
   "source": [
    "def set_seed(seed):\n",
    "    random.seed(seed)\n",
    "    np.random.seed(seed)\n",
    "    torch.manual_seed(seed)\n",
    "    if torch.cuda.is_available():\n",
    "        torch.cuda.manual_seed_all(seed)\n",
    "\n",
    "set_seed(RANDOM_STATE)\n",
    "DEVICE = \"cuda\" if torch.cuda.is_available() else \"cpu\""
   ]
  },
  {
   "cell_type": "code",
   "execution_count": null,
   "metadata": {},
   "outputs": [],
   "source": [
    "query = \"\"\"\n",
    "             SELECT * FROM steel.data_bulk\n",
    "        \"\"\"\n",
    "data_bulk = pd.io.sql.read_sql(query, con=engine)\n",
    "\n",
    "query = \"\"\"\n",
    "             SELECT * FROM steel.data_arc\n",
    "        \"\"\"\n",
    "data_arc = pd.io.sql.read_sql(query, con=engine)\n",
    "\n",
    "query = \"\"\"\n",
    "             SELECT * FROM steel.data_bulk_time\n",
    "        \"\"\"\n",
    "data_bulk_time = pd.io.sql.read_sql(query, con=engine)\n",
    "\n",
    "query = \"\"\"\n",
    "             SELECT * FROM steel.data_gas\n",
    "        \"\"\"\n",
    "data_gas = pd.io.sql.read_sql(query, con=engine)\n",
    "\n",
    "query = \"\"\"\n",
    "             SELECT * FROM steel.data_temp\n",
    "        \"\"\"\n",
    "data_temp = pd.io.sql.read_sql(query, con=engine)\n",
    "\n",
    "query = \"\"\"\n",
    "             SELECT * FROM steel.data_wire\n",
    "        \"\"\"\n",
    "data_wire = pd.io.sql.read_sql(query, con=engine)\n",
    "\n",
    "query = \"\"\"\n",
    "             SELECT * FROM steel.data_wire_time\n",
    "        \"\"\"\n",
    "data_wire_time = pd.io.sql.read_sql(query, con=engine)"
   ]
  },
  {
   "cell_type": "code",
   "execution_count": null,
   "metadata": {},
   "outputs": [],
   "source": [
    "data_arc"
   ]
  },
  {
   "cell_type": "code",
   "execution_count": null,
   "metadata": {},
   "outputs": [],
   "source": [
    "data_arc.info()"
   ]
  },
  {
   "cell_type": "code",
   "execution_count": null,
   "metadata": {},
   "outputs": [],
   "source": [
    "data_arc[\"BeginHeat\"] = data_arc[\"BeginHeat\"].apply(lambda x: x.hour * 3600 + x.minute * 60 + x.second)\n",
    "data_arc[\"EndHeat\"] = data_arc[\"EndHeat\"].apply(lambda x: x.hour * 3600 + x.minute * 60 + x.second)\n",
    "data_arc[\"TotalSeconds\"] = data_arc[\"EndHeat\"] - data_arc[\"BeginHeat\"]\n",
    "data_arc = data_arc.drop([\"BeginHeat\", \"EndHeat\"], axis=1)"
   ]
  },
  {
   "cell_type": "code",
   "execution_count": null,
   "metadata": {},
   "outputs": [],
   "source": [
    "plt.boxplot(data_arc[\"TotalSeconds\"])\n",
    "plt.ylabel(\"Секунды\")\n",
    "plt.title(\"Значения в секундах\")\n",
    "plt.show()"
   ]
  },
  {
   "cell_type": "code",
   "execution_count": null,
   "metadata": {},
   "outputs": [],
   "source": [
    "values_to_exclude = data_arc.loc[(data_arc.TotalSeconds < 0) | (data_arc.TotalSeconds > 295), \"key\"].unique()\n",
    "data_arc = data_arc[~data_arc[\"key\"].isin(values_to_exclude)].reset_index(drop=True)"
   ]
  },
  {
   "cell_type": "code",
   "execution_count": null,
   "metadata": {},
   "outputs": [],
   "source": [
    "plt.boxplot(data_arc.TotalSeconds)\n",
    "plt.ylabel(\"Секунды\")\n",
    "plt.title(\"Значения в секундах\")\n",
    "plt.show()"
   ]
  },
  {
   "cell_type": "code",
   "execution_count": null,
   "metadata": {},
   "outputs": [],
   "source": [
    "plt.boxplot(data_arc.ActivePower)\n",
    "plt.title(\"Значения активной мощности\")\n",
    "plt.ylabel(\"Мощность\")\n",
    "plt.show()"
   ]
  },
  {
   "cell_type": "code",
   "execution_count": null,
   "metadata": {},
   "outputs": [],
   "source": [
    "values_to_exclude = data_arc.loc[data_arc.ActivePower > 1.25, \"key\"].unique()\n",
    "data_arc = data_arc[~data_arc[\"key\"].isin(values_to_exclude)].reset_index(drop=True)\n",
    "plt.boxplot(data_arc.ActivePower)\n",
    "plt.title(\"Значения активной мощности\")\n",
    "plt.ylabel(\"Мощность\")\n",
    "plt.show()"
   ]
  },
  {
   "cell_type": "code",
   "execution_count": null,
   "metadata": {},
   "outputs": [],
   "source": [
    "plt.boxplot(data_arc.ReactivePower)\n",
    "plt.title(\"Значения реактивной мощности\")\n",
    "plt.ylabel(\"Мощность\")\n",
    "plt.show()"
   ]
  },
  {
   "cell_type": "code",
   "execution_count": null,
   "metadata": {},
   "outputs": [],
   "source": [
    "values_to_exclude = data_arc.loc[(data_arc.ReactivePower < 0) | (data_arc.ReactivePower > 0.95), \"key\"].unique()\n",
    "data_arc = data_arc[~data_arc[\"key\"].isin(values_to_exclude)].reset_index(drop=True)\n",
    "plt.boxplot(data_arc.ReactivePower)\n",
    "plt.title(\"Значения реактивной мощности\")"
   ]
  },
  {
   "cell_type": "code",
   "execution_count": null,
   "metadata": {},
   "outputs": [],
   "source": [
    "data_arc = data_arc.reset_index(drop=True)\n",
    "data_arc[\"PowerFactor\"] = data_arc.ActivePower / (data_arc.ActivePower + (-1 * data_arc.ReactivePower))\n",
    "data_arc"
   ]
  },
  {
   "cell_type": "code",
   "execution_count": null,
   "metadata": {},
   "outputs": [],
   "source": [
    "data_arc = data_arc.groupby(\"key\").median()\n",
    "data_arc"
   ]
  },
  {
   "cell_type": "code",
   "execution_count": null,
   "metadata": {},
   "outputs": [],
   "source": [
    "data_bulk"
   ]
  },
  {
   "cell_type": "code",
   "execution_count": null,
   "metadata": {},
   "outputs": [],
   "source": [
    "data_bulk.info()"
   ]
  },
  {
   "cell_type": "code",
   "execution_count": null,
   "metadata": {},
   "outputs": [],
   "source": [
    "data_bulk = data_bulk.fillna(0)"
   ]
  },
  {
   "cell_type": "code",
   "execution_count": null,
   "metadata": {},
   "outputs": [],
   "source": [
    "data_bulk_time"
   ]
  },
  {
   "cell_type": "code",
   "execution_count": null,
   "metadata": {},
   "outputs": [],
   "source": [
    "data_bulk_time.info()"
   ]
  },
  {
   "cell_type": "code",
   "execution_count": null,
   "metadata": {},
   "outputs": [],
   "source": [
    "for column in data_bulk_time.drop(\"key\", axis=1).columns:\n",
    "    data_bulk_time[column] = data_bulk_time[column].apply(lambda x: x.hour * 3600 + x.minute * 60 + x.second if x is not None else None)"
   ]
  },
  {
   "cell_type": "code",
   "execution_count": null,
   "metadata": {},
   "outputs": [],
   "source": [
    "a = \"Bulk 15\"\n",
    "for column in data_bulk_time.drop(\"key\", axis=1).columns:\n",
    "     data_bulk_time[column] = data_bulk_time[a] - data_bulk_time[column]\n",
    "     data_bulk_time[column] = data_bulk_time[column].apply(lambda x: x if x >= 0 else -x)\n",
    "data_bulk_time = data_bulk_time.fillna(0)"
   ]
  },
  {
   "cell_type": "code",
   "execution_count": null,
   "metadata": {},
   "outputs": [],
   "source": [
    "for column in data_bulk_time.drop(\"key\", axis=1).columns:\n",
    "     print(f\"{column}: {data_bulk_time[column].max()}\")\n",
    "data_bulk_time = data_bulk_time.drop([a, \"Bulk 2\", \"Bulk 8\"], axis=1)"
   ]
  },
  {
   "cell_type": "code",
   "execution_count": null,
   "metadata": {},
   "outputs": [],
   "source": [
    "data_gas"
   ]
  },
  {
   "cell_type": "code",
   "execution_count": null,
   "metadata": {},
   "outputs": [],
   "source": [
    "data_gas.info()"
   ]
  },
  {
   "cell_type": "code",
   "execution_count": null,
   "metadata": {},
   "outputs": [],
   "source": [
    "plt.boxplot(data_gas[\"gas\"])\n",
    "plt.title(\"Газ\")\n",
    "plt.ylabel(\"Объем\")\n",
    "plt.show()\n",
    "data_gas = data_gas.loc[data_gas[\"gas\"] < 20]"
   ]
  },
  {
   "cell_type": "code",
   "execution_count": null,
   "metadata": {},
   "outputs": [],
   "source": [
    "plt.boxplot(data_gas[\"gas\"])\n",
    "plt.title(\"Газ\")\n",
    "plt.ylabel(\"Объем\")\n",
    "plt.show()"
   ]
  },
  {
   "cell_type": "code",
   "execution_count": null,
   "metadata": {},
   "outputs": [],
   "source": [
    "data_temp"
   ]
  },
  {
   "cell_type": "code",
   "execution_count": null,
   "metadata": {},
   "outputs": [],
   "source": [
    "data_temp.info()"
   ]
  },
  {
   "cell_type": "code",
   "execution_count": null,
   "metadata": {},
   "outputs": [],
   "source": [
    "values_to_exclude = data_temp.loc[data_temp[\"Temperature\"].isna() == True, \"key\"].unique()\n",
    "data_temp = data_temp[~data_temp[\"key\"].isin(values_to_exclude)].reset_index(drop=True)"
   ]
  },
  {
   "cell_type": "code",
   "execution_count": null,
   "metadata": {},
   "outputs": [],
   "source": [
    "plt.boxplot(data_temp[\"Temperature\"])\n",
    "plt.title(\"Температура\")\n",
    "plt.ylabel(\"C\")\n",
    "plt.show()"
   ]
  },
  {
   "cell_type": "code",
   "execution_count": null,
   "metadata": {},
   "outputs": [],
   "source": [
    "data_temp = data_temp.loc[data_temp[\"Temperature\"] > 1500]\n",
    "values_to_exclude = data_temp.loc[(data_temp[\"Temperature\"] < 1560) | (data_temp[\"Temperature\"] > 1619), \"key\"].unique()\n",
    "data_temp = data_temp[~data_temp[\"key\"].isin(values_to_exclude)].reset_index(drop=True)\n",
    "plt.boxplot(data_temp[\"Temperature\"])\n",
    "plt.title(\"Температура\")\n",
    "plt.ylabel(\"C\")\n",
    "plt.show()"
   ]
  },
  {
   "cell_type": "code",
   "execution_count": null,
   "metadata": {},
   "outputs": [],
   "source": [
    "key_counts = data_temp['key'].value_counts()\n",
    "unique_keys = key_counts[key_counts < 2].index.tolist()\n",
    "data_temp = data_temp[~data_temp['key'].isin(unique_keys)]"
   ]
  },
  {
   "cell_type": "code",
   "execution_count": null,
   "metadata": {},
   "outputs": [],
   "source": [
    "data_temp = data_temp.drop_duplicates(subset=\"key\", keep=\"last\").drop(\"MesaureTime\", axis=1).reset_index(drop = True)\n",
    "data_temp"
   ]
  },
  {
   "cell_type": "code",
   "execution_count": null,
   "metadata": {},
   "outputs": [],
   "source": [
    "data_wire"
   ]
  },
  {
   "cell_type": "code",
   "execution_count": null,
   "metadata": {},
   "outputs": [],
   "source": [
    "data_wire.info()"
   ]
  },
  {
   "cell_type": "code",
   "execution_count": null,
   "metadata": {},
   "outputs": [],
   "source": [
    "data_wire = data_wire.fillna(0)"
   ]
  },
  {
   "cell_type": "code",
   "execution_count": null,
   "metadata": {},
   "outputs": [],
   "source": [
    "data_wire_time"
   ]
  },
  {
   "cell_type": "code",
   "execution_count": null,
   "metadata": {},
   "outputs": [],
   "source": [
    "data_wire_time.info()"
   ]
  },
  {
   "cell_type": "code",
   "execution_count": null,
   "metadata": {},
   "outputs": [],
   "source": [
    "for column in data_wire_time.drop(\"key\", axis=1).columns:\n",
    "    data_wire_time[column] = data_wire_time[column].apply(lambda x: x.hour * 3600 + x.minute * 60 + x.second if x is not None else None)"
   ]
  },
  {
   "cell_type": "code",
   "execution_count": null,
   "metadata": {},
   "outputs": [],
   "source": [
    "a = \"Wire 9\"\n",
    "for column in data_wire_time.drop(\"key\", axis=1).columns:\n",
    "     data_wire_time[column] = data_wire_time[a] - data_wire_time[column]\n",
    "     data_wire_time[column] = data_wire_time[column].apply(lambda x: x if x >= 0 else -x)\n",
    "data_wire_time = data_wire_time.fillna(0)\n",
    "data_bulk_time = data_wire_time.drop(a, axis=1)"
   ]
  },
  {
   "cell_type": "code",
   "execution_count": null,
   "metadata": {},
   "outputs": [],
   "source": [
    "for column in data_wire_time.drop(\"key\", axis=1).columns:\n",
    "     print(f\"{column}: {data_wire_time[column].max()}\")\n",
    "data_wire_time = data_wire_time[[\"key\", \"Wire 1\", \"Wire 1\"]]"
   ]
  },
  {
   "cell_type": "code",
   "execution_count": null,
   "metadata": {},
   "outputs": [],
   "source": [
    "data = pd.merge(data_arc, data_bulk, on='key', how='outer')\n",
    "data = pd.merge(data, data_gas, on='key', how='outer')\n",
    "data = pd.merge(data, data_temp, on='key', how='outer')\n",
    "data = pd.merge(data, data_wire, on='key', how='outer')\n",
    "data = data.drop(\"key\", axis=1).dropna(axis=0).reset_index(drop=True)"
   ]
  },
  {
   "cell_type": "code",
   "execution_count": null,
   "metadata": {},
   "outputs": [],
   "source": [
    "data"
   ]
  },
  {
   "cell_type": "code",
   "execution_count": null,
   "metadata": {},
   "outputs": [],
   "source": [
    "data.drop(\"Temperature\", axis=1).hist(figsize=(20, 20), bins=100)\n",
    "plt.suptitle('Гистограммы распределения признаков', x=0.5, y=0.92, fontsize=16)\n",
    "plt.show()"
   ]
  },
  {
   "cell_type": "code",
   "execution_count": null,
   "metadata": {},
   "outputs": [],
   "source": [
    "plt.figure(figsize=(20, 10))\n",
    "sns.heatmap(data.corr(), cmap='coolwarm', center=0, annot=True, linewidths=2, linecolor='black');"
   ]
  },
  {
   "cell_type": "code",
   "execution_count": null,
   "metadata": {},
   "outputs": [],
   "source": [
    "drop_columns = [\"Bulk 1\", \"Bulk 2\", \"Bulk 5\", \"Bulk 6\", \"Bulk 7\", \"Bulk 8\",\n",
    "                \"Bulk 9\", \"Bulk 10\", \"Bulk 11\", \"Bulk 13\", \"Wire 2\",\n",
    "                \"Wire 3\", \"Wire 4\", \"Wire 5\", \"Wire 6\", \"Wire 7\", \"Wire 8\", \"Wire 9\", \n",
    "                \"ActivePower\", \"ReactivePower\",]\n",
    "data = data.drop(drop_columns, axis=1)"
   ]
  },
  {
   "cell_type": "code",
   "execution_count": null,
   "metadata": {},
   "outputs": [],
   "source": [
    "plt.figure(figsize=(20, 10))\n",
    "sns.heatmap(data.corr(), cmap='coolwarm', center=0, annot=True, linewidths=2, linecolor='black');"
   ]
  },
  {
   "cell_type": "code",
   "execution_count": null,
   "metadata": {},
   "outputs": [],
   "source": [
    "data.drop(\"Temperature\", axis=1).hist(figsize=(20, 20), bins=100)\n",
    "plt.suptitle('Гистограммы распределения признаков', x=0.5, y=0.92, fontsize=16)\n",
    "plt.show()"
   ]
  },
  {
   "cell_type": "code",
   "execution_count": null,
   "metadata": {},
   "outputs": [],
   "source": [
    "plt.figure(figsize=(20, 10))\n",
    "sns.heatmap(data.corr(), cmap='coolwarm', center=0, annot=True, linewidths=2, linecolor='black');"
   ]
  },
  {
   "cell_type": "code",
   "execution_count": null,
   "metadata": {},
   "outputs": [],
   "source": [
    "data_train, data_test = train_test_split(data, test_size=0.25, random_state=RANDOM_STATE)\n",
    "data_train = data_train.reset_index(drop=True)\n",
    "data_test = data_test.reset_index(drop=True)"
   ]
  },
  {
   "cell_type": "code",
   "execution_count": null,
   "metadata": {},
   "outputs": [],
   "source": [
    "results = pd.DataFrame(columns=[\"Name\", \"MAE\", \"R2\", \"RMSE\"])\n",
    "def add_table(data:(str, float, float, float)):\n",
    "    a = results.shape[0]\n",
    "    results.loc[a] = data\n",
    "    display(results)"
   ]
  },
  {
   "cell_type": "code",
   "execution_count": null,
   "metadata": {},
   "outputs": [],
   "source": [
    "target_column = \"Temperature\""
   ]
  },
  {
   "cell_type": "code",
   "execution_count": null,
   "metadata": {},
   "outputs": [],
   "source": [
    "columns = data_train.drop(target_column, axis=1).columns\n",
    "scaler = StandardScaler()\n",
    "data_train[columns] = scaler.fit_transform(data_train.drop(target_column, axis=1))\n",
    "data_test[columns] = scaler.transform(data_test.drop(target_column, axis=1))"
   ]
  },
  {
   "cell_type": "code",
   "execution_count": null,
   "metadata": {},
   "outputs": [],
   "source": [
    "param_grid = {\"strategy\":[\"mean\"]}\n",
    "model = DummyRegressor()\n",
    "grid_search = GridSearchCV(estimator=model, param_grid=param_grid, cv=5, scoring=make_scorer(mean_absolute_error))"
   ]
  },
  {
   "cell_type": "code",
   "execution_count": null,
   "metadata": {},
   "outputs": [],
   "source": [
    "grid_search.fit(data_train.drop(target_column, axis=1), data_train[target_column])\n",
    "dummy_model = grid_search.best_estimator_\n",
    "grid_search.best_score_"
   ]
  },
  {
   "cell_type": "code",
   "execution_count": null,
   "metadata": {},
   "outputs": [],
   "source": [
    "param_grid = {\"n_jobs\":[6]}\n",
    "model = LinearRegression()\n",
    "grid_search = GridSearchCV(estimator=model, param_grid=param_grid, cv=5, scoring=make_scorer(mean_absolute_error))"
   ]
  },
  {
   "cell_type": "code",
   "execution_count": null,
   "metadata": {},
   "outputs": [],
   "source": [
    "grid_search.fit(data_train.drop(target_column, axis=1), data_train[target_column])\n",
    "liniar_model = grid_search.best_estimator_\n",
    "grid_search.best_score_"
   ]
  },
  {
   "cell_type": "code",
   "execution_count": null,
   "metadata": {},
   "outputs": [],
   "source": [
    "param_grid = {\"n_jobs\":[6], \n",
    "              \"max_depth\":[3, 4, 5, 6, 7, 8, 9, 10],\n",
    "              \"n_estimators\":[100, 200]}\n",
    "model = RandomForestRegressor(random_state=RANDOM_STATE)\n",
    "grid_search = GridSearchCV(estimator=model, param_grid=param_grid, cv=5, scoring=make_scorer(mean_absolute_error))\n",
    "grid_search.fit(data_train.drop(target_column, axis=1), data_train[target_column])\n",
    "forest_model = grid_search.best_estimator_\n",
    "grid_search.best_score_"
   ]
  },
  {
   "cell_type": "code",
   "execution_count": null,
   "metadata": {},
   "outputs": [],
   "source": [
    "param_grid = {\"depth\": [3, 5],\n",
    "              \"iterations\": [1000, 2000]}\n",
    "model = model = CatBoostRegressor(random_state=RANDOM_STATE, silent=True)\n",
    "grid_search = GridSearchCV(estimator=model, param_grid=param_grid, cv=5, scoring=make_scorer(mean_absolute_error), n_jobs=8)\n",
    "grid_search.fit(data_train.drop(target_column, axis=1), data_train[target_column])\n",
    "catboost_model = grid_search.best_estimator_\n",
    "grid_search.best_score_"
   ]
  },
  {
   "cell_type": "code",
   "execution_count": null,
   "metadata": {},
   "outputs": [],
   "source": [
    "class CustomDataset(Dataset):\n",
    "     def __init__(self, data:pd.DataFrame, train=True):\n",
    "          self.train = train\n",
    "          if self.train:\n",
    "             self.data = data.drop(target_column, axis=1)\n",
    "             self.target = data[target_column]\n",
    "          else:\n",
    "             self.data = data.drop(target_column, axis=1)\n",
    "     \n",
    "     def __len__(self):\n",
    "         return len(self.data)\n",
    "         \n",
    "     def __getitem__(self, index):\n",
    "          if self.train:\n",
    "             data = self.data.iloc[index]\n",
    "             target = self.target.iloc[index]\n",
    "\n",
    "             with torch.no_grad():\n",
    "                 data = torch.tensor(data, dtype=torch.float32, device=DEVICE)\n",
    "                 target = torch.tensor(target, dtype=torch.float32, device=DEVICE)\n",
    "                 return data, target\n",
    "             \n",
    "          else:\n",
    "              data = self.data.iloc[index]\n",
    "\n",
    "              with torch.no_grad():\n",
    "                 data = torch.tensor(data, dtype=torch.float32, device=DEVICE)\n",
    "                 return data"
   ]
  },
  {
   "cell_type": "code",
   "execution_count": null,
   "metadata": {},
   "outputs": [],
   "source": [
    "data_train_dataset = CustomDataset(data_train)\n",
    "data_train_dataloader = DataLoader(data_train_dataset, batch_size=500, shuffle=True)"
   ]
  },
  {
   "cell_type": "code",
   "execution_count": null,
   "metadata": {},
   "outputs": [],
   "source": [
    "def train_model(model, train_loader, optimizer, criterion):\n",
    "    model.train()\n",
    "    for inputs, labels in train_loader:\n",
    "        optimizer.zero_grad()\n",
    "        outputs = model(inputs)\n",
    "        loss = criterion(outputs, labels)\n",
    "        loss.backward()\n",
    "        optimizer.step()"
   ]
  },
  {
   "cell_type": "code",
   "execution_count": null,
   "metadata": {},
   "outputs": [],
   "source": [
    "class Net(nn.Module):\n",
    "    def __init__(self, input_features, depth):\n",
    "        super(Net, self).__init__()\n",
    "\n",
    "        self.fc1 = nn.Linear(input_features, input_features * depth)\n",
    "        self.fc2 = nn.Linear(input_features * depth, input_features * depth)\n",
    "        self.fc3 = nn.Linear(input_features * depth, input_features * depth)\n",
    "        self.fc4 = nn.Linear(input_features * depth, input_features * depth)\n",
    "        self.fc5 = nn.Linear(input_features * depth, input_features * depth)\n",
    "        self.fc6 = nn.Linear(input_features * depth, 1)\n",
    "        self.relu = nn.ReLU()\n",
    "        self.rrelu = nn.LeakyReLU()\n",
    "    \n",
    "    def forward(self, x):\n",
    "        x = self.fc1(x)\n",
    "        x = self.rrelu(x)\n",
    "        x = self.fc2(x)\n",
    "        x = self.rrelu(x)\n",
    "        x = self.fc3(x)\n",
    "        x = self.rrelu(x)\n",
    "        x = self.fc4(x)\n",
    "        x = self.rrelu(x)\n",
    "        x = self.fc5(x)\n",
    "        x = self.rrelu(x)\n",
    "        x = self.fc6(x)\n",
    "        x = self.relu(x)\n",
    "        \n",
    "        return x"
   ]
  },
  {
   "cell_type": "code",
   "execution_count": null,
   "metadata": {},
   "outputs": [],
   "source": [
    "kf = StratifiedKFold(n_splits=2, shuffle=True, random_state=RANDOM_STATE)\n",
    "best_net = None\n",
    "epochs = [100, 101]\n",
    "depths = [2, 3,]\n",
    "_mae = 20 ** 10"
   ]
  },
  {
   "cell_type": "code",
   "execution_count": null,
   "metadata": {},
   "outputs": [],
   "source": [
    "for depth in depths:\n",
    "    for _epochs in epochs:\n",
    "        for train_index, test_index in kf.split(data_train.drop(target_column, axis=1), data_train[target_column]):\n",
    "            train_data, test_data = data.iloc[train_index], data.iloc[test_index]\n",
    "\n",
    "            train_dataset = CustomDataset(train_data, train=True)\n",
    "            train_loader = DataLoader(train_dataset, batch_size=500, shuffle=True)\n",
    "\n",
    "            test_dataset = CustomDataset(test_data, train=True)\n",
    "            test_loader = DataLoader(test_dataset, batch_size=1, shuffle=False)\n",
    "\n",
    "            model = Net(data.shape[1] - 1, depth).to(DEVICE)\n",
    "            criterion = nn.MSELoss().to(DEVICE)\n",
    "            optimizer = torch.optim.AdamW(model.parameters())\n",
    "\n",
    "            for epoch in range(_epochs):\n",
    "                train_model(model, train_loader, optimizer, criterion)\n",
    "            \n",
    "            model.eval()\n",
    "            all_preds = []\n",
    "            all_targets = []\n",
    "            with torch.no_grad():\n",
    "                for inputs, labels in test_loader:\n",
    "                    outputs = model(inputs)\n",
    "                    all_preds.append(outputs.detach().cpu().numpy()[0])\n",
    "                    all_targets.append(labels.detach().cpu().numpy()[0])\n",
    "            mae = mean_absolute_error(all_targets, all_preds)\n",
    "            print(f\"MAE: {mae}, epochs: {_epochs}, depth: {depth}\")\n",
    "\n",
    "            if mae < _mae:\n",
    "                _mae = mae\n",
    "                best_net = model"
   ]
  },
  {
   "cell_type": "code",
   "execution_count": null,
   "metadata": {},
   "outputs": [],
   "source": [
    "_mae"
   ]
  },
  {
   "cell_type": "code",
   "execution_count": null,
   "metadata": {},
   "outputs": [],
   "source": [
    "importances = catboost_model.feature_importances_\n",
    "imp = pd.DataFrame(data_test.drop(target_column, axis=1).columns, columns=[\"Feature\"])\n",
    "imp[\"Importance\"] = importances\n",
    "\n",
    "imp = imp.sort_values(by='Importance', ascending=False)\n",
    "\n",
    "plt.figure(figsize=(10, 6))\n",
    "bars = plt.bar(imp['Feature'], imp['Importance'])\n",
    "plt.xlabel('Признаки')\n",
    "plt.ylabel('Важность')\n",
    "plt.title('График важности признаков')\n",
    "plt.xticks(rotation=45, ha='right')\n",
    "\n",
    "plt.show()"
   ]
  },
  {
   "cell_type": "code",
   "execution_count": null,
   "metadata": {},
   "outputs": [],
   "source": [
    "predictions = forest_model.predict(data_test.drop(target_column, axis=1))\n",
    "mae = mean_absolute_error(data_test[target_column], predictions)\n",
    "r2 = r2_score(data_test[target_column], predictions)\n",
    "rmse = mean_squared_error(data_test[target_column], predictions, squared=False)\n",
    "add_table((\"RandomForest_test\", mae, r2, rmse))"
   ]
  },
  {
   "cell_type": "code",
   "execution_count": null,
   "metadata": {},
   "outputs": [],
   "source": [
    "forest_model"
   ]
  }
 ],
 "metadata": {
  "ExecuteTimeLog": [
   {
    "duration": 9,
    "start_time": "2024-01-16T19:21:38.460Z"
   },
   {
    "duration": 539,
    "start_time": "2024-01-16T19:21:38.471Z"
   },
   {
    "duration": 8144,
    "start_time": "2024-01-16T19:21:39.012Z"
   },
   {
    "duration": 923,
    "start_time": "2024-01-16T19:21:47.158Z"
   },
   {
    "duration": 8940,
    "start_time": "2024-01-16T19:21:48.083Z"
   },
   {
    "duration": 7,
    "start_time": "2024-01-16T19:21:57.025Z"
   },
   {
    "duration": 49,
    "start_time": "2024-01-16T19:21:57.034Z"
   },
   {
    "duration": 23,
    "start_time": "2024-01-16T19:21:57.086Z"
   },
   {
    "duration": 25,
    "start_time": "2024-01-16T19:21:57.111Z"
   },
   {
    "duration": 368,
    "start_time": "2024-01-16T19:21:57.140Z"
   },
   {
    "duration": 7,
    "start_time": "2024-01-16T19:21:57.510Z"
   },
   {
    "duration": 267,
    "start_time": "2024-01-16T19:21:57.519Z"
   },
   {
    "duration": 312,
    "start_time": "2024-01-16T19:21:57.788Z"
   },
   {
    "duration": 295,
    "start_time": "2024-01-16T19:21:58.102Z"
   },
   {
    "duration": 280,
    "start_time": "2024-01-16T19:21:58.399Z"
   },
   {
    "duration": 287,
    "start_time": "2024-01-16T19:21:58.682Z"
   },
   {
    "duration": 18,
    "start_time": "2024-01-16T19:21:58.970Z"
   },
   {
    "duration": 34,
    "start_time": "2024-01-16T19:21:58.989Z"
   },
   {
    "duration": 22,
    "start_time": "2024-01-16T19:21:59.025Z"
   },
   {
    "duration": 14,
    "start_time": "2024-01-16T19:21:59.049Z"
   },
   {
    "duration": 4,
    "start_time": "2024-01-16T19:21:59.065Z"
   },
   {
    "duration": 26,
    "start_time": "2024-01-16T19:21:59.071Z"
   },
   {
    "duration": 36,
    "start_time": "2024-01-16T19:21:59.098Z"
   },
   {
    "duration": 28,
    "start_time": "2024-01-16T19:21:59.136Z"
   },
   {
    "duration": 29,
    "start_time": "2024-01-16T19:21:59.165Z"
   },
   {
    "duration": 33,
    "start_time": "2024-01-16T19:21:59.196Z"
   },
   {
    "duration": 16,
    "start_time": "2024-01-16T19:21:59.231Z"
   },
   {
    "duration": 21,
    "start_time": "2024-01-16T19:21:59.251Z"
   },
   {
    "duration": 310,
    "start_time": "2024-01-16T19:21:59.274Z"
   },
   {
    "duration": 11,
    "start_time": "2024-01-16T19:21:59.586Z"
   },
   {
    "duration": 31,
    "start_time": "2024-01-16T19:21:59.598Z"
   },
   {
    "duration": 8,
    "start_time": "2024-01-16T19:21:59.631Z"
   },
   {
    "duration": 240,
    "start_time": "2024-01-16T19:21:59.641Z"
   },
   {
    "duration": 296,
    "start_time": "2024-01-16T19:21:59.883Z"
   },
   {
    "duration": 7,
    "start_time": "2024-01-16T19:22:00.181Z"
   },
   {
    "duration": 6,
    "start_time": "2024-01-16T19:22:08.983Z"
   },
   {
    "duration": 8,
    "start_time": "2024-01-19T07:29:58.451Z"
   },
   {
    "duration": 3547,
    "start_time": "2024-01-19T07:29:58.460Z"
   },
   {
    "duration": 9981,
    "start_time": "2024-01-19T07:30:02.011Z"
   },
   {
    "duration": 4,
    "start_time": "2024-01-19T07:30:11.995Z"
   },
   {
    "duration": 975,
    "start_time": "2024-01-19T07:30:12.001Z"
   },
   {
    "duration": 14,
    "start_time": "2024-01-19T07:30:12.978Z"
   },
   {
    "duration": 11,
    "start_time": "2024-01-19T07:30:12.994Z"
   },
   {
    "duration": 21,
    "start_time": "2024-01-19T07:30:13.007Z"
   },
   {
    "duration": 103,
    "start_time": "2024-01-19T07:30:13.030Z"
   },
   {
    "duration": 7,
    "start_time": "2024-01-19T07:30:13.135Z"
   },
   {
    "duration": 120,
    "start_time": "2024-01-19T07:30:13.144Z"
   },
   {
    "duration": 105,
    "start_time": "2024-01-19T07:30:13.265Z"
   },
   {
    "duration": 97,
    "start_time": "2024-01-19T07:30:13.372Z"
   },
   {
    "duration": 111,
    "start_time": "2024-01-19T07:30:13.471Z"
   },
   {
    "duration": 98,
    "start_time": "2024-01-19T07:30:13.583Z"
   },
   {
    "duration": 16,
    "start_time": "2024-01-19T07:30:13.683Z"
   },
   {
    "duration": 30,
    "start_time": "2024-01-19T07:30:13.700Z"
   },
   {
    "duration": 20,
    "start_time": "2024-01-19T07:30:13.732Z"
   },
   {
    "duration": 15,
    "start_time": "2024-01-19T07:30:13.753Z"
   },
   {
    "duration": 5,
    "start_time": "2024-01-19T07:30:13.770Z"
   },
   {
    "duration": 17,
    "start_time": "2024-01-19T07:30:13.776Z"
   },
   {
    "duration": 34,
    "start_time": "2024-01-19T07:30:13.794Z"
   },
   {
    "duration": 24,
    "start_time": "2024-01-19T07:30:13.829Z"
   },
   {
    "duration": 25,
    "start_time": "2024-01-19T07:30:13.854Z"
   },
   {
    "duration": 9,
    "start_time": "2024-01-19T07:30:13.880Z"
   },
   {
    "duration": 33,
    "start_time": "2024-01-19T07:30:13.890Z"
   },
   {
    "duration": 11,
    "start_time": "2024-01-19T07:30:13.924Z"
   },
   {
    "duration": 105,
    "start_time": "2024-01-19T07:30:13.938Z"
   },
   {
    "duration": 103,
    "start_time": "2024-01-19T07:30:14.045Z"
   },
   {
    "duration": 10,
    "start_time": "2024-01-19T07:30:14.149Z"
   },
   {
    "duration": 14,
    "start_time": "2024-01-19T07:30:14.160Z"
   },
   {
    "duration": 5,
    "start_time": "2024-01-19T07:30:14.176Z"
   },
   {
    "duration": 100,
    "start_time": "2024-01-19T07:30:14.182Z"
   },
   {
    "duration": 94,
    "start_time": "2024-01-19T07:30:14.283Z"
   },
   {
    "duration": 5,
    "start_time": "2024-01-19T07:30:14.379Z"
   },
   {
    "duration": 11,
    "start_time": "2024-01-19T07:30:14.385Z"
   },
   {
    "duration": 32,
    "start_time": "2024-01-19T07:30:14.397Z"
   },
   {
    "duration": 13,
    "start_time": "2024-01-19T07:30:14.431Z"
   },
   {
    "duration": 3,
    "start_time": "2024-01-19T07:30:14.446Z"
   },
   {
    "duration": 16,
    "start_time": "2024-01-19T07:30:14.451Z"
   },
   {
    "duration": 14,
    "start_time": "2024-01-19T07:30:14.469Z"
   },
   {
    "duration": 34,
    "start_time": "2024-01-19T07:30:14.485Z"
   },
   {
    "duration": 17,
    "start_time": "2024-01-19T07:30:14.521Z"
   },
   {
    "duration": 7,
    "start_time": "2024-01-19T07:30:14.539Z"
   },
   {
    "duration": 21,
    "start_time": "2024-01-19T07:30:14.547Z"
   },
   {
    "duration": 61,
    "start_time": "2024-01-19T07:30:14.569Z"
   },
   {
    "duration": 8,
    "start_time": "2024-01-19T07:32:17.364Z"
   },
   {
    "duration": 3875,
    "start_time": "2024-01-19T07:32:17.375Z"
   },
   {
    "duration": 8865,
    "start_time": "2024-01-19T07:32:21.254Z"
   },
   {
    "duration": 5,
    "start_time": "2024-01-19T07:32:30.120Z"
   },
   {
    "duration": 1037,
    "start_time": "2024-01-19T07:32:30.126Z"
   },
   {
    "duration": 16,
    "start_time": "2024-01-19T07:32:31.165Z"
   },
   {
    "duration": 63,
    "start_time": "2024-01-19T07:32:31.182Z"
   },
   {
    "duration": 42,
    "start_time": "2024-01-19T07:32:31.247Z"
   },
   {
    "duration": 114,
    "start_time": "2024-01-19T07:32:31.290Z"
   },
   {
    "duration": 12,
    "start_time": "2024-01-19T07:32:31.405Z"
   },
   {
    "duration": 103,
    "start_time": "2024-01-19T07:32:31.419Z"
   },
   {
    "duration": 96,
    "start_time": "2024-01-19T07:32:31.524Z"
   },
   {
    "duration": 102,
    "start_time": "2024-01-19T07:32:31.621Z"
   },
   {
    "duration": 103,
    "start_time": "2024-01-19T07:32:31.725Z"
   },
   {
    "duration": 89,
    "start_time": "2024-01-19T07:32:31.829Z"
   },
   {
    "duration": 14,
    "start_time": "2024-01-19T07:32:31.919Z"
   },
   {
    "duration": 43,
    "start_time": "2024-01-19T07:32:31.934Z"
   },
   {
    "duration": 26,
    "start_time": "2024-01-19T07:32:31.978Z"
   },
   {
    "duration": 16,
    "start_time": "2024-01-19T07:32:32.005Z"
   },
   {
    "duration": 7,
    "start_time": "2024-01-19T07:32:32.022Z"
   },
   {
    "duration": 30,
    "start_time": "2024-01-19T07:32:32.031Z"
   },
   {
    "duration": 24,
    "start_time": "2024-01-19T07:32:32.063Z"
   },
   {
    "duration": 33,
    "start_time": "2024-01-19T07:32:32.089Z"
   },
   {
    "duration": 24,
    "start_time": "2024-01-19T07:32:32.124Z"
   },
   {
    "duration": 10,
    "start_time": "2024-01-19T07:32:32.149Z"
   },
   {
    "duration": 13,
    "start_time": "2024-01-19T07:32:32.161Z"
   },
   {
    "duration": 15,
    "start_time": "2024-01-19T07:32:32.176Z"
   },
   {
    "duration": 116,
    "start_time": "2024-01-19T07:32:32.193Z"
   },
   {
    "duration": 108,
    "start_time": "2024-01-19T07:32:32.318Z"
   },
   {
    "duration": 11,
    "start_time": "2024-01-19T07:32:32.428Z"
   },
   {
    "duration": 31,
    "start_time": "2024-01-19T07:32:32.440Z"
   },
   {
    "duration": 6,
    "start_time": "2024-01-19T07:32:32.473Z"
   },
   {
    "duration": 98,
    "start_time": "2024-01-19T07:32:32.480Z"
   },
   {
    "duration": 106,
    "start_time": "2024-01-19T07:32:32.579Z"
   },
   {
    "duration": 6,
    "start_time": "2024-01-19T07:32:32.686Z"
   },
   {
    "duration": 13,
    "start_time": "2024-01-19T07:32:32.693Z"
   },
   {
    "duration": 14,
    "start_time": "2024-01-19T07:32:32.717Z"
   },
   {
    "duration": 9,
    "start_time": "2024-01-19T07:32:32.733Z"
   },
   {
    "duration": 4,
    "start_time": "2024-01-19T07:32:32.744Z"
   },
   {
    "duration": 17,
    "start_time": "2024-01-19T07:32:32.749Z"
   },
   {
    "duration": 11,
    "start_time": "2024-01-19T07:32:32.770Z"
   },
   {
    "duration": 42,
    "start_time": "2024-01-19T07:32:32.782Z"
   },
   {
    "duration": 18,
    "start_time": "2024-01-19T07:32:32.826Z"
   },
   {
    "duration": 8,
    "start_time": "2024-01-19T07:32:32.845Z"
   },
   {
    "duration": 25,
    "start_time": "2024-01-19T07:32:32.854Z"
   },
   {
    "duration": 53,
    "start_time": "2024-01-19T07:32:32.880Z"
   },
   {
    "duration": 6169,
    "start_time": "2024-01-19T07:32:32.934Z"
   },
   {
    "duration": 48,
    "start_time": "2024-01-19T07:32:39.105Z"
   },
   {
    "duration": 4,
    "start_time": "2024-01-19T07:32:39.154Z"
   },
   {
    "duration": 139,
    "start_time": "2024-01-19T07:33:39.255Z"
   },
   {
    "duration": 20,
    "start_time": "2024-01-19T07:33:40.512Z"
   },
   {
    "duration": 2,
    "start_time": "2024-01-19T07:33:59.557Z"
   },
   {
    "duration": 6,
    "start_time": "2024-01-19T07:33:59.562Z"
   },
   {
    "duration": 8,
    "start_time": "2024-01-19T07:33:59.570Z"
   },
   {
    "duration": 12,
    "start_time": "2024-01-19T07:33:59.580Z"
   },
   {
    "duration": 1372,
    "start_time": "2024-01-19T07:33:59.593Z"
   },
   {
    "duration": 11,
    "start_time": "2024-01-19T07:34:00.966Z"
   },
   {
    "duration": 35,
    "start_time": "2024-01-19T07:34:00.978Z"
   },
   {
    "duration": 46,
    "start_time": "2024-01-19T07:34:01.015Z"
   },
   {
    "duration": 126,
    "start_time": "2024-01-19T07:34:01.063Z"
   },
   {
    "duration": 6,
    "start_time": "2024-01-19T07:34:01.190Z"
   },
   {
    "duration": 109,
    "start_time": "2024-01-19T07:34:01.198Z"
   },
   {
    "duration": 111,
    "start_time": "2024-01-19T07:34:01.309Z"
   },
   {
    "duration": 105,
    "start_time": "2024-01-19T07:34:01.421Z"
   },
   {
    "duration": 106,
    "start_time": "2024-01-19T07:34:01.528Z"
   },
   {
    "duration": 99,
    "start_time": "2024-01-19T07:34:01.636Z"
   },
   {
    "duration": 16,
    "start_time": "2024-01-19T07:34:01.737Z"
   },
   {
    "duration": 44,
    "start_time": "2024-01-19T07:34:01.754Z"
   },
   {
    "duration": 39,
    "start_time": "2024-01-19T07:34:01.799Z"
   },
   {
    "duration": 40,
    "start_time": "2024-01-19T07:34:01.839Z"
   },
   {
    "duration": 13,
    "start_time": "2024-01-19T07:34:01.881Z"
   },
   {
    "duration": 37,
    "start_time": "2024-01-19T07:34:01.896Z"
   },
   {
    "duration": 39,
    "start_time": "2024-01-19T07:34:01.934Z"
   },
   {
    "duration": 35,
    "start_time": "2024-01-19T07:34:01.974Z"
   },
   {
    "duration": 27,
    "start_time": "2024-01-19T07:34:02.010Z"
   },
   {
    "duration": 12,
    "start_time": "2024-01-19T07:34:02.039Z"
   },
   {
    "duration": 27,
    "start_time": "2024-01-19T07:34:02.054Z"
   },
   {
    "duration": 25,
    "start_time": "2024-01-19T07:34:02.083Z"
   },
   {
    "duration": 95,
    "start_time": "2024-01-19T07:34:02.110Z"
   },
   {
    "duration": 101,
    "start_time": "2024-01-19T07:34:02.217Z"
   },
   {
    "duration": 10,
    "start_time": "2024-01-19T07:34:02.319Z"
   },
   {
    "duration": 18,
    "start_time": "2024-01-19T07:34:02.331Z"
   },
   {
    "duration": 20,
    "start_time": "2024-01-19T07:34:02.350Z"
   },
   {
    "duration": 190,
    "start_time": "2024-01-19T07:34:02.371Z"
   },
   {
    "duration": 94,
    "start_time": "2024-01-19T07:34:02.562Z"
   },
   {
    "duration": 5,
    "start_time": "2024-01-19T07:34:02.658Z"
   },
   {
    "duration": 25,
    "start_time": "2024-01-19T07:34:02.665Z"
   },
   {
    "duration": 12,
    "start_time": "2024-01-19T07:34:02.692Z"
   },
   {
    "duration": 20,
    "start_time": "2024-01-19T07:34:02.706Z"
   },
   {
    "duration": 9,
    "start_time": "2024-01-19T07:34:02.727Z"
   },
   {
    "duration": 18,
    "start_time": "2024-01-19T07:34:02.737Z"
   },
   {
    "duration": 42,
    "start_time": "2024-01-19T07:34:02.757Z"
   },
   {
    "duration": 14,
    "start_time": "2024-01-19T07:34:02.800Z"
   },
   {
    "duration": 17,
    "start_time": "2024-01-19T07:34:02.816Z"
   },
   {
    "duration": 8,
    "start_time": "2024-01-19T07:34:02.835Z"
   },
   {
    "duration": 20,
    "start_time": "2024-01-19T07:34:02.844Z"
   },
   {
    "duration": 55,
    "start_time": "2024-01-19T07:34:02.865Z"
   },
   {
    "duration": 6005,
    "start_time": "2024-01-19T07:34:02.921Z"
   },
   {
    "duration": 44,
    "start_time": "2024-01-19T07:34:08.928Z"
   },
   {
    "duration": 4,
    "start_time": "2024-01-19T07:34:08.973Z"
   },
   {
    "duration": 19,
    "start_time": "2024-01-19T07:34:08.979Z"
   },
   {
    "duration": 1177,
    "start_time": "2024-01-19T07:34:39.872Z"
   },
   {
    "duration": 7,
    "start_time": "2024-01-19T07:37:27.773Z"
   },
   {
    "duration": 3806,
    "start_time": "2024-01-19T07:37:27.781Z"
   },
   {
    "duration": 8386,
    "start_time": "2024-01-19T07:37:31.588Z"
   },
   {
    "duration": 4,
    "start_time": "2024-01-19T07:37:39.976Z"
   },
   {
    "duration": 952,
    "start_time": "2024-01-19T07:37:39.982Z"
   },
   {
    "duration": 15,
    "start_time": "2024-01-19T07:37:40.936Z"
   },
   {
    "duration": 12,
    "start_time": "2024-01-19T07:37:40.953Z"
   },
   {
    "duration": 22,
    "start_time": "2024-01-19T07:37:40.967Z"
   },
   {
    "duration": 112,
    "start_time": "2024-01-19T07:37:40.990Z"
   },
   {
    "duration": 17,
    "start_time": "2024-01-19T07:37:41.106Z"
   },
   {
    "duration": 108,
    "start_time": "2024-01-19T07:37:41.125Z"
   },
   {
    "duration": 108,
    "start_time": "2024-01-19T07:37:41.235Z"
   },
   {
    "duration": 103,
    "start_time": "2024-01-19T07:37:41.345Z"
   },
   {
    "duration": 110,
    "start_time": "2024-01-19T07:37:41.450Z"
   },
   {
    "duration": 109,
    "start_time": "2024-01-19T07:37:41.562Z"
   },
   {
    "duration": 16,
    "start_time": "2024-01-19T07:37:41.673Z"
   },
   {
    "duration": 30,
    "start_time": "2024-01-19T07:37:41.690Z"
   },
   {
    "duration": 21,
    "start_time": "2024-01-19T07:37:41.722Z"
   },
   {
    "duration": 10,
    "start_time": "2024-01-19T07:37:41.745Z"
   },
   {
    "duration": 3,
    "start_time": "2024-01-19T07:37:41.757Z"
   },
   {
    "duration": 22,
    "start_time": "2024-01-19T07:37:41.762Z"
   },
   {
    "duration": 38,
    "start_time": "2024-01-19T07:37:41.786Z"
   },
   {
    "duration": 24,
    "start_time": "2024-01-19T07:37:41.826Z"
   },
   {
    "duration": 27,
    "start_time": "2024-01-19T07:37:41.852Z"
   },
   {
    "duration": 10,
    "start_time": "2024-01-19T07:37:41.880Z"
   },
   {
    "duration": 10,
    "start_time": "2024-01-19T07:37:41.917Z"
   },
   {
    "duration": 10,
    "start_time": "2024-01-19T07:37:41.929Z"
   },
   {
    "duration": 132,
    "start_time": "2024-01-19T07:37:41.943Z"
   },
   {
    "duration": 111,
    "start_time": "2024-01-19T07:37:42.076Z"
   },
   {
    "duration": 11,
    "start_time": "2024-01-19T07:37:42.189Z"
   },
   {
    "duration": 24,
    "start_time": "2024-01-19T07:37:42.202Z"
   },
   {
    "duration": 7,
    "start_time": "2024-01-19T07:37:42.228Z"
   },
   {
    "duration": 122,
    "start_time": "2024-01-19T07:37:42.237Z"
   },
   {
    "duration": 103,
    "start_time": "2024-01-19T07:37:42.361Z"
   },
   {
    "duration": 5,
    "start_time": "2024-01-19T07:37:42.466Z"
   },
   {
    "duration": 11,
    "start_time": "2024-01-19T07:37:42.473Z"
   },
   {
    "duration": 13,
    "start_time": "2024-01-19T07:37:42.486Z"
   },
   {
    "duration": 10,
    "start_time": "2024-01-19T07:37:42.518Z"
   },
   {
    "duration": 3,
    "start_time": "2024-01-19T07:37:42.529Z"
   },
   {
    "duration": 13,
    "start_time": "2024-01-19T07:37:42.533Z"
   },
   {
    "duration": 11,
    "start_time": "2024-01-19T07:37:42.547Z"
   },
   {
    "duration": 13,
    "start_time": "2024-01-19T07:37:42.559Z"
   },
   {
    "duration": 48,
    "start_time": "2024-01-19T07:37:42.574Z"
   },
   {
    "duration": 8,
    "start_time": "2024-01-19T07:37:42.624Z"
   },
   {
    "duration": 20,
    "start_time": "2024-01-19T07:37:42.633Z"
   },
   {
    "duration": 34,
    "start_time": "2024-01-19T07:37:42.655Z"
   },
   {
    "duration": 6027,
    "start_time": "2024-01-19T07:37:42.691Z"
   },
   {
    "duration": 43,
    "start_time": "2024-01-19T07:37:48.720Z"
   },
   {
    "duration": 3,
    "start_time": "2024-01-19T07:37:48.765Z"
   },
   {
    "duration": 796,
    "start_time": "2024-01-19T07:37:48.769Z"
   },
   {
    "duration": 5,
    "start_time": "2024-01-19T07:37:49.567Z"
   },
   {
    "duration": 5,
    "start_time": "2024-01-19T07:37:49.574Z"
   },
   {
    "duration": 4,
    "start_time": "2024-01-19T07:37:49.580Z"
   },
   {
    "duration": 34,
    "start_time": "2024-01-19T07:37:49.585Z"
   },
   {
    "duration": 210,
    "start_time": "2024-01-19T07:37:49.621Z"
   },
   {
    "duration": 0,
    "start_time": "2024-01-19T07:37:49.832Z"
   },
   {
    "duration": 0,
    "start_time": "2024-01-19T07:37:49.834Z"
   },
   {
    "duration": 0,
    "start_time": "2024-01-19T07:37:49.835Z"
   },
   {
    "duration": 0,
    "start_time": "2024-01-19T07:37:49.836Z"
   },
   {
    "duration": 0,
    "start_time": "2024-01-19T07:37:49.837Z"
   },
   {
    "duration": 0,
    "start_time": "2024-01-19T07:37:49.838Z"
   },
   {
    "duration": 0,
    "start_time": "2024-01-19T07:37:49.839Z"
   },
   {
    "duration": 0,
    "start_time": "2024-01-19T07:37:49.841Z"
   },
   {
    "duration": 0,
    "start_time": "2024-01-19T07:37:49.842Z"
   },
   {
    "duration": 0,
    "start_time": "2024-01-19T07:37:49.844Z"
   },
   {
    "duration": 0,
    "start_time": "2024-01-19T07:37:49.845Z"
   },
   {
    "duration": 0,
    "start_time": "2024-01-19T07:37:49.846Z"
   },
   {
    "duration": 4,
    "start_time": "2024-01-20T18:14:49.349Z"
   },
   {
    "duration": 13,
    "start_time": "2024-01-20T18:14:49.356Z"
   },
   {
    "duration": 7,
    "start_time": "2024-01-20T18:14:49.371Z"
   },
   {
    "duration": 5,
    "start_time": "2024-01-20T18:14:49.381Z"
   },
   {
    "duration": 1440,
    "start_time": "2024-01-20T18:14:49.388Z"
   },
   {
    "duration": 11,
    "start_time": "2024-01-20T18:14:50.830Z"
   },
   {
    "duration": 55,
    "start_time": "2024-01-20T18:14:50.842Z"
   },
   {
    "duration": 41,
    "start_time": "2024-01-20T18:14:50.898Z"
   },
   {
    "duration": 102,
    "start_time": "2024-01-20T18:14:50.941Z"
   },
   {
    "duration": 8,
    "start_time": "2024-01-20T18:14:51.045Z"
   },
   {
    "duration": 113,
    "start_time": "2024-01-20T18:14:51.055Z"
   },
   {
    "duration": 111,
    "start_time": "2024-01-20T18:14:51.170Z"
   },
   {
    "duration": 104,
    "start_time": "2024-01-20T18:14:51.283Z"
   },
   {
    "duration": 108,
    "start_time": "2024-01-20T18:14:51.389Z"
   },
   {
    "duration": 94,
    "start_time": "2024-01-20T18:14:51.500Z"
   },
   {
    "duration": 31,
    "start_time": "2024-01-20T18:14:51.596Z"
   },
   {
    "duration": 34,
    "start_time": "2024-01-20T18:14:51.629Z"
   },
   {
    "duration": 28,
    "start_time": "2024-01-20T18:14:51.666Z"
   },
   {
    "duration": 13,
    "start_time": "2024-01-20T18:14:51.696Z"
   },
   {
    "duration": 15,
    "start_time": "2024-01-20T18:14:51.710Z"
   },
   {
    "duration": 34,
    "start_time": "2024-01-20T18:14:51.726Z"
   },
   {
    "duration": 22,
    "start_time": "2024-01-20T18:14:51.761Z"
   },
   {
    "duration": 44,
    "start_time": "2024-01-20T18:14:51.784Z"
   },
   {
    "duration": 49,
    "start_time": "2024-01-20T18:14:51.832Z"
   },
   {
    "duration": 25,
    "start_time": "2024-01-20T18:14:51.882Z"
   },
   {
    "duration": 50,
    "start_time": "2024-01-20T18:14:51.908Z"
   },
   {
    "duration": 30,
    "start_time": "2024-01-20T18:14:51.960Z"
   },
   {
    "duration": 232,
    "start_time": "2024-01-20T18:14:51.991Z"
   },
   {
    "duration": 100,
    "start_time": "2024-01-20T18:14:52.225Z"
   },
   {
    "duration": 14,
    "start_time": "2024-01-20T18:14:52.327Z"
   },
   {
    "duration": 57,
    "start_time": "2024-01-20T18:14:52.343Z"
   },
   {
    "duration": 28,
    "start_time": "2024-01-20T18:14:52.402Z"
   },
   {
    "duration": 106,
    "start_time": "2024-01-20T18:14:52.432Z"
   },
   {
    "duration": 104,
    "start_time": "2024-01-20T18:14:52.540Z"
   },
   {
    "duration": 7,
    "start_time": "2024-01-20T18:14:52.645Z"
   },
   {
    "duration": 59,
    "start_time": "2024-01-20T18:14:52.654Z"
   },
   {
    "duration": 29,
    "start_time": "2024-01-20T18:14:52.715Z"
   },
   {
    "duration": 21,
    "start_time": "2024-01-20T18:14:52.746Z"
   },
   {
    "duration": 15,
    "start_time": "2024-01-20T18:14:52.769Z"
   },
   {
    "duration": 15,
    "start_time": "2024-01-20T18:14:52.785Z"
   },
   {
    "duration": 26,
    "start_time": "2024-01-20T18:14:52.802Z"
   },
   {
    "duration": 22,
    "start_time": "2024-01-20T18:14:52.829Z"
   },
   {
    "duration": 30,
    "start_time": "2024-01-20T18:14:52.852Z"
   },
   {
    "duration": 27,
    "start_time": "2024-01-20T18:14:52.884Z"
   },
   {
    "duration": 42,
    "start_time": "2024-01-20T18:14:52.912Z"
   },
   {
    "duration": 37,
    "start_time": "2024-01-20T18:14:52.955Z"
   },
   {
    "duration": 6228,
    "start_time": "2024-01-20T18:16:21.732Z"
   },
   {
    "duration": 3214,
    "start_time": "2024-01-20T18:16:39.651Z"
   },
   {
    "duration": 3,
    "start_time": "2024-01-20T18:16:42.867Z"
   },
   {
    "duration": 753,
    "start_time": "2024-01-20T18:16:49.508Z"
   },
   {
    "duration": 8,
    "start_time": "2024-01-21T18:36:59.909Z"
   },
   {
    "duration": 3651,
    "start_time": "2024-01-21T18:36:59.919Z"
   },
   {
    "duration": 8383,
    "start_time": "2024-01-21T18:37:03.571Z"
   },
   {
    "duration": 5,
    "start_time": "2024-01-21T18:37:11.956Z"
   },
   {
    "duration": 956,
    "start_time": "2024-01-21T18:37:11.963Z"
   },
   {
    "duration": 14,
    "start_time": "2024-01-21T18:37:12.921Z"
   },
   {
    "duration": 11,
    "start_time": "2024-01-21T18:37:12.936Z"
   },
   {
    "duration": 20,
    "start_time": "2024-01-21T18:37:12.949Z"
   },
   {
    "duration": 122,
    "start_time": "2024-01-21T18:37:12.970Z"
   },
   {
    "duration": 6,
    "start_time": "2024-01-21T18:37:13.094Z"
   },
   {
    "duration": 100,
    "start_time": "2024-01-21T18:37:13.101Z"
   },
   {
    "duration": 102,
    "start_time": "2024-01-21T18:37:13.203Z"
   },
   {
    "duration": 100,
    "start_time": "2024-01-21T18:37:13.306Z"
   },
   {
    "duration": 103,
    "start_time": "2024-01-21T18:37:13.407Z"
   },
   {
    "duration": 87,
    "start_time": "2024-01-21T18:37:13.517Z"
   },
   {
    "duration": 27,
    "start_time": "2024-01-21T18:37:13.605Z"
   },
   {
    "duration": 31,
    "start_time": "2024-01-21T18:37:13.634Z"
   },
   {
    "duration": 27,
    "start_time": "2024-01-21T18:37:13.667Z"
   },
   {
    "duration": 24,
    "start_time": "2024-01-21T18:37:13.696Z"
   },
   {
    "duration": 26,
    "start_time": "2024-01-21T18:37:13.722Z"
   },
   {
    "duration": 34,
    "start_time": "2024-01-21T18:37:13.750Z"
   },
   {
    "duration": 24,
    "start_time": "2024-01-21T18:37:13.786Z"
   },
   {
    "duration": 40,
    "start_time": "2024-01-21T18:37:13.811Z"
   },
   {
    "duration": 26,
    "start_time": "2024-01-21T18:37:13.853Z"
   },
   {
    "duration": 11,
    "start_time": "2024-01-21T18:37:13.881Z"
   },
   {
    "duration": 9,
    "start_time": "2024-01-21T18:37:13.894Z"
   },
   {
    "duration": 21,
    "start_time": "2024-01-21T18:37:13.905Z"
   },
   {
    "duration": 107,
    "start_time": "2024-01-21T18:37:13.929Z"
   },
   {
    "duration": 108,
    "start_time": "2024-01-21T18:37:14.037Z"
   },
   {
    "duration": 10,
    "start_time": "2024-01-21T18:37:14.146Z"
   },
   {
    "duration": 21,
    "start_time": "2024-01-21T18:37:14.157Z"
   },
   {
    "duration": 6,
    "start_time": "2024-01-21T18:37:14.179Z"
   },
   {
    "duration": 96,
    "start_time": "2024-01-21T18:37:14.186Z"
   },
   {
    "duration": 105,
    "start_time": "2024-01-21T18:37:14.283Z"
   },
   {
    "duration": 6,
    "start_time": "2024-01-21T18:37:14.389Z"
   },
   {
    "duration": 34,
    "start_time": "2024-01-21T18:37:14.396Z"
   },
   {
    "duration": 21,
    "start_time": "2024-01-21T18:37:14.432Z"
   },
   {
    "duration": 34,
    "start_time": "2024-01-21T18:37:14.454Z"
   },
   {
    "duration": 13,
    "start_time": "2024-01-21T18:37:14.489Z"
   },
   {
    "duration": 21,
    "start_time": "2024-01-21T18:37:14.503Z"
   },
   {
    "duration": 16,
    "start_time": "2024-01-21T18:37:14.526Z"
   },
   {
    "duration": 14,
    "start_time": "2024-01-21T18:37:14.543Z"
   },
   {
    "duration": 18,
    "start_time": "2024-01-21T18:37:14.558Z"
   },
   {
    "duration": 7,
    "start_time": "2024-01-21T18:37:14.578Z"
   },
   {
    "duration": 42,
    "start_time": "2024-01-21T18:37:14.586Z"
   },
   {
    "duration": 37,
    "start_time": "2024-01-21T18:37:14.629Z"
   },
   {
    "duration": 6256,
    "start_time": "2024-01-21T18:37:14.668Z"
   },
   {
    "duration": 3339,
    "start_time": "2024-01-21T18:37:20.926Z"
   },
   {
    "duration": 4,
    "start_time": "2024-01-21T18:37:24.267Z"
   },
   {
    "duration": 1322,
    "start_time": "2024-01-21T18:37:24.272Z"
   },
   {
    "duration": 2000,
    "start_time": "2024-01-21T18:37:25.596Z"
   },
   {
    "duration": 890,
    "start_time": "2024-01-21T18:37:27.598Z"
   },
   {
    "duration": 5,
    "start_time": "2024-01-21T18:37:28.491Z"
   },
   {
    "duration": 28,
    "start_time": "2024-01-21T18:37:28.498Z"
   },
   {
    "duration": 21,
    "start_time": "2024-01-21T18:37:28.528Z"
   },
   {
    "duration": 32,
    "start_time": "2024-01-21T18:37:28.551Z"
   },
   {
    "duration": 7,
    "start_time": "2024-01-21T18:37:28.585Z"
   },
   {
    "duration": 36,
    "start_time": "2024-01-21T18:37:28.594Z"
   },
   {
    "duration": 70498,
    "start_time": "2024-01-21T18:37:28.631Z"
   },
   {
    "duration": 11589,
    "start_time": "2024-01-21T18:38:39.131Z"
   },
   {
    "duration": 0,
    "start_time": "2024-01-21T18:38:50.722Z"
   },
   {
    "duration": 0,
    "start_time": "2024-01-21T18:38:50.723Z"
   },
   {
    "duration": 0,
    "start_time": "2024-01-21T18:38:50.724Z"
   },
   {
    "duration": 0,
    "start_time": "2024-01-21T18:38:50.725Z"
   },
   {
    "duration": 0,
    "start_time": "2024-01-21T18:38:50.726Z"
   },
   {
    "duration": 0,
    "start_time": "2024-01-21T18:38:50.727Z"
   },
   {
    "duration": 0,
    "start_time": "2024-01-21T18:38:50.728Z"
   },
   {
    "duration": 0,
    "start_time": "2024-01-21T18:38:50.729Z"
   },
   {
    "duration": 0,
    "start_time": "2024-01-21T18:38:50.730Z"
   },
   {
    "duration": 8,
    "start_time": "2024-01-21T19:20:02.267Z"
   },
   {
    "duration": 2298,
    "start_time": "2024-01-21T19:20:02.471Z"
   },
   {
    "duration": 8194,
    "start_time": "2024-01-21T19:20:04.771Z"
   },
   {
    "duration": 5,
    "start_time": "2024-01-21T19:20:12.966Z"
   },
   {
    "duration": 942,
    "start_time": "2024-01-21T19:20:12.973Z"
   },
   {
    "duration": 22,
    "start_time": "2024-01-21T19:20:13.917Z"
   },
   {
    "duration": 13,
    "start_time": "2024-01-21T19:20:13.941Z"
   },
   {
    "duration": 23,
    "start_time": "2024-01-21T19:20:13.955Z"
   },
   {
    "duration": 133,
    "start_time": "2024-01-21T19:20:13.980Z"
   },
   {
    "duration": 8,
    "start_time": "2024-01-21T19:20:14.115Z"
   },
   {
    "duration": 124,
    "start_time": "2024-01-21T19:20:14.125Z"
   },
   {
    "duration": 109,
    "start_time": "2024-01-21T19:20:14.250Z"
   },
   {
    "duration": 115,
    "start_time": "2024-01-21T19:20:14.361Z"
   },
   {
    "duration": 123,
    "start_time": "2024-01-21T19:20:14.477Z"
   },
   {
    "duration": 99,
    "start_time": "2024-01-21T19:20:14.601Z"
   },
   {
    "duration": 26,
    "start_time": "2024-01-21T19:20:14.702Z"
   },
   {
    "duration": 29,
    "start_time": "2024-01-21T19:20:14.730Z"
   },
   {
    "duration": 19,
    "start_time": "2024-01-21T19:20:14.760Z"
   },
   {
    "duration": 11,
    "start_time": "2024-01-21T19:20:14.780Z"
   },
   {
    "duration": 3,
    "start_time": "2024-01-21T19:20:14.792Z"
   },
   {
    "duration": 46,
    "start_time": "2024-01-21T19:20:14.797Z"
   },
   {
    "duration": 20,
    "start_time": "2024-01-21T19:20:14.845Z"
   },
   {
    "duration": 24,
    "start_time": "2024-01-21T19:20:14.867Z"
   },
   {
    "duration": 28,
    "start_time": "2024-01-21T19:20:14.894Z"
   },
   {
    "duration": 15,
    "start_time": "2024-01-21T19:20:14.924Z"
   },
   {
    "duration": 10,
    "start_time": "2024-01-21T19:20:16.896Z"
   },
   {
    "duration": 10,
    "start_time": "2024-01-21T19:20:17.225Z"
   },
   {
    "duration": 102,
    "start_time": "2024-01-21T19:20:18.344Z"
   },
   {
    "duration": 111,
    "start_time": "2024-01-21T19:20:19.009Z"
   },
   {
    "duration": 10,
    "start_time": "2024-01-21T19:20:20.289Z"
   },
   {
    "duration": 11,
    "start_time": "2024-01-21T19:20:20.512Z"
   },
   {
    "duration": 5,
    "start_time": "2024-01-21T19:20:20.903Z"
   },
   {
    "duration": 96,
    "start_time": "2024-01-21T19:20:25.296Z"
   },
   {
    "duration": 106,
    "start_time": "2024-01-21T19:20:26.241Z"
   },
   {
    "duration": 7,
    "start_time": "2024-01-21T19:20:29.920Z"
   },
   {
    "duration": 12,
    "start_time": "2024-01-21T19:20:30.592Z"
   },
   {
    "duration": 17,
    "start_time": "2024-01-21T19:20:31.985Z"
   },
   {
    "duration": 11,
    "start_time": "2024-01-21T19:20:32.241Z"
   },
   {
    "duration": 3,
    "start_time": "2024-01-21T19:20:33.080Z"
   },
   {
    "duration": 15,
    "start_time": "2024-01-21T19:20:33.492Z"
   },
   {
    "duration": 11,
    "start_time": "2024-01-21T19:20:33.673Z"
   },
   {
    "duration": 14,
    "start_time": "2024-01-21T19:20:34.079Z"
   },
   {
    "duration": 23,
    "start_time": "2024-01-21T19:20:34.609Z"
   },
   {
    "duration": 10,
    "start_time": "2024-01-21T19:20:35.938Z"
   },
   {
    "duration": 22,
    "start_time": "2024-01-21T19:20:37.491Z"
   },
   {
    "duration": 38,
    "start_time": "2024-01-21T19:20:40.273Z"
   },
   {
    "duration": 6938,
    "start_time": "2024-01-21T19:20:42.136Z"
   },
   {
    "duration": 3730,
    "start_time": "2024-01-21T19:20:49.097Z"
   },
   {
    "duration": 5,
    "start_time": "2024-01-21T19:20:52.829Z"
   },
   {
    "duration": 1440,
    "start_time": "2024-01-21T19:20:52.836Z"
   },
   {
    "duration": 2225,
    "start_time": "2024-01-21T19:20:54.278Z"
   },
   {
    "duration": 906,
    "start_time": "2024-01-21T19:20:56.504Z"
   },
   {
    "duration": 13,
    "start_time": "2024-01-21T19:20:57.411Z"
   },
   {
    "duration": 14,
    "start_time": "2024-01-21T19:20:57.426Z"
   },
   {
    "duration": 3,
    "start_time": "2024-01-21T19:20:59.769Z"
   },
   {
    "duration": 13,
    "start_time": "2024-01-21T19:21:00.210Z"
   },
   {
    "duration": 4,
    "start_time": "2024-01-21T19:21:01.848Z"
   },
   {
    "duration": 14,
    "start_time": "2024-01-21T19:21:02.496Z"
   },
   {
    "duration": 3,
    "start_time": "2024-01-21T19:21:04.120Z"
   },
   {
    "duration": 29,
    "start_time": "2024-01-21T19:21:04.945Z"
   },
   {
    "duration": 63708,
    "start_time": "2024-01-21T19:21:10.433Z"
   },
   {
    "duration": 127220,
    "start_time": "2024-01-21T19:22:14.143Z"
   },
   {
    "duration": 57497,
    "start_time": "2024-01-21T19:24:48.270Z"
   },
   {
    "duration": 6,
    "start_time": "2024-01-21T19:26:00.787Z"
   },
   {
    "duration": 4,
    "start_time": "2024-01-21T19:26:01.453Z"
   },
   {
    "duration": 13,
    "start_time": "2024-01-21T19:26:01.997Z"
   },
   {
    "duration": 7,
    "start_time": "2024-01-21T19:26:06.831Z"
   },
   {
    "duration": 3,
    "start_time": "2024-01-21T19:26:55.769Z"
   },
   {
    "duration": 47375,
    "start_time": "2024-01-21T19:26:59.718Z"
   },
   {
    "duration": 5,
    "start_time": "2024-01-21T19:27:47.095Z"
   },
   {
    "duration": 201,
    "start_time": "2024-01-21T19:27:47.102Z"
   },
   {
    "duration": 54,
    "start_time": "2024-01-21T19:27:47.305Z"
   },
   {
    "duration": 12,
    "start_time": "2024-01-21T19:28:49.426Z"
   },
   {
    "duration": 10,
    "start_time": "2024-01-21T19:28:54.083Z"
   },
   {
    "duration": 77,
    "start_time": "2024-01-21T19:28:59.504Z"
   },
   {
    "duration": 8,
    "start_time": "2024-01-21T19:29:03.117Z"
   }
  ],
  "kernelspec": {
   "display_name": "Python 3 (ipykernel)",
   "language": "python",
   "name": "python3"
  },
  "language_info": {
   "codemirror_mode": {
    "name": "ipython",
    "version": 3
   },
   "file_extension": ".py",
   "mimetype": "text/x-python",
   "name": "python",
   "nbconvert_exporter": "python",
   "pygments_lexer": "ipython3",
   "version": "3.9.5"
  },
  "toc": {
   "base_numbering": 1,
   "nav_menu": {},
   "number_sections": true,
   "sideBar": true,
   "skip_h1_title": true,
   "title_cell": "Table of Contents",
   "title_sidebar": "Contents",
   "toc_cell": false,
   "toc_position": {},
   "toc_section_display": true,
   "toc_window_display": false
  }
 },
 "nbformat": 4,
 "nbformat_minor": 2
}
