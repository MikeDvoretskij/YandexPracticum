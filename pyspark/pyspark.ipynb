{
 "cells": [
  {
   "cell_type": "code",
   "execution_count": null,
   "id": "911cc091",
   "metadata": {},
   "outputs": [],
   "source": [
    "import pyspark\n",
    "from pyspark.sql import SparkSession\n",
    "from pyspark.sql.types import *\n",
    "from pyspark.sql.functions import col, sum\n",
    "import pyspark.sql.functions as F\n",
    "from pyspark.ml.feature import StringIndexer, OneHotEncoder, VectorAssembler, StandardScaler\n",
    "from pyspark.ml.evaluation import RegressionEvaluator\n",
    "from pyspark.ml.regression import LinearRegression, GBTRegressor"
   ]
  },
  {
   "cell_type": "code",
   "execution_count": null,
   "id": "7fd3421e",
   "metadata": {},
   "outputs": [],
   "source": [
    "spark = SparkSession.builder \\\n",
    "                    .master(\"local\") \\\n",
    "                    .appName(\"Sprint 18\") \\\n",
    "                    .getOrCreate()"
   ]
  },
  {
   "cell_type": "code",
   "execution_count": null,
   "id": "ba37a3d2",
   "metadata": {},
   "outputs": [],
   "source": [
    "data = spark.read.load('/datasets/housing.csv', \n",
    "                                            format=\"csv\", sep=\",\", inferSchema=True, header=\"true\")"
   ]
  },
  {
   "cell_type": "code",
   "execution_count": null,
   "id": "86cdcd74",
   "metadata": {},
   "outputs": [],
   "source": [
    "data.printSchema()"
   ]
  },
  {
   "cell_type": "code",
   "execution_count": null,
   "id": "e3de5fc5",
   "metadata": {
    "scrolled": true
   },
   "outputs": [],
   "source": [
    "data.select(*(sum(col(c).isNull().cast(\"int\")).alias(c) for c in data.columns)).show()# пропуски только в столбце total_bedrooms"
   ]
  },
  {
   "cell_type": "code",
   "execution_count": null,
   "id": "483d79b7",
   "metadata": {},
   "outputs": [],
   "source": [
    "total_bedrooms_median = data.approxQuantile('total_bedrooms', [0.5], 0)[0]"
   ]
  },
  {
   "cell_type": "code",
   "execution_count": null,
   "id": "2bf3699f",
   "metadata": {},
   "outputs": [],
   "source": [
    "data = data.fillna(total_bedrooms_median, subset=['total_bedrooms'])"
   ]
  },
  {
   "cell_type": "code",
   "execution_count": null,
   "id": "ab777dd6",
   "metadata": {},
   "outputs": [],
   "source": [
    "categorical_cols = [\"ocean_proximity\"]\n",
    "numerical_cols = [\"longitude\", \"latitude\", \"housing_median_age\", \"total_rooms\",\n",
    "                  \"total_bedrooms\", \"population\", \"households\", \"median_income\"]\n",
    "target = \"median_house_value\""
   ]
  },
  {
   "cell_type": "code",
   "execution_count": null,
   "id": "03562549",
   "metadata": {},
   "outputs": [],
   "source": [
    "data_train, data_test = data.randomSplit([.8,.2], seed=12345)"
   ]
  },
  {
   "cell_type": "code",
   "execution_count": null,
   "id": "ecd0f38a",
   "metadata": {
    "scrolled": true
   },
   "outputs": [],
   "source": [
    "indexer = StringIndexer(inputCols=categorical_cols, \n",
    "                        outputCols=[c+'_idx' for c in categorical_cols], handleInvalid=\"skip\") \n",
    "\n",
    "indexer = indexer.fit(data_train)\n",
    "data_train = indexer.transform(data_train)\n",
    "data_test = indexer.transform(data_test)\n",
    "\n",
    "cols = [c for c in data_train.columns for i in categorical_cols if (c.startswith(i))]"
   ]
  },
  {
   "cell_type": "code",
   "execution_count": null,
   "id": "f72f9179",
   "metadata": {},
   "outputs": [],
   "source": [
    "encoder = OneHotEncoder(inputCols=[c+'_idx' for c in categorical_cols],\n",
    "                        outputCols=[c+'_ohe' for c in categorical_cols])\n",
    "encoder = encoder.fit(data_train)\n",
    "data_train = encoder.transform(data_train)\n",
    "data_test = encoder.transform(data_test)\n",
    "\n",
    "cols = [c for c in data_train.columns for i in categorical_cols if (c.startswith(i))]"
   ]
  },
  {
   "cell_type": "code",
   "execution_count": null,
   "id": "c12ea173",
   "metadata": {},
   "outputs": [],
   "source": [
    "categorical_assembler = VectorAssembler(inputCols=[c+'_ohe' for c in categorical_cols], outputCol=\"categorical_features\")\n",
    "data_train = categorical_assembler.transform(data_train)\n",
    "data_test = categorical_assembler.transform(data_test) "
   ]
  },
  {
   "cell_type": "code",
   "execution_count": null,
   "id": "35a548f8",
   "metadata": {},
   "outputs": [],
   "source": [
    "numerical_assembler = VectorAssembler(inputCols=numerical_cols, outputCol=\"numerical_features\")\n",
    "data_train = numerical_assembler.transform(data_train)\n",
    "data_test = numerical_assembler.transform(data_test)"
   ]
  },
  {
   "cell_type": "code",
   "execution_count": null,
   "id": "dec3af1e",
   "metadata": {},
   "outputs": [],
   "source": [
    "standardScaler = StandardScaler(inputCol='numerical_features', outputCol=\"numerical_features_scaled\")\n",
    "standardScaler = standardScaler.fit(data_train)\n",
    "data_train = standardScaler.transform(data_train)\n",
    "data_test = standardScaler.transform(data_test)"
   ]
  },
  {
   "cell_type": "code",
   "execution_count": null,
   "id": "f79f3ad4",
   "metadata": {},
   "outputs": [],
   "source": [
    "all_features_1 = ['categorical_features','numerical_features_scaled']\n",
    "all_features_2 = ['numerical_features_scaled']\n",
    "\n",
    "final_assembler_1 = VectorAssembler(inputCols=all_features_1, outputCol=\"features\")\n",
    "final_assembler_2 = VectorAssembler(inputCols=all_features_2, outputCol=\"features\")\n",
    "\n",
    "train_data_with_categories = final_assembler_1.transform(data_train)\n",
    "test_data_with_categories = final_assembler_1.transform(data_test)\n",
    "\n",
    "train_data_without_categories = final_assembler_2.transform(data_train)\n",
    "test_data_without_categories = final_assembler_2.transform(data_test)"
   ]
  },
  {
   "cell_type": "code",
   "execution_count": null,
   "id": "bddb08c4",
   "metadata": {
    "id": "bddb08c4"
   },
   "outputs": [],
   "source": [
    "lrc = LinearRegression(labelCol=target, featuresCol='features', maxIter=20, regParam=0.3, elasticNetParam=0.8)#c"
   ]
  },
  {
   "cell_type": "code",
   "execution_count": null,
   "id": "c0d102b8",
   "metadata": {},
   "outputs": [],
   "source": [
    "lrcModel = lrc.fit(train_data_with_categories)"
   ]
  },
  {
   "cell_type": "code",
   "execution_count": null,
   "id": "9c87a2f1",
   "metadata": {},
   "outputs": [],
   "source": [
    "predc = lrcModel.evaluate(test_data_with_categories)"
   ]
  },
  {
   "cell_type": "code",
   "execution_count": null,
   "id": "672554cb",
   "metadata": {},
   "outputs": [],
   "source": [
    "eval = RegressionEvaluator(\n",
    "    labelCol=target, \n",
    "    predictionCol=\"prediction\", \n",
    "    metricName=\"rmse\")"
   ]
  },
  {
   "cell_type": "code",
   "execution_count": null,
   "id": "e402628e",
   "metadata": {},
   "outputs": [],
   "source": [
    "rmse = eval.evaluate(predc.predictions)\n",
    "mae = eval.evaluate(predc.predictions, {eval.metricName: \"mae\"})\n",
    "r2 = eval.evaluate(predc.predictions, {eval.metricName: \"r2\"})"
   ]
  },
  {
   "cell_type": "code",
   "execution_count": null,
   "id": "7497ba5f",
   "metadata": {
    "scrolled": true
   },
   "outputs": [],
   "source": [
    "print(f\"RMSE = {rmse:.2f}\")\n",
    "print(f\"MAE = {mae:.2f}\")\n",
    "print(f\"R2 = {r2:.2f}\")"
   ]
  },
  {
   "cell_type": "code",
   "execution_count": null,
   "id": "3be173cd",
   "metadata": {},
   "outputs": [],
   "source": [
    "lr = LinearRegression(labelCol=target, featuresCol='features', maxIter=20, regParam=0.3, elasticNetParam=0.8)#без"
   ]
  },
  {
   "cell_type": "code",
   "execution_count": null,
   "id": "8c9c8a52",
   "metadata": {},
   "outputs": [],
   "source": [
    "lrModel = lr.fit(train_data_without_categories)"
   ]
  },
  {
   "cell_type": "code",
   "execution_count": null,
   "id": "b38fdb51",
   "metadata": {},
   "outputs": [],
   "source": [
    "pred = lrModel.evaluate(test_data_without_categories)"
   ]
  },
  {
   "cell_type": "code",
   "execution_count": null,
   "id": "78f8f99c",
   "metadata": {},
   "outputs": [],
   "source": [
    "eval = RegressionEvaluator(\n",
    "    labelCol=target, \n",
    "    predictionCol=\"prediction\", \n",
    "    metricName=\"rmse\")"
   ]
  },
  {
   "cell_type": "code",
   "execution_count": null,
   "id": "4c5887a8",
   "metadata": {},
   "outputs": [],
   "source": [
    "rmse = eval.evaluate(pred.predictions)\n",
    "mae = eval.evaluate(pred.predictions, {eval.metricName: \"mae\"})\n",
    "r2 = eval.evaluate(pred.predictions, {eval.metricName: \"r2\"})"
   ]
  },
  {
   "cell_type": "code",
   "execution_count": null,
   "id": "71642467",
   "metadata": {},
   "outputs": [],
   "source": [
    "print(f\"RMSE = {rmse:.2f}\")\n",
    "print(f\"MAE = {mae:.2f}\")\n",
    "print(f\"R2 = {r2:.2f}\")"
   ]
  },
  {
   "cell_type": "code",
   "execution_count": null,
   "id": "8ec151d1",
   "metadata": {},
   "outputs": [],
   "source": [
    "spark.stop()"
   ]
  }
 ],
 "metadata": {
  "ExecuteTimeLog": [
   {
    "duration": 239,
    "start_time": "2023-07-16T13:33:35.045Z"
   },
   {
    "duration": 76,
    "start_time": "2023-07-16T13:33:37.162Z"
   },
   {
    "duration": 22400,
    "start_time": "2023-07-16T13:34:28.404Z"
   },
   {
    "duration": 3,
    "start_time": "2023-07-16T13:38:21.263Z"
   },
   {
    "duration": 3,
    "start_time": "2023-07-16T13:43:25.158Z"
   },
   {
    "duration": 4,
    "start_time": "2023-07-16T13:43:27.295Z"
   },
   {
    "duration": 4,
    "start_time": "2023-07-16T13:43:49.591Z"
   },
   {
    "duration": 2905,
    "start_time": "2023-07-16T13:44:18.284Z"
   },
   {
    "duration": 51,
    "start_time": "2023-07-16T13:47:10.910Z"
   },
   {
    "duration": 161,
    "start_time": "2023-07-16T13:47:15.148Z"
   },
   {
    "duration": 146,
    "start_time": "2023-07-16T13:47:18.041Z"
   },
   {
    "duration": 1466,
    "start_time": "2023-07-16T13:48:23.387Z"
   },
   {
    "duration": 4389,
    "start_time": "2023-07-16T13:48:43.659Z"
   },
   {
    "duration": 407,
    "start_time": "2023-07-16T13:50:51.346Z"
   },
   {
    "duration": 46,
    "start_time": "2023-07-16T13:50:52.898Z"
   },
   {
    "duration": 12,
    "start_time": "2023-07-16T13:51:18.284Z"
   },
   {
    "duration": 25,
    "start_time": "2023-07-16T13:53:00.582Z"
   },
   {
    "duration": 14459,
    "start_time": "2023-07-16T13:56:34.582Z"
   },
   {
    "duration": 4411,
    "start_time": "2023-07-16T13:56:49.044Z"
   },
   {
    "duration": 31,
    "start_time": "2023-07-16T13:58:16.535Z"
   },
   {
    "duration": 2,
    "start_time": "2023-07-16T14:01:28.097Z"
   },
   {
    "duration": 104,
    "start_time": "2023-07-16T14:03:01.310Z"
   },
   {
    "duration": 4966,
    "start_time": "2023-07-16T14:03:08.570Z"
   },
   {
    "duration": 3,
    "start_time": "2023-07-16T14:03:13.538Z"
   },
   {
    "duration": 1026,
    "start_time": "2023-07-16T14:04:23.113Z"
   },
   {
    "duration": 12,
    "start_time": "2023-07-16T14:04:53.387Z"
   },
   {
    "duration": 960,
    "start_time": "2023-07-16T14:06:46.392Z"
   },
   {
    "duration": 146,
    "start_time": "2023-07-16T14:09:18.487Z"
   },
   {
    "duration": 110,
    "start_time": "2023-07-16T14:09:29.295Z"
   },
   {
    "duration": 19,
    "start_time": "2023-07-16T14:09:44.821Z"
   },
   {
    "duration": 5,
    "start_time": "2023-07-16T14:11:00.884Z"
   },
   {
    "duration": 69,
    "start_time": "2023-07-16T14:12:37.905Z"
   },
   {
    "duration": 12,
    "start_time": "2023-07-16T14:13:00.111Z"
   },
   {
    "duration": 11,
    "start_time": "2023-07-16T14:13:38.454Z"
   },
   {
    "duration": 20,
    "start_time": "2023-07-16T14:13:44.096Z"
   },
   {
    "duration": 18,
    "start_time": "2023-07-16T14:18:01.736Z"
   },
   {
    "duration": 4,
    "start_time": "2023-07-16T14:23:08.115Z"
   },
   {
    "duration": 8,
    "start_time": "2023-07-16T14:28:31.006Z"
   },
   {
    "duration": 6,
    "start_time": "2023-07-16T14:30:49.408Z"
   },
   {
    "duration": 33,
    "start_time": "2023-07-16T14:30:57.557Z"
   },
   {
    "duration": 7,
    "start_time": "2023-07-16T14:31:40.601Z"
   },
   {
    "duration": 8,
    "start_time": "2023-07-16T14:31:45.474Z"
   },
   {
    "duration": 751,
    "start_time": "2023-07-16T14:35:09.700Z"
   },
   {
    "duration": 232,
    "start_time": "2023-07-16T14:36:48.750Z"
   },
   {
    "duration": 232,
    "start_time": "2023-07-16T14:39:57.859Z"
   },
   {
    "duration": 126,
    "start_time": "2023-07-16T14:43:14.608Z"
   },
   {
    "duration": 2,
    "start_time": "2023-07-16T14:49:52.837Z"
   },
   {
    "duration": 31,
    "start_time": "2023-07-16T14:49:59.705Z"
   },
   {
    "duration": 9,
    "start_time": "2023-07-16T14:50:15.232Z"
   },
   {
    "duration": 548,
    "start_time": "2023-07-16T14:50:37.249Z"
   },
   {
    "duration": 14839,
    "start_time": "2023-07-16T14:50:39.501Z"
   },
   {
    "duration": 8510,
    "start_time": "2023-07-16T14:50:54.343Z"
   },
   {
    "duration": 80,
    "start_time": "2023-07-16T14:51:02.855Z"
   },
   {
    "duration": 1698,
    "start_time": "2023-07-16T14:51:02.937Z"
   },
   {
    "duration": 17,
    "start_time": "2023-07-16T14:51:04.637Z"
   },
   {
    "duration": 102,
    "start_time": "2023-07-16T14:51:04.656Z"
   },
   {
    "duration": 19,
    "start_time": "2023-07-16T14:51:04.760Z"
   },
   {
    "duration": 57,
    "start_time": "2023-07-16T14:51:04.781Z"
   },
   {
    "duration": 10,
    "start_time": "2023-07-16T14:51:04.839Z"
   },
   {
    "duration": 26,
    "start_time": "2023-07-16T14:51:04.851Z"
   },
   {
    "duration": 882,
    "start_time": "2023-07-16T14:51:04.879Z"
   },
   {
    "duration": 3317,
    "start_time": "2023-07-16T14:51:10.499Z"
   },
   {
    "duration": 842,
    "start_time": "2023-07-16T14:51:49.113Z"
   },
   {
    "duration": 771,
    "start_time": "2023-07-16T14:53:46.505Z"
   },
   {
    "duration": 923,
    "start_time": "2023-07-16T14:54:01.017Z"
   },
   {
    "duration": 9,
    "start_time": "2023-07-16T14:54:17.361Z"
   },
   {
    "duration": 402,
    "start_time": "2023-07-16T14:54:41.262Z"
   },
   {
    "duration": 8,
    "start_time": "2023-07-16T14:59:20.460Z"
   },
   {
    "duration": 1486,
    "start_time": "2023-07-16T14:59:27.996Z"
   },
   {
    "duration": 1636,
    "start_time": "2023-07-16T14:59:38.555Z"
   },
   {
    "duration": 26,
    "start_time": "2023-07-16T15:03:01.601Z"
   },
   {
    "duration": 21,
    "start_time": "2023-07-16T15:04:25.688Z"
   },
   {
    "duration": 357,
    "start_time": "2023-07-16T15:04:43.982Z"
   },
   {
    "duration": 212,
    "start_time": "2023-07-16T15:04:55.061Z"
   },
   {
    "duration": 191,
    "start_time": "2023-07-16T15:05:34.544Z"
   },
   {
    "duration": 5,
    "start_time": "2023-07-16T15:31:10.168Z"
   },
   {
    "duration": 568,
    "start_time": "2023-07-16T15:31:16.500Z"
   },
   {
    "duration": 16010,
    "start_time": "2023-07-16T15:31:18.842Z"
   },
   {
    "duration": 10008,
    "start_time": "2023-07-16T15:31:34.855Z"
   },
   {
    "duration": 78,
    "start_time": "2023-07-16T15:31:44.865Z"
   },
   {
    "duration": 2027,
    "start_time": "2023-07-16T15:31:44.945Z"
   },
   {
    "duration": 70,
    "start_time": "2023-07-16T15:31:46.974Z"
   },
   {
    "duration": 87,
    "start_time": "2023-07-16T15:31:47.046Z"
   },
   {
    "duration": 6,
    "start_time": "2023-07-16T15:31:47.135Z"
   },
   {
    "duration": 91,
    "start_time": "2023-07-16T15:31:47.143Z"
   },
   {
    "duration": 6,
    "start_time": "2023-07-16T15:31:47.236Z"
   },
   {
    "duration": 5,
    "start_time": "2023-07-16T15:31:47.244Z"
   },
   {
    "duration": 916,
    "start_time": "2023-07-16T15:31:47.251Z"
   },
   {
    "duration": 3,
    "start_time": "2023-07-16T15:31:48.232Z"
   },
   {
    "duration": 4020,
    "start_time": "2023-07-16T15:31:48.238Z"
   },
   {
    "duration": 660,
    "start_time": "2023-07-16T15:31:58.491Z"
   },
   {
    "duration": 79,
    "start_time": "2023-07-16T15:32:04.886Z"
   },
   {
    "duration": 45,
    "start_time": "2023-07-16T15:32:07.816Z"
   },
   {
    "duration": 1448,
    "start_time": "2023-07-16T15:32:10.200Z"
   },
   {
    "duration": 464,
    "start_time": "2023-07-16T15:32:13.701Z"
   },
   {
    "duration": 87,
    "start_time": "2023-07-16T15:32:53.833Z"
   },
   {
    "duration": 4024,
    "start_time": "2023-07-16T15:33:07.509Z"
   },
   {
    "duration": 1634,
    "start_time": "2023-07-16T15:37:51.605Z"
   },
   {
    "duration": 156,
    "start_time": "2023-07-16T15:38:59.415Z"
   },
   {
    "duration": 153,
    "start_time": "2023-07-16T15:40:33.199Z"
   },
   {
    "duration": 531,
    "start_time": "2023-07-16T15:41:37.544Z"
   },
   {
    "duration": 15868,
    "start_time": "2023-07-16T15:41:39.764Z"
   },
   {
    "duration": 8832,
    "start_time": "2023-07-16T15:41:55.635Z"
   },
   {
    "duration": 84,
    "start_time": "2023-07-16T15:42:04.469Z"
   },
   {
    "duration": 1710,
    "start_time": "2023-07-16T15:42:04.556Z"
   },
   {
    "duration": 12,
    "start_time": "2023-07-16T15:42:06.268Z"
   },
   {
    "duration": 23,
    "start_time": "2023-07-16T15:42:06.281Z"
   },
   {
    "duration": 30,
    "start_time": "2023-07-16T15:42:06.305Z"
   },
   {
    "duration": 31,
    "start_time": "2023-07-16T15:42:06.336Z"
   },
   {
    "duration": 5,
    "start_time": "2023-07-16T15:42:06.368Z"
   },
   {
    "duration": 17,
    "start_time": "2023-07-16T15:42:06.375Z"
   },
   {
    "duration": 849,
    "start_time": "2023-07-16T15:42:06.394Z"
   },
   {
    "duration": 5,
    "start_time": "2023-07-16T15:42:10.332Z"
   },
   {
    "duration": 8,
    "start_time": "2023-07-16T15:42:12.451Z"
   },
   {
    "duration": 899,
    "start_time": "2023-07-16T15:42:17.033Z"
   },
   {
    "duration": 3,
    "start_time": "2023-07-16T15:42:19.150Z"
   },
   {
    "duration": 3737,
    "start_time": "2023-07-16T15:42:21.903Z"
   },
   {
    "duration": 908,
    "start_time": "2023-07-16T15:42:25.641Z"
   },
   {
    "duration": 79,
    "start_time": "2023-07-16T15:42:30.253Z"
   },
   {
    "duration": 34,
    "start_time": "2023-07-16T15:42:32.303Z"
   },
   {
    "duration": 1313,
    "start_time": "2023-07-16T15:42:41.019Z"
   },
   {
    "duration": 495,
    "start_time": "2023-07-16T15:42:43.745Z"
   },
   {
    "duration": 3411,
    "start_time": "2023-07-16T15:42:50.146Z"
   },
   {
    "duration": 39,
    "start_time": "2023-07-16T15:42:56.554Z"
   },
   {
    "duration": 202,
    "start_time": "2023-07-16T15:42:58.605Z"
   },
   {
    "duration": 8,
    "start_time": "2023-07-16T15:46:40.958Z"
   },
   {
    "duration": 5613,
    "start_time": "2023-07-16T15:46:43.133Z"
   },
   {
    "duration": 2232,
    "start_time": "2023-07-16T15:49:18.333Z"
   },
   {
    "duration": 9,
    "start_time": "2023-07-16T15:49:23.655Z"
   },
   {
    "duration": 4,
    "start_time": "2023-07-16T15:55:23.894Z"
   },
   {
    "duration": 12,
    "start_time": "2023-07-16T16:03:47.657Z"
   },
   {
    "duration": 8,
    "start_time": "2023-07-16T16:03:54.487Z"
   },
   {
    "duration": 644,
    "start_time": "2023-07-16T16:04:08.540Z"
   },
   {
    "duration": 7,
    "start_time": "2023-07-16T16:05:26.151Z"
   },
   {
    "duration": 481,
    "start_time": "2023-07-16T16:11:34.596Z"
   },
   {
    "duration": 15312,
    "start_time": "2023-07-16T16:11:36.966Z"
   },
   {
    "duration": 8432,
    "start_time": "2023-07-16T16:11:52.334Z"
   },
   {
    "duration": 74,
    "start_time": "2023-07-16T16:12:00.767Z"
   },
   {
    "duration": 1818,
    "start_time": "2023-07-16T16:12:00.843Z"
   },
   {
    "duration": 14,
    "start_time": "2023-07-16T16:12:02.663Z"
   },
   {
    "duration": 61,
    "start_time": "2023-07-16T16:12:02.678Z"
   },
   {
    "duration": 9,
    "start_time": "2023-07-16T16:12:02.747Z"
   },
   {
    "duration": 28,
    "start_time": "2023-07-16T16:12:02.757Z"
   },
   {
    "duration": 24,
    "start_time": "2023-07-16T16:12:02.787Z"
   },
   {
    "duration": 16,
    "start_time": "2023-07-16T16:12:02.813Z"
   },
   {
    "duration": 914,
    "start_time": "2023-07-16T16:12:02.830Z"
   },
   {
    "duration": 5,
    "start_time": "2023-07-16T16:12:06.195Z"
   },
   {
    "duration": 5,
    "start_time": "2023-07-16T16:12:08.515Z"
   },
   {
    "duration": 866,
    "start_time": "2023-07-16T16:12:11.191Z"
   },
   {
    "duration": 3,
    "start_time": "2023-07-16T16:12:14.945Z"
   },
   {
    "duration": 113,
    "start_time": "2023-07-16T16:12:19.136Z"
   },
   {
    "duration": 3505,
    "start_time": "2023-07-16T16:12:28.645Z"
   },
   {
    "duration": 883,
    "start_time": "2023-07-16T16:12:32.152Z"
   },
   {
    "duration": 46,
    "start_time": "2023-07-16T16:12:35.416Z"
   },
   {
    "duration": 37,
    "start_time": "2023-07-16T16:12:37.445Z"
   },
   {
    "duration": 1265,
    "start_time": "2023-07-16T16:12:39.803Z"
   },
   {
    "duration": 402,
    "start_time": "2023-07-16T16:12:42.857Z"
   },
   {
    "duration": 3393,
    "start_time": "2023-07-16T16:12:46.040Z"
   },
   {
    "duration": 42,
    "start_time": "2023-07-16T16:12:49.434Z"
   },
   {
    "duration": 4328,
    "start_time": "2023-07-16T16:12:51.324Z"
   },
   {
    "duration": 132,
    "start_time": "2023-07-16T16:12:55.654Z"
   },
   {
    "duration": 13,
    "start_time": "2023-07-16T16:14:12.036Z"
   },
   {
    "duration": 3,
    "start_time": "2023-07-16T16:14:45.097Z"
   },
   {
    "duration": 9,
    "start_time": "2023-07-16T16:15:00.807Z"
   },
   {
    "duration": 7,
    "start_time": "2023-07-16T16:17:34.191Z"
   },
   {
    "duration": 1542,
    "start_time": "2023-07-16T16:20:26.494Z"
   },
   {
    "duration": 7,
    "start_time": "2023-07-16T16:20:30.423Z"
   },
   {
    "duration": 2895,
    "start_time": "2023-07-16T16:20:32.438Z"
   },
   {
    "duration": 4,
    "start_time": "2023-07-16T16:21:49.694Z"
   },
   {
    "duration": 4,
    "start_time": "2023-07-16T16:23:22.644Z"
   },
   {
    "duration": 4,
    "start_time": "2023-07-16T16:25:04.390Z"
   },
   {
    "duration": 3,
    "start_time": "2023-07-16T16:25:18.189Z"
   },
   {
    "duration": 5,
    "start_time": "2023-07-16T16:26:20.388Z"
   },
   {
    "duration": 4,
    "start_time": "2023-07-16T16:26:40.046Z"
   },
   {
    "duration": 8,
    "start_time": "2023-07-16T16:27:07.205Z"
   },
   {
    "duration": 2062,
    "start_time": "2023-07-16T16:27:09.590Z"
   },
   {
    "duration": 1029,
    "start_time": "2023-07-16T16:27:13.418Z"
   },
   {
    "duration": 8,
    "start_time": "2023-07-16T16:27:17.345Z"
   },
   {
    "duration": 1798,
    "start_time": "2023-07-16T16:27:19.336Z"
   },
   {
    "duration": 4,
    "start_time": "2023-07-16T16:27:22.894Z"
   },
   {
    "duration": 9,
    "start_time": "2023-07-16T16:27:44.796Z"
   },
   {
    "duration": 1977,
    "start_time": "2023-07-16T16:27:46.856Z"
   },
   {
    "duration": 816,
    "start_time": "2023-07-16T16:27:50.694Z"
   },
   {
    "duration": 10,
    "start_time": "2023-07-16T16:27:53.345Z"
   },
   {
    "duration": 1311,
    "start_time": "2023-07-16T16:27:55.337Z"
   },
   {
    "duration": 4,
    "start_time": "2023-07-16T16:27:58.231Z"
   },
   {
    "duration": 3,
    "start_time": "2023-07-16T16:29:40.398Z"
   },
   {
    "duration": 102,
    "start_time": "2023-07-16T16:32:47.265Z"
   },
   {
    "duration": 13460,
    "start_time": "2023-07-16T16:33:33.406Z"
   },
   {
    "duration": 927,
    "start_time": "2023-07-16T16:35:11.042Z"
   },
   {
    "duration": 8,
    "start_time": "2023-07-16T16:36:01.347Z"
   },
   {
    "duration": 90,
    "start_time": "2023-07-16T16:36:49.042Z"
   },
   {
    "duration": 8,
    "start_time": "2023-07-16T16:36:55.190Z"
   },
   {
    "duration": 13,
    "start_time": "2023-07-16T16:36:57.506Z"
   },
   {
    "duration": 14,
    "start_time": "2023-07-16T16:38:02.629Z"
   },
   {
    "duration": 1233,
    "start_time": "2023-07-16T16:39:22.012Z"
   },
   {
    "duration": 3,
    "start_time": "2023-07-16T16:39:25.228Z"
   },
   {
    "duration": 8,
    "start_time": "2023-07-16T16:41:58.926Z"
   },
   {
    "duration": 0,
    "start_time": "2023-07-16T16:43:03.152Z"
   },
   {
    "duration": 0,
    "start_time": "2023-07-16T16:43:03.153Z"
   },
   {
    "duration": 0,
    "start_time": "2023-07-16T16:43:03.154Z"
   },
   {
    "duration": 0,
    "start_time": "2023-07-16T16:43:03.157Z"
   },
   {
    "duration": 0,
    "start_time": "2023-07-16T16:43:03.158Z"
   },
   {
    "duration": 13,
    "start_time": "2023-07-16T16:43:14.064Z"
   },
   {
    "duration": 24717,
    "start_time": "2023-07-16T16:43:25.037Z"
   },
   {
    "duration": 116,
    "start_time": "2023-07-16T16:43:49.833Z"
   },
   {
    "duration": 80,
    "start_time": "2023-07-16T16:43:49.952Z"
   },
   {
    "duration": 1417,
    "start_time": "2023-07-16T16:43:50.036Z"
   },
   {
    "duration": 4,
    "start_time": "2023-07-16T16:43:51.456Z"
   },
   {
    "duration": 551,
    "start_time": "2023-07-16T16:45:53.731Z"
   },
   {
    "duration": 16229,
    "start_time": "2023-07-16T16:45:55.950Z"
   },
   {
    "duration": 9860,
    "start_time": "2023-07-16T16:46:12.182Z"
   },
   {
    "duration": 30,
    "start_time": "2023-07-16T16:46:22.044Z"
   },
   {
    "duration": 1983,
    "start_time": "2023-07-16T16:46:22.077Z"
   },
   {
    "duration": 14,
    "start_time": "2023-07-16T16:46:24.061Z"
   },
   {
    "duration": 22,
    "start_time": "2023-07-16T16:46:24.076Z"
   },
   {
    "duration": 43,
    "start_time": "2023-07-16T16:46:24.100Z"
   },
   {
    "duration": 41,
    "start_time": "2023-07-16T16:46:24.144Z"
   },
   {
    "duration": 6,
    "start_time": "2023-07-16T16:46:24.187Z"
   },
   {
    "duration": 7,
    "start_time": "2023-07-16T16:46:24.197Z"
   },
   {
    "duration": 1145,
    "start_time": "2023-07-16T16:46:24.205Z"
   },
   {
    "duration": 3,
    "start_time": "2023-07-16T16:46:25.353Z"
   },
   {
    "duration": 4421,
    "start_time": "2023-07-16T16:46:25.357Z"
   },
   {
    "duration": 1030,
    "start_time": "2023-07-16T16:46:29.834Z"
   },
   {
    "duration": 197,
    "start_time": "2023-07-16T16:46:30.866Z"
   },
   {
    "duration": 101,
    "start_time": "2023-07-16T16:46:31.066Z"
   },
   {
    "duration": 1616,
    "start_time": "2023-07-16T16:46:31.170Z"
   },
   {
    "duration": 689,
    "start_time": "2023-07-16T16:46:32.788Z"
   },
   {
    "duration": 4365,
    "start_time": "2023-07-16T16:46:33.479Z"
   },
   {
    "duration": 112,
    "start_time": "2023-07-16T16:46:37.847Z"
   },
   {
    "duration": 5619,
    "start_time": "2023-07-16T16:46:37.962Z"
   },
   {
    "duration": 2093,
    "start_time": "2023-07-16T16:46:43.583Z"
   },
   {
    "duration": 18,
    "start_time": "2023-07-16T16:46:45.736Z"
   },
   {
    "duration": 3524,
    "start_time": "2023-07-16T16:46:45.756Z"
   },
   {
    "duration": 60,
    "start_time": "2023-07-16T16:46:49.282Z"
   },
   {
    "duration": 57,
    "start_time": "2023-07-16T16:46:49.343Z"
   },
   {
    "duration": 23071,
    "start_time": "2023-07-16T16:46:49.402Z"
   },
   {
    "duration": 86,
    "start_time": "2023-07-16T16:47:12.478Z"
   },
   {
    "duration": 10,
    "start_time": "2023-07-16T16:47:12.567Z"
   },
   {
    "duration": 3095,
    "start_time": "2023-07-16T16:47:12.579Z"
   },
   {
    "duration": 58,
    "start_time": "2023-07-16T16:47:15.675Z"
   },
   {
    "duration": 388,
    "start_time": "2023-07-18T10:31:03.153Z"
   },
   {
    "duration": 14020,
    "start_time": "2023-07-18T10:31:06.918Z"
   },
   {
    "duration": 7978,
    "start_time": "2023-07-18T10:31:20.940Z"
   },
   {
    "duration": 14,
    "start_time": "2023-07-18T10:31:28.920Z"
   },
   {
    "duration": 54,
    "start_time": "2023-07-18T10:31:57.318Z"
   },
   {
    "duration": 2016,
    "start_time": "2023-07-18T10:32:07.508Z"
   },
   {
    "duration": 18,
    "start_time": "2023-07-18T10:34:45.191Z"
   },
   {
    "duration": 20,
    "start_time": "2023-07-18T10:35:29.052Z"
   },
   {
    "duration": 12,
    "start_time": "2023-07-18T10:35:41.158Z"
   },
   {
    "duration": 343,
    "start_time": "2023-07-18T10:35:53.564Z"
   },
   {
    "duration": 268,
    "start_time": "2023-07-18T10:36:29.111Z"
   },
   {
    "duration": 20,
    "start_time": "2023-07-18T10:36:41.568Z"
   },
   {
    "duration": 16,
    "start_time": "2023-07-18T10:36:53.172Z"
   },
   {
    "duration": 14,
    "start_time": "2023-07-18T10:37:46.118Z"
   },
   {
    "duration": 470,
    "start_time": "2023-07-18T10:38:00.056Z"
   },
   {
    "duration": 30,
    "start_time": "2023-07-18T10:38:58.964Z"
   },
   {
    "duration": 18,
    "start_time": "2023-07-18T10:39:26.895Z"
   },
   {
    "duration": 386,
    "start_time": "2023-07-18T10:40:53.223Z"
   },
   {
    "duration": 323,
    "start_time": "2023-07-18T10:41:04.501Z"
   },
   {
    "duration": 249,
    "start_time": "2023-07-18T10:41:14.161Z"
   },
   {
    "duration": 260,
    "start_time": "2023-07-18T10:41:49.762Z"
   },
   {
    "duration": 470,
    "start_time": "2023-07-18T10:42:16.060Z"
   },
   {
    "duration": 513,
    "start_time": "2023-07-18T10:46:49.594Z"
   },
   {
    "duration": 33,
    "start_time": "2023-07-18T10:49:43.747Z"
   },
   {
    "duration": 304,
    "start_time": "2023-07-18T10:49:52.302Z"
   },
   {
    "duration": 195,
    "start_time": "2023-07-18T10:50:26.870Z"
   },
   {
    "duration": 124,
    "start_time": "2023-07-18T10:51:21.983Z"
   },
   {
    "duration": 100,
    "start_time": "2023-07-18T10:52:15.359Z"
   },
   {
    "duration": 115,
    "start_time": "2023-07-18T10:52:19.893Z"
   },
   {
    "duration": 123,
    "start_time": "2023-07-18T10:52:40.659Z"
   },
   {
    "duration": 135,
    "start_time": "2023-07-18T10:53:04.436Z"
   },
   {
    "duration": 147,
    "start_time": "2023-07-18T10:53:26.365Z"
   },
   {
    "duration": 123,
    "start_time": "2023-07-18T10:53:38.785Z"
   },
   {
    "duration": 7,
    "start_time": "2023-07-18T10:59:22.700Z"
   },
   {
    "duration": 3,
    "start_time": "2023-07-18T10:59:31.370Z"
   },
   {
    "duration": 7,
    "start_time": "2023-07-18T11:02:59.778Z"
   },
   {
    "duration": 8,
    "start_time": "2023-07-18T11:03:25.266Z"
   },
   {
    "duration": 17,
    "start_time": "2023-07-18T11:06:48.274Z"
   },
   {
    "duration": 9,
    "start_time": "2023-07-18T11:10:14.390Z"
   },
   {
    "duration": 17,
    "start_time": "2023-07-18T11:10:22.761Z"
   },
   {
    "duration": 11,
    "start_time": "2023-07-18T11:10:42.178Z"
   },
   {
    "duration": 203,
    "start_time": "2023-07-18T11:10:46.373Z"
   },
   {
    "duration": 16,
    "start_time": "2023-07-18T11:11:50.991Z"
   },
   {
    "duration": 191,
    "start_time": "2023-07-18T11:11:58.896Z"
   },
   {
    "duration": 80,
    "start_time": "2023-07-18T11:12:20.198Z"
   },
   {
    "duration": 18,
    "start_time": "2023-07-18T11:12:32.169Z"
   },
   {
    "duration": 165,
    "start_time": "2023-07-18T11:12:48.701Z"
   },
   {
    "duration": 124,
    "start_time": "2023-07-18T11:13:00.051Z"
   },
   {
    "duration": 156,
    "start_time": "2023-07-18T11:13:15.058Z"
   },
   {
    "duration": 128,
    "start_time": "2023-07-18T11:13:20.139Z"
   },
   {
    "duration": 11,
    "start_time": "2023-07-18T11:26:18.119Z"
   },
   {
    "duration": 113,
    "start_time": "2023-07-18T11:26:27.653Z"
   },
   {
    "duration": 15,
    "start_time": "2023-07-18T11:26:32.365Z"
   },
   {
    "duration": 110,
    "start_time": "2023-07-18T11:26:42.164Z"
   },
   {
    "duration": 123,
    "start_time": "2023-07-18T11:26:53.388Z"
   },
   {
    "duration": 15,
    "start_time": "2023-07-18T11:27:13.054Z"
   },
   {
    "duration": 81,
    "start_time": "2023-07-18T11:27:22.565Z"
   },
   {
    "duration": 108,
    "start_time": "2023-07-18T11:27:28.465Z"
   },
   {
    "duration": 29,
    "start_time": "2023-07-18T11:29:54.150Z"
   },
   {
    "duration": 14,
    "start_time": "2023-07-18T11:30:23.882Z"
   },
   {
    "duration": 560,
    "start_time": "2023-07-18T11:33:35.253Z"
   },
   {
    "duration": 26,
    "start_time": "2023-07-18T11:34:18.313Z"
   },
   {
    "duration": 481,
    "start_time": "2023-07-18T11:34:24.349Z"
   },
   {
    "duration": 1335,
    "start_time": "2023-07-18T11:36:17.372Z"
   },
   {
    "duration": 2,
    "start_time": "2023-07-18T11:36:53.052Z"
   },
   {
    "duration": 36,
    "start_time": "2023-07-18T11:39:25.757Z"
   },
   {
    "duration": 1114,
    "start_time": "2023-07-18T11:40:01.220Z"
   },
   {
    "duration": 816,
    "start_time": "2023-07-18T11:40:17.809Z"
   },
   {
    "duration": 416,
    "start_time": "2023-07-18T11:40:22.614Z"
   },
   {
    "duration": 386,
    "start_time": "2023-07-18T11:40:40.457Z"
   },
   {
    "duration": 552,
    "start_time": "2023-07-18T11:40:44.387Z"
   },
   {
    "duration": 418,
    "start_time": "2023-07-18T11:40:46.415Z"
   },
   {
    "duration": 840,
    "start_time": "2023-07-18T11:41:43.069Z"
   },
   {
    "duration": 288,
    "start_time": "2023-07-18T11:43:08.627Z"
   },
   {
    "duration": 477,
    "start_time": "2023-07-18T11:55:06.862Z"
   },
   {
    "duration": 14061,
    "start_time": "2023-07-18T11:55:12.755Z"
   },
   {
    "duration": 7544,
    "start_time": "2023-07-18T11:55:26.818Z"
   },
   {
    "duration": 53,
    "start_time": "2023-07-18T11:55:34.364Z"
   },
   {
    "duration": 1902,
    "start_time": "2023-07-18T11:55:34.420Z"
   },
   {
    "duration": 985,
    "start_time": "2023-07-18T11:55:36.324Z"
   },
   {
    "duration": 96,
    "start_time": "2023-07-18T11:55:37.310Z"
   },
   {
    "duration": 2,
    "start_time": "2023-07-18T11:55:37.408Z"
   },
   {
    "duration": 1628,
    "start_time": "2023-07-18T11:55:37.411Z"
   },
   {
    "duration": 786,
    "start_time": "2023-07-18T11:55:39.041Z"
   },
   {
    "duration": 99,
    "start_time": "2023-07-18T11:55:39.830Z"
   },
   {
    "duration": 97,
    "start_time": "2023-07-18T11:55:39.931Z"
   },
   {
    "duration": 1300,
    "start_time": "2023-07-18T11:55:40.031Z"
   },
   {
    "duration": 380,
    "start_time": "2023-07-18T11:56:59.758Z"
   },
   {
    "duration": 699,
    "start_time": "2023-07-18T11:59:57.407Z"
   },
   {
    "duration": 616,
    "start_time": "2023-07-18T12:00:31.921Z"
   },
   {
    "duration": 4551,
    "start_time": "2023-07-18T12:02:35.559Z"
   },
   {
    "duration": 431,
    "start_time": "2023-07-18T12:07:46.523Z"
   },
   {
    "duration": 13939,
    "start_time": "2023-07-18T12:07:47.096Z"
   },
   {
    "duration": 7284,
    "start_time": "2023-07-18T12:08:01.037Z"
   },
   {
    "duration": 13,
    "start_time": "2023-07-18T12:08:08.322Z"
   },
   {
    "duration": 2279,
    "start_time": "2023-07-18T12:08:08.337Z"
   },
   {
    "duration": 828,
    "start_time": "2023-07-18T12:08:10.618Z"
   },
   {
    "duration": 37,
    "start_time": "2023-07-18T12:08:11.506Z"
   },
   {
    "duration": 63,
    "start_time": "2023-07-18T12:08:11.544Z"
   },
   {
    "duration": 1634,
    "start_time": "2023-07-18T12:08:11.608Z"
   },
   {
    "duration": 871,
    "start_time": "2023-07-18T12:08:13.244Z"
   },
   {
    "duration": 106,
    "start_time": "2023-07-18T12:08:14.117Z"
   },
   {
    "duration": 97,
    "start_time": "2023-07-18T12:08:14.225Z"
   },
   {
    "duration": 1494,
    "start_time": "2023-07-18T12:08:14.323Z"
   },
   {
    "duration": 994,
    "start_time": "2023-07-18T12:08:15.820Z"
   },
   {
    "duration": 4690,
    "start_time": "2023-07-18T12:08:16.816Z"
   },
   {
    "duration": 33,
    "start_time": "2023-07-18T12:08:21.508Z"
   },
   {
    "duration": 4367,
    "start_time": "2023-07-18T12:08:21.542Z"
   },
   {
    "duration": 1543,
    "start_time": "2023-07-18T12:08:25.911Z"
   },
   {
    "duration": 9,
    "start_time": "2023-07-18T12:08:27.456Z"
   },
   {
    "duration": 1872,
    "start_time": "2023-07-18T12:08:27.466Z"
   },
   {
    "duration": 4,
    "start_time": "2023-07-18T12:08:29.340Z"
   },
   {
    "duration": 9,
    "start_time": "2023-07-18T12:08:29.345Z"
   },
   {
    "duration": 2417,
    "start_time": "2023-07-18T12:08:29.355Z"
   },
   {
    "duration": 1233,
    "start_time": "2023-07-18T12:08:31.774Z"
   },
   {
    "duration": 7,
    "start_time": "2023-07-18T12:08:33.008Z"
   },
   {
    "duration": 1901,
    "start_time": "2023-07-18T12:08:33.016Z"
   },
   {
    "duration": 3,
    "start_time": "2023-07-18T12:08:34.919Z"
   },
   {
    "duration": 486,
    "start_time": "2023-07-18T12:10:30.399Z"
   },
   {
    "duration": 531,
    "start_time": "2023-07-18T16:07:13.634Z"
   },
   {
    "duration": 15929,
    "start_time": "2023-07-18T16:07:14.167Z"
   },
   {
    "duration": 9519,
    "start_time": "2023-07-18T16:07:30.154Z"
   },
   {
    "duration": 16,
    "start_time": "2023-07-18T16:07:39.674Z"
   },
   {
    "duration": 2616,
    "start_time": "2023-07-18T16:07:39.754Z"
   },
   {
    "duration": 1104,
    "start_time": "2023-07-18T16:07:42.373Z"
   },
   {
    "duration": 90,
    "start_time": "2023-07-18T16:07:43.479Z"
   },
   {
    "duration": 7,
    "start_time": "2023-07-18T16:07:43.572Z"
   },
   {
    "duration": 3,
    "start_time": "2023-07-18T16:07:43.581Z"
   },
   {
    "duration": 164,
    "start_time": "2023-07-18T16:07:48.233Z"
   },
   {
    "duration": 204,
    "start_time": "2023-07-18T16:08:06.514Z"
   },
   {
    "duration": 29,
    "start_time": "2023-07-18T16:15:19.945Z"
   },
   {
    "duration": 10,
    "start_time": "2023-07-18T16:15:25.342Z"
   },
   {
    "duration": 25,
    "start_time": "2023-07-18T16:15:35.248Z"
   },
   {
    "duration": 3071,
    "start_time": "2023-07-18T16:15:37.585Z"
   },
   {
    "duration": 14,
    "start_time": "2023-07-18T16:16:18.057Z"
   },
   {
    "duration": 1204,
    "start_time": "2023-07-18T16:16:39.261Z"
   },
   {
    "duration": 245,
    "start_time": "2023-07-18T16:18:16.926Z"
   },
   {
    "duration": 716,
    "start_time": "2023-07-18T16:18:35.644Z"
   },
   {
    "duration": 584,
    "start_time": "2023-07-18T16:18:37.203Z"
   },
   {
    "duration": 65,
    "start_time": "2023-07-18T16:18:37.789Z"
   },
   {
    "duration": 644,
    "start_time": "2023-07-18T16:18:38.230Z"
   },
   {
    "duration": 415,
    "start_time": "2023-07-18T16:18:39.047Z"
   },
   {
    "duration": 19,
    "start_time": "2023-07-18T16:18:39.464Z"
   },
   {
    "duration": 3,
    "start_time": "2023-07-18T16:18:40.369Z"
   },
   {
    "duration": 12,
    "start_time": "2023-07-18T16:18:41.880Z"
   },
   {
    "duration": 848,
    "start_time": "2023-07-18T16:18:42.811Z"
   },
   {
    "duration": 29,
    "start_time": "2023-07-18T16:19:53.598Z"
   },
   {
    "duration": 19,
    "start_time": "2023-07-18T16:20:10.469Z"
   },
   {
    "duration": 4,
    "start_time": "2023-07-18T16:20:27.753Z"
   },
   {
    "duration": 5,
    "start_time": "2023-07-18T16:20:28.297Z"
   },
   {
    "duration": 487,
    "start_time": "2023-07-18T16:20:28.488Z"
   },
   {
    "duration": 4,
    "start_time": "2023-07-18T16:20:28.977Z"
   },
   {
    "duration": 483,
    "start_time": "2023-07-18T16:20:29.090Z"
   },
   {
    "duration": 363,
    "start_time": "2023-07-18T16:20:29.897Z"
   },
   {
    "duration": 17,
    "start_time": "2023-07-18T16:20:30.263Z"
   },
   {
    "duration": 3,
    "start_time": "2023-07-18T16:20:31.624Z"
   },
   {
    "duration": 11,
    "start_time": "2023-07-18T16:20:31.872Z"
   },
   {
    "duration": 676,
    "start_time": "2023-07-18T16:20:32.088Z"
   },
   {
    "duration": 18,
    "start_time": "2023-07-18T16:20:38.898Z"
   },
   {
    "duration": 355,
    "start_time": "2023-07-18T16:27:46.703Z"
   },
   {
    "duration": 515,
    "start_time": "2023-07-18T16:35:50.458Z"
   },
   {
    "duration": 16270,
    "start_time": "2023-07-18T16:35:51.022Z"
   },
   {
    "duration": 9603,
    "start_time": "2023-07-18T16:36:07.351Z"
   },
   {
    "duration": 17,
    "start_time": "2023-07-18T16:36:16.956Z"
   },
   {
    "duration": 2877,
    "start_time": "2023-07-18T16:36:16.976Z"
   },
   {
    "duration": 1114,
    "start_time": "2023-07-18T16:36:19.855Z"
   },
   {
    "duration": 119,
    "start_time": "2023-07-18T16:36:20.972Z"
   },
   {
    "duration": 4,
    "start_time": "2023-07-18T16:36:21.153Z"
   },
   {
    "duration": 34,
    "start_time": "2023-07-18T16:36:21.158Z"
   },
   {
    "duration": 2917,
    "start_time": "2023-07-18T16:36:21.251Z"
   },
   {
    "duration": 405,
    "start_time": "2023-07-18T16:36:24.171Z"
   },
   {
    "duration": 188,
    "start_time": "2023-07-18T16:36:24.578Z"
   },
   {
    "duration": 187,
    "start_time": "2023-07-18T16:36:24.768Z"
   },
   {
    "duration": 2029,
    "start_time": "2023-07-18T16:36:24.957Z"
   },
   {
    "duration": 213,
    "start_time": "2023-07-18T16:36:27.051Z"
   },
   {
    "duration": 275,
    "start_time": "2023-07-18T16:36:27.265Z"
   },
   {
    "duration": 7221,
    "start_time": "2023-07-18T16:36:27.542Z"
   },
   {
    "duration": 1388,
    "start_time": "2023-07-18T16:36:34.765Z"
   },
   {
    "duration": 16,
    "start_time": "2023-07-18T16:36:36.155Z"
   },
   {
    "duration": 1989,
    "start_time": "2023-07-18T16:36:36.173Z"
   },
   {
    "duration": 4,
    "start_time": "2023-07-18T16:36:38.165Z"
   },
   {
    "duration": 31,
    "start_time": "2023-07-18T16:36:38.171Z"
   },
   {
    "duration": 2372,
    "start_time": "2023-07-18T16:36:38.204Z"
   },
   {
    "duration": 1075,
    "start_time": "2023-07-18T16:36:40.579Z"
   },
   {
    "duration": 11,
    "start_time": "2023-07-18T16:36:41.655Z"
   },
   {
    "duration": 1586,
    "start_time": "2023-07-18T16:36:41.669Z"
   },
   {
    "duration": 3,
    "start_time": "2023-07-18T16:36:43.257Z"
   },
   {
    "duration": 381,
    "start_time": "2023-07-18T16:36:47.205Z"
   }
  ],
  "colab": {
   "name": "PySparkSprint.ipynb",
   "provenance": []
  },
  "kernelspec": {
   "display_name": "Python 3 (ipykernel)",
   "language": "python",
   "name": "python3"
  },
  "language_info": {
   "codemirror_mode": {
    "name": "ipython",
    "version": 3
   },
   "file_extension": ".py",
   "mimetype": "text/x-python",
   "name": "python",
   "nbconvert_exporter": "python",
   "pygments_lexer": "ipython3",
   "version": "3.9.5"
  },
  "toc": {
   "base_numbering": 1,
   "nav_menu": {},
   "number_sections": true,
   "sideBar": true,
   "skip_h1_title": true,
   "title_cell": "Table of Contents",
   "title_sidebar": "Contents",
   "toc_cell": false,
   "toc_position": {},
   "toc_section_display": true,
   "toc_window_display": false
  }
 },
 "nbformat": 4,
 "nbformat_minor": 5
}
