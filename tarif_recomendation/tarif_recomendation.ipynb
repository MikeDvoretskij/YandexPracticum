{
 "cells": [
  {
   "cell_type": "code",
   "execution_count": null,
   "metadata": {},
   "outputs": [],
   "source": [
    "import pandas as pd\n",
    "from sklearn.metrics import accuracy_score\n",
    "from sklearn.model_selection import train_test_split\n",
    "from sklearn.tree import DecisionTreeClassifier, plot_tree\n",
    "from sklearn.ensemble import RandomForestClassifier\n",
    "from sklearn.linear_model import LogisticRegression"
   ]
  },
  {
   "cell_type": "code",
   "execution_count": null,
   "metadata": {},
   "outputs": [],
   "source": [
    "try:\n",
    "    data = pd.read_csv(\"users_behavior.csv\")\n",
    "except:\n",
    "    data = pd.read_csv(\"/datasets/users_behavior.csv\")"
   ]
  },
  {
   "cell_type": "code",
   "execution_count": null,
   "metadata": {},
   "outputs": [],
   "source": [
    "print(data.head(10))"
   ]
  },
  {
   "cell_type": "code",
   "execution_count": null,
   "metadata": {},
   "outputs": [],
   "source": [
    "data.info()"
   ]
  },
  {
   "cell_type": "code",
   "execution_count": null,
   "metadata": {},
   "outputs": [],
   "source": [
    "print(data[\"is_ultra\"].loc[data[\"is_ultra\"] == 0].count())"
   ]
  },
  {
   "cell_type": "code",
   "execution_count": null,
   "metadata": {},
   "outputs": [],
   "source": [
    "data.corr()"
   ]
  },
  {
   "cell_type": "code",
   "execution_count": null,
   "metadata": {},
   "outputs": [],
   "source": [
    "features = data.drop(['is_ultra'], axis=1)\n",
    "target = data['is_ultra']"
   ]
  },
  {
   "cell_type": "code",
   "execution_count": null,
   "metadata": {},
   "outputs": [],
   "source": [
    "features_train, features_valid, target_train, target_valid = train_test_split(\n",
    "    features, target, test_size=0.30, random_state=12345, stratify=target)\n",
    "features_valid, features_test, target_valid, test_target = train_test_split(\n",
    "    features_valid, target_valid, test_size=0.3, random_state=12345, stratify=target_valid)"
   ]
  },
  {
   "cell_type": "code",
   "execution_count": null,
   "metadata": {},
   "outputs": [],
   "source": [
    "print(features_train.shape)\n",
    "print(features_valid.shape)\n",
    "print(features_test.shape)"
   ]
  },
  {
   "cell_type": "code",
   "execution_count": null,
   "metadata": {},
   "outputs": [],
   "source": [
    "print(target_train[target_train == 0].count())\n",
    "print(target_valid[target_valid == 0].count())\n",
    "print(test_target[test_target == 0].count())"
   ]
  },
  {
   "cell_type": "code",
   "execution_count": null,
   "metadata": {},
   "outputs": [],
   "source": [
    "best_model_dtc = None\n",
    "best_acc_dtc = 0"
   ]
  },
  {
   "cell_type": "code",
   "execution_count": null,
   "metadata": {},
   "outputs": [],
   "source": [
    "for i in range(1, 6):\n",
    "    model = DecisionTreeClassifier(random_state=12345, max_depth=i)\n",
    "    model.fit(features_train, target_train)\n",
    "    predictions_valid = model.predict(features_valid)\n",
    "    acc = accuracy_score(target_valid, predictions_valid)\n",
    "\n",
    "    if best_acc_dtc < acc:\n",
    "        best_model_dtc = model\n",
    "        best_acc_dtc = acc"
   ]
  },
  {
   "cell_type": "code",
   "execution_count": null,
   "metadata": {},
   "outputs": [],
   "source": [
    "print(best_acc_dtc)"
   ]
  },
  {
   "cell_type": "code",
   "execution_count": null,
   "metadata": {},
   "outputs": [],
   "source": [
    "plot_tree(best_model_dtc)"
   ]
  },
  {
   "cell_type": "code",
   "execution_count": null,
   "metadata": {},
   "outputs": [],
   "source": [
    "best_model_rfc = None\n",
    "best_acc_rfc = 0"
   ]
  },
  {
   "cell_type": "code",
   "execution_count": null,
   "metadata": {},
   "outputs": [],
   "source": [
    "%%time\n",
    "for i in range(1, 50):\n",
    "    for g in range(1, 5):\n",
    "        model = RandomForestClassifier(random_state=12345, n_estimators=i, max_depth=g)\n",
    "        model.fit(features, target)\n",
    "        predictions_valid = model.predict(features_valid)\n",
    "        acc = accuracy_score(target_valid, predictions_valid)\n",
    "\n",
    "        if best_acc_rfc < acc:\n",
    "            best_model_rfc = model\n",
    "            best_acc_rfc = acc"
   ]
  },
  {
   "cell_type": "code",
   "execution_count": null,
   "metadata": {},
   "outputs": [],
   "source": [
    "prediction = best_model_rfc.predict(features_test)\n",
    "accuracy = accuracy_score(test_target, prediction)\n",
    "print(accuracy)"
   ]
  },
  {
   "cell_type": "code",
   "execution_count": null,
   "metadata": {},
   "outputs": [],
   "source": [
    "best_model_lr = None\n",
    "best_acc_lr = 0"
   ]
  },
  {
   "cell_type": "code",
   "execution_count": null,
   "metadata": {},
   "outputs": [],
   "source": [
    "for i in range(10000, 100000, 10000):\n",
    "    model = LogisticRegression(solver=\"lbfgs\", random_state=12345, max_iter=i)\n",
    "    model.fit(features_train, target_train)\n",
    "    predictions_valid = model.predict(features_valid)\n",
    "    acc = accuracy_score(target_valid, predictions_valid)\n",
    "\n",
    "    if best_acc_lr < acc:\n",
    "        best_model_lr = model\n",
    "        best_acc_lr = acc"
   ]
  },
  {
   "cell_type": "code",
   "execution_count": null,
   "metadata": {},
   "outputs": [],
   "source": [
    "print(best_acc_lr)"
   ]
  }
 ],
 "metadata": {
  "ExecuteTimeLog": [
   {
    "duration": 2122,
    "start_time": "2023-03-02T11:01:08.124Z"
   },
   {
    "duration": 111,
    "start_time": "2023-03-02T11:01:10.248Z"
   },
   {
    "duration": 9,
    "start_time": "2023-03-02T11:01:10.361Z"
   },
   {
    "duration": 3,
    "start_time": "2023-03-02T11:01:10.372Z"
   },
   {
    "duration": 6,
    "start_time": "2023-03-02T11:01:10.378Z"
   },
   {
    "duration": 18,
    "start_time": "2023-03-02T11:01:10.386Z"
   },
   {
    "duration": 38,
    "start_time": "2023-03-02T11:01:10.406Z"
   },
   {
    "duration": 3,
    "start_time": "2023-03-02T11:01:10.445Z"
   },
   {
    "duration": 10,
    "start_time": "2023-03-02T11:01:10.449Z"
   },
   {
    "duration": 144,
    "start_time": "2023-03-02T11:01:10.461Z"
   },
   {
    "duration": 2,
    "start_time": "2023-03-02T11:01:10.607Z"
   },
   {
    "duration": 5,
    "start_time": "2023-03-02T11:01:10.611Z"
   },
   {
    "duration": 168077,
    "start_time": "2023-03-02T11:01:10.617Z"
   },
   {
    "duration": 4,
    "start_time": "2023-03-02T11:03:58.699Z"
   },
   {
    "duration": 2048,
    "start_time": "2023-03-02T18:12:46.400Z"
   },
   {
    "duration": 89,
    "start_time": "2023-03-02T18:12:48.450Z"
   },
   {
    "duration": 9,
    "start_time": "2023-03-02T18:12:48.540Z"
   },
   {
    "duration": 13,
    "start_time": "2023-03-02T18:12:48.551Z"
   },
   {
    "duration": 6,
    "start_time": "2023-03-02T18:12:48.565Z"
   },
   {
    "duration": 14,
    "start_time": "2023-03-02T18:12:48.573Z"
   },
   {
    "duration": 3,
    "start_time": "2023-03-02T18:12:48.589Z"
   },
   {
    "duration": 8,
    "start_time": "2023-03-02T18:12:48.594Z"
   },
   {
    "duration": 4,
    "start_time": "2023-03-02T18:12:48.604Z"
   },
   {
    "duration": 6,
    "start_time": "2023-03-02T18:12:48.611Z"
   },
   {
    "duration": 2,
    "start_time": "2023-03-02T18:12:48.656Z"
   },
   {
    "duration": 35,
    "start_time": "2023-03-02T18:12:48.659Z"
   },
   {
    "duration": 6,
    "start_time": "2023-03-02T18:12:48.695Z"
   },
   {
    "duration": 1874,
    "start_time": "2023-03-02T18:12:48.702Z"
   },
   {
    "duration": 2,
    "start_time": "2023-03-02T18:12:50.578Z"
   },
   {
    "duration": 348,
    "start_time": "2023-03-02T18:12:50.582Z"
   },
   {
    "duration": 8,
    "start_time": "2023-03-02T18:12:50.932Z"
   },
   {
    "duration": 15,
    "start_time": "2023-03-02T18:12:50.944Z"
   },
   {
    "duration": 37295,
    "start_time": "2023-03-02T18:12:50.960Z"
   },
   {
    "duration": 6,
    "start_time": "2023-03-02T18:13:28.257Z"
   },
   {
    "duration": 1159,
    "start_time": "2023-03-02T20:25:17.036Z"
   },
   {
    "duration": 149,
    "start_time": "2023-03-02T20:25:18.197Z"
   },
   {
    "duration": 9,
    "start_time": "2023-03-02T20:25:18.348Z"
   },
   {
    "duration": 11,
    "start_time": "2023-03-02T20:25:19.148Z"
   },
   {
    "duration": 6,
    "start_time": "2023-03-02T20:25:19.162Z"
   },
   {
    "duration": 17,
    "start_time": "2023-03-02T20:25:19.246Z"
   },
   {
    "duration": 4,
    "start_time": "2023-03-02T20:25:20.000Z"
   },
   {
    "duration": 8,
    "start_time": "2023-03-02T20:25:20.169Z"
   },
   {
    "duration": 3,
    "start_time": "2023-03-02T20:25:20.480Z"
   },
   {
    "duration": 5,
    "start_time": "2023-03-02T20:25:20.611Z"
   },
   {
    "duration": 3,
    "start_time": "2023-03-02T20:25:21.393Z"
   },
   {
    "duration": 31,
    "start_time": "2023-03-02T20:25:21.704Z"
   },
   {
    "duration": 6,
    "start_time": "2023-03-02T20:25:22.153Z"
   },
   {
    "duration": 866,
    "start_time": "2023-03-02T20:25:22.397Z"
   },
   {
    "duration": 2,
    "start_time": "2023-03-02T20:25:24.292Z"
   },
   {
    "duration": 295,
    "start_time": "2023-03-02T20:25:24.608Z"
   },
   {
    "duration": 14,
    "start_time": "2023-03-02T20:25:26.545Z"
   },
   {
    "duration": 2,
    "start_time": "2023-03-02T20:25:27.708Z"
   },
   {
    "duration": 47102,
    "start_time": "2023-03-02T20:25:28.335Z"
   },
   {
    "duration": 97,
    "start_time": "2023-03-02T20:26:15.439Z"
   },
   {
    "duration": 2324,
    "start_time": "2023-03-03T09:52:20.755Z"
   },
   {
    "duration": 98,
    "start_time": "2023-03-03T09:52:23.081Z"
   },
   {
    "duration": 11,
    "start_time": "2023-03-03T09:52:23.182Z"
   },
   {
    "duration": 31,
    "start_time": "2023-03-03T09:52:23.195Z"
   },
   {
    "duration": 13,
    "start_time": "2023-03-03T09:52:23.229Z"
   },
   {
    "duration": 34,
    "start_time": "2023-03-03T09:52:23.243Z"
   },
   {
    "duration": 6,
    "start_time": "2023-03-03T09:52:23.279Z"
   },
   {
    "duration": 18,
    "start_time": "2023-03-03T09:52:23.286Z"
   },
   {
    "duration": 9,
    "start_time": "2023-03-03T09:52:23.306Z"
   },
   {
    "duration": 33,
    "start_time": "2023-03-03T09:52:23.317Z"
   },
   {
    "duration": 22,
    "start_time": "2023-03-03T09:52:23.353Z"
   },
   {
    "duration": 47,
    "start_time": "2023-03-03T09:52:23.377Z"
   },
   {
    "duration": 8,
    "start_time": "2023-03-03T09:52:23.427Z"
   },
   {
    "duration": 780,
    "start_time": "2023-03-03T09:52:23.438Z"
   },
   {
    "duration": 2,
    "start_time": "2023-03-03T09:52:24.220Z"
   },
   {
    "duration": 378,
    "start_time": "2023-03-03T09:52:24.224Z"
   },
   {
    "duration": 8,
    "start_time": "2023-03-03T09:52:24.604Z"
   },
   {
    "duration": 44,
    "start_time": "2023-03-03T09:52:24.614Z"
   },
   {
    "duration": 168598,
    "start_time": "2023-03-03T09:52:24.660Z"
   },
   {
    "duration": 73,
    "start_time": "2023-03-03T09:55:13.270Z"
   },
   {
    "duration": 37,
    "start_time": "2023-03-03T09:55:13.350Z"
   },
   {
    "duration": 80,
    "start_time": "2023-03-03T14:33:10.186Z"
   },
   {
    "duration": 1080,
    "start_time": "2023-03-03T14:34:57.119Z"
   },
   {
    "duration": 188,
    "start_time": "2023-03-03T14:34:58.201Z"
   },
   {
    "duration": 8,
    "start_time": "2023-03-03T14:34:58.390Z"
   },
   {
    "duration": 10,
    "start_time": "2023-03-03T14:34:58.631Z"
   },
   {
    "duration": 5,
    "start_time": "2023-03-03T14:34:58.894Z"
   },
   {
    "duration": 16,
    "start_time": "2023-03-03T14:34:59.011Z"
   },
   {
    "duration": 4,
    "start_time": "2023-03-03T14:34:59.631Z"
   },
   {
    "duration": 8,
    "start_time": "2023-03-03T14:34:59.771Z"
   },
   {
    "duration": 3,
    "start_time": "2023-03-03T14:34:59.995Z"
   },
   {
    "duration": 6,
    "start_time": "2023-03-03T14:35:00.168Z"
   },
   {
    "duration": 2,
    "start_time": "2023-03-03T14:35:00.871Z"
   },
   {
    "duration": 35,
    "start_time": "2023-03-03T14:35:01.112Z"
   },
   {
    "duration": 6,
    "start_time": "2023-03-03T14:35:01.486Z"
   },
   {
    "duration": 900,
    "start_time": "2023-03-03T14:35:01.616Z"
   },
   {
    "duration": 2,
    "start_time": "2023-03-03T14:35:02.623Z"
   },
   {
    "duration": 230,
    "start_time": "2023-03-03T14:35:02.806Z"
   },
   {
    "duration": 8,
    "start_time": "2023-03-03T14:35:04.689Z"
   },
   {
    "duration": 3,
    "start_time": "2023-03-03T14:35:05.138Z"
   },
   {
    "duration": 1228,
    "start_time": "2023-03-03T14:35:05.413Z"
   },
   {
    "duration": 5,
    "start_time": "2023-03-03T14:35:06.643Z"
   },
   {
    "duration": 1120,
    "start_time": "2023-03-04T07:00:23.711Z"
   },
   {
    "duration": 179,
    "start_time": "2023-03-04T07:00:24.833Z"
   },
   {
    "duration": 11,
    "start_time": "2023-03-04T07:00:25.014Z"
   },
   {
    "duration": 14,
    "start_time": "2023-03-04T07:00:25.333Z"
   },
   {
    "duration": 6,
    "start_time": "2023-03-04T07:00:25.581Z"
   },
   {
    "duration": 16,
    "start_time": "2023-03-04T07:00:25.706Z"
   },
   {
    "duration": 4,
    "start_time": "2023-03-04T07:00:26.337Z"
   },
   {
    "duration": 8,
    "start_time": "2023-03-04T07:00:26.514Z"
   },
   {
    "duration": 4,
    "start_time": "2023-03-04T07:00:26.759Z"
   },
   {
    "duration": 6,
    "start_time": "2023-03-04T07:00:27.007Z"
   },
   {
    "duration": 3,
    "start_time": "2023-03-04T07:00:28.581Z"
   },
   {
    "duration": 30,
    "start_time": "2023-03-04T07:00:29.079Z"
   },
   {
    "duration": 3,
    "start_time": "2023-03-04T07:00:29.729Z"
   },
   {
    "duration": 891,
    "start_time": "2023-03-04T07:00:30.281Z"
   },
   {
    "duration": 3,
    "start_time": "2023-03-04T07:00:33.513Z"
   },
   {
    "duration": 11434,
    "start_time": "2023-03-04T07:00:34.452Z"
   },
   {
    "duration": 7,
    "start_time": "2023-03-04T07:00:45.889Z"
   },
   {
    "duration": 15,
    "start_time": "2023-03-04T07:00:45.898Z"
   },
   {
    "duration": 164,
    "start_time": "2023-03-04T07:00:45.915Z"
   },
   {
    "duration": 3,
    "start_time": "2023-03-04T07:00:46.081Z"
   },
   {
    "duration": 75,
    "start_time": "2023-03-04T07:04:43.669Z"
   }
  ],
  "kernelspec": {
   "display_name": "Python 3 (ipykernel)",
   "language": "python",
   "name": "python3"
  },
  "language_info": {
   "codemirror_mode": {
    "name": "ipython",
    "version": 3
   },
   "file_extension": ".py",
   "mimetype": "text/x-python",
   "name": "python",
   "nbconvert_exporter": "python",
   "pygments_lexer": "ipython3",
   "version": "3.9.5"
  },
  "toc": {
   "base_numbering": 1,
   "nav_menu": {},
   "number_sections": true,
   "sideBar": true,
   "skip_h1_title": true,
   "title_cell": "Table of Contents",
   "title_sidebar": "Contents",
   "toc_cell": false,
   "toc_position": {},
   "toc_section_display": true,
   "toc_window_display": false
  },
  "vscode": {
   "interpreter": {
    "hash": "fa5ce1c83d95e6f02087e2887798a498d996b82299a6c7fb946f35c0fd3f5a1f"
   }
  }
 },
 "nbformat": 4,
 "nbformat_minor": 2
}
