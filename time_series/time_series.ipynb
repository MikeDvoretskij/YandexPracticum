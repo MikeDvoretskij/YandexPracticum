{
 "cells": [
  {
   "cell_type": "code",
   "execution_count": null,
   "id": "8a57a336",
   "metadata": {},
   "outputs": [],
   "source": [
    "import pandas as pd\n",
    "import pathlib\n",
    "from pathlib import Path\n",
    "import matplotlib.pyplot as plt\n",
    "from statsmodels.tsa.seasonal import seasonal_decompose\n",
    "from sklearn.metrics import mean_squared_error\n",
    "from sklearn.linear_model import LinearRegression\n",
    "from sklearn.model_selection import train_test_split\n",
    "import numpy as np\n",
    "import torch.nn as nn\n",
    "import torch\n",
    "from tqdm import tqdm\n",
    "from sklearn.tree import DecisionTreeRegressor\n",
    "from sklearn.model_selection import GridSearchCV"
   ]
  },
  {
   "cell_type": "code",
   "execution_count": null,
   "id": "96a255ee",
   "metadata": {},
   "outputs": [],
   "source": [
    "data_taxi = pd.read_csv(\"/datasets/taxi.csv\", index_col=[0], parse_dates=[0])\n",
    "data_taxi.sort_index(inplace=True)\n",
    "data_taxi.info()"
   ]
  },
  {
   "cell_type": "code",
   "execution_count": null,
   "id": "acc5a8a4",
   "metadata": {},
   "outputs": [],
   "source": [
    "data_taxi = data_taxi .resample('1H').sum()\n",
    "figsize = (18,10)\n",
    "data_taxi.plot(figsize=figsize)"
   ]
  },
  {
   "cell_type": "code",
   "execution_count": null,
   "id": "16ccd763",
   "metadata": {},
   "outputs": [],
   "source": [
    "data_taxi['2018-08-25':'2018-08-31'].plot(figsize=figsize)"
   ]
  },
  {
   "cell_type": "code",
   "execution_count": null,
   "id": "29897d78",
   "metadata": {},
   "outputs": [],
   "source": [
    "decomposed_data_taxi = seasonal_decompose(data_taxi)\n",
    "decomposed_data_taxi.trend.plot(figsize=figsize)"
   ]
  },
  {
   "cell_type": "code",
   "execution_count": null,
   "id": "95c037a6",
   "metadata": {},
   "outputs": [],
   "source": [
    "decomposed_data_taxi.seasonal.plot(figsize=figsize)"
   ]
  },
  {
   "cell_type": "code",
   "execution_count": null,
   "id": "50c2c814",
   "metadata": {},
   "outputs": [],
   "source": [
    "decomposed_data_taxi.resid.plot(figsize=figsize)"
   ]
  },
  {
   "cell_type": "code",
   "execution_count": null,
   "id": "ec88f1d0",
   "metadata": {},
   "outputs": [],
   "source": [
    "decomposed_data_taxi = seasonal_decompose(data_taxi['2018-08-25':'2018-08-31'])\n",
    "decomposed_data_taxi.trend.plot(figsize=figsize)"
   ]
  },
  {
   "cell_type": "code",
   "execution_count": null,
   "id": "a7afd2f5",
   "metadata": {},
   "outputs": [],
   "source": [
    "decomposed_data_taxi.seasonal.plot(figsize=figsize)"
   ]
  },
  {
   "cell_type": "code",
   "execution_count": null,
   "id": "1af1c116",
   "metadata": {},
   "outputs": [],
   "source": [
    "decomposed_data_taxi.resid.plot(figsize=figsize)"
   ]
  },
  {
   "cell_type": "code",
   "execution_count": null,
   "id": "a1d81bab",
   "metadata": {},
   "outputs": [],
   "source": [
    "taxi_shift = data_taxi - data_taxi.shift()\n",
    "taxi_shift['mean'] = data_taxi['num_orders'].rolling(24).mean()\n",
    "taxi_shift['std'] = data_taxi['num_orders'].rolling(24).std()\n",
    "taxi_shift.plot(figsize=figsize)"
   ]
  },
  {
   "cell_type": "code",
   "execution_count": null,
   "id": "dfe5cc92",
   "metadata": {},
   "outputs": [],
   "source": [
    "max_lag = 24\n",
    "rolling_mean_size = 48\n",
    "def make_features(data, column, max_lag, rolling_mean_size):\n",
    "    data['day'] = data.index.day\n",
    "    data['dayofweek'] = data.index.dayofweek\n",
    "    \n",
    "    for lag in range(1, max_lag + 1):\n",
    "        data['lag_{}'.format(lag)] = data[column].shift(lag)\n",
    "\n",
    "    data['rolling_mean'] = data[column].shift().rolling(rolling_mean_size).mean()"
   ]
  },
  {
   "cell_type": "code",
   "execution_count": null,
   "id": "2f9be325",
   "metadata": {},
   "outputs": [],
   "source": [
    "data_taxi_copy = data_taxi.copy()\n",
    "\n",
    "make_features(data_taxi,'num_orders', max_lag, rolling_mean_size)\n",
    "\n",
    "train, test = train_test_split(data_taxi, shuffle=False, test_size=0.1, random_state=1515)\n",
    "train = train.dropna()\n",
    "\n",
    "features_train = train.drop('num_orders', axis=1)\n",
    "target_train = train['num_orders']\n",
    "features_test = test.drop('num_orders', axis=1)\n",
    "target_test = test['num_orders']"
   ]
  },
  {
   "cell_type": "code",
   "execution_count": null,
   "id": "dad06385",
   "metadata": {},
   "outputs": [],
   "source": [
    "target_train"
   ]
  },
  {
   "cell_type": "code",
   "execution_count": null,
   "id": "ce4417eb",
   "metadata": {},
   "outputs": [],
   "source": [
    "def create_sequences(X, y, time_steps=2):\n",
    "    X_sequences, y_sequences = [], []\n",
    "    for i in range(len(X) - time_steps):\n",
    "        X_sequences.append(X[i:i+time_steps])\n",
    "        y_sequences.append(sum(y[i:i+time_steps]))\n",
    "    return np.array(X_sequences), np.array(y_sequences)"
   ]
  },
  {
   "cell_type": "code",
   "execution_count": null,
   "id": "63d063f7",
   "metadata": {},
   "outputs": [],
   "source": [
    "features_train_, target_train_ = create_sequences(features_train.to_numpy(), target_train.to_numpy())\n",
    "features_test_, target_test_ = create_sequences(features_test.to_numpy(), target_test.to_numpy())"
   ]
  },
  {
   "cell_type": "code",
   "execution_count": null,
   "id": "f51acf90",
   "metadata": {},
   "outputs": [],
   "source": [
    "model = LinearRegression()\n",
    "model.fit(features_train, target_train)\n",
    "target_predict = model.predict(features_test)\n",
    "final_RMSE_LR = mean_squared_error(target_test, target_predict) ** 0.5\n",
    "\n",
    "liniar_prediction = model.predict(features_test)\n",
    "\n",
    "plt.figure(figsize=figsize)\n",
    "plt.plot(target_test.index, \n",
    "         target_test, \n",
    "         'b-', \n",
    "         target_test.index, \n",
    "         target_predict,\n",
    "         'r-')"
   ]
  },
  {
   "cell_type": "code",
   "execution_count": null,
   "id": "711015ed",
   "metadata": {},
   "outputs": [],
   "source": [
    "device = \"cuda\" if torch.cuda.is_available() else \"cpu\""
   ]
  },
  {
   "cell_type": "code",
   "execution_count": null,
   "id": "912e86c7",
   "metadata": {},
   "outputs": [],
   "source": [
    "device"
   ]
  },
  {
   "cell_type": "code",
   "execution_count": null,
   "id": "2ec29510",
   "metadata": {},
   "outputs": [],
   "source": [
    "class LSTMModel(nn.Module):\n",
    "    def __init__(self, input_size, hidden_size):\n",
    "        super(LSTMModel, self).__init__()\n",
    "        self.lstm_1 = nn.LSTM(input_size, hidden_size, batch_first=True, num_layers=2)\n",
    "        self.relu = nn.LeakyReLU()\n",
    "        self.norm = nn.LayerNorm(hidden_size)\n",
    "        self.fc_in = nn.Linear(hidden_size, hidden_size)\n",
    "        self.fc_out = nn.Linear(hidden_size, 1)\n",
    "\n",
    "    def forward(self, x):\n",
    "        # Проход через первый слой LSTM\n",
    "        out, _ = self.lstm_1(x.unsqueeze(0))\n",
    "        out = self.relu(out)\n",
    "        out = self.norm(out)\n",
    "        out = self.fc_in(out)\n",
    "        out = self.relu(out)\n",
    "        out = self.norm(out)\n",
    "        out = self.fc_in(out)\n",
    "        out = self.relu(out)\n",
    "        out = self.fc_out(out)\n",
    "\n",
    "        return out[:, -1]\n",
    "model = LSTMModel(27, 14).to(device)"
   ]
  },
  {
   "cell_type": "code",
   "execution_count": null,
   "id": "8d902380",
   "metadata": {},
   "outputs": [],
   "source": [
    "features_train_ = torch.tensor(features_train_, dtype=torch.float32).to(device)\n",
    "target_train_ = torch.tensor(target_train_, dtype=torch.float32).to(device)"
   ]
  },
  {
   "cell_type": "code",
   "execution_count": null,
   "id": "70e9f172",
   "metadata": {},
   "outputs": [],
   "source": [
    "criterion = nn.MSELoss().to(device)\n",
    "optimizer = torch.optim.Adam(model.parameters(), lr=0.001)\n",
    "num_epochs = 5\n",
    "for epoch in range(num_epochs):\n",
    "    model.train()\n",
    "    total_loss = 0.0\n",
    "    for inputs, targets in tqdm(zip(features_train_, target_train_)):\n",
    "        optimizer.zero_grad()\n",
    "        outputs = model(inputs)\n",
    "        loss = criterion(outputs, targets)\n",
    "        loss.backward()\n",
    "        optimizer.step()\n",
    "        total_loss += loss.item()\n",
    "\n",
    "    average_loss = total_loss / len(features_train_)\n",
    "    print(f'Epoch [{epoch+1}/{num_epochs}], Loss: {average_loss:.4f}')\n",
    "model.eval()"
   ]
  },
  {
   "cell_type": "code",
   "execution_count": null,
   "id": "199b2ee5",
   "metadata": {},
   "outputs": [],
   "source": [
    "features_test_ = torch.tensor(features_test_, dtype=torch.float32).to(device)"
   ]
  },
  {
   "cell_type": "code",
   "execution_count": null,
   "id": "9228ac60",
   "metadata": {},
   "outputs": [],
   "source": [
    "target_predict_ = []"
   ]
  },
  {
   "cell_type": "code",
   "execution_count": null,
   "id": "21370eed",
   "metadata": {},
   "outputs": [],
   "source": [
    "for i in tqdm(features_test_):\n",
    "    target_predict_.append(model(i).to(\"cpu\").detach().numpy().astype('int')[0])"
   ]
  },
  {
   "cell_type": "code",
   "execution_count": null,
   "id": "d6950607",
   "metadata": {},
   "outputs": [],
   "source": [
    "plt.figure(figsize=figsize)\n",
    "plt.plot(pd.DataFrame(target_predict_).index, target_test_, 'b-', label='Actual')\n",
    "plt.plot(pd.DataFrame(target_predict_).index, target_predict_, 'r-', label='Predicted')"
   ]
  },
  {
   "cell_type": "code",
   "execution_count": null,
   "id": "8b9b3b82",
   "metadata": {},
   "outputs": [],
   "source": [
    "print(f\"{mean_squared_error(target_test_, target_predict_, squared=False)/2:.4f}\") # все-таки я же складывал попарно данные"
   ]
  },
  {
   "cell_type": "code",
   "execution_count": null,
   "id": "d2404fc5",
   "metadata": {},
   "outputs": [],
   "source": [
    "regressor = DecisionTreeRegressor() \n",
    "max_depth_list = [x for x in range(2, 15)]\n",
    "hyperparams = [{'max_depth':max_depth_list,\n",
    "                \"min_samples_leaf\":[2, 3],\n",
    "                'random_state':[1515]}]\n",
    "\n",
    "print('# Tuning hyper-parameters for root_mean_squared_error')\n",
    "print()\n",
    "clf = GridSearchCV(regressor, hyperparams, scoring='neg_mean_squared_error')\n",
    "clf.fit(features_train, target_train)\n",
    "print(\"Best parameters set found on development set:\")\n",
    "print()\n",
    "print(clf.best_params_)\n",
    "print()\n",
    "print(\"Grid scores on development set:\")\n",
    "print()\n",
    "means = clf.cv_results_['mean_test_score']\n",
    "stds = clf.cv_results_['std_test_score']\n",
    "for mean, std, params in zip(means, stds, clf.cv_results_['params']):\n",
    "    print(\"%0.6f for %r\"% ((mean*-1)** 0.5, params))\n",
    "print()\n",
    "\n",
    "cv_RMSE_DTR = (max(means)*-1) ** 0.5"
   ]
  },
  {
   "cell_type": "code",
   "execution_count": null,
   "id": "5a11276c",
   "metadata": {},
   "outputs": [],
   "source": [
    "model = DecisionTreeRegressor(max_depth=5, \n",
    "                              random_state=1515,\n",
    "                             min_samples_leaf=3) \n",
    "model.fit(features_train, target_train)\n",
    "target_predict = model.predict(features_test)\n",
    "final_RMSE_DTR = mean_squared_error(target_test, target_predict) ** 0.5\n",
    "\n",
    "plt.figure(figsize=figsize)\n",
    "plt.plot(target_test.index, \n",
    "         target_test, \n",
    "         'b-', \n",
    "         target_test.index, \n",
    "         target_predict,\n",
    "         'r-')"
   ]
  },
  {
   "cell_type": "code",
   "execution_count": null,
   "id": "228b5f5c",
   "metadata": {
    "scrolled": false
   },
   "outputs": [],
   "source": [
    "print(mean_squared_error(target_test, liniar_prediction, squared=False))"
   ]
  }
 ],
 "metadata": {
  "ExecuteTimeLog": [
   {
    "duration": 2394,
    "start_time": "2022-06-08T09:15:54.326Z"
   },
   {
    "duration": 2096,
    "start_time": "2022-06-08T09:15:56.722Z"
   },
   {
    "duration": 2153,
    "start_time": "2022-06-08T09:15:58.821Z"
   },
   {
    "duration": 1483,
    "start_time": "2022-06-08T09:16:00.977Z"
   },
   {
    "duration": 3,
    "start_time": "2022-06-08T09:16:02.461Z"
   },
   {
    "duration": 15,
    "start_time": "2022-06-08T09:16:02.465Z"
   },
   {
    "duration": 136,
    "start_time": "2022-06-08T09:16:02.481Z"
   },
   {
    "duration": 0,
    "start_time": "2022-06-08T09:16:02.619Z"
   },
   {
    "duration": 0,
    "start_time": "2022-06-08T09:16:02.621Z"
   },
   {
    "duration": 0,
    "start_time": "2022-06-08T09:16:02.622Z"
   },
   {
    "duration": 0,
    "start_time": "2022-06-08T09:16:02.626Z"
   },
   {
    "duration": 0,
    "start_time": "2022-06-08T09:16:02.627Z"
   },
   {
    "duration": 0,
    "start_time": "2022-06-08T09:16:02.629Z"
   },
   {
    "duration": 0,
    "start_time": "2022-06-08T09:16:02.630Z"
   },
   {
    "duration": 0,
    "start_time": "2022-06-08T09:16:02.631Z"
   },
   {
    "duration": 0,
    "start_time": "2022-06-08T09:16:02.632Z"
   },
   {
    "duration": 0,
    "start_time": "2022-06-08T09:16:02.634Z"
   },
   {
    "duration": 0,
    "start_time": "2022-06-08T09:16:02.635Z"
   },
   {
    "duration": 0,
    "start_time": "2022-06-08T09:16:02.636Z"
   },
   {
    "duration": 0,
    "start_time": "2022-06-08T09:16:02.638Z"
   },
   {
    "duration": 0,
    "start_time": "2022-06-08T09:16:02.639Z"
   },
   {
    "duration": 0,
    "start_time": "2022-06-08T09:16:02.640Z"
   },
   {
    "duration": 0,
    "start_time": "2022-06-08T09:16:02.641Z"
   },
   {
    "duration": 0,
    "start_time": "2022-06-08T09:16:02.643Z"
   },
   {
    "duration": 0,
    "start_time": "2022-06-08T09:16:02.645Z"
   },
   {
    "duration": 0,
    "start_time": "2022-06-08T09:16:02.647Z"
   },
   {
    "duration": 0,
    "start_time": "2022-06-08T09:16:02.649Z"
   },
   {
    "duration": 0,
    "start_time": "2022-06-08T09:16:02.650Z"
   },
   {
    "duration": 0,
    "start_time": "2022-06-08T09:16:02.652Z"
   },
   {
    "duration": 0,
    "start_time": "2022-06-08T09:16:02.654Z"
   },
   {
    "duration": 3,
    "start_time": "2023-11-27T12:52:51.501Z"
   },
   {
    "duration": 1902,
    "start_time": "2023-11-27T12:52:51.506Z"
   },
   {
    "duration": 2,
    "start_time": "2023-11-27T12:52:53.410Z"
   },
   {
    "duration": 5,
    "start_time": "2023-11-27T12:52:53.413Z"
   },
   {
    "duration": 111,
    "start_time": "2023-11-27T12:52:53.423Z"
   },
   {
    "duration": 357,
    "start_time": "2023-11-27T12:52:53.536Z"
   },
   {
    "duration": 222,
    "start_time": "2023-11-27T12:52:53.895Z"
   },
   {
    "duration": 276,
    "start_time": "2023-11-27T12:52:54.119Z"
   },
   {
    "duration": 361,
    "start_time": "2023-11-27T12:52:54.397Z"
   },
   {
    "duration": 316,
    "start_time": "2023-11-27T12:52:54.760Z"
   },
   {
    "duration": 278,
    "start_time": "2023-11-27T12:52:55.078Z"
   },
   {
    "duration": 208,
    "start_time": "2023-11-27T12:52:55.357Z"
   },
   {
    "duration": 210,
    "start_time": "2023-11-27T12:52:55.566Z"
   },
   {
    "duration": 387,
    "start_time": "2023-11-27T12:52:55.779Z"
   },
   {
    "duration": 4,
    "start_time": "2023-11-27T12:52:56.168Z"
   },
   {
    "duration": 27,
    "start_time": "2023-11-27T12:52:56.174Z"
   },
   {
    "duration": 4,
    "start_time": "2023-11-27T12:52:56.224Z"
   },
   {
    "duration": 17,
    "start_time": "2023-11-27T12:52:56.230Z"
   },
   {
    "duration": 583,
    "start_time": "2023-11-27T12:52:56.248Z"
   },
   {
    "duration": 161,
    "start_time": "2023-11-27T12:52:56.833Z"
   },
   {
    "duration": 0,
    "start_time": "2023-11-27T12:52:56.995Z"
   },
   {
    "duration": 0,
    "start_time": "2023-11-27T12:52:56.996Z"
   },
   {
    "duration": 0,
    "start_time": "2023-11-27T12:52:56.997Z"
   },
   {
    "duration": 0,
    "start_time": "2023-11-27T12:52:56.998Z"
   },
   {
    "duration": 0,
    "start_time": "2023-11-27T12:52:57.000Z"
   },
   {
    "duration": 0,
    "start_time": "2023-11-27T12:52:57.001Z"
   },
   {
    "duration": 0,
    "start_time": "2023-11-27T12:52:57.001Z"
   },
   {
    "duration": 4,
    "start_time": "2023-11-27T14:11:21.999Z"
   },
   {
    "duration": 2138,
    "start_time": "2023-11-27T14:11:22.134Z"
   },
   {
    "duration": 3,
    "start_time": "2023-11-27T14:11:24.273Z"
   },
   {
    "duration": 11,
    "start_time": "2023-11-27T14:11:24.277Z"
   },
   {
    "duration": 174,
    "start_time": "2023-11-27T14:11:24.290Z"
   },
   {
    "duration": 0,
    "start_time": "2023-11-27T14:11:24.466Z"
   },
   {
    "duration": 0,
    "start_time": "2023-11-27T14:11:24.467Z"
   },
   {
    "duration": 0,
    "start_time": "2023-11-27T14:11:24.469Z"
   },
   {
    "duration": 0,
    "start_time": "2023-11-27T14:11:24.470Z"
   },
   {
    "duration": 0,
    "start_time": "2023-11-27T14:11:24.471Z"
   },
   {
    "duration": 10,
    "start_time": "2023-11-27T14:11:24.601Z"
   },
   {
    "duration": 10,
    "start_time": "2023-11-27T14:11:24.797Z"
   },
   {
    "duration": 10,
    "start_time": "2023-11-27T14:11:24.980Z"
   },
   {
    "duration": 46,
    "start_time": "2023-11-27T14:12:20.520Z"
   },
   {
    "duration": 154,
    "start_time": "2023-11-27T14:12:27.435Z"
   },
   {
    "duration": 9,
    "start_time": "2023-11-27T14:12:40.698Z"
   },
   {
    "duration": 1967,
    "start_time": "2023-11-27T14:12:40.908Z"
   },
   {
    "duration": 3,
    "start_time": "2023-11-27T14:12:42.877Z"
   },
   {
    "duration": 58,
    "start_time": "2023-11-27T14:12:42.882Z"
   },
   {
    "duration": 63,
    "start_time": "2023-11-27T14:12:42.942Z"
   },
   {
    "duration": 369,
    "start_time": "2023-11-27T14:12:43.007Z"
   },
   {
    "duration": 233,
    "start_time": "2023-11-27T14:12:43.378Z"
   },
   {
    "duration": 289,
    "start_time": "2023-11-27T14:12:43.613Z"
   },
   {
    "duration": 364,
    "start_time": "2023-11-27T14:12:43.904Z"
   },
   {
    "duration": 314,
    "start_time": "2023-11-27T14:12:44.269Z"
   },
   {
    "duration": 276,
    "start_time": "2023-11-27T14:12:44.584Z"
   },
   {
    "duration": 201,
    "start_time": "2023-11-27T14:12:44.862Z"
   },
   {
    "duration": 200,
    "start_time": "2023-11-27T14:12:45.065Z"
   },
   {
    "duration": 375,
    "start_time": "2023-11-27T14:12:45.691Z"
   },
   {
    "duration": 4,
    "start_time": "2023-11-27T14:12:47.192Z"
   },
   {
    "duration": 26,
    "start_time": "2023-11-27T14:12:47.391Z"
   },
   {
    "duration": 3,
    "start_time": "2023-11-27T14:12:47.645Z"
   },
   {
    "duration": 16,
    "start_time": "2023-11-27T14:12:47.854Z"
   },
   {
    "duration": 535,
    "start_time": "2023-11-27T14:12:48.772Z"
   },
   {
    "duration": 156,
    "start_time": "2023-11-27T14:12:52.259Z"
   },
   {
    "duration": 9,
    "start_time": "2023-11-27T14:13:57.767Z"
   },
   {
    "duration": 11,
    "start_time": "2023-11-27T14:14:28.124Z"
   },
   {
    "duration": 4,
    "start_time": "2023-11-27T14:15:16.692Z"
   },
   {
    "duration": 2,
    "start_time": "2023-11-27T14:15:29.955Z"
   },
   {
    "duration": 4,
    "start_time": "2023-11-27T14:15:36.186Z"
   },
   {
    "duration": 10,
    "start_time": "2023-11-27T14:22:06.752Z"
   },
   {
    "duration": 5,
    "start_time": "2023-11-27T14:22:24.811Z"
   },
   {
    "duration": 31,
    "start_time": "2023-11-27T14:22:45.119Z"
   },
   {
    "duration": 2,
    "start_time": "2023-11-27T14:23:50.246Z"
   },
   {
    "duration": 3,
    "start_time": "2023-11-27T14:23:52.985Z"
   },
   {
    "duration": 20,
    "start_time": "2023-11-27T14:23:54.784Z"
   },
   {
    "duration": 7,
    "start_time": "2023-11-27T14:27:10.790Z"
   },
   {
    "duration": 19,
    "start_time": "2023-11-27T14:27:20.493Z"
   },
   {
    "duration": 3,
    "start_time": "2023-11-27T14:28:33.839Z"
   },
   {
    "duration": 2852,
    "start_time": "2023-11-27T14:30:23.114Z"
   },
   {
    "duration": 1581,
    "start_time": "2023-11-27T14:34:54.853Z"
   },
   {
    "duration": 0,
    "start_time": "2023-11-27T14:34:56.437Z"
   },
   {
    "duration": 0,
    "start_time": "2023-11-27T14:34:56.439Z"
   },
   {
    "duration": 0,
    "start_time": "2023-11-27T14:34:56.440Z"
   },
   {
    "duration": 0,
    "start_time": "2023-11-27T14:34:56.442Z"
   },
   {
    "duration": 0,
    "start_time": "2023-11-27T14:34:56.445Z"
   },
   {
    "duration": 0,
    "start_time": "2023-11-27T14:34:56.446Z"
   },
   {
    "duration": 0,
    "start_time": "2023-11-27T14:34:56.447Z"
   },
   {
    "duration": 0,
    "start_time": "2023-11-27T14:34:56.449Z"
   },
   {
    "duration": 0,
    "start_time": "2023-11-27T14:34:56.450Z"
   },
   {
    "duration": 0,
    "start_time": "2023-11-27T14:34:56.451Z"
   },
   {
    "duration": 0,
    "start_time": "2023-11-27T14:34:56.453Z"
   },
   {
    "duration": 0,
    "start_time": "2023-11-27T14:34:56.454Z"
   },
   {
    "duration": 0,
    "start_time": "2023-11-27T14:34:56.456Z"
   },
   {
    "duration": 0,
    "start_time": "2023-11-27T14:34:56.457Z"
   },
   {
    "duration": 0,
    "start_time": "2023-11-27T14:34:56.459Z"
   },
   {
    "duration": 0,
    "start_time": "2023-11-27T14:34:56.460Z"
   },
   {
    "duration": 0,
    "start_time": "2023-11-27T14:34:56.461Z"
   },
   {
    "duration": 0,
    "start_time": "2023-11-27T14:34:56.462Z"
   },
   {
    "duration": 0,
    "start_time": "2023-11-27T14:34:56.463Z"
   },
   {
    "duration": 0,
    "start_time": "2023-11-27T14:34:56.465Z"
   },
   {
    "duration": 0,
    "start_time": "2023-11-27T14:34:56.466Z"
   },
   {
    "duration": 0,
    "start_time": "2023-11-27T14:34:56.500Z"
   },
   {
    "duration": 0,
    "start_time": "2023-11-27T14:34:56.501Z"
   },
   {
    "duration": 2655,
    "start_time": "2023-11-27T14:35:14.540Z"
   },
   {
    "duration": 3005,
    "start_time": "2023-11-27T14:35:17.197Z"
   },
   {
    "duration": 22,
    "start_time": "2023-11-27T14:35:20.204Z"
   },
   {
    "duration": 14,
    "start_time": "2023-11-27T14:35:38.919Z"
   },
   {
    "duration": 4498,
    "start_time": "2023-11-27T14:36:48.631Z"
   },
   {
    "duration": 20,
    "start_time": "2023-11-27T14:36:59.437Z"
   },
   {
    "duration": 2625,
    "start_time": "2023-11-27T14:37:23.077Z"
   },
   {
    "duration": 3377,
    "start_time": "2023-11-27T14:37:29.770Z"
   },
   {
    "duration": 1593,
    "start_time": "2023-11-27T14:37:43.208Z"
   },
   {
    "duration": 8,
    "start_time": "2023-11-27T14:37:56.251Z"
   },
   {
    "duration": 10,
    "start_time": "2023-11-27T14:39:04.397Z"
   },
   {
    "duration": 3,
    "start_time": "2023-11-27T14:39:11.034Z"
   },
   {
    "duration": 10,
    "start_time": "2023-11-27T14:39:19.754Z"
   },
   {
    "duration": 5,
    "start_time": "2023-11-27T14:40:18.458Z"
   },
   {
    "duration": 3761,
    "start_time": "2023-11-27T14:41:34.468Z"
   },
   {
    "duration": 4,
    "start_time": "2023-11-27T14:41:46.638Z"
   },
   {
    "duration": 4,
    "start_time": "2023-11-27T14:41:48.730Z"
   },
   {
    "duration": 2540,
    "start_time": "2023-11-27T14:43:02.572Z"
   },
   {
    "duration": 2714,
    "start_time": "2023-11-27T14:43:05.114Z"
   },
   {
    "duration": 1513,
    "start_time": "2023-11-27T14:43:21.053Z"
   },
   {
    "duration": 0,
    "start_time": "2023-11-27T14:43:22.567Z"
   },
   {
    "duration": 3,
    "start_time": "2023-11-27T14:43:24.558Z"
   },
   {
    "duration": 3,
    "start_time": "2023-11-27T14:43:24.725Z"
   },
   {
    "duration": 137,
    "start_time": "2023-11-27T14:43:24.938Z"
   },
   {
    "duration": 353,
    "start_time": "2023-11-27T14:43:25.535Z"
   },
   {
    "duration": 238,
    "start_time": "2023-11-27T14:43:25.915Z"
   },
   {
    "duration": 280,
    "start_time": "2023-11-27T14:43:26.155Z"
   },
   {
    "duration": 427,
    "start_time": "2023-11-27T14:43:26.436Z"
   },
   {
    "duration": 314,
    "start_time": "2023-11-27T14:43:26.865Z"
   },
   {
    "duration": 193,
    "start_time": "2023-11-27T14:43:27.547Z"
   },
   {
    "duration": 203,
    "start_time": "2023-11-27T14:43:27.742Z"
   },
   {
    "duration": 224,
    "start_time": "2023-11-27T14:43:27.947Z"
   },
   {
    "duration": 380,
    "start_time": "2023-11-27T14:43:28.520Z"
   },
   {
    "duration": 4,
    "start_time": "2023-11-27T14:43:28.908Z"
   },
   {
    "duration": 27,
    "start_time": "2023-11-27T14:43:29.097Z"
   },
   {
    "duration": 4,
    "start_time": "2023-11-27T14:43:29.296Z"
   },
   {
    "duration": 19,
    "start_time": "2023-11-27T14:43:29.551Z"
   },
   {
    "duration": 3319,
    "start_time": "2023-11-28T12:46:54.331Z"
   },
   {
    "duration": 423732,
    "start_time": "2023-11-28T12:46:57.652Z"
   },
   {
    "duration": 10205,
    "start_time": "2023-11-28T12:54:01.387Z"
   },
   {
    "duration": 74,
    "start_time": "2023-11-28T12:54:11.594Z"
   },
   {
    "duration": 29,
    "start_time": "2023-11-28T12:54:11.671Z"
   },
   {
    "duration": 56,
    "start_time": "2023-11-28T12:54:11.703Z"
   },
   {
    "duration": 198,
    "start_time": "2023-11-28T12:54:11.761Z"
   },
   {
    "duration": 714,
    "start_time": "2023-11-28T12:54:11.961Z"
   },
   {
    "duration": 485,
    "start_time": "2023-11-28T12:54:12.678Z"
   },
   {
    "duration": 817,
    "start_time": "2023-11-28T12:54:13.164Z"
   },
   {
    "duration": 713,
    "start_time": "2023-11-28T12:54:13.983Z"
   },
   {
    "duration": 1788,
    "start_time": "2023-11-28T12:54:14.698Z"
   },
   {
    "duration": 603,
    "start_time": "2023-11-28T12:54:16.488Z"
   },
   {
    "duration": 391,
    "start_time": "2023-11-28T12:54:17.095Z"
   },
   {
    "duration": 397,
    "start_time": "2023-11-28T12:54:17.488Z"
   },
   {
    "duration": 884,
    "start_time": "2023-11-28T12:54:17.888Z"
   },
   {
    "duration": 4,
    "start_time": "2023-11-28T12:54:18.774Z"
   },
   {
    "duration": 94,
    "start_time": "2023-11-28T12:54:18.780Z"
   },
   {
    "duration": 4,
    "start_time": "2023-11-28T12:54:18.876Z"
   },
   {
    "duration": 76,
    "start_time": "2023-11-28T12:54:18.882Z"
   },
   {
    "duration": 741,
    "start_time": "2023-11-28T12:54:18.960Z"
   },
   {
    "duration": 7,
    "start_time": "2023-11-28T12:54:19.758Z"
   },
   {
    "duration": 6,
    "start_time": "2023-11-28T12:54:19.767Z"
   },
   {
    "duration": 185,
    "start_time": "2023-11-28T12:54:19.775Z"
   },
   {
    "duration": 32,
    "start_time": "2023-11-28T12:54:19.963Z"
   },
   {
    "duration": 4,
    "start_time": "2023-11-28T12:54:19.998Z"
   },
   {
    "duration": 1904576,
    "start_time": "2023-11-28T12:54:20.003Z"
   },
   {
    "duration": 80,
    "start_time": "2023-11-28T13:26:04.581Z"
   },
   {
    "duration": 8,
    "start_time": "2023-11-28T13:26:04.663Z"
   },
   {
    "duration": 4791,
    "start_time": "2023-11-28T13:26:04.672Z"
   },
   {
    "duration": 396,
    "start_time": "2023-11-28T13:26:09.464Z"
   },
   {
    "duration": 0,
    "start_time": "2023-11-28T13:26:09.862Z"
   },
   {
    "duration": 2772,
    "start_time": "2023-11-29T16:14:56.449Z"
   },
   {
    "duration": 2051,
    "start_time": "2023-11-29T16:15:01.260Z"
   },
   {
    "duration": 24,
    "start_time": "2023-11-29T16:15:03.313Z"
   },
   {
    "duration": 12,
    "start_time": "2023-11-29T16:15:10.811Z"
   },
   {
    "duration": 2,
    "start_time": "2023-11-29T16:15:11.483Z"
   },
   {
    "duration": 3,
    "start_time": "2023-11-29T16:15:11.859Z"
   },
   {
    "duration": 146,
    "start_time": "2023-11-29T16:15:12.086Z"
   },
   {
    "duration": 353,
    "start_time": "2023-11-29T16:15:13.123Z"
   },
   {
    "duration": 233,
    "start_time": "2023-11-29T16:15:13.717Z"
   },
   {
    "duration": 260,
    "start_time": "2023-11-29T16:15:14.200Z"
   },
   {
    "duration": 337,
    "start_time": "2023-11-29T16:15:14.462Z"
   },
   {
    "duration": 310,
    "start_time": "2023-11-29T16:15:14.801Z"
   },
   {
    "duration": 263,
    "start_time": "2023-11-29T16:15:15.124Z"
   },
   {
    "duration": 206,
    "start_time": "2023-11-29T16:15:15.388Z"
   },
   {
    "duration": 188,
    "start_time": "2023-11-29T16:15:15.619Z"
   },
   {
    "duration": 362,
    "start_time": "2023-11-29T16:15:16.564Z"
   },
   {
    "duration": 4,
    "start_time": "2023-11-29T16:15:17.237Z"
   },
   {
    "duration": 27,
    "start_time": "2023-11-29T16:15:17.667Z"
   },
   {
    "duration": 4,
    "start_time": "2023-11-29T16:15:18.151Z"
   },
   {
    "duration": 16,
    "start_time": "2023-11-29T16:15:18.384Z"
   },
   {
    "duration": 642,
    "start_time": "2023-11-29T16:15:19.076Z"
   },
   {
    "duration": 4,
    "start_time": "2023-11-29T16:15:20.045Z"
   },
   {
    "duration": 3,
    "start_time": "2023-11-29T16:15:20.287Z"
   },
   {
    "duration": 17,
    "start_time": "2023-11-29T16:15:20.495Z"
   },
   {
    "duration": 4,
    "start_time": "2023-11-29T16:15:21.447Z"
   },
   {
    "duration": 3,
    "start_time": "2023-11-29T16:15:21.700Z"
   },
   {
    "duration": 187,
    "start_time": "2023-11-29T16:15:21.966Z"
   },
   {
    "duration": 2414,
    "start_time": "2023-11-29T16:15:50.706Z"
   },
   {
    "duration": 79552,
    "start_time": "2023-11-29T16:15:53.122Z"
   },
   {
    "duration": 1924,
    "start_time": "2023-11-29T16:17:12.675Z"
   },
   {
    "duration": 19,
    "start_time": "2023-11-29T16:17:14.601Z"
   },
   {
    "duration": 5,
    "start_time": "2023-11-29T16:17:14.622Z"
   },
   {
    "duration": 9,
    "start_time": "2023-11-29T16:17:14.629Z"
   },
   {
    "duration": 150,
    "start_time": "2023-11-29T16:17:14.640Z"
   },
   {
    "duration": 333,
    "start_time": "2023-11-29T16:17:14.791Z"
   },
   {
    "duration": 230,
    "start_time": "2023-11-29T16:17:15.125Z"
   },
   {
    "duration": 279,
    "start_time": "2023-11-29T16:17:15.358Z"
   },
   {
    "duration": 354,
    "start_time": "2023-11-29T16:17:15.638Z"
   },
   {
    "duration": 306,
    "start_time": "2023-11-29T16:17:15.993Z"
   },
   {
    "duration": 293,
    "start_time": "2023-11-29T16:17:16.301Z"
   },
   {
    "duration": 215,
    "start_time": "2023-11-29T16:17:16.596Z"
   },
   {
    "duration": 197,
    "start_time": "2023-11-29T16:17:16.814Z"
   },
   {
    "duration": 368,
    "start_time": "2023-11-29T16:17:17.015Z"
   },
   {
    "duration": 4,
    "start_time": "2023-11-29T16:17:17.385Z"
   },
   {
    "duration": 45,
    "start_time": "2023-11-29T16:17:17.391Z"
   },
   {
    "duration": 4,
    "start_time": "2023-11-29T16:17:17.438Z"
   },
   {
    "duration": 27,
    "start_time": "2023-11-29T16:17:17.443Z"
   },
   {
    "duration": 141,
    "start_time": "2023-11-29T16:29:19.702Z"
   },
   {
    "duration": 4,
    "start_time": "2023-11-29T16:29:54.806Z"
   },
   {
    "duration": 3,
    "start_time": "2023-11-29T16:29:54.998Z"
   },
   {
    "duration": 54,
    "start_time": "2023-11-29T16:29:55.190Z"
   },
   {
    "duration": 326,
    "start_time": "2023-11-29T16:29:55.806Z"
   },
   {
    "duration": 226,
    "start_time": "2023-11-29T16:29:56.251Z"
   },
   {
    "duration": 322,
    "start_time": "2023-11-29T16:29:56.685Z"
   },
   {
    "duration": 414,
    "start_time": "2023-11-29T16:29:57.014Z"
   },
   {
    "duration": 413,
    "start_time": "2023-11-29T16:29:57.430Z"
   },
   {
    "duration": 215,
    "start_time": "2023-11-29T16:29:57.845Z"
   },
   {
    "duration": 230,
    "start_time": "2023-11-29T16:29:58.062Z"
   },
   {
    "duration": 205,
    "start_time": "2023-11-29T16:29:58.294Z"
   },
   {
    "duration": 389,
    "start_time": "2023-11-29T16:29:58.893Z"
   },
   {
    "duration": 4,
    "start_time": "2023-11-29T16:29:59.710Z"
   },
   {
    "duration": 27,
    "start_time": "2023-11-29T16:30:00.209Z"
   },
   {
    "duration": 4,
    "start_time": "2023-11-29T16:30:00.958Z"
   },
   {
    "duration": 21,
    "start_time": "2023-11-29T16:30:01.222Z"
   },
   {
    "duration": 593,
    "start_time": "2023-11-29T16:30:01.942Z"
   },
   {
    "duration": 2,
    "start_time": "2023-11-29T16:30:03.910Z"
   },
   {
    "duration": 3,
    "start_time": "2023-11-29T16:30:04.127Z"
   },
   {
    "duration": 12,
    "start_time": "2023-11-29T16:30:04.383Z"
   },
   {
    "duration": 5,
    "start_time": "2023-11-29T16:30:05.807Z"
   },
   {
    "duration": 3,
    "start_time": "2023-11-29T16:30:06.182Z"
   },
   {
    "duration": 29,
    "start_time": "2023-11-29T16:30:07.419Z"
   },
   {
    "duration": 24,
    "start_time": "2023-11-29T16:31:44.994Z"
   },
   {
    "duration": 5,
    "start_time": "2023-11-29T16:32:56.809Z"
   },
   {
    "duration": 13,
    "start_time": "2023-11-29T16:33:00.864Z"
   },
   {
    "duration": 3,
    "start_time": "2023-11-29T16:33:13.019Z"
   },
   {
    "duration": 4,
    "start_time": "2023-11-29T16:33:14.299Z"
   },
   {
    "duration": 10,
    "start_time": "2023-11-29T16:33:15.451Z"
   },
   {
    "duration": 4,
    "start_time": "2023-11-29T16:33:18.111Z"
   },
   {
    "duration": 3,
    "start_time": "2023-11-29T16:33:18.984Z"
   },
   {
    "duration": 18,
    "start_time": "2023-11-29T16:33:21.465Z"
   },
   {
    "duration": 9,
    "start_time": "2023-11-29T16:34:16.865Z"
   },
   {
    "duration": 10,
    "start_time": "2023-11-29T16:36:00.693Z"
   },
   {
    "duration": 8,
    "start_time": "2023-11-29T16:36:11.291Z"
   },
   {
    "duration": 894350,
    "start_time": "2023-11-29T16:36:18.987Z"
   },
   {
    "duration": 3,
    "start_time": "2023-11-29T17:06:55.148Z"
   },
   {
    "duration": 2,
    "start_time": "2023-11-29T17:06:55.713Z"
   },
   {
    "duration": 2774,
    "start_time": "2023-11-29T17:06:56.258Z"
   },
   {
    "duration": 90,
    "start_time": "2023-11-29T17:06:59.034Z"
   },
   {
    "duration": 64,
    "start_time": "2023-11-29T17:07:32.346Z"
   },
   {
    "duration": 2,
    "start_time": "2023-11-29T17:09:37.284Z"
   },
   {
    "duration": 4,
    "start_time": "2023-11-29T17:09:45.395Z"
   },
   {
    "duration": 4,
    "start_time": "2023-11-29T17:10:39.099Z"
   },
   {
    "duration": 3,
    "start_time": "2023-12-05T23:37:34.161Z"
   },
   {
    "duration": 2608,
    "start_time": "2023-12-05T23:37:34.357Z"
   },
   {
    "duration": 2005,
    "start_time": "2023-12-05T23:37:36.967Z"
   },
   {
    "duration": 172,
    "start_time": "2023-12-05T23:37:38.974Z"
   },
   {
    "duration": 0,
    "start_time": "2023-12-05T23:37:39.149Z"
   },
   {
    "duration": 0,
    "start_time": "2023-12-05T23:37:39.150Z"
   },
   {
    "duration": 0,
    "start_time": "2023-12-05T23:37:39.151Z"
   },
   {
    "duration": 0,
    "start_time": "2023-12-05T23:37:39.153Z"
   },
   {
    "duration": 0,
    "start_time": "2023-12-05T23:37:39.154Z"
   },
   {
    "duration": 0,
    "start_time": "2023-12-05T23:37:39.155Z"
   },
   {
    "duration": 0,
    "start_time": "2023-12-05T23:37:39.157Z"
   },
   {
    "duration": 0,
    "start_time": "2023-12-05T23:37:39.159Z"
   },
   {
    "duration": 10,
    "start_time": "2023-12-05T23:37:41.610Z"
   },
   {
    "duration": 3,
    "start_time": "2023-12-05T23:38:03.792Z"
   },
   {
    "duration": 2313,
    "start_time": "2023-12-05T23:38:03.999Z"
   },
   {
    "duration": 1796,
    "start_time": "2023-12-05T23:38:06.315Z"
   },
   {
    "duration": 146,
    "start_time": "2023-12-05T23:38:08.112Z"
   },
   {
    "duration": 321,
    "start_time": "2023-12-05T23:38:08.260Z"
   },
   {
    "duration": 202,
    "start_time": "2023-12-05T23:38:08.582Z"
   },
   {
    "duration": 262,
    "start_time": "2023-12-05T23:38:08.785Z"
   },
   {
    "duration": 334,
    "start_time": "2023-12-05T23:38:09.048Z"
   },
   {
    "duration": 269,
    "start_time": "2023-12-05T23:38:09.384Z"
   },
   {
    "duration": 271,
    "start_time": "2023-12-05T23:38:09.656Z"
   },
   {
    "duration": 192,
    "start_time": "2023-12-05T23:38:09.928Z"
   },
   {
    "duration": 193,
    "start_time": "2023-12-05T23:38:10.122Z"
   },
   {
    "duration": 354,
    "start_time": "2023-12-05T23:38:10.391Z"
   },
   {
    "duration": 4,
    "start_time": "2023-12-05T23:38:12.222Z"
   },
   {
    "duration": 26,
    "start_time": "2023-12-05T23:38:16.086Z"
   },
   {
    "duration": 5,
    "start_time": "2023-12-05T23:38:16.427Z"
   },
   {
    "duration": 3,
    "start_time": "2023-12-05T23:38:18.877Z"
   },
   {
    "duration": 15,
    "start_time": "2023-12-05T23:38:21.095Z"
   },
   {
    "duration": 585,
    "start_time": "2023-12-05T23:38:23.007Z"
   },
   {
    "duration": 3,
    "start_time": "2023-12-05T23:38:26.597Z"
   },
   {
    "duration": 3,
    "start_time": "2023-12-05T23:38:29.112Z"
   },
   {
    "duration": 8,
    "start_time": "2023-12-05T23:39:07.191Z"
   },
   {
    "duration": 3,
    "start_time": "2023-12-05T23:39:10.527Z"
   },
   {
    "duration": 486472,
    "start_time": "2023-12-05T23:39:11.736Z"
   },
   {
    "duration": 2,
    "start_time": "2023-12-05T23:47:18.210Z"
   },
   {
    "duration": 4,
    "start_time": "2023-12-05T23:47:18.214Z"
   },
   {
    "duration": 2386,
    "start_time": "2023-12-05T23:47:18.220Z"
   },
   {
    "duration": 161,
    "start_time": "2023-12-05T23:47:20.608Z"
   },
   {
    "duration": 26,
    "start_time": "2023-12-05T23:47:53.055Z"
   },
   {
    "duration": 2,
    "start_time": "2023-12-05T23:48:12.579Z"
   },
   {
    "duration": 2184,
    "start_time": "2023-12-05T23:48:12.915Z"
   },
   {
    "duration": 183,
    "start_time": "2023-12-05T23:48:15.101Z"
   },
   {
    "duration": 3,
    "start_time": "2023-12-05T23:49:38.886Z"
   },
   {
    "duration": 2064,
    "start_time": "2023-12-05T23:49:39.444Z"
   },
   {
    "duration": 147,
    "start_time": "2023-12-05T23:49:50.671Z"
   },
   {
    "duration": 23,
    "start_time": "2023-12-05T23:50:05.449Z"
   },
   {
    "duration": 5,
    "start_time": "2023-12-05T23:50:28.853Z"
   },
   {
    "duration": 4,
    "start_time": "2023-12-05T23:50:43.055Z"
   },
   {
    "duration": 6,
    "start_time": "2023-12-05T23:50:53.989Z"
   },
   {
    "duration": 10,
    "start_time": "2023-12-05T23:51:06.205Z"
   },
   {
    "duration": 8,
    "start_time": "2023-12-05T23:51:19.573Z"
   },
   {
    "duration": 157,
    "start_time": "2023-12-05T23:53:18.610Z"
   },
   {
    "duration": 103,
    "start_time": "2023-12-05T23:53:31.839Z"
   },
   {
    "duration": 143,
    "start_time": "2023-12-05T23:53:38.863Z"
   },
   {
    "duration": 150,
    "start_time": "2023-12-05T23:54:01.338Z"
   },
   {
    "duration": 93,
    "start_time": "2023-12-05T23:54:16.361Z"
   },
   {
    "duration": 156,
    "start_time": "2023-12-05T23:54:26.880Z"
   },
   {
    "duration": 145,
    "start_time": "2023-12-05T23:54:49.442Z"
   },
   {
    "duration": 147,
    "start_time": "2023-12-05T23:55:50.948Z"
   },
   {
    "duration": 162,
    "start_time": "2023-12-05T23:56:38.629Z"
   },
   {
    "duration": 170,
    "start_time": "2023-12-05T23:56:48.913Z"
   },
   {
    "duration": 172,
    "start_time": "2023-12-05T23:57:14.713Z"
   },
   {
    "duration": 4,
    "start_time": "2023-12-06T00:00:05.611Z"
   },
   {
    "duration": 2374,
    "start_time": "2023-12-06T00:00:05.800Z"
   },
   {
    "duration": 1851,
    "start_time": "2023-12-06T00:00:08.177Z"
   },
   {
    "duration": 55,
    "start_time": "2023-12-06T00:00:10.029Z"
   },
   {
    "duration": 327,
    "start_time": "2023-12-06T00:00:10.086Z"
   },
   {
    "duration": 205,
    "start_time": "2023-12-06T00:00:10.415Z"
   },
   {
    "duration": 267,
    "start_time": "2023-12-06T00:00:10.621Z"
   },
   {
    "duration": 328,
    "start_time": "2023-12-06T00:00:10.889Z"
   },
   {
    "duration": 280,
    "start_time": "2023-12-06T00:00:11.219Z"
   },
   {
    "duration": 266,
    "start_time": "2023-12-06T00:00:11.501Z"
   },
   {
    "duration": 205,
    "start_time": "2023-12-06T00:00:11.770Z"
   },
   {
    "duration": 197,
    "start_time": "2023-12-06T00:00:11.977Z"
   },
   {
    "duration": 346,
    "start_time": "2023-12-06T00:00:12.175Z"
   },
   {
    "duration": 3,
    "start_time": "2023-12-06T00:00:12.523Z"
   },
   {
    "duration": 26,
    "start_time": "2023-12-06T00:00:12.527Z"
   },
   {
    "duration": 5,
    "start_time": "2023-12-06T00:00:12.554Z"
   },
   {
    "duration": 4,
    "start_time": "2023-12-06T00:00:12.561Z"
   },
   {
    "duration": 37,
    "start_time": "2023-12-06T00:00:12.566Z"
   },
   {
    "duration": 529,
    "start_time": "2023-12-06T00:00:13.161Z"
   },
   {
    "duration": 3,
    "start_time": "2023-12-06T00:00:14.905Z"
   },
   {
    "duration": 4,
    "start_time": "2023-12-06T00:00:15.113Z"
   },
   {
    "duration": 11,
    "start_time": "2023-12-06T00:00:15.298Z"
   },
   {
    "duration": 3,
    "start_time": "2023-12-06T00:00:15.736Z"
   },
   {
    "duration": 359036,
    "start_time": "2023-12-06T00:00:15.967Z"
   },
   {
    "duration": 3,
    "start_time": "2023-12-06T00:06:15.005Z"
   },
   {
    "duration": 38,
    "start_time": "2023-12-06T00:06:15.009Z"
   },
   {
    "duration": 3258,
    "start_time": "2023-12-06T00:06:15.049Z"
   },
   {
    "duration": 204,
    "start_time": "2023-12-06T00:06:18.308Z"
   },
   {
    "duration": 5,
    "start_time": "2023-12-06T00:06:27.461Z"
   },
   {
    "duration": 6,
    "start_time": "2023-12-06T00:08:52.394Z"
   },
   {
    "duration": 4,
    "start_time": "2023-12-06T00:08:54.927Z"
   },
   {
    "duration": 114496,
    "start_time": "2023-12-06T00:08:58.245Z"
   },
   {
    "duration": 359053,
    "start_time": "2023-12-06T00:11:00.551Z"
   },
   {
    "duration": 3,
    "start_time": "2023-12-06T00:16:59.606Z"
   },
   {
    "duration": 4,
    "start_time": "2023-12-06T00:16:59.610Z"
   },
   {
    "duration": 3510,
    "start_time": "2023-12-06T00:16:59.616Z"
   },
   {
    "duration": 274,
    "start_time": "2023-12-06T00:17:03.128Z"
   },
   {
    "duration": 5,
    "start_time": "2023-12-06T00:17:03.403Z"
   },
   {
    "duration": 5,
    "start_time": "2023-12-06T00:17:20.442Z"
   },
   {
    "duration": 24,
    "start_time": "2023-12-06T00:17:20.681Z"
   },
   {
    "duration": 555,
    "start_time": "2023-12-06T00:17:21.667Z"
   },
   {
    "duration": 3,
    "start_time": "2023-12-06T00:17:22.595Z"
   },
   {
    "duration": 3,
    "start_time": "2023-12-06T00:17:22.826Z"
   },
   {
    "duration": 7,
    "start_time": "2023-12-06T00:17:23.058Z"
   },
   {
    "duration": 3,
    "start_time": "2023-12-06T00:17:24.393Z"
   },
   {
    "duration": 157126,
    "start_time": "2023-12-06T00:17:25.089Z"
   },
   {
    "duration": 3,
    "start_time": "2023-12-06T00:20:02.217Z"
   },
   {
    "duration": 16,
    "start_time": "2023-12-06T00:20:02.221Z"
   },
   {
    "duration": 239,
    "start_time": "2023-12-06T00:20:02.239Z"
   },
   {
    "duration": 187,
    "start_time": "2023-12-06T00:20:02.479Z"
   },
   {
    "duration": 5,
    "start_time": "2023-12-06T00:20:02.668Z"
   },
   {
    "duration": 4,
    "start_time": "2023-12-06T00:21:07.940Z"
   },
   {
    "duration": 14,
    "start_time": "2023-12-06T00:21:08.107Z"
   },
   {
    "duration": 443,
    "start_time": "2023-12-06T00:21:08.661Z"
   },
   {
    "duration": 3,
    "start_time": "2023-12-06T00:21:09.445Z"
   },
   {
    "duration": 3,
    "start_time": "2023-12-06T00:21:09.636Z"
   },
   {
    "duration": 6,
    "start_time": "2023-12-06T00:21:09.820Z"
   },
   {
    "duration": 3,
    "start_time": "2023-12-06T00:21:10.221Z"
   },
   {
    "duration": 188226,
    "start_time": "2023-12-06T00:21:11.100Z"
   },
   {
    "duration": 4,
    "start_time": "2023-12-06T00:24:19.398Z"
   },
   {
    "duration": 9,
    "start_time": "2023-12-06T00:24:19.403Z"
   },
   {
    "duration": 1204,
    "start_time": "2023-12-06T00:24:19.414Z"
   },
   {
    "duration": 272,
    "start_time": "2023-12-06T00:24:20.620Z"
   },
   {
    "duration": 6,
    "start_time": "2023-12-06T00:24:20.894Z"
   },
   {
    "duration": 3,
    "start_time": "2023-12-06T00:24:55.551Z"
   },
   {
    "duration": 13,
    "start_time": "2023-12-06T00:24:55.742Z"
   },
   {
    "duration": 484,
    "start_time": "2023-12-06T00:24:56.427Z"
   },
   {
    "duration": 2,
    "start_time": "2023-12-06T00:24:57.680Z"
   },
   {
    "duration": 4,
    "start_time": "2023-12-06T00:24:57.910Z"
   },
   {
    "duration": 116,
    "start_time": "2023-12-06T00:24:58.143Z"
   },
   {
    "duration": 3,
    "start_time": "2023-12-06T00:24:58.952Z"
   },
   {
    "duration": 193416,
    "start_time": "2023-12-06T00:24:59.696Z"
   },
   {
    "duration": 3,
    "start_time": "2023-12-06T00:28:13.114Z"
   },
   {
    "duration": 27,
    "start_time": "2023-12-06T00:28:13.119Z"
   },
   {
    "duration": 1460,
    "start_time": "2023-12-06T00:28:13.148Z"
   },
   {
    "duration": 237,
    "start_time": "2023-12-06T00:28:14.610Z"
   },
   {
    "duration": 5,
    "start_time": "2023-12-06T00:28:14.848Z"
   },
   {
    "duration": 4,
    "start_time": "2023-12-06T00:28:29.300Z"
   },
   {
    "duration": 4,
    "start_time": "2023-12-06T00:29:04.210Z"
   },
   {
    "duration": 8,
    "start_time": "2023-12-06T00:30:55.937Z"
   },
   {
    "duration": 4,
    "start_time": "2023-12-06T00:30:56.220Z"
   },
   {
    "duration": 0,
    "start_time": "2023-12-06T00:32:14.718Z"
   },
   {
    "duration": 0,
    "start_time": "2023-12-06T00:32:14.719Z"
   },
   {
    "duration": 0,
    "start_time": "2023-12-06T00:32:14.721Z"
   },
   {
    "duration": 0,
    "start_time": "2023-12-06T00:32:14.722Z"
   },
   {
    "duration": 0,
    "start_time": "2023-12-06T00:32:14.724Z"
   },
   {
    "duration": 13,
    "start_time": "2023-12-06T00:32:30.380Z"
   },
   {
    "duration": 0,
    "start_time": "2023-12-06T00:32:30.399Z"
   },
   {
    "duration": 0,
    "start_time": "2023-12-06T00:32:30.400Z"
   },
   {
    "duration": 0,
    "start_time": "2023-12-06T00:32:30.403Z"
   },
   {
    "duration": 208,
    "start_time": "2023-12-06T00:32:30.608Z"
   },
   {
    "duration": 188,
    "start_time": "2023-12-06T00:32:30.860Z"
   },
   {
    "duration": 2249,
    "start_time": "2023-12-06T00:32:31.847Z"
   },
   {
    "duration": 4,
    "start_time": "2023-12-06T00:32:34.098Z"
   },
   {
    "duration": 20,
    "start_time": "2023-12-06T00:32:34.103Z"
   },
   {
    "duration": 5,
    "start_time": "2023-12-06T00:32:34.125Z"
   },
   {
    "duration": 3,
    "start_time": "2023-12-06T00:32:34.131Z"
   },
   {
    "duration": 16,
    "start_time": "2023-12-06T00:32:34.135Z"
   },
   {
    "duration": 530,
    "start_time": "2023-12-06T00:32:34.614Z"
   },
   {
    "duration": 3,
    "start_time": "2023-12-06T00:32:35.670Z"
   },
   {
    "duration": 3,
    "start_time": "2023-12-06T00:32:35.895Z"
   },
   {
    "duration": 9,
    "start_time": "2023-12-06T00:32:36.311Z"
   },
   {
    "duration": 5,
    "start_time": "2023-12-06T00:32:36.799Z"
   },
   {
    "duration": 187499,
    "start_time": "2023-12-06T00:32:37.016Z"
   },
   {
    "duration": 0,
    "start_time": "2023-12-06T00:35:44.517Z"
   },
   {
    "duration": 0,
    "start_time": "2023-12-06T00:35:44.519Z"
   },
   {
    "duration": 0,
    "start_time": "2023-12-06T00:35:44.520Z"
   },
   {
    "duration": 0,
    "start_time": "2023-12-06T00:35:44.522Z"
   },
   {
    "duration": 0,
    "start_time": "2023-12-06T00:35:44.523Z"
   },
   {
    "duration": 3,
    "start_time": "2023-12-06T00:35:54.869Z"
   },
   {
    "duration": 2301,
    "start_time": "2023-12-06T00:35:55.093Z"
   },
   {
    "duration": 1846,
    "start_time": "2023-12-06T00:35:57.396Z"
   },
   {
    "duration": 56,
    "start_time": "2023-12-06T00:35:59.244Z"
   },
   {
    "duration": 335,
    "start_time": "2023-12-06T00:35:59.302Z"
   },
   {
    "duration": 220,
    "start_time": "2023-12-06T00:35:59.639Z"
   },
   {
    "duration": 270,
    "start_time": "2023-12-06T00:35:59.860Z"
   },
   {
    "duration": 341,
    "start_time": "2023-12-06T00:36:00.132Z"
   },
   {
    "duration": 279,
    "start_time": "2023-12-06T00:36:00.475Z"
   },
   {
    "duration": 279,
    "start_time": "2023-12-06T00:36:00.756Z"
   },
   {
    "duration": 198,
    "start_time": "2023-12-06T00:36:01.038Z"
   },
   {
    "duration": 205,
    "start_time": "2023-12-06T00:36:01.237Z"
   },
   {
    "duration": 378,
    "start_time": "2023-12-06T00:36:01.443Z"
   },
   {
    "duration": 4,
    "start_time": "2023-12-06T00:36:01.822Z"
   },
   {
    "duration": 81,
    "start_time": "2023-12-06T00:36:01.827Z"
   },
   {
    "duration": 10,
    "start_time": "2023-12-06T00:36:01.909Z"
   },
   {
    "duration": 68,
    "start_time": "2023-12-06T00:36:01.921Z"
   },
   {
    "duration": 27,
    "start_time": "2023-12-06T00:36:01.991Z"
   },
   {
    "duration": 558,
    "start_time": "2023-12-06T00:36:02.020Z"
   },
   {
    "duration": 3,
    "start_time": "2023-12-06T00:36:02.971Z"
   },
   {
    "duration": 4,
    "start_time": "2023-12-06T00:36:03.185Z"
   },
   {
    "duration": 8,
    "start_time": "2023-12-06T00:36:03.418Z"
   },
   {
    "duration": 3,
    "start_time": "2023-12-06T00:36:03.859Z"
   },
   {
    "duration": 192812,
    "start_time": "2023-12-06T00:36:04.106Z"
   },
   {
    "duration": 2,
    "start_time": "2023-12-06T00:39:16.920Z"
   },
   {
    "duration": 5,
    "start_time": "2023-12-06T00:39:16.924Z"
   },
   {
    "duration": 1183,
    "start_time": "2023-12-06T00:39:16.930Z"
   },
   {
    "duration": 240,
    "start_time": "2023-12-06T00:39:18.115Z"
   },
   {
    "duration": 4,
    "start_time": "2023-12-06T00:39:18.356Z"
   },
   {
    "duration": 108,
    "start_time": "2023-12-06T00:39:44.242Z"
   },
   {
    "duration": 4,
    "start_time": "2023-12-06T00:40:07.359Z"
   },
   {
    "duration": 4,
    "start_time": "2023-12-06T00:40:36.174Z"
   },
   {
    "duration": 2042,
    "start_time": "2023-12-06T23:18:25.450Z"
   },
   {
    "duration": 121,
    "start_time": "2023-12-06T23:18:27.494Z"
   },
   {
    "duration": 346,
    "start_time": "2023-12-06T23:18:27.616Z"
   },
   {
    "duration": 218,
    "start_time": "2023-12-06T23:18:27.964Z"
   },
   {
    "duration": 263,
    "start_time": "2023-12-06T23:18:28.183Z"
   },
   {
    "duration": 373,
    "start_time": "2023-12-06T23:18:28.447Z"
   },
   {
    "duration": 306,
    "start_time": "2023-12-06T23:18:28.822Z"
   },
   {
    "duration": 278,
    "start_time": "2023-12-06T23:18:29.131Z"
   },
   {
    "duration": 204,
    "start_time": "2023-12-06T23:18:29.412Z"
   },
   {
    "duration": 221,
    "start_time": "2023-12-06T23:18:29.618Z"
   },
   {
    "duration": 370,
    "start_time": "2023-12-06T23:18:29.841Z"
   },
   {
    "duration": 4,
    "start_time": "2023-12-06T23:18:30.290Z"
   },
   {
    "duration": 29,
    "start_time": "2023-12-06T23:18:30.745Z"
   },
   {
    "duration": 6,
    "start_time": "2023-12-06T23:18:30.953Z"
   },
   {
    "duration": 3,
    "start_time": "2023-12-06T23:18:31.339Z"
   },
   {
    "duration": 14,
    "start_time": "2023-12-06T23:18:31.536Z"
   },
   {
    "duration": 689,
    "start_time": "2023-12-06T23:18:32.252Z"
   },
   {
    "duration": 3,
    "start_time": "2023-12-06T23:18:33.890Z"
   },
   {
    "duration": 4,
    "start_time": "2023-12-06T23:18:34.226Z"
   },
   {
    "duration": 8,
    "start_time": "2023-12-06T23:18:34.307Z"
   },
   {
    "duration": 4,
    "start_time": "2023-12-06T23:18:35.345Z"
   },
   {
    "duration": 203272,
    "start_time": "2023-12-06T23:18:35.593Z"
   },
   {
    "duration": 2,
    "start_time": "2023-12-06T23:21:58.867Z"
   },
   {
    "duration": 72,
    "start_time": "2023-12-06T23:21:58.871Z"
   },
   {
    "duration": 1202,
    "start_time": "2023-12-06T23:21:58.946Z"
   },
   {
    "duration": 232,
    "start_time": "2023-12-06T23:22:00.150Z"
   },
   {
    "duration": 4,
    "start_time": "2023-12-06T23:22:00.383Z"
   },
   {
    "duration": 2658,
    "start_time": "2023-12-06T23:22:06.788Z"
   },
   {
    "duration": 267,
    "start_time": "2023-12-06T23:22:45.736Z"
   },
   {
    "duration": 4,
    "start_time": "2023-12-06T23:24:12.503Z"
   },
   {
    "duration": 137,
    "start_time": "2023-12-06T23:24:31.886Z"
   },
   {
    "duration": 4,
    "start_time": "2023-12-06T23:25:18.863Z"
   },
   {
    "duration": 121,
    "start_time": "2023-12-07T20:19:15.084Z"
   },
   {
    "duration": 13,
    "start_time": "2023-12-07T20:19:18.294Z"
   },
   {
    "duration": 14,
    "start_time": "2023-12-07T20:19:25.129Z"
   },
   {
    "duration": 0,
    "start_time": "2023-12-07T20:19:25.145Z"
   },
   {
    "duration": 3,
    "start_time": "2023-12-07T21:27:15.013Z"
   },
   {
    "duration": 2870,
    "start_time": "2023-12-07T21:27:15.170Z"
   },
   {
    "duration": 2151,
    "start_time": "2023-12-07T21:27:18.042Z"
   },
   {
    "duration": 126,
    "start_time": "2023-12-07T21:27:20.194Z"
   },
   {
    "duration": 367,
    "start_time": "2023-12-07T21:27:20.322Z"
   },
   {
    "duration": 253,
    "start_time": "2023-12-07T21:27:20.691Z"
   },
   {
    "duration": 291,
    "start_time": "2023-12-07T21:27:20.946Z"
   },
   {
    "duration": 381,
    "start_time": "2023-12-07T21:27:21.239Z"
   },
   {
    "duration": 395,
    "start_time": "2023-12-07T21:27:21.622Z"
   },
   {
    "duration": 211,
    "start_time": "2023-12-07T21:27:22.018Z"
   },
   {
    "duration": 228,
    "start_time": "2023-12-07T21:27:22.232Z"
   },
   {
    "duration": 213,
    "start_time": "2023-12-07T21:27:22.462Z"
   },
   {
    "duration": 392,
    "start_time": "2023-12-07T21:27:22.677Z"
   },
   {
    "duration": 4,
    "start_time": "2023-12-07T21:27:23.071Z"
   },
   {
    "duration": 38,
    "start_time": "2023-12-07T21:27:23.076Z"
   },
   {
    "duration": 9,
    "start_time": "2023-12-07T21:27:23.116Z"
   },
   {
    "duration": 9,
    "start_time": "2023-12-07T21:27:23.126Z"
   },
   {
    "duration": 18,
    "start_time": "2023-12-07T21:27:23.137Z"
   },
   {
    "duration": 669,
    "start_time": "2023-12-07T21:27:23.157Z"
   },
   {
    "duration": 3,
    "start_time": "2023-12-07T21:27:23.828Z"
   },
   {
    "duration": 16,
    "start_time": "2023-12-07T21:27:23.833Z"
   },
   {
    "duration": 16,
    "start_time": "2023-12-07T21:27:23.850Z"
   },
   {
    "duration": 29,
    "start_time": "2023-12-07T21:27:23.867Z"
   },
   {
    "duration": 211732,
    "start_time": "2023-12-07T21:27:24.601Z"
   },
   {
    "duration": 3,
    "start_time": "2023-12-07T21:30:56.335Z"
   },
   {
    "duration": 8,
    "start_time": "2023-12-07T21:30:56.339Z"
   },
   {
    "duration": 1384,
    "start_time": "2023-12-07T21:30:56.349Z"
   },
   {
    "duration": 260,
    "start_time": "2023-12-07T21:30:57.735Z"
   },
   {
    "duration": 5,
    "start_time": "2023-12-07T21:30:57.997Z"
   },
   {
    "duration": 5383,
    "start_time": "2023-12-07T21:30:58.004Z"
   },
   {
    "duration": 298,
    "start_time": "2023-12-08T19:02:19.214Z"
   },
   {
    "duration": 5,
    "start_time": "2023-12-08T19:02:26.237Z"
   }
  ],
  "kernelspec": {
   "display_name": "Python 3 (ipykernel)",
   "language": "python",
   "name": "python3"
  },
  "language_info": {
   "codemirror_mode": {
    "name": "ipython",
    "version": 3
   },
   "file_extension": ".py",
   "mimetype": "text/x-python",
   "name": "python",
   "nbconvert_exporter": "python",
   "pygments_lexer": "ipython3",
   "version": "3.9.5"
  },
  "toc": {
   "base_numbering": 1,
   "nav_menu": {},
   "number_sections": true,
   "sideBar": true,
   "skip_h1_title": true,
   "title_cell": "Table of Contents",
   "title_sidebar": "Contents",
   "toc_cell": false,
   "toc_position": {
    "height": "calc(100% - 180px)",
    "left": "10px",
    "top": "150px",
    "width": "198.594px"
   },
   "toc_section_display": true,
   "toc_window_display": true
  }
 },
 "nbformat": 4,
 "nbformat_minor": 5
}
